{
 "cells": [
  {
   "cell_type": "code",
   "execution_count": null,
   "id": "332a77be",
   "metadata": {},
   "outputs": [],
   "source": []
  },
  {
   "cell_type": "markdown",
   "id": "f46bb603",
   "metadata": {},
   "source": [
    " Decorators allow us to wrap another function in order to extend the behaviour of the wrapped function, without permanently modifying it. "
   ]
  },
  {
   "cell_type": "code",
   "execution_count": 2,
   "id": "75002573",
   "metadata": {},
   "outputs": [
    {
     "name": "stdout",
     "output_type": "stream",
     "text": [
      "HELLO\n"
     ]
    }
   ],
   "source": [
    "def decorator(text: str):\n",
    "    return text.upper()\n",
    "\n",
    "new_function = decorator('Hello')\n",
    "print(new_function)"
   ]
  },
  {
   "cell_type": "code",
   "execution_count": 6,
   "id": "2807fe91",
   "metadata": {},
   "outputs": [
    {
     "name": "stdout",
     "output_type": "stream",
     "text": [
      "25\n"
     ]
    }
   ],
   "source": [
    "def create_adder(x):\n",
    "    def adder(y):\n",
    "        return x + y\n",
    "    return adder\n",
    "\n",
    "add = create_adder(10)\n",
    "print(add(15))"
   ]
  },
  {
   "cell_type": "code",
   "execution_count": 17,
   "id": "ddef48f3",
   "metadata": {},
   "outputs": [
    {
     "name": "stdout",
     "output_type": "stream",
     "text": [
      "Inside hello_decorator func\n",
      "Inside wrapper func\n",
      "Inside func to be used\n",
      "End function\n"
     ]
    }
   ],
   "source": [
    "def hello_decorator(func):\n",
    "    print(\"Inside hello_decorator func\")\n",
    "    def inner1():\n",
    "        print(\"Inside wrapper func\")\n",
    "        func()\n",
    "        print(\"End function\")\n",
    "    return inner1\n",
    "\n",
    "def func_to_be_used():\n",
    "    print(\"Inside func to be used\")\n",
    "\n",
    "func_to_be_used = hello_decorator(func_to_be_used)\n",
    "func_to_be_used()"
   ]
  },
  {
   "cell_type": "code",
   "execution_count": 11,
   "id": "d57dadf8",
   "metadata": {},
   "outputs": [
    {
     "name": "stdout",
     "output_type": "stream",
     "text": [
      "Hello, this is before function execution\n",
      "This is inside the function !!\n",
      "This is after function execution\n"
     ]
    }
   ],
   "source": [
    "  \n",
    "# defining a decorator\n",
    "def hello_decorator(func):\n",
    " \n",
    "    # inner1 is a Wrapper function in \n",
    "    # which the argument is called\n",
    "     \n",
    "    # inner function can access the outer local\n",
    "    # functions like in this case \"func\"\n",
    "    def inner1():\n",
    "        print(\"Hello, this is before function execution\")\n",
    " \n",
    "        # calling the actual function now\n",
    "        # inside the wrapper function.\n",
    "        func()\n",
    " \n",
    "        print(\"This is after function execution\")\n",
    "         \n",
    "    return inner1\n",
    " \n",
    " \n",
    "# defining a function, to be called inside wrapper\n",
    "def function_to_be_used():\n",
    "    print(\"This is inside the function !!\")\n",
    " \n",
    " \n",
    "# passing 'function_to_be_used' inside the\n",
    "# decorator to control its behaviour\n",
    "function_to_be_used = hello_decorator(function_to_be_used)\n",
    " \n",
    " \n",
    "# calling the function\n",
    "function_to_be_used()"
   ]
  },
  {
   "cell_type": "code",
   "execution_count": 27,
   "id": "8aed29f6",
   "metadata": {},
   "outputs": [
    {
     "name": "stdout",
     "output_type": "stream",
     "text": [
      "Total time taken for factorial : 2.005396842956543\n"
     ]
    },
    {
     "data": {
      "text/plain": [
       "120"
      ]
     },
     "execution_count": 27,
     "metadata": {},
     "output_type": "execute_result"
    }
   ],
   "source": [
    "#find out the execution time of a function using a decorator.\n",
    "import time\n",
    "import math\n",
    "\n",
    "def calculate_time(func):\n",
    "    def inner1(*args, **kwargs):\n",
    "        start = time.time()\n",
    "        return_val = func(*args, **kwargs)\n",
    "        end = time.time()\n",
    "        print(\"Total time taken for {} : {}\".format(func.__name__,end - start))\n",
    "        return return_val\n",
    "    return inner1\n",
    "\n",
    "\n",
    "@calculate_time\n",
    "def factorial(num: str):\n",
    "    time.sleep(2)\n",
    "    result = math.factorial(num)\n",
    "    return result\n",
    "\n",
    "factorial(num = 5)\n"
   ]
  },
  {
   "cell_type": "code",
   "execution_count": null,
   "id": "ad157a08",
   "metadata": {},
   "outputs": [],
   "source": []
  }
 ],
 "metadata": {
  "kernelspec": {
   "display_name": "Python 3 (ipykernel)",
   "language": "python",
   "name": "python3"
  },
  "language_info": {
   "codemirror_mode": {
    "name": "ipython",
    "version": 3
   },
   "file_extension": ".py",
   "mimetype": "text/x-python",
   "name": "python",
   "nbconvert_exporter": "python",
   "pygments_lexer": "ipython3",
   "version": "3.9.12"
  }
 },
 "nbformat": 4,
 "nbformat_minor": 5
}
