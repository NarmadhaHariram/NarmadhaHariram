{
 "cells": [
  {
   "cell_type": "code",
   "execution_count": null,
   "id": "3e9383ac",
   "metadata": {},
   "outputs": [],
   "source": [
    "# Play with Pandas"
   ]
  },
  {
   "cell_type": "code",
   "execution_count": 2,
   "id": "8da9e119",
   "metadata": {},
   "outputs": [],
   "source": [
    "import pandas as pd\n",
    "import numpy as np"
   ]
  },
  {
   "cell_type": "code",
   "execution_count": 3,
   "id": "60b06761",
   "metadata": {},
   "outputs": [],
   "source": [
    "# Create series\n",
    "\n",
    "df = pd.Series([1, 3,5, 'a',np.nan])"
   ]
  },
  {
   "cell_type": "code",
   "execution_count": 4,
   "id": "53225cc1",
   "metadata": {},
   "outputs": [
    {
     "data": {
      "text/plain": [
       "0      1\n",
       "1      3\n",
       "2      5\n",
       "3      a\n",
       "4    NaN\n",
       "dtype: object"
      ]
     },
     "execution_count": 4,
     "metadata": {},
     "output_type": "execute_result"
    }
   ],
   "source": [
    "df #single dimension df"
   ]
  },
  {
   "cell_type": "code",
   "execution_count": 10,
   "id": "45c46ffc",
   "metadata": {},
   "outputs": [
    {
     "data": {
      "text/plain": [
       "DatetimeIndex(['2024-02-14', '2024-02-15', '2024-02-16', '2024-02-17',\n",
       "               '2024-02-18', '2024-02-19'],\n",
       "              dtype='datetime64[ns]', freq='D')"
      ]
     },
     "execution_count": 10,
     "metadata": {},
     "output_type": "execute_result"
    }
   ],
   "source": [
    "# create daterange\n",
    "\n",
    "dates =pd.date_range(\"20240214\",periods =6)\n",
    "dates"
   ]
  },
  {
   "cell_type": "code",
   "execution_count": 9,
   "id": "e5604af6",
   "metadata": {},
   "outputs": [
    {
     "data": {
      "text/plain": [
       "0    0.253880\n",
       "1    1.644606\n",
       "2    0.104577\n",
       "3   -0.344404\n",
       "4    0.162980\n",
       "dtype: float64"
      ]
     },
     "execution_count": 9,
     "metadata": {},
     "output_type": "execute_result"
    }
   ],
   "source": [
    "pd.Series(np.random.randn(5))"
   ]
  },
  {
   "cell_type": "code",
   "execution_count": 13,
   "id": "1f1256cf",
   "metadata": {},
   "outputs": [
    {
     "data": {
      "text/plain": [
       "2024-02-14    4\n",
       "2024-02-15    4\n",
       "2024-02-16    4\n",
       "2024-02-17    4\n",
       "2024-02-18    4\n",
       "2024-02-19    4\n",
       "Freq: D, dtype: int64"
      ]
     },
     "execution_count": 13,
     "metadata": {},
     "output_type": "execute_result"
    }
   ],
   "source": [
    "pd.Series(np.random.randint(6), dates)"
   ]
  },
  {
   "cell_type": "code",
   "execution_count": 14,
   "id": "5173674c",
   "metadata": {},
   "outputs": [],
   "source": [
    "#Create dataframe"
   ]
  },
  {
   "cell_type": "code",
   "execution_count": 22,
   "id": "afae717c",
   "metadata": {},
   "outputs": [
    {
     "data": {
      "text/html": [
       "<div>\n",
       "<style scoped>\n",
       "    .dataframe tbody tr th:only-of-type {\n",
       "        vertical-align: middle;\n",
       "    }\n",
       "\n",
       "    .dataframe tbody tr th {\n",
       "        vertical-align: top;\n",
       "    }\n",
       "\n",
       "    .dataframe thead th {\n",
       "        text-align: right;\n",
       "    }\n",
       "</style>\n",
       "<table border=\"1\" class=\"dataframe\">\n",
       "  <thead>\n",
       "    <tr style=\"text-align: right;\">\n",
       "      <th></th>\n",
       "      <th>A</th>\n",
       "      <th>B</th>\n",
       "      <th>C</th>\n",
       "      <th>D</th>\n",
       "    </tr>\n",
       "  </thead>\n",
       "  <tbody>\n",
       "    <tr>\n",
       "      <th>2024-02-14</th>\n",
       "      <td>-1.370468</td>\n",
       "      <td>0.017223</td>\n",
       "      <td>1.658180</td>\n",
       "      <td>0.055171</td>\n",
       "    </tr>\n",
       "    <tr>\n",
       "      <th>2024-02-15</th>\n",
       "      <td>-2.608567</td>\n",
       "      <td>-0.619600</td>\n",
       "      <td>-0.643549</td>\n",
       "      <td>0.711507</td>\n",
       "    </tr>\n",
       "    <tr>\n",
       "      <th>2024-02-16</th>\n",
       "      <td>0.356010</td>\n",
       "      <td>0.203053</td>\n",
       "      <td>0.016823</td>\n",
       "      <td>0.786485</td>\n",
       "    </tr>\n",
       "    <tr>\n",
       "      <th>2024-02-17</th>\n",
       "      <td>0.181107</td>\n",
       "      <td>0.902369</td>\n",
       "      <td>-0.026381</td>\n",
       "      <td>1.270902</td>\n",
       "    </tr>\n",
       "    <tr>\n",
       "      <th>2024-02-18</th>\n",
       "      <td>-0.513312</td>\n",
       "      <td>0.247052</td>\n",
       "      <td>-0.616978</td>\n",
       "      <td>0.031554</td>\n",
       "    </tr>\n",
       "    <tr>\n",
       "      <th>2024-02-19</th>\n",
       "      <td>-0.374412</td>\n",
       "      <td>0.313311</td>\n",
       "      <td>-0.055536</td>\n",
       "      <td>0.451817</td>\n",
       "    </tr>\n",
       "  </tbody>\n",
       "</table>\n",
       "</div>"
      ],
      "text/plain": [
       "                   A         B         C         D\n",
       "2024-02-14 -1.370468  0.017223  1.658180  0.055171\n",
       "2024-02-15 -2.608567 -0.619600 -0.643549  0.711507\n",
       "2024-02-16  0.356010  0.203053  0.016823  0.786485\n",
       "2024-02-17  0.181107  0.902369 -0.026381  1.270902\n",
       "2024-02-18 -0.513312  0.247052 -0.616978  0.031554\n",
       "2024-02-19 -0.374412  0.313311 -0.055536  0.451817"
      ]
     },
     "execution_count": 22,
     "metadata": {},
     "output_type": "execute_result"
    }
   ],
   "source": [
    "df = pd.DataFrame(np.random.randn(6,4),index =dates, columns=list(\"ABCD\"))\n",
    "df"
   ]
  },
  {
   "cell_type": "code",
   "execution_count": 53,
   "id": "55a6bde6",
   "metadata": {},
   "outputs": [
    {
     "data": {
      "text/html": [
       "<div>\n",
       "<style scoped>\n",
       "    .dataframe tbody tr th:only-of-type {\n",
       "        vertical-align: middle;\n",
       "    }\n",
       "\n",
       "    .dataframe tbody tr th {\n",
       "        vertical-align: top;\n",
       "    }\n",
       "\n",
       "    .dataframe thead th {\n",
       "        text-align: right;\n",
       "    }\n",
       "</style>\n",
       "<table border=\"1\" class=\"dataframe\">\n",
       "  <thead>\n",
       "    <tr style=\"text-align: right;\">\n",
       "      <th></th>\n",
       "      <th>apple</th>\n",
       "      <th>banana</th>\n",
       "      <th>cat</th>\n",
       "      <th>dog</th>\n",
       "    </tr>\n",
       "  </thead>\n",
       "  <tbody>\n",
       "    <tr>\n",
       "      <th>AA</th>\n",
       "      <td>0.404638</td>\n",
       "      <td>-1.163203</td>\n",
       "      <td>0.959753</td>\n",
       "      <td>-0.370383</td>\n",
       "    </tr>\n",
       "    <tr>\n",
       "      <th>BB</th>\n",
       "      <td>0.548836</td>\n",
       "      <td>0.930397</td>\n",
       "      <td>-1.021073</td>\n",
       "      <td>0.701022</td>\n",
       "    </tr>\n",
       "    <tr>\n",
       "      <th>CC</th>\n",
       "      <td>-0.378180</td>\n",
       "      <td>0.922999</td>\n",
       "      <td>-0.144828</td>\n",
       "      <td>-2.077193</td>\n",
       "    </tr>\n",
       "    <tr>\n",
       "      <th>DD</th>\n",
       "      <td>-1.211971</td>\n",
       "      <td>0.199723</td>\n",
       "      <td>0.215785</td>\n",
       "      <td>-0.513871</td>\n",
       "    </tr>\n",
       "  </tbody>\n",
       "</table>\n",
       "</div>"
      ],
      "text/plain": [
       "       apple    banana       cat       dog\n",
       "AA  0.404638 -1.163203  0.959753 -0.370383\n",
       "BB  0.548836  0.930397 -1.021073  0.701022\n",
       "CC -0.378180  0.922999 -0.144828 -2.077193\n",
       "DD -1.211971  0.199723  0.215785 -0.513871"
      ]
     },
     "execution_count": 53,
     "metadata": {},
     "output_type": "execute_result"
    }
   ],
   "source": [
    "pd.DataFrame(np.random.randn(4,4),index=['AA','BB','CC','DD'],columns =['apple','banana','cat','dog'])"
   ]
  },
  {
   "cell_type": "code",
   "execution_count": 33,
   "id": "176a441d",
   "metadata": {},
   "outputs": [
    {
     "data": {
      "text/plain": [
       "pandas     Spark\n",
       "22000      20000\n",
       "20days    30days\n",
       "dtype: object"
      ]
     },
     "execution_count": 33,
     "metadata": {},
     "output_type": "execute_result"
    }
   ],
   "source": [
    "#df,series from list\n",
    "\n",
    "l1 = [\"Spark\",20000, \"30days\"]\n",
    "l2= [\"pandas\",22000, \"20days\"]\n",
    "pd.Series(l1,l2)"
   ]
  },
  {
   "cell_type": "code",
   "execution_count": 54,
   "id": "54cd5920",
   "metadata": {},
   "outputs": [
    {
     "data": {
      "text/html": [
       "<div>\n",
       "<style scoped>\n",
       "    .dataframe tbody tr th:only-of-type {\n",
       "        vertical-align: middle;\n",
       "    }\n",
       "\n",
       "    .dataframe tbody tr th {\n",
       "        vertical-align: top;\n",
       "    }\n",
       "\n",
       "    .dataframe thead th {\n",
       "        text-align: right;\n",
       "    }\n",
       "</style>\n",
       "<table border=\"1\" class=\"dataframe\">\n",
       "  <thead>\n",
       "    <tr style=\"text-align: right;\">\n",
       "      <th></th>\n",
       "      <th>0</th>\n",
       "      <th>1</th>\n",
       "      <th>2</th>\n",
       "    </tr>\n",
       "  </thead>\n",
       "  <tbody>\n",
       "    <tr>\n",
       "      <th>0</th>\n",
       "      <td>Spark</td>\n",
       "      <td>20000</td>\n",
       "      <td>30days</td>\n",
       "    </tr>\n",
       "    <tr>\n",
       "      <th>1</th>\n",
       "      <td>pandas</td>\n",
       "      <td>22000</td>\n",
       "      <td>20days</td>\n",
       "    </tr>\n",
       "  </tbody>\n",
       "</table>\n",
       "</div>"
      ],
      "text/plain": [
       "        0      1       2\n",
       "0   Spark  20000  30days\n",
       "1  pandas  22000  20days"
      ]
     },
     "execution_count": 54,
     "metadata": {},
     "output_type": "execute_result"
    }
   ],
   "source": [
    "l = [l1,l2]\n",
    "df = pd.DataFrame(l)\n",
    "df"
   ]
  },
  {
   "cell_type": "code",
   "execution_count": 38,
   "id": "9f30a173",
   "metadata": {},
   "outputs": [
    {
     "data": {
      "text/html": [
       "<div>\n",
       "<style scoped>\n",
       "    .dataframe tbody tr th:only-of-type {\n",
       "        vertical-align: middle;\n",
       "    }\n",
       "\n",
       "    .dataframe tbody tr th {\n",
       "        vertical-align: top;\n",
       "    }\n",
       "\n",
       "    .dataframe thead th {\n",
       "        text-align: right;\n",
       "    }\n",
       "</style>\n",
       "<table border=\"1\" class=\"dataframe\">\n",
       "  <thead>\n",
       "    <tr style=\"text-align: right;\">\n",
       "      <th></th>\n",
       "      <th>0</th>\n",
       "    </tr>\n",
       "  </thead>\n",
       "  <tbody>\n",
       "    <tr>\n",
       "      <th>pandas</th>\n",
       "      <td>Spark</td>\n",
       "    </tr>\n",
       "    <tr>\n",
       "      <th>22000</th>\n",
       "      <td>20000</td>\n",
       "    </tr>\n",
       "    <tr>\n",
       "      <th>20days</th>\n",
       "      <td>30days</td>\n",
       "    </tr>\n",
       "  </tbody>\n",
       "</table>\n",
       "</div>"
      ],
      "text/plain": [
       "             0\n",
       "pandas   Spark\n",
       "22000    20000\n",
       "20days  30days"
      ]
     },
     "execution_count": 38,
     "metadata": {},
     "output_type": "execute_result"
    }
   ],
   "source": [
    "#pd.DataFrame(l1,l2) # took as index - wrong"
   ]
  },
  {
   "cell_type": "code",
   "execution_count": 55,
   "id": "2a46e383",
   "metadata": {},
   "outputs": [
    {
     "data": {
      "text/html": [
       "<div>\n",
       "<style scoped>\n",
       "    .dataframe tbody tr th:only-of-type {\n",
       "        vertical-align: middle;\n",
       "    }\n",
       "\n",
       "    .dataframe tbody tr th {\n",
       "        vertical-align: top;\n",
       "    }\n",
       "\n",
       "    .dataframe thead th {\n",
       "        text-align: right;\n",
       "    }\n",
       "</style>\n",
       "<table border=\"1\" class=\"dataframe\">\n",
       "  <thead>\n",
       "    <tr style=\"text-align: right;\">\n",
       "      <th></th>\n",
       "      <th>course</th>\n",
       "      <th>amt</th>\n",
       "      <th>days</th>\n",
       "    </tr>\n",
       "  </thead>\n",
       "  <tbody>\n",
       "    <tr>\n",
       "      <th>A</th>\n",
       "      <td>Spark</td>\n",
       "      <td>20000</td>\n",
       "      <td>30days</td>\n",
       "    </tr>\n",
       "    <tr>\n",
       "      <th>B</th>\n",
       "      <td>pandas</td>\n",
       "      <td>22000</td>\n",
       "      <td>20days</td>\n",
       "    </tr>\n",
       "  </tbody>\n",
       "</table>\n",
       "</div>"
      ],
      "text/plain": [
       "   course    amt    days\n",
       "A   Spark  20000  30days\n",
       "B  pandas  22000  20days"
      ]
     },
     "execution_count": 55,
     "metadata": {},
     "output_type": "execute_result"
    }
   ],
   "source": [
    "index = ['A','B']\n",
    "columns = ['course','amt','days']\n",
    "df = pd.DataFrame(l, index = index, columns = columns)\n",
    "df"
   ]
  },
  {
   "cell_type": "code",
   "execution_count": 42,
   "id": "eadd335c",
   "metadata": {},
   "outputs": [],
   "source": [
    "# Set custom types to DataFrame\n",
    "types = {'course':str,'amt':int,'days':str}\n",
    "df = df.astype(types)"
   ]
  },
  {
   "cell_type": "code",
   "execution_count": 43,
   "id": "e239ce0e",
   "metadata": {},
   "outputs": [
    {
     "data": {
      "text/plain": [
       "course    object\n",
       "amt        int32\n",
       "days      object\n",
       "dtype: object"
      ]
     },
     "execution_count": 43,
     "metadata": {},
     "output_type": "execute_result"
    }
   ],
   "source": [
    "df.dtypes"
   ]
  },
  {
   "cell_type": "code",
   "execution_count": 44,
   "id": "d4564dd9",
   "metadata": {},
   "outputs": [
    {
     "data": {
      "text/html": [
       "<div>\n",
       "<style scoped>\n",
       "    .dataframe tbody tr th:only-of-type {\n",
       "        vertical-align: middle;\n",
       "    }\n",
       "\n",
       "    .dataframe tbody tr th {\n",
       "        vertical-align: top;\n",
       "    }\n",
       "\n",
       "    .dataframe thead th {\n",
       "        text-align: right;\n",
       "    }\n",
       "</style>\n",
       "<table border=\"1\" class=\"dataframe\">\n",
       "  <thead>\n",
       "    <tr style=\"text-align: right;\">\n",
       "      <th></th>\n",
       "      <th>course</th>\n",
       "      <th>amt</th>\n",
       "      <th>days</th>\n",
       "    </tr>\n",
       "  </thead>\n",
       "  <tbody>\n",
       "    <tr>\n",
       "      <th>0</th>\n",
       "      <td>spark</td>\n",
       "      <td>20000</td>\n",
       "      <td>10days</td>\n",
       "    </tr>\n",
       "    <tr>\n",
       "      <th>1</th>\n",
       "      <td>pandas</td>\n",
       "      <td>10000</td>\n",
       "      <td>15days</td>\n",
       "    </tr>\n",
       "  </tbody>\n",
       "</table>\n",
       "</div>"
      ],
      "text/plain": [
       "   course    amt    days\n",
       "0   spark  20000  10days\n",
       "1  pandas  10000  15days"
      ]
     },
     "execution_count": 44,
     "metadata": {},
     "output_type": "execute_result"
    }
   ],
   "source": [
    "# from dict\n",
    "\n",
    "dic = {\n",
    "    'course':['spark','pandas'],\n",
    "    'amt':[20000,10000],\n",
    "    'days':['10days','15days']\n",
    "}\n",
    "pd.DataFrame(dic)"
   ]
  },
  {
   "cell_type": "code",
   "execution_count": 47,
   "id": "c6b59cdb",
   "metadata": {},
   "outputs": [
    {
     "data": {
      "text/html": [
       "<div>\n",
       "<style scoped>\n",
       "    .dataframe tbody tr th:only-of-type {\n",
       "        vertical-align: middle;\n",
       "    }\n",
       "\n",
       "    .dataframe tbody tr th {\n",
       "        vertical-align: top;\n",
       "    }\n",
       "\n",
       "    .dataframe thead th {\n",
       "        text-align: right;\n",
       "    }\n",
       "</style>\n",
       "<table border=\"1\" class=\"dataframe\">\n",
       "  <thead>\n",
       "    <tr style=\"text-align: right;\">\n",
       "      <th></th>\n",
       "      <th>0</th>\n",
       "      <th>1</th>\n",
       "      <th>2</th>\n",
       "    </tr>\n",
       "  </thead>\n",
       "  <tbody>\n",
       "    <tr>\n",
       "      <th>0</th>\n",
       "      <td>spark</td>\n",
       "      <td>20000</td>\n",
       "      <td>10days</td>\n",
       "    </tr>\n",
       "    <tr>\n",
       "      <th>1</th>\n",
       "      <td>pandas</td>\n",
       "      <td>10000</td>\n",
       "      <td>15days</td>\n",
       "    </tr>\n",
       "  </tbody>\n",
       "</table>\n",
       "</div>"
      ],
      "text/plain": [
       "        0      1       2\n",
       "0   spark  20000  10days\n",
       "1  pandas  10000  15days"
      ]
     },
     "execution_count": 47,
     "metadata": {},
     "output_type": "execute_result"
    }
   ],
   "source": [
    "#Create df from series\n",
    "\n",
    "course=pd.Series(['spark','pandas'])\n",
    "amt=pd.Series([20000,10000])\n",
    "days=pd.Series(['10days','15days']) \n",
    "df =pd.concat([course,amt,days],axis =1)\n",
    "df"
   ]
  },
  {
   "cell_type": "code",
   "execution_count": 58,
   "id": "f74e5270",
   "metadata": {},
   "outputs": [
    {
     "data": {
      "text/html": [
       "<div>\n",
       "<style scoped>\n",
       "    .dataframe tbody tr th:only-of-type {\n",
       "        vertical-align: middle;\n",
       "    }\n",
       "\n",
       "    .dataframe tbody tr th {\n",
       "        vertical-align: top;\n",
       "    }\n",
       "\n",
       "    .dataframe thead th {\n",
       "        text-align: right;\n",
       "    }\n",
       "</style>\n",
       "<table border=\"1\" class=\"dataframe\">\n",
       "  <thead>\n",
       "    <tr style=\"text-align: right;\">\n",
       "      <th></th>\n",
       "      <th>course</th>\n",
       "      <th>amt</th>\n",
       "      <th>duration</th>\n",
       "    </tr>\n",
       "  </thead>\n",
       "  <tbody>\n",
       "    <tr>\n",
       "      <th>0</th>\n",
       "      <td>spark</td>\n",
       "      <td>20000</td>\n",
       "      <td>10days</td>\n",
       "    </tr>\n",
       "  </tbody>\n",
       "</table>\n",
       "</div>"
      ],
      "text/plain": [
       "  course    amt duration\n",
       "0  spark  20000   10days"
      ]
     },
     "execution_count": 58,
     "metadata": {},
     "output_type": "execute_result"
    }
   ],
   "source": [
    "#Creating DataFrame using zip() function\n",
    "\n",
    "tup_list = list(zip(course, amt, days))\n",
    "df =pd.DataFrame(tup_list, columns = ['course','amt','duration'])\n",
    "df.head(1)"
   ]
  },
  {
   "cell_type": "raw",
   "id": "7078f2f5",
   "metadata": {},
   "source": [
    "# Select Rows by Index (Position/Label)\n",
    "Use Pandas DataFrame.iloc[] & DataFrame.loc[] to select rows by integer Index and by row indices respectively. iloc[] attribute can accept single index, multiple indexes from the list, indexes by a range, and many more. loc[] operator is explicitly used with labels that can accept single index labels, multiple index labels from the list, indexes by a range (between two index labels), and many more. When using iloc[] or loc[] with an index that doesn’t exist it returns an error."
   ]
  },
  {
   "cell_type": "code",
   "execution_count": 64,
   "id": "e13c7e5e",
   "metadata": {},
   "outputs": [
    {
     "data": {
      "text/html": [
       "<div>\n",
       "<style scoped>\n",
       "    .dataframe tbody tr th:only-of-type {\n",
       "        vertical-align: middle;\n",
       "    }\n",
       "\n",
       "    .dataframe tbody tr th {\n",
       "        vertical-align: top;\n",
       "    }\n",
       "\n",
       "    .dataframe thead th {\n",
       "        text-align: right;\n",
       "    }\n",
       "</style>\n",
       "<table border=\"1\" class=\"dataframe\">\n",
       "  <thead>\n",
       "    <tr style=\"text-align: right;\">\n",
       "      <th></th>\n",
       "      <th>course</th>\n",
       "      <th>amt</th>\n",
       "      <th>duration</th>\n",
       "    </tr>\n",
       "  </thead>\n",
       "  <tbody>\n",
       "    <tr>\n",
       "      <th>1</th>\n",
       "      <td>pandas</td>\n",
       "      <td>10000</td>\n",
       "      <td>15days</td>\n",
       "    </tr>\n",
       "  </tbody>\n",
       "</table>\n",
       "</div>"
      ],
      "text/plain": [
       "   course    amt duration\n",
       "1  pandas  10000   15days"
      ]
     },
     "execution_count": 64,
     "metadata": {},
     "output_type": "execute_result"
    }
   ],
   "source": [
    "# Select Rows by Integer Index\n",
    "df.iloc[1:]"
   ]
  },
  {
   "cell_type": "code",
   "execution_count": 67,
   "id": "d49ec151",
   "metadata": {},
   "outputs": [
    {
     "data": {
      "text/plain": [
       "course      pandas\n",
       "amt          10000\n",
       "duration    15days\n",
       "Name: 1, dtype: object"
      ]
     },
     "execution_count": 67,
     "metadata": {},
     "output_type": "execute_result"
    }
   ],
   "source": [
    "df.iloc[1]"
   ]
  },
  {
   "cell_type": "code",
   "execution_count": 66,
   "id": "ea6cd779",
   "metadata": {},
   "outputs": [
    {
     "data": {
      "text/html": [
       "<div>\n",
       "<style scoped>\n",
       "    .dataframe tbody tr th:only-of-type {\n",
       "        vertical-align: middle;\n",
       "    }\n",
       "\n",
       "    .dataframe tbody tr th {\n",
       "        vertical-align: top;\n",
       "    }\n",
       "\n",
       "    .dataframe thead th {\n",
       "        text-align: right;\n",
       "    }\n",
       "</style>\n",
       "<table border=\"1\" class=\"dataframe\">\n",
       "  <thead>\n",
       "    <tr style=\"text-align: right;\">\n",
       "      <th></th>\n",
       "      <th>course</th>\n",
       "      <th>amt</th>\n",
       "      <th>duration</th>\n",
       "    </tr>\n",
       "  </thead>\n",
       "  <tbody>\n",
       "    <tr>\n",
       "      <th>1</th>\n",
       "      <td>pandas</td>\n",
       "      <td>10000</td>\n",
       "      <td>15days</td>\n",
       "    </tr>\n",
       "  </tbody>\n",
       "</table>\n",
       "</div>"
      ],
      "text/plain": [
       "   course    amt duration\n",
       "1  pandas  10000   15days"
      ]
     },
     "execution_count": 66,
     "metadata": {},
     "output_type": "execute_result"
    }
   ],
   "source": [
    "df.loc[1:]"
   ]
  },
  {
   "cell_type": "code",
   "execution_count": 70,
   "id": "c64dbab9",
   "metadata": {},
   "outputs": [
    {
     "data": {
      "text/plain": [
       "course       spark\n",
       "amt          20000\n",
       "duration    10days\n",
       "Name: 0, dtype: object"
      ]
     },
     "execution_count": 70,
     "metadata": {},
     "output_type": "execute_result"
    }
   ],
   "source": [
    "df.loc[0]"
   ]
  },
  {
   "cell_type": "code",
   "execution_count": 97,
   "id": "6fe980e8",
   "metadata": {},
   "outputs": [
    {
     "name": "stdout",
     "output_type": "stream",
     "text": [
      "Create DataFrame:\n",
      "     Courses    Fee Duration  Discount\n",
      "r1    Spark  20000   30days      1000\n",
      "r2  PySpark  25000   40days      2300\n",
      "r3   Hadoop  26000   35days      1500\n",
      "r4   Python  22000   40days      1200\n",
      "r5   Pandas  24000      NaN      2500\n",
      "r6   Oracle  21000     None      2100\n",
      "r7     Java  22000   55days      2000\n"
     ]
    }
   ],
   "source": [
    "import pandas as pd\n",
    "import numpy as np\n",
    "technologies = {\n",
    "    'Courses':[\"Spark\",\"PySpark\",\"Hadoop\",\"Python\",\"Pandas\",\"Oracle\",\"Java\"],\n",
    "    'Fee' :[20000,25000,26000,22000,24000,21000,22000],\n",
    "    'Duration':['30days','40days','35days','40days',np.nan,None,'55days'],\n",
    "    'Discount':[1000,2300,1500,1200,2500,2100,2000]\n",
    "               }\n",
    "index_labels=['r1','r2','r3','r4','r5','r6','r7']\n",
    "df = pd.DataFrame(technologies,index=index_labels)\n",
    "print(\"Create DataFrame:\\n\", df)"
   ]
  },
  {
   "cell_type": "code",
   "execution_count": 72,
   "id": "2e08b0d3",
   "metadata": {},
   "outputs": [
    {
     "name": "stdout",
     "output_type": "stream",
     "text": [
      "   Courses    Fee Duration  Discount\n",
      "r7    Java  22000   55days      2000\n"
     ]
    }
   ],
   "source": [
    "print(df.iloc[-1:])"
   ]
  },
  {
   "cell_type": "code",
   "execution_count": 73,
   "id": "0a618ed8",
   "metadata": {},
   "outputs": [
    {
     "name": "stdout",
     "output_type": "stream",
     "text": [
      "   Courses    Fee Duration  Discount\n",
      "r1   Spark  20000   30days      1000\n",
      "r3  Hadoop  26000   35days      1500\n",
      "r5  Pandas  24000      NaN      2500\n",
      "r7    Java  22000   55days      2000\n"
     ]
    }
   ],
   "source": [
    "print(df.iloc[::2])"
   ]
  },
  {
   "cell_type": "code",
   "execution_count": 74,
   "id": "aefdb24b",
   "metadata": {},
   "outputs": [
    {
     "name": "stdout",
     "output_type": "stream",
     "text": [
      "After selecting a row by index label:\n",
      " Courses     PySpark\n",
      "Fee           25000\n",
      "Duration     40days\n",
      "Discount       2300\n",
      "Name: r2, dtype: object\n"
     ]
    }
   ],
   "source": [
    "df1 = df.loc['r2']\n",
    "print(\"After selecting a row by index label:\\n\", df1)"
   ]
  },
  {
   "cell_type": "code",
   "execution_count": 75,
   "id": "647560ef",
   "metadata": {},
   "outputs": [
    {
     "name": "stdout",
     "output_type": "stream",
     "text": [
      "   Courses    Fee Duration  Discount\n",
      "r1   Spark  20000   30days      1000\n",
      "r3  Hadoop  26000   35days      1500\n",
      "r5  Pandas  24000      NaN      2500\n"
     ]
    }
   ],
   "source": [
    "# Select Alternate Rows with in Index Labels\n",
    "print(df.loc['r1':'r5':2])"
   ]
  },
  {
   "cell_type": "code",
   "execution_count": 77,
   "id": "8e0740ee",
   "metadata": {},
   "outputs": [
    {
     "data": {
      "text/html": [
       "<div>\n",
       "<style scoped>\n",
       "    .dataframe tbody tr th:only-of-type {\n",
       "        vertical-align: middle;\n",
       "    }\n",
       "\n",
       "    .dataframe tbody tr th {\n",
       "        vertical-align: top;\n",
       "    }\n",
       "\n",
       "    .dataframe thead th {\n",
       "        text-align: right;\n",
       "    }\n",
       "</style>\n",
       "<table border=\"1\" class=\"dataframe\">\n",
       "  <thead>\n",
       "    <tr style=\"text-align: right;\">\n",
       "      <th></th>\n",
       "      <th>Courses</th>\n",
       "      <th>Fee</th>\n",
       "      <th>Duration</th>\n",
       "      <th>Discount</th>\n",
       "    </tr>\n",
       "  </thead>\n",
       "  <tbody>\n",
       "    <tr>\n",
       "      <th>r3</th>\n",
       "      <td>Hadoop</td>\n",
       "      <td>26000</td>\n",
       "      <td>35days</td>\n",
       "      <td>1500</td>\n",
       "    </tr>\n",
       "  </tbody>\n",
       "</table>\n",
       "</div>"
      ],
      "text/plain": [
       "   Courses    Fee Duration  Discount\n",
       "r3  Hadoop  26000   35days      1500"
      ]
     },
     "execution_count": 77,
     "metadata": {},
     "output_type": "execute_result"
    }
   ],
   "source": [
    "# Selecet column name based on value\n",
    "\n",
    "df[df['Fee']>25000]"
   ]
  },
  {
   "cell_type": "raw",
   "id": "78717cb9",
   "metadata": {},
   "source": [
    "How can I reset the index after selecting rows by index?\n",
    "You can use the reset_index() method to reset the index of a DataFrame. For example, rows = df.loc[index_label].reset_index(drop=True)"
   ]
  },
  {
   "cell_type": "code",
   "execution_count": 86,
   "id": "a24bf4d4",
   "metadata": {},
   "outputs": [],
   "source": [
    "df = df.loc[df['Courses']!='Java'].reset_index(drop=True)"
   ]
  },
  {
   "cell_type": "code",
   "execution_count": 87,
   "id": "c84c2deb",
   "metadata": {},
   "outputs": [
    {
     "data": {
      "text/html": [
       "<div>\n",
       "<style scoped>\n",
       "    .dataframe tbody tr th:only-of-type {\n",
       "        vertical-align: middle;\n",
       "    }\n",
       "\n",
       "    .dataframe tbody tr th {\n",
       "        vertical-align: top;\n",
       "    }\n",
       "\n",
       "    .dataframe thead th {\n",
       "        text-align: right;\n",
       "    }\n",
       "</style>\n",
       "<table border=\"1\" class=\"dataframe\">\n",
       "  <thead>\n",
       "    <tr style=\"text-align: right;\">\n",
       "      <th></th>\n",
       "      <th>Courses</th>\n",
       "      <th>Fee</th>\n",
       "      <th>Duration</th>\n",
       "      <th>Discount</th>\n",
       "    </tr>\n",
       "  </thead>\n",
       "  <tbody>\n",
       "    <tr>\n",
       "      <th>0</th>\n",
       "      <td>Spark</td>\n",
       "      <td>20000</td>\n",
       "      <td>30days</td>\n",
       "      <td>1000</td>\n",
       "    </tr>\n",
       "    <tr>\n",
       "      <th>1</th>\n",
       "      <td>PySpark</td>\n",
       "      <td>25000</td>\n",
       "      <td>40days</td>\n",
       "      <td>2300</td>\n",
       "    </tr>\n",
       "    <tr>\n",
       "      <th>2</th>\n",
       "      <td>Hadoop</td>\n",
       "      <td>26000</td>\n",
       "      <td>35days</td>\n",
       "      <td>1500</td>\n",
       "    </tr>\n",
       "    <tr>\n",
       "      <th>3</th>\n",
       "      <td>Python</td>\n",
       "      <td>22000</td>\n",
       "      <td>40days</td>\n",
       "      <td>1200</td>\n",
       "    </tr>\n",
       "    <tr>\n",
       "      <th>4</th>\n",
       "      <td>Pandas</td>\n",
       "      <td>24000</td>\n",
       "      <td>NaN</td>\n",
       "      <td>2500</td>\n",
       "    </tr>\n",
       "    <tr>\n",
       "      <th>5</th>\n",
       "      <td>Oracle</td>\n",
       "      <td>21000</td>\n",
       "      <td>None</td>\n",
       "      <td>2100</td>\n",
       "    </tr>\n",
       "  </tbody>\n",
       "</table>\n",
       "</div>"
      ],
      "text/plain": [
       "   Courses    Fee Duration  Discount\n",
       "0    Spark  20000   30days      1000\n",
       "1  PySpark  25000   40days      2300\n",
       "2   Hadoop  26000   35days      1500\n",
       "3   Python  22000   40days      1200\n",
       "4   Pandas  24000      NaN      2500\n",
       "5   Oracle  21000     None      2100"
      ]
     },
     "execution_count": 87,
     "metadata": {},
     "output_type": "execute_result"
    }
   ],
   "source": [
    "df"
   ]
  },
  {
   "cell_type": "code",
   "execution_count": 88,
   "id": "d46068f0",
   "metadata": {},
   "outputs": [
    {
     "data": {
      "text/html": [
       "<div>\n",
       "<style scoped>\n",
       "    .dataframe tbody tr th:only-of-type {\n",
       "        vertical-align: middle;\n",
       "    }\n",
       "\n",
       "    .dataframe tbody tr th {\n",
       "        vertical-align: top;\n",
       "    }\n",
       "\n",
       "    .dataframe thead th {\n",
       "        text-align: right;\n",
       "    }\n",
       "</style>\n",
       "<table border=\"1\" class=\"dataframe\">\n",
       "  <thead>\n",
       "    <tr style=\"text-align: right;\">\n",
       "      <th></th>\n",
       "      <th>Fee</th>\n",
       "      <th>Duration</th>\n",
       "      <th>Discount</th>\n",
       "    </tr>\n",
       "  </thead>\n",
       "  <tbody>\n",
       "    <tr>\n",
       "      <th>0</th>\n",
       "      <td>20000</td>\n",
       "      <td>30days</td>\n",
       "      <td>1000</td>\n",
       "    </tr>\n",
       "    <tr>\n",
       "      <th>1</th>\n",
       "      <td>25000</td>\n",
       "      <td>40days</td>\n",
       "      <td>2300</td>\n",
       "    </tr>\n",
       "    <tr>\n",
       "      <th>2</th>\n",
       "      <td>26000</td>\n",
       "      <td>35days</td>\n",
       "      <td>1500</td>\n",
       "    </tr>\n",
       "    <tr>\n",
       "      <th>3</th>\n",
       "      <td>22000</td>\n",
       "      <td>40days</td>\n",
       "      <td>1200</td>\n",
       "    </tr>\n",
       "    <tr>\n",
       "      <th>4</th>\n",
       "      <td>24000</td>\n",
       "      <td>NaN</td>\n",
       "      <td>2500</td>\n",
       "    </tr>\n",
       "    <tr>\n",
       "      <th>5</th>\n",
       "      <td>21000</td>\n",
       "      <td>None</td>\n",
       "      <td>2100</td>\n",
       "    </tr>\n",
       "  </tbody>\n",
       "</table>\n",
       "</div>"
      ],
      "text/plain": [
       "     Fee Duration  Discount\n",
       "0  20000   30days      1000\n",
       "1  25000   40days      2300\n",
       "2  26000   35days      1500\n",
       "3  22000   40days      1200\n",
       "4  24000      NaN      2500\n",
       "5  21000     None      2100"
      ]
     },
     "execution_count": 88,
     "metadata": {},
     "output_type": "execute_result"
    }
   ],
   "source": [
    "# Example 2: Using loc[] to take column slices\n",
    "df2 = df.loc[:,'Fee':'Discount'] # Select columns between two columns\n",
    "df2"
   ]
  },
  {
   "cell_type": "code",
   "execution_count": 92,
   "id": "fdc940d6",
   "metadata": {},
   "outputs": [
    {
     "data": {
      "text/html": [
       "<div>\n",
       "<style scoped>\n",
       "    .dataframe tbody tr th:only-of-type {\n",
       "        vertical-align: middle;\n",
       "    }\n",
       "\n",
       "    .dataframe tbody tr th {\n",
       "        vertical-align: top;\n",
       "    }\n",
       "\n",
       "    .dataframe thead th {\n",
       "        text-align: right;\n",
       "    }\n",
       "</style>\n",
       "<table border=\"1\" class=\"dataframe\">\n",
       "  <thead>\n",
       "    <tr style=\"text-align: right;\">\n",
       "      <th></th>\n",
       "      <th>Courses</th>\n",
       "      <th>Fee</th>\n",
       "      <th>Duration</th>\n",
       "    </tr>\n",
       "  </thead>\n",
       "  <tbody>\n",
       "    <tr>\n",
       "      <th>0</th>\n",
       "      <td>Spark</td>\n",
       "      <td>20000</td>\n",
       "      <td>30days</td>\n",
       "    </tr>\n",
       "    <tr>\n",
       "      <th>1</th>\n",
       "      <td>PySpark</td>\n",
       "      <td>25000</td>\n",
       "      <td>40days</td>\n",
       "    </tr>\n",
       "    <tr>\n",
       "      <th>2</th>\n",
       "      <td>Hadoop</td>\n",
       "      <td>26000</td>\n",
       "      <td>35days</td>\n",
       "    </tr>\n",
       "    <tr>\n",
       "      <th>3</th>\n",
       "      <td>Python</td>\n",
       "      <td>22000</td>\n",
       "      <td>40days</td>\n",
       "    </tr>\n",
       "    <tr>\n",
       "      <th>4</th>\n",
       "      <td>Pandas</td>\n",
       "      <td>24000</td>\n",
       "      <td>NaN</td>\n",
       "    </tr>\n",
       "    <tr>\n",
       "      <th>5</th>\n",
       "      <td>Oracle</td>\n",
       "      <td>21000</td>\n",
       "      <td>None</td>\n",
       "    </tr>\n",
       "  </tbody>\n",
       "</table>\n",
       "</div>"
      ],
      "text/plain": [
       "   Courses    Fee Duration\n",
       "0    Spark  20000   30days\n",
       "1  PySpark  25000   40days\n",
       "2   Hadoop  26000   35days\n",
       "3   Python  22000   40days\n",
       "4   Pandas  24000      NaN\n",
       "5   Oracle  21000     None"
      ]
     },
     "execution_count": 92,
     "metadata": {},
     "output_type": "execute_result"
    }
   ],
   "source": [
    "df2 = df.loc[:,:'Duration']  # Select columns by range\n",
    "df2"
   ]
  },
  {
   "cell_type": "code",
   "execution_count": 93,
   "id": "ac8c2401",
   "metadata": {},
   "outputs": [
    {
     "data": {
      "text/html": [
       "<div>\n",
       "<style scoped>\n",
       "    .dataframe tbody tr th:only-of-type {\n",
       "        vertical-align: middle;\n",
       "    }\n",
       "\n",
       "    .dataframe tbody tr th {\n",
       "        vertical-align: top;\n",
       "    }\n",
       "\n",
       "    .dataframe thead th {\n",
       "        text-align: right;\n",
       "    }\n",
       "</style>\n",
       "<table border=\"1\" class=\"dataframe\">\n",
       "  <thead>\n",
       "    <tr style=\"text-align: right;\">\n",
       "      <th></th>\n",
       "      <th>Courses</th>\n",
       "      <th>Duration</th>\n",
       "    </tr>\n",
       "  </thead>\n",
       "  <tbody>\n",
       "    <tr>\n",
       "      <th>0</th>\n",
       "      <td>Spark</td>\n",
       "      <td>30days</td>\n",
       "    </tr>\n",
       "    <tr>\n",
       "      <th>1</th>\n",
       "      <td>PySpark</td>\n",
       "      <td>40days</td>\n",
       "    </tr>\n",
       "    <tr>\n",
       "      <th>2</th>\n",
       "      <td>Hadoop</td>\n",
       "      <td>35days</td>\n",
       "    </tr>\n",
       "    <tr>\n",
       "      <th>3</th>\n",
       "      <td>Python</td>\n",
       "      <td>40days</td>\n",
       "    </tr>\n",
       "    <tr>\n",
       "      <th>4</th>\n",
       "      <td>Pandas</td>\n",
       "      <td>NaN</td>\n",
       "    </tr>\n",
       "    <tr>\n",
       "      <th>5</th>\n",
       "      <td>Oracle</td>\n",
       "      <td>None</td>\n",
       "    </tr>\n",
       "  </tbody>\n",
       "</table>\n",
       "</div>"
      ],
      "text/plain": [
       "   Courses Duration\n",
       "0    Spark   30days\n",
       "1  PySpark   40days\n",
       "2   Hadoop   35days\n",
       "3   Python   40days\n",
       "4   Pandas      NaN\n",
       "5   Oracle     None"
      ]
     },
     "execution_count": 93,
     "metadata": {},
     "output_type": "execute_result"
    }
   ],
   "source": [
    "df2 = df.loc[:,::2]\n",
    "df2"
   ]
  },
  {
   "cell_type": "raw",
   "id": "101a0ca5",
   "metadata": {},
   "source": [
    "pandas.DataFrame.filter() – To filter rows by index and columns by name.\n",
    "pandas.DataFrame.loc[] – To select rows by indices label and column by name.\n",
    "pandas.DataFrame.iloc[] – To select rows by index and column by position.\n",
    "pandas.DataFrame.apply() – To custom select using lambda function."
   ]
  },
  {
   "cell_type": "code",
   "execution_count": 90,
   "id": "4cb08e69",
   "metadata": {},
   "outputs": [],
   "source": [
    "# Example 3: Using iloc[] to select column by Index\n",
    "df2 = df.iloc[:,[1,3]] # Select columns by Index"
   ]
  },
  {
   "cell_type": "code",
   "execution_count": 91,
   "id": "e03ccf83",
   "metadata": {},
   "outputs": [
    {
     "data": {
      "text/html": [
       "<div>\n",
       "<style scoped>\n",
       "    .dataframe tbody tr th:only-of-type {\n",
       "        vertical-align: middle;\n",
       "    }\n",
       "\n",
       "    .dataframe tbody tr th {\n",
       "        vertical-align: top;\n",
       "    }\n",
       "\n",
       "    .dataframe thead th {\n",
       "        text-align: right;\n",
       "    }\n",
       "</style>\n",
       "<table border=\"1\" class=\"dataframe\">\n",
       "  <thead>\n",
       "    <tr style=\"text-align: right;\">\n",
       "      <th></th>\n",
       "      <th>Fee</th>\n",
       "      <th>Discount</th>\n",
       "    </tr>\n",
       "  </thead>\n",
       "  <tbody>\n",
       "    <tr>\n",
       "      <th>0</th>\n",
       "      <td>20000</td>\n",
       "      <td>1000</td>\n",
       "    </tr>\n",
       "    <tr>\n",
       "      <th>1</th>\n",
       "      <td>25000</td>\n",
       "      <td>2300</td>\n",
       "    </tr>\n",
       "    <tr>\n",
       "      <th>2</th>\n",
       "      <td>26000</td>\n",
       "      <td>1500</td>\n",
       "    </tr>\n",
       "    <tr>\n",
       "      <th>3</th>\n",
       "      <td>22000</td>\n",
       "      <td>1200</td>\n",
       "    </tr>\n",
       "    <tr>\n",
       "      <th>4</th>\n",
       "      <td>24000</td>\n",
       "      <td>2500</td>\n",
       "    </tr>\n",
       "    <tr>\n",
       "      <th>5</th>\n",
       "      <td>21000</td>\n",
       "      <td>2100</td>\n",
       "    </tr>\n",
       "  </tbody>\n",
       "</table>\n",
       "</div>"
      ],
      "text/plain": [
       "     Fee  Discount\n",
       "0  20000      1000\n",
       "1  25000      2300\n",
       "2  26000      1500\n",
       "3  22000      1200\n",
       "4  24000      2500\n",
       "5  21000      2100"
      ]
     },
     "execution_count": 91,
     "metadata": {},
     "output_type": "execute_result"
    }
   ],
   "source": [
    "df2"
   ]
  },
  {
   "cell_type": "code",
   "execution_count": 95,
   "id": "82bf49ef",
   "metadata": {},
   "outputs": [
    {
     "data": {
      "text/html": [
       "<div>\n",
       "<style scoped>\n",
       "    .dataframe tbody tr th:only-of-type {\n",
       "        vertical-align: middle;\n",
       "    }\n",
       "\n",
       "    .dataframe tbody tr th {\n",
       "        vertical-align: top;\n",
       "    }\n",
       "\n",
       "    .dataframe thead th {\n",
       "        text-align: right;\n",
       "    }\n",
       "</style>\n",
       "<table border=\"1\" class=\"dataframe\">\n",
       "  <thead>\n",
       "    <tr style=\"text-align: right;\">\n",
       "      <th></th>\n",
       "      <th>Courses</th>\n",
       "      <th>Fee</th>\n",
       "      <th>Duration</th>\n",
       "      <th>Discount</th>\n",
       "    </tr>\n",
       "  </thead>\n",
       "  <tbody>\n",
       "    <tr>\n",
       "      <th>0</th>\n",
       "      <td>Spark</td>\n",
       "      <td>20000</td>\n",
       "      <td>30days</td>\n",
       "      <td>1000</td>\n",
       "    </tr>\n",
       "  </tbody>\n",
       "</table>\n",
       "</div>"
      ],
      "text/plain": [
       "  Courses    Fee Duration  Discount\n",
       "0   Spark  20000   30days      1000"
      ]
     },
     "execution_count": 95,
     "metadata": {},
     "output_type": "execute_result"
    }
   ],
   "source": [
    "# Query Rows using DataFrame.query()\n",
    "df2=df.query(\"Courses == 'Spark'\")\n",
    "df2"
   ]
  },
  {
   "cell_type": "code",
   "execution_count": 99,
   "id": "f95bc3a6",
   "metadata": {},
   "outputs": [
    {
     "data": {
      "text/html": [
       "<div>\n",
       "<style scoped>\n",
       "    .dataframe tbody tr th:only-of-type {\n",
       "        vertical-align: middle;\n",
       "    }\n",
       "\n",
       "    .dataframe tbody tr th {\n",
       "        vertical-align: top;\n",
       "    }\n",
       "\n",
       "    .dataframe thead th {\n",
       "        text-align: right;\n",
       "    }\n",
       "</style>\n",
       "<table border=\"1\" class=\"dataframe\">\n",
       "  <thead>\n",
       "    <tr style=\"text-align: right;\">\n",
       "      <th></th>\n",
       "      <th>Courses</th>\n",
       "      <th>Fee</th>\n",
       "      <th>Duration</th>\n",
       "      <th>Discount</th>\n",
       "    </tr>\n",
       "  </thead>\n",
       "  <tbody>\n",
       "    <tr>\n",
       "      <th>r5</th>\n",
       "      <td>Pandas</td>\n",
       "      <td>24000</td>\n",
       "      <td>NaN</td>\n",
       "      <td>2500</td>\n",
       "    </tr>\n",
       "  </tbody>\n",
       "</table>\n",
       "</div>"
      ],
      "text/plain": [
       "   Courses    Fee Duration  Discount\n",
       "r5  Pandas  24000      NaN      2500"
      ]
     },
     "execution_count": 99,
     "metadata": {},
     "output_type": "execute_result"
    }
   ],
   "source": [
    "df.query(\"`Fee` >= 23000 and `Fee` <= 24000\")"
   ]
  },
  {
   "cell_type": "code",
   "execution_count": null,
   "id": "cd8f7846",
   "metadata": {},
   "outputs": [],
   "source": [
    "# Query() method syntax\n",
    "# DataFrame.query(expr, inplace=False, **kwargs)\n",
    "# expr – expression takes conditions to query rows\n",
    "# inplace – Defaults to False. When it is set to True, it updates the existing DataFrame, and query() method returns None.\n",
    "# **kwargs –  Keyword arguments that work with eval()"
   ]
  },
  {
   "cell_type": "code",
   "execution_count": 100,
   "id": "71eed560",
   "metadata": {},
   "outputs": [
    {
     "name": "stdout",
     "output_type": "stream",
     "text": [
      "After filtering the rows based on condition:\n",
      "    Courses    Fee Duration  Discount\n",
      "r1   Spark  20000   30days      1000\n"
     ]
    }
   ],
   "source": [
    "# Query Rows by using Python variable\n",
    "value='Spark'\n",
    "df2 = df.query(\"Courses == @value\")\n",
    "print(\"After filtering the rows based on condition:\\n\", df2)"
   ]
  },
  {
   "cell_type": "code",
   "execution_count": 101,
   "id": "026e07c4",
   "metadata": {},
   "outputs": [
    {
     "name": "stdout",
     "output_type": "stream",
     "text": [
      "After filtering the rows based on condition:\n",
      "     Courses    Fee Duration  Discount\n",
      "r1    Spark  20000   30days      1000\n",
      "r2  PySpark  25000   40days      2300\n"
     ]
    }
   ],
   "source": [
    "# Query Rows by list of values\n",
    "df2 = df.query(\"Courses in ('Spark','PySpark')\")\n",
    "print(\"After filtering the rows based on condition:\\n\", df2)"
   ]
  },
  {
   "cell_type": "code",
   "execution_count": 103,
   "id": "ac7dcc6e",
   "metadata": {},
   "outputs": [
    {
     "name": "stdout",
     "output_type": "stream",
     "text": [
      "After filtering the rows based on condition:\n",
      "    Courses    Fee Duration  Discount\n",
      "r3  Hadoop  26000   35days      1500\n",
      "r4  Python  22000   40days      1200\n",
      "r5  Pandas  24000      NaN      2500\n",
      "r6  Oracle  21000     None      2100\n",
      "r7    Java  22000   55days      2000\n"
     ]
    }
   ],
   "source": [
    "# Query Rows not in list of values\n",
    "values=['Spark','PySpark']\n",
    "df2 = df.query(\"Courses not in @values\")\n",
    "print(\"After filtering the rows based on condition:\\n\", df2)"
   ]
  },
  {
   "cell_type": "raw",
   "id": "1bac3787",
   "metadata": {},
   "source": [
    "Query Rows using apply()\n",
    "pandas.DataFrame.apply() method is used to apply the expression row-by-row and return the rows that match the values. "
   ]
  },
  {
   "cell_type": "code",
   "execution_count": 104,
   "id": "c0a7f83b",
   "metadata": {},
   "outputs": [
    {
     "name": "stdout",
     "output_type": "stream",
     "text": [
      "After filtering the rows based on condition:\n",
      "     Courses    Fee Duration  Discount\n",
      "r1    Spark  20000   30days      1000\n",
      "r2  PySpark  25000   40days      2300\n"
     ]
    }
   ],
   "source": [
    "# By using lambda function\n",
    "df2 = df.apply(lambda row: row[df['Courses'].isin(['Spark','PySpark'])])\n",
    "print(\"After filtering the rows based on condition:\\n\", df2)"
   ]
  },
  {
   "cell_type": "code",
   "execution_count": 105,
   "id": "637a33af",
   "metadata": {},
   "outputs": [
    {
     "name": "stdout",
     "output_type": "stream",
     "text": [
      "    Courses    Fee Duration  Discount\n",
      "r1    Spark  20000   30days      1000\n",
      "r2  PySpark  25000   40days      2300\n",
      "    Courses    Fee Duration  Discount\n",
      "r1    Spark  20000   30days      1000\n",
      "r2  PySpark  25000   40days      2300\n",
      "    Courses    Fee Duration  Discount\n",
      "r2  PySpark  25000   40days      2300\n",
      "r4   Python  22000   40days      1200\n",
      "r5   Pandas  24000      NaN      2500\n"
     ]
    }
   ],
   "source": [
    "# Other examples you can try to query rows\n",
    "df[df[\"Courses\"] == 'Spark'] \n",
    "df.loc[df['Courses'] == value]\n",
    "df.loc[df['Courses'] != 'Spark']\n",
    "df.loc[df['Courses'].isin(values)]\n",
    "df.loc[~df['Courses'].isin(values)]\n",
    "df.loc[(df['Discount'] >= 1000) & (df['Discount'] <= 2000)]\n",
    "df.loc[(df['Discount'] >= 1200) & (df['Fee'] >= 23000 )]\n",
    "\n",
    "# Select based on value contains\n",
    "print(df[df['Courses'].str.contains(\"Spark\")])\n",
    "\n",
    "# Select after converting values\n",
    "print(df[df['Courses'].str.lower().str.contains(\"spark\")])\n",
    "\n",
    "# Select startswith\n",
    "print(df[df['Courses'].str.startswith(\"P\")])"
   ]
  },
  {
   "cell_type": "code",
   "execution_count": 107,
   "id": "50388264",
   "metadata": {},
   "outputs": [
    {
     "data": {
      "text/html": [
       "<div>\n",
       "<style scoped>\n",
       "    .dataframe tbody tr th:only-of-type {\n",
       "        vertical-align: middle;\n",
       "    }\n",
       "\n",
       "    .dataframe tbody tr th {\n",
       "        vertical-align: top;\n",
       "    }\n",
       "\n",
       "    .dataframe thead th {\n",
       "        text-align: right;\n",
       "    }\n",
       "</style>\n",
       "<table border=\"1\" class=\"dataframe\">\n",
       "  <thead>\n",
       "    <tr style=\"text-align: right;\">\n",
       "      <th></th>\n",
       "      <th>Courses</th>\n",
       "      <th>Fee</th>\n",
       "      <th>Duration</th>\n",
       "      <th>Discount</th>\n",
       "    </tr>\n",
       "  </thead>\n",
       "  <tbody>\n",
       "    <tr>\n",
       "      <th>r1</th>\n",
       "      <td>Spark</td>\n",
       "      <td>20000</td>\n",
       "      <td>30days</td>\n",
       "      <td>1000</td>\n",
       "    </tr>\n",
       "    <tr>\n",
       "      <th>r2</th>\n",
       "      <td>PySpark</td>\n",
       "      <td>25000</td>\n",
       "      <td>40days</td>\n",
       "      <td>2300</td>\n",
       "    </tr>\n",
       "    <tr>\n",
       "      <th>r3</th>\n",
       "      <td>Hadoop</td>\n",
       "      <td>26000</td>\n",
       "      <td>35days</td>\n",
       "      <td>1500</td>\n",
       "    </tr>\n",
       "    <tr>\n",
       "      <th>r4</th>\n",
       "      <td>Python</td>\n",
       "      <td>22000</td>\n",
       "      <td>40days</td>\n",
       "      <td>1200</td>\n",
       "    </tr>\n",
       "    <tr>\n",
       "      <th>r5</th>\n",
       "      <td>Pandas</td>\n",
       "      <td>24000</td>\n",
       "      <td>NaN</td>\n",
       "      <td>2500</td>\n",
       "    </tr>\n",
       "    <tr>\n",
       "      <th>r6</th>\n",
       "      <td>Oracle</td>\n",
       "      <td>21000</td>\n",
       "      <td>None</td>\n",
       "      <td>2100</td>\n",
       "    </tr>\n",
       "    <tr>\n",
       "      <th>r7</th>\n",
       "      <td>Java</td>\n",
       "      <td>22000</td>\n",
       "      <td>55days</td>\n",
       "      <td>2000</td>\n",
       "    </tr>\n",
       "  </tbody>\n",
       "</table>\n",
       "</div>"
      ],
      "text/plain": [
       "    Courses    Fee Duration  Discount\n",
       "r1    Spark  20000   30days      1000\n",
       "r2  PySpark  25000   40days      2300\n",
       "r3   Hadoop  26000   35days      1500\n",
       "r4   Python  22000   40days      1200\n",
       "r5   Pandas  24000      NaN      2500\n",
       "r6   Oracle  21000     None      2100\n",
       "r7     Java  22000   55days      2000"
      ]
     },
     "execution_count": 107,
     "metadata": {},
     "output_type": "execute_result"
    }
   ],
   "source": [
    "df"
   ]
  },
  {
   "cell_type": "code",
   "execution_count": 106,
   "id": "f0f9b116",
   "metadata": {},
   "outputs": [
    {
     "name": "stdout",
     "output_type": "stream",
     "text": [
      "40days\n",
      "40days\n",
      "40days\n",
      "40days\n",
      "40days\n",
      "40days\n",
      "40days\n",
      "40days\n",
      "55days\n",
      "55days\n",
      "55days\n"
     ]
    }
   ],
   "source": [
    "# Below are some quick examples \n",
    "\n",
    "# Using loc[]. Get cell value by name & index\n",
    "print(df.loc['r4']['Duration'])\n",
    "print(df.loc['r4'][2])\n",
    "\n",
    "# Using iloc[]. Get cell value by index & name\n",
    "print(df.iloc[3]['Duration'])\n",
    "print(df.iloc[3,2])\n",
    "\n",
    "\n",
    "# Using DataFrame.at[]\n",
    "print(df.at['r4','Duration'])\n",
    "print(df.at[df.index[3],'Duration'])\n",
    "\n",
    "# Using DataFrame.iat[]\n",
    "print(df.iat[3,2])\n",
    "\n",
    "# Get a cell value\n",
    "print(df[\"Duration\"].values[3])\n",
    "\n",
    "# Get cell value from last row\n",
    "print(df.iloc[-1,2])\n",
    "print(df.iloc[-1]['Duration'])\n",
    "print(df.at[df.index[-1],'Duration'])"
   ]
  },
  {
   "cell_type": "raw",
   "id": "0ffaeecc",
   "metadata": {},
   "source": [
    "# Add a new column to the existing DataFrame\n",
    "In pandas you can add/append a new column to the existing DataFrame using DataFrame.insert() method,\n",
    "this method updates the existing DataFrame with a new column. \n",
    "DataFrame.assign() is also used to insert a new column however,\n",
    "this method returns a new Dataframe after adding a new column."
   ]
  },
  {
   "cell_type": "code",
   "execution_count": 114,
   "id": "32f0d79b",
   "metadata": {},
   "outputs": [
    {
     "name": "stdout",
     "output_type": "stream",
     "text": [
      "Create a DataFrame:\n",
      "    Courses    Fee  Discount\n",
      "0    Spark  22000      1000\n",
      "1  PySpark  25000      2300\n",
      "2   Hadoop  23000      1000\n",
      "3   Python  24000      1200\n",
      "4   Pandas  26000      2500\n"
     ]
    }
   ],
   "source": [
    "# Create DataFrame\n",
    "import pandas as pd\n",
    "import numpy as np\n",
    "\n",
    "technologies= {\n",
    "    'Courses':[\"Spark\",\"PySpark\",\"Hadoop\",\"Python\",\"Pandas\"],\n",
    "    'Fee' :[22000,25000,23000,24000,26000],\n",
    "    'Discount':[1000,2300,1000,1200,2500]\n",
    "          }\n",
    "\n",
    "df = pd.DataFrame(technologies)\n",
    "print(\"Create a DataFrame:\\n\", df)"
   ]
  },
  {
   "cell_type": "code",
   "execution_count": 119,
   "id": "1ece904a",
   "metadata": {},
   "outputs": [
    {
     "name": "stdout",
     "output_type": "stream",
     "text": [
      "   Courses    Fee  Discount   Tutors\n",
      "0    Spark  22000      1000  William\n",
      "1  PySpark  25000      2300    Henry\n",
      "2   Hadoop  23000      1000  Michael\n",
      "3   Python  24000      1200     John\n",
      "4   Pandas  26000      2500    Messi\n"
     ]
    }
   ],
   "source": [
    "# Quick Examples of Add Column to DataFrame\n",
    "\n",
    "# Below are quick examples\n",
    "\n",
    "# Add new column to the DataFrame\n",
    "tutors = ['William', 'Henry', 'Michael', 'John', 'Messi']\n",
    "df2 = df.assign(TutorsAssigned=tutors)\n",
    "\n",
    "# Add a multiple columns to the DataFrame\n",
    "MNCCompanies = ['TATA','HCL','Infosys','Google','Amazon']\n",
    "df2 =df.assign(MNCComp = MNCCompanies,TutorsAssigned=tutors )\n",
    "\n",
    "# Derive New Column from Existing Column\n",
    "df = pd.DataFrame(technologies)\n",
    "df2=df.assign(Discount_Percent=lambda x: x.Fee * x.Discount / 100)\n",
    "\n",
    "# Add a constant or empty value to the DataFrame.\n",
    "df = pd.DataFrame(technologies)\n",
    "df2=df.assign(A=None,B=0,C=\"\")\n",
    "\n",
    "# Add New column to the existing DataFrame\n",
    "df = pd.DataFrame(technologies)\n",
    "df[\"MNCCompanies\"] = MNCCompanies\n",
    "\n",
    "# Add new column at the specific position\n",
    "df = pd.DataFrame(technologies)\n",
    "df.insert(0,'Tutors', tutors )\n",
    "\n",
    "# Add new column by mapping to the existing column\n",
    "df = pd.DataFrame(technologies)\n",
    "tutors = {\"Spark\":\"William\", \"PySpark\":\"Henry\", \"Hadoop\":\"Michael\",\"Python\":\"John\", \"Pandas\":\"Messi\"}\n",
    "df['Tutors'] = df['Courses'].map(tutors)\n",
    "print(df)"
   ]
  },
  {
   "cell_type": "code",
   "execution_count": 120,
   "id": "fcb0314e",
   "metadata": {},
   "outputs": [
    {
     "data": {
      "text/html": [
       "<div>\n",
       "<style scoped>\n",
       "    .dataframe tbody tr th:only-of-type {\n",
       "        vertical-align: middle;\n",
       "    }\n",
       "\n",
       "    .dataframe tbody tr th {\n",
       "        vertical-align: top;\n",
       "    }\n",
       "\n",
       "    .dataframe thead th {\n",
       "        text-align: right;\n",
       "    }\n",
       "</style>\n",
       "<table border=\"1\" class=\"dataframe\">\n",
       "  <thead>\n",
       "    <tr style=\"text-align: right;\">\n",
       "      <th></th>\n",
       "      <th>Courses</th>\n",
       "      <th>Fee</th>\n",
       "      <th>Discount</th>\n",
       "      <th>A</th>\n",
       "      <th>B</th>\n",
       "      <th>C</th>\n",
       "    </tr>\n",
       "  </thead>\n",
       "  <tbody>\n",
       "    <tr>\n",
       "      <th>0</th>\n",
       "      <td>Spark</td>\n",
       "      <td>22000</td>\n",
       "      <td>1000</td>\n",
       "      <td>None</td>\n",
       "      <td>0</td>\n",
       "      <td></td>\n",
       "    </tr>\n",
       "    <tr>\n",
       "      <th>1</th>\n",
       "      <td>PySpark</td>\n",
       "      <td>25000</td>\n",
       "      <td>2300</td>\n",
       "      <td>None</td>\n",
       "      <td>0</td>\n",
       "      <td></td>\n",
       "    </tr>\n",
       "    <tr>\n",
       "      <th>2</th>\n",
       "      <td>Hadoop</td>\n",
       "      <td>23000</td>\n",
       "      <td>1000</td>\n",
       "      <td>None</td>\n",
       "      <td>0</td>\n",
       "      <td></td>\n",
       "    </tr>\n",
       "    <tr>\n",
       "      <th>3</th>\n",
       "      <td>Python</td>\n",
       "      <td>24000</td>\n",
       "      <td>1200</td>\n",
       "      <td>None</td>\n",
       "      <td>0</td>\n",
       "      <td></td>\n",
       "    </tr>\n",
       "    <tr>\n",
       "      <th>4</th>\n",
       "      <td>Pandas</td>\n",
       "      <td>26000</td>\n",
       "      <td>2500</td>\n",
       "      <td>None</td>\n",
       "      <td>0</td>\n",
       "      <td></td>\n",
       "    </tr>\n",
       "  </tbody>\n",
       "</table>\n",
       "</div>"
      ],
      "text/plain": [
       "   Courses    Fee  Discount     A  B C\n",
       "0    Spark  22000      1000  None  0  \n",
       "1  PySpark  25000      2300  None  0  \n",
       "2   Hadoop  23000      1000  None  0  \n",
       "3   Python  24000      1200  None  0  \n",
       "4   Pandas  26000      2500  None  0  "
      ]
     },
     "execution_count": 120,
     "metadata": {},
     "output_type": "execute_result"
    }
   ],
   "source": [
    "df2"
   ]
  },
  {
   "cell_type": "code",
   "execution_count": 121,
   "id": "eae918db",
   "metadata": {},
   "outputs": [],
   "source": [
    "# Add a multiple columns to the DataFrame\n",
    "MNCCompanies = ['TATA','HCL','Infosys','Google','Amazon']\n",
    "df2 =df.assign(MNCComp = MNCCompanies,TutorsAssigned=tutors )\n"
   ]
  },
  {
   "cell_type": "code",
   "execution_count": 122,
   "id": "e4c0d267",
   "metadata": {},
   "outputs": [
    {
     "data": {
      "text/html": [
       "<div>\n",
       "<style scoped>\n",
       "    .dataframe tbody tr th:only-of-type {\n",
       "        vertical-align: middle;\n",
       "    }\n",
       "\n",
       "    .dataframe tbody tr th {\n",
       "        vertical-align: top;\n",
       "    }\n",
       "\n",
       "    .dataframe thead th {\n",
       "        text-align: right;\n",
       "    }\n",
       "</style>\n",
       "<table border=\"1\" class=\"dataframe\">\n",
       "  <thead>\n",
       "    <tr style=\"text-align: right;\">\n",
       "      <th></th>\n",
       "      <th>Courses</th>\n",
       "      <th>Fee</th>\n",
       "      <th>Discount</th>\n",
       "      <th>Tutors</th>\n",
       "      <th>MNCComp</th>\n",
       "      <th>TutorsAssigned</th>\n",
       "    </tr>\n",
       "  </thead>\n",
       "  <tbody>\n",
       "    <tr>\n",
       "      <th>0</th>\n",
       "      <td>Spark</td>\n",
       "      <td>22000</td>\n",
       "      <td>1000</td>\n",
       "      <td>William</td>\n",
       "      <td>TATA</td>\n",
       "      <td>Spark</td>\n",
       "    </tr>\n",
       "    <tr>\n",
       "      <th>1</th>\n",
       "      <td>PySpark</td>\n",
       "      <td>25000</td>\n",
       "      <td>2300</td>\n",
       "      <td>Henry</td>\n",
       "      <td>HCL</td>\n",
       "      <td>PySpark</td>\n",
       "    </tr>\n",
       "    <tr>\n",
       "      <th>2</th>\n",
       "      <td>Hadoop</td>\n",
       "      <td>23000</td>\n",
       "      <td>1000</td>\n",
       "      <td>Michael</td>\n",
       "      <td>Infosys</td>\n",
       "      <td>Hadoop</td>\n",
       "    </tr>\n",
       "    <tr>\n",
       "      <th>3</th>\n",
       "      <td>Python</td>\n",
       "      <td>24000</td>\n",
       "      <td>1200</td>\n",
       "      <td>John</td>\n",
       "      <td>Google</td>\n",
       "      <td>Python</td>\n",
       "    </tr>\n",
       "    <tr>\n",
       "      <th>4</th>\n",
       "      <td>Pandas</td>\n",
       "      <td>26000</td>\n",
       "      <td>2500</td>\n",
       "      <td>Messi</td>\n",
       "      <td>Amazon</td>\n",
       "      <td>Pandas</td>\n",
       "    </tr>\n",
       "  </tbody>\n",
       "</table>\n",
       "</div>"
      ],
      "text/plain": [
       "   Courses    Fee  Discount   Tutors  MNCComp TutorsAssigned\n",
       "0    Spark  22000      1000  William     TATA          Spark\n",
       "1  PySpark  25000      2300    Henry      HCL        PySpark\n",
       "2   Hadoop  23000      1000  Michael  Infosys         Hadoop\n",
       "3   Python  24000      1200     John   Google         Python\n",
       "4   Pandas  26000      2500    Messi   Amazon         Pandas"
      ]
     },
     "execution_count": 122,
     "metadata": {},
     "output_type": "execute_result"
    }
   ],
   "source": [
    "df2"
   ]
  },
  {
   "cell_type": "code",
   "execution_count": 123,
   "id": "17de020e",
   "metadata": {},
   "outputs": [
    {
     "name": "stdout",
     "output_type": "stream",
     "text": [
      "Add column to DataFrame:\n",
      "    Courses    Fee  Discount  Discount_Percent\n",
      "0    Spark  22000      1000          220000.0\n",
      "1  PySpark  25000      2300          575000.0\n",
      "2   Hadoop  23000      1000          230000.0\n",
      "3   Python  24000      1200          288000.0\n",
      "4   Pandas  26000      2500          650000.0\n"
     ]
    }
   ],
   "source": [
    "# Derive New Column from Existing Column\n",
    "df = pd.DataFrame(technologies)\n",
    "df2 = df.assign(Discount_Percent=lambda x: x.Fee * x.Discount / 100)\n",
    "print(\"Add column to DataFrame:\\n\", df2)"
   ]
  },
  {
   "cell_type": "code",
   "execution_count": 124,
   "id": "13bf0200",
   "metadata": {},
   "outputs": [
    {
     "name": "stdout",
     "output_type": "stream",
     "text": [
      "Add column to DataFrame:\n",
      "     Tutors  Courses    Fee  Discount\n",
      "0    Spark    Spark  22000      1000\n",
      "1  PySpark  PySpark  25000      2300\n",
      "2   Hadoop   Hadoop  23000      1000\n",
      "3   Python   Python  24000      1200\n",
      "4   Pandas   Pandas  26000      2500\n"
     ]
    }
   ],
   "source": [
    "# Add new column at the specific position\n",
    "df = pd.DataFrame(technologies)\n",
    "df.insert(0,'Tutors', tutors )\n",
    "print(\"Add column to DataFrame:\\n\", df)"
   ]
  },
  {
   "cell_type": "code",
   "execution_count": 126,
   "id": "c24632ae",
   "metadata": {},
   "outputs": [
    {
     "data": {
      "text/html": [
       "<div>\n",
       "<style scoped>\n",
       "    .dataframe tbody tr th:only-of-type {\n",
       "        vertical-align: middle;\n",
       "    }\n",
       "\n",
       "    .dataframe tbody tr th {\n",
       "        vertical-align: top;\n",
       "    }\n",
       "\n",
       "    .dataframe thead th {\n",
       "        text-align: right;\n",
       "    }\n",
       "</style>\n",
       "<table border=\"1\" class=\"dataframe\">\n",
       "  <thead>\n",
       "    <tr style=\"text-align: right;\">\n",
       "      <th></th>\n",
       "      <th>Courses</th>\n",
       "      <th>Fee</th>\n",
       "      <th>Discount</th>\n",
       "    </tr>\n",
       "  </thead>\n",
       "  <tbody>\n",
       "    <tr>\n",
       "      <th>0</th>\n",
       "      <td>Spark</td>\n",
       "      <td>22000</td>\n",
       "      <td>1000</td>\n",
       "    </tr>\n",
       "    <tr>\n",
       "      <th>1</th>\n",
       "      <td>PySpark</td>\n",
       "      <td>25000</td>\n",
       "      <td>2300</td>\n",
       "    </tr>\n",
       "    <tr>\n",
       "      <th>2</th>\n",
       "      <td>Hadoop</td>\n",
       "      <td>23000</td>\n",
       "      <td>1000</td>\n",
       "    </tr>\n",
       "    <tr>\n",
       "      <th>3</th>\n",
       "      <td>Python</td>\n",
       "      <td>24000</td>\n",
       "      <td>1200</td>\n",
       "    </tr>\n",
       "    <tr>\n",
       "      <th>4</th>\n",
       "      <td>Pandas</td>\n",
       "      <td>26000</td>\n",
       "      <td>2500</td>\n",
       "    </tr>\n",
       "  </tbody>\n",
       "</table>\n",
       "</div>"
      ],
      "text/plain": [
       "   Courses    Fee  Discount\n",
       "0    Spark  22000      1000\n",
       "1  PySpark  25000      2300\n",
       "2   Hadoop  23000      1000\n",
       "3   Python  24000      1200\n",
       "4   Pandas  26000      2500"
      ]
     },
     "execution_count": 126,
     "metadata": {},
     "output_type": "execute_result"
    }
   ],
   "source": [
    "df = pd.DataFrame(technologies)\n",
    "df"
   ]
  },
  {
   "cell_type": "code",
   "execution_count": 127,
   "id": "b1305d19",
   "metadata": {},
   "outputs": [
    {
     "name": "stdout",
     "output_type": "stream",
     "text": [
      "Add column to DataFrame:\n",
      "    Courses    Fee  Discount   Tutors\n",
      "0    Spark  22000      1000  William\n",
      "1  PySpark  25000      2300    Henry\n",
      "2   Hadoop  23000      1000  Michael\n",
      "3   Python  24000      1200     John\n",
      "4   Pandas  26000      2500      NaN\n"
     ]
    }
   ],
   "source": [
    "# Add new column by mapping to the existing column\n",
    "# df = pd.DataFrame(technologies)\n",
    "tutors = {\"Spark\":\"William\", \"PySpark\":\"Henry\", \"Hadoop\":\"Michael\",\"Python\":\"John\", \"pandas\":\"Messi\"}\n",
    "df['Tutors'] = df['Courses'].map(tutors)\n",
    "print(\"Add column to DataFrame:\\n\", df)\n",
    "#Yields below output. Note that it is unable to map pandas as the key in the dictionary is not exactly matched with the value in the Courses column (case sensitive)."
   ]
  },
  {
   "cell_type": "code",
   "execution_count": 128,
   "id": "2650487c",
   "metadata": {},
   "outputs": [],
   "source": [
    "#  DataFrame.rename() Syntax\n",
    "# DataFrame.rename(mapper=None, index=None, columns=None, axis=None, \n",
    "#        copy=True, inplace=False, level=None, errors='ignore')"
   ]
  },
  {
   "cell_type": "code",
   "execution_count": 129,
   "id": "32b26ea1",
   "metadata": {},
   "outputs": [
    {
     "name": "stdout",
     "output_type": "stream",
     "text": [
      "  Courses_List    Fee  Discount   Tutors\n",
      "0        Spark  22000      1000  William\n",
      "1      PySpark  25000      2300    Henry\n",
      "2       Hadoop  23000      1000  Michael\n",
      "3       Python  24000      1200     John\n",
      "4       Pandas  26000      2500      NaN\n",
      "---------   Courses_List    Fee  Discount   Tutors\n",
      "0        Spark  22000      1000  William\n",
      "1      PySpark  25000      2300    Henry\n",
      "2       Hadoop  23000      1000  Michael\n",
      "3       Python  24000      1200     John\n",
      "4       Pandas  26000      2500      NaN\n"
     ]
    }
   ],
   "source": [
    "# Alternatively you can write above code using axis\n",
    "df2=df.rename({'Courses':'Courses_List'}, axis=1)\n",
    "print(df2)\n",
    "df2=df.rename({'Courses':'Courses_List'}, axis='columns')\n",
    "print(\"---------\",df2)"
   ]
  },
  {
   "cell_type": "code",
   "execution_count": 130,
   "id": "65cef02a",
   "metadata": {},
   "outputs": [
    {
     "name": "stdout",
     "output_type": "stream",
     "text": [
      "Index(['Courses_List', 'Fee', 'Discount', 'Tutors'], dtype='object')\n"
     ]
    }
   ],
   "source": [
    "# Replace existing DataFrame (inplace). This returns None.\n",
    "df.rename({'Courses':'Courses_List'}, axis='columns', inplace=True)\n",
    "print(df.columns)"
   ]
  },
  {
   "cell_type": "code",
   "execution_count": 131,
   "id": "be68cf19",
   "metadata": {},
   "outputs": [
    {
     "name": "stdout",
     "output_type": "stream",
     "text": [
      "Index(['Courses_List', 'Fee', 'Courses_Duration', 'Tutors'], dtype='object')\n"
     ]
    }
   ],
   "source": [
    "# Pandas rename column by index\n",
    "df.columns.values[2] = \"Courses_Duration\"\n",
    "print(df.columns)"
   ]
  },
  {
   "cell_type": "code",
   "execution_count": 133,
   "id": "cc1ea578",
   "metadata": {},
   "outputs": [
    {
     "data": {
      "text/html": [
       "<div>\n",
       "<style scoped>\n",
       "    .dataframe tbody tr th:only-of-type {\n",
       "        vertical-align: middle;\n",
       "    }\n",
       "\n",
       "    .dataframe tbody tr th {\n",
       "        vertical-align: top;\n",
       "    }\n",
       "\n",
       "    .dataframe thead th {\n",
       "        text-align: right;\n",
       "    }\n",
       "</style>\n",
       "<table border=\"1\" class=\"dataframe\">\n",
       "  <thead>\n",
       "    <tr style=\"text-align: right;\">\n",
       "      <th></th>\n",
       "      <th>Courses_List</th>\n",
       "      <th>Fee</th>\n",
       "      <th>Discount</th>\n",
       "      <th>Tutors</th>\n",
       "    </tr>\n",
       "  </thead>\n",
       "  <tbody>\n",
       "    <tr>\n",
       "      <th>0</th>\n",
       "      <td>Spark</td>\n",
       "      <td>22000</td>\n",
       "      <td>1000</td>\n",
       "      <td>William</td>\n",
       "    </tr>\n",
       "    <tr>\n",
       "      <th>1</th>\n",
       "      <td>PySpark</td>\n",
       "      <td>25000</td>\n",
       "      <td>2300</td>\n",
       "      <td>Henry</td>\n",
       "    </tr>\n",
       "    <tr>\n",
       "      <th>2</th>\n",
       "      <td>Hadoop</td>\n",
       "      <td>23000</td>\n",
       "      <td>1000</td>\n",
       "      <td>Michael</td>\n",
       "    </tr>\n",
       "    <tr>\n",
       "      <th>3</th>\n",
       "      <td>Python</td>\n",
       "      <td>24000</td>\n",
       "      <td>1200</td>\n",
       "      <td>John</td>\n",
       "    </tr>\n",
       "    <tr>\n",
       "      <th>4</th>\n",
       "      <td>Pandas</td>\n",
       "      <td>26000</td>\n",
       "      <td>2500</td>\n",
       "      <td>NaN</td>\n",
       "    </tr>\n",
       "  </tbody>\n",
       "</table>\n",
       "</div>"
      ],
      "text/plain": [
       "  Courses_List    Fee  Discount   Tutors\n",
       "0        Spark  22000      1000  William\n",
       "1      PySpark  25000      2300    Henry\n",
       "2       Hadoop  23000      1000  Michael\n",
       "3       Python  24000      1200     John\n",
       "4       Pandas  26000      2500      NaN"
      ]
     },
     "execution_count": 133,
     "metadata": {},
     "output_type": "execute_result"
    }
   ],
   "source": [
    "df2"
   ]
  },
  {
   "cell_type": "code",
   "execution_count": 134,
   "id": "e7d09a98",
   "metadata": {},
   "outputs": [
    {
     "data": {
      "text/plain": [
       "Index(['col_Courses_List', 'col_Courses_Fee', 'col_Courses_Duration',\n",
       "       'col_Tutors'],\n",
       "      dtype='object')"
      ]
     },
     "execution_count": 134,
     "metadata": {},
     "output_type": "execute_result"
    }
   ],
   "source": [
    "# Rename All Column Names by adding Suffix or Prefix\n",
    "# Rename columns with list\n",
    "column_names = ['Courses_List','Courses_Fee','Courses_Duration','Tutors']\n",
    "df2.columns = column_names\n",
    "df2.columns = ['col_'+str(col) for col in df2.columns]\n",
    "df2.columns "
   ]
  },
  {
   "cell_type": "code",
   "execution_count": 136,
   "id": "f7230de8",
   "metadata": {},
   "outputs": [
    {
     "name": "stdout",
     "output_type": "stream",
     "text": [
      "Index(['col_Courses_List', 'col_Fee', 'col_Courses_Duration', 'col_Tutors'], dtype='object')\n",
      "Index(['Courses_List_col', 'Fee_col', 'Courses_Duration_col', 'Tutors_col'], dtype='object')\n"
     ]
    }
   ],
   "source": [
    "# Add prefix to the column names\n",
    "df2=df.add_prefix('col_')\n",
    "print(df2.columns)\n",
    "\n",
    "# Add suffix to the column names\n",
    "df2=df.add_suffix('_col')\n",
    "print(df2.columns)"
   ]
  },
  {
   "cell_type": "code",
   "execution_count": null,
   "id": "cd1a1d58",
   "metadata": {},
   "outputs": [],
   "source": []
  },
  {
   "cell_type": "code",
   "execution_count": 137,
   "id": "d7db67d6",
   "metadata": {},
   "outputs": [],
   "source": [
    "# Rename using Lambda function\n",
    "df2.rename(columns=lambda x: 'col_'+x, inplace=True)"
   ]
  },
  {
   "cell_type": "code",
   "execution_count": 138,
   "id": "1b1be840",
   "metadata": {},
   "outputs": [
    {
     "data": {
      "text/html": [
       "<div>\n",
       "<style scoped>\n",
       "    .dataframe tbody tr th:only-of-type {\n",
       "        vertical-align: middle;\n",
       "    }\n",
       "\n",
       "    .dataframe tbody tr th {\n",
       "        vertical-align: top;\n",
       "    }\n",
       "\n",
       "    .dataframe thead th {\n",
       "        text-align: right;\n",
       "    }\n",
       "</style>\n",
       "<table border=\"1\" class=\"dataframe\">\n",
       "  <thead>\n",
       "    <tr style=\"text-align: right;\">\n",
       "      <th></th>\n",
       "      <th>col_Courses_List_col</th>\n",
       "      <th>col_Fee_col</th>\n",
       "      <th>col_Courses_Duration_col</th>\n",
       "      <th>col_Tutors_col</th>\n",
       "    </tr>\n",
       "  </thead>\n",
       "  <tbody>\n",
       "    <tr>\n",
       "      <th>0</th>\n",
       "      <td>Spark</td>\n",
       "      <td>22000</td>\n",
       "      <td>1000</td>\n",
       "      <td>William</td>\n",
       "    </tr>\n",
       "    <tr>\n",
       "      <th>1</th>\n",
       "      <td>PySpark</td>\n",
       "      <td>25000</td>\n",
       "      <td>2300</td>\n",
       "      <td>Henry</td>\n",
       "    </tr>\n",
       "    <tr>\n",
       "      <th>2</th>\n",
       "      <td>Hadoop</td>\n",
       "      <td>23000</td>\n",
       "      <td>1000</td>\n",
       "      <td>Michael</td>\n",
       "    </tr>\n",
       "    <tr>\n",
       "      <th>3</th>\n",
       "      <td>Python</td>\n",
       "      <td>24000</td>\n",
       "      <td>1200</td>\n",
       "      <td>John</td>\n",
       "    </tr>\n",
       "    <tr>\n",
       "      <th>4</th>\n",
       "      <td>Pandas</td>\n",
       "      <td>26000</td>\n",
       "      <td>2500</td>\n",
       "      <td>NaN</td>\n",
       "    </tr>\n",
       "  </tbody>\n",
       "</table>\n",
       "</div>"
      ],
      "text/plain": [
       "  col_Courses_List_col  col_Fee_col  col_Courses_Duration_col col_Tutors_col\n",
       "0                Spark        22000                      1000        William\n",
       "1              PySpark        25000                      2300          Henry\n",
       "2               Hadoop        23000                      1000        Michael\n",
       "3               Python        24000                      1200           John\n",
       "4               Pandas        26000                      2500            NaN"
      ]
     },
     "execution_count": 138,
     "metadata": {},
     "output_type": "execute_result"
    }
   ],
   "source": [
    "df2"
   ]
  },
  {
   "cell_type": "code",
   "execution_count": 139,
   "id": "3d1b8259",
   "metadata": {},
   "outputs": [
    {
     "name": "stdout",
     "output_type": "stream",
     "text": [
      "Index(['courses', 'fee', 'discount'], dtype='object')\n",
      "Index(['COURSES', 'FEE', 'DISCOUNT'], dtype='object')\n"
     ]
    }
   ],
   "source": [
    "# Change to all lower case\n",
    "df = pd.DataFrame(technologies)\n",
    "df2=df.rename(str.lower, axis='columns')\n",
    "print(df2.columns)\n",
    "\n",
    "# Change to all upper case\n",
    "df = pd.DataFrame(technologies)\n",
    "df2=df.rename(str.upper, axis='columns')\n",
    "print(df2.columns)"
   ]
  },
  {
   "cell_type": "code",
   "execution_count": 140,
   "id": "a4eee0e3",
   "metadata": {},
   "outputs": [
    {
     "name": "stdout",
     "output_type": "stream",
     "text": [
      "Index(['Courses_List', 'Course_Fee', 'Course_Duration'], dtype='object')\n"
     ]
    }
   ],
   "source": [
    "# Change column name using set_axis()\n",
    "df.set_axis(['Courses_List', 'Course_Fee', 'Course_Duration'], axis=1, inplace=True)\n",
    "print(df.columns)"
   ]
  },
  {
   "cell_type": "code",
   "execution_count": 141,
   "id": "d0ba7967",
   "metadata": {},
   "outputs": [
    {
     "name": "stdout",
     "output_type": "stream",
     "text": [
      "Index(['Courses_List', 'Course_Courses_Fee', 'Course_Duration'], dtype='object')\n"
     ]
    }
   ],
   "source": [
    "# Change column name using String.replace()\n",
    "df.columns = df.columns.str.replace(\"Fee\",\"Courses_Fee\")\n",
    "print(df.columns)"
   ]
  },
  {
   "cell_type": "code",
   "execution_count": 142,
   "id": "6d5a3a9b",
   "metadata": {},
   "outputs": [
    {
     "name": "stdout",
     "output_type": "stream",
     "text": [
      "Index(['Courses List', 'Course Courses Fee', 'Course Duration'], dtype='object')\n"
     ]
    }
   ],
   "source": [
    "# Rename all column names\n",
    "df.columns = df.columns.str.replace(\"_\",\" \")\n",
    "print(df.columns)"
   ]
  },
  {
   "cell_type": "code",
   "execution_count": 144,
   "id": "d7a46dca",
   "metadata": {},
   "outputs": [
    {
     "data": {
      "text/html": [
       "<div>\n",
       "<style scoped>\n",
       "    .dataframe tbody tr th:only-of-type {\n",
       "        vertical-align: middle;\n",
       "    }\n",
       "\n",
       "    .dataframe tbody tr th {\n",
       "        vertical-align: top;\n",
       "    }\n",
       "\n",
       "    .dataframe thead th {\n",
       "        text-align: right;\n",
       "    }\n",
       "</style>\n",
       "<table border=\"1\" class=\"dataframe\">\n",
       "  <thead>\n",
       "    <tr style=\"text-align: right;\">\n",
       "      <th></th>\n",
       "      <th>Courses_List</th>\n",
       "      <th>Course Courses Fee</th>\n",
       "      <th>Course Duration</th>\n",
       "    </tr>\n",
       "  </thead>\n",
       "  <tbody>\n",
       "    <tr>\n",
       "      <th>0</th>\n",
       "      <td>Spark</td>\n",
       "      <td>22000</td>\n",
       "      <td>1000</td>\n",
       "    </tr>\n",
       "    <tr>\n",
       "      <th>1</th>\n",
       "      <td>PySpark</td>\n",
       "      <td>25000</td>\n",
       "      <td>2300</td>\n",
       "    </tr>\n",
       "    <tr>\n",
       "      <th>2</th>\n",
       "      <td>Hadoop</td>\n",
       "      <td>23000</td>\n",
       "      <td>1000</td>\n",
       "    </tr>\n",
       "    <tr>\n",
       "      <th>3</th>\n",
       "      <td>Python</td>\n",
       "      <td>24000</td>\n",
       "      <td>1200</td>\n",
       "    </tr>\n",
       "    <tr>\n",
       "      <th>4</th>\n",
       "      <td>Pandas</td>\n",
       "      <td>26000</td>\n",
       "      <td>2500</td>\n",
       "    </tr>\n",
       "  </tbody>\n",
       "</table>\n",
       "</div>"
      ],
      "text/plain": [
       "  Courses_List  Course Courses Fee  Course Duration\n",
       "0        Spark               22000             1000\n",
       "1      PySpark               25000             2300\n",
       "2       Hadoop               23000             1000\n",
       "3       Python               24000             1200\n",
       "4       Pandas               26000             2500"
      ]
     },
     "execution_count": 144,
     "metadata": {},
     "output_type": "execute_result"
    }
   ],
   "source": [
    "# Throw Error when Rename column doesn't exists.\n",
    "df.rename(columns = {'Courses List':'Courses_List'}, errors = \"raise\")\n",
    "\n",
    "# ## Output:\n",
    "# raise KeyError(\"{} not found in axis\".format(missing_labels))\n",
    "# KeyError: \"['Cour'] not found in axis\""
   ]
  },
  {
   "cell_type": "code",
   "execution_count": 161,
   "id": "e6204be1",
   "metadata": {},
   "outputs": [
    {
     "name": "stdout",
     "output_type": "stream",
     "text": [
      "    Courses    Fee Duration  Discount\n",
      "r1    Spark  20000    30day      1000\n",
      "r2  PySpark  25000   40days      2300\n",
      "r3   Hadoop  26000      NaN      1500\n",
      "r4   Python  22000     None      1200\n"
     ]
    }
   ],
   "source": [
    "\n",
    "# Create a DataFrame\n",
    "import pandas as pd\n",
    "import numpy as np\n",
    "\n",
    "technologies = {\n",
    "    'Courses':[\"Spark\",\"PySpark\",\"Hadoop\",\"Python\"],\n",
    "    'Fee' :[20000,25000,26000,22000],\n",
    "    'Duration':['30day','40days',np.nan, None],\n",
    "    'Discount':[1000,2300,1500,1200]\n",
    "               }\n",
    "\n",
    "indexes=['r1','r2','r3','r4']\n",
    "df = pd.DataFrame(technologies,index=indexes)\n",
    "print(df)"
   ]
  },
  {
   "cell_type": "code",
   "execution_count": null,
   "id": "2a21a169",
   "metadata": {},
   "outputs": [],
   "source": [
    "# #Pandas.DataFrame.drop() Syntax – Drop Rows & Columns\n",
    "\n",
    "# # Pandas DaraFrame drop() Syntax\n",
    "# DataFrame.drop(labels=None, axis=0, index=None, columns=None, level=None, inpl"
   ]
  },
  {
   "cell_type": "code",
   "execution_count": 146,
   "id": "ac4ae11d",
   "metadata": {},
   "outputs": [
    {
     "data": {
      "text/html": [
       "<div>\n",
       "<style scoped>\n",
       "    .dataframe tbody tr th:only-of-type {\n",
       "        vertical-align: middle;\n",
       "    }\n",
       "\n",
       "    .dataframe tbody tr th {\n",
       "        vertical-align: top;\n",
       "    }\n",
       "\n",
       "    .dataframe thead th {\n",
       "        text-align: right;\n",
       "    }\n",
       "</style>\n",
       "<table border=\"1\" class=\"dataframe\">\n",
       "  <thead>\n",
       "    <tr style=\"text-align: right;\">\n",
       "      <th></th>\n",
       "      <th>Courses</th>\n",
       "      <th>Fee</th>\n",
       "      <th>Duration</th>\n",
       "      <th>Discount</th>\n",
       "    </tr>\n",
       "  </thead>\n",
       "  <tbody>\n",
       "    <tr>\n",
       "      <th>r3</th>\n",
       "      <td>Hadoop</td>\n",
       "      <td>26000</td>\n",
       "      <td>NaN</td>\n",
       "      <td>1500</td>\n",
       "    </tr>\n",
       "    <tr>\n",
       "      <th>r4</th>\n",
       "      <td>Python</td>\n",
       "      <td>22000</td>\n",
       "      <td>None</td>\n",
       "      <td>1200</td>\n",
       "    </tr>\n",
       "  </tbody>\n",
       "</table>\n",
       "</div>"
      ],
      "text/plain": [
       "   Courses    Fee Duration  Discount\n",
       "r3  Hadoop  26000      NaN      1500\n",
       "r4  Python  22000     None      1200"
      ]
     },
     "execution_count": 146,
     "metadata": {},
     "output_type": "execute_result"
    }
   ],
   "source": [
    "# Delete Rows by Index Labels & axis\n",
    "df1 = df.drop(labels=['r1','r2'])\n",
    "df1 = df.drop(labels=['r1','r2'],axis=0)\n",
    "\n",
    "df1"
   ]
  },
  {
   "cell_type": "code",
   "execution_count": 147,
   "id": "bf658369",
   "metadata": {},
   "outputs": [
    {
     "name": "stdout",
     "output_type": "stream",
     "text": [
      "   Courses    Fee Duration  Discount\n",
      "r1   Spark  20000    30day      1000\n",
      "r3  Hadoop  26000      NaN      1500\n"
     ]
    }
   ],
   "source": [
    "# Delete Rows by Index numbers\n",
    "df = pd.DataFrame(technologies,index=indexes)\n",
    "df1=df.drop(df.index[[1,3]])\n",
    "print(df1)"
   ]
  },
  {
   "cell_type": "code",
   "execution_count": 149,
   "id": "460801e8",
   "metadata": {},
   "outputs": [
    {
     "data": {
      "text/html": [
       "<div>\n",
       "<style scoped>\n",
       "    .dataframe tbody tr th:only-of-type {\n",
       "        vertical-align: middle;\n",
       "    }\n",
       "\n",
       "    .dataframe tbody tr th {\n",
       "        vertical-align: top;\n",
       "    }\n",
       "\n",
       "    .dataframe thead th {\n",
       "        text-align: right;\n",
       "    }\n",
       "</style>\n",
       "<table border=\"1\" class=\"dataframe\">\n",
       "  <thead>\n",
       "    <tr style=\"text-align: right;\">\n",
       "      <th></th>\n",
       "      <th>Courses</th>\n",
       "      <th>Fee</th>\n",
       "      <th>Duration</th>\n",
       "      <th>Discount</th>\n",
       "    </tr>\n",
       "  </thead>\n",
       "  <tbody>\n",
       "  </tbody>\n",
       "</table>\n",
       "</div>"
      ],
      "text/plain": [
       "Empty DataFrame\n",
       "Columns: [Courses, Fee, Duration, Discount]\n",
       "Index: []"
      ]
     },
     "execution_count": 149,
     "metadata": {},
     "output_type": "execute_result"
    }
   ],
   "source": [
    "# Removes First Row\n",
    "df=df.drop(df.index[0])\n",
    "\n",
    "# Removes Last Row\n",
    "df=df.drop(df.index[-1])\n",
    "df"
   ]
  },
  {
   "cell_type": "code",
   "execution_count": 150,
   "id": "74dcee3a",
   "metadata": {},
   "outputs": [
    {
     "data": {
      "text/html": [
       "<div>\n",
       "<style scoped>\n",
       "    .dataframe tbody tr th:only-of-type {\n",
       "        vertical-align: middle;\n",
       "    }\n",
       "\n",
       "    .dataframe tbody tr th {\n",
       "        vertical-align: top;\n",
       "    }\n",
       "\n",
       "    .dataframe thead th {\n",
       "        text-align: right;\n",
       "    }\n",
       "</style>\n",
       "<table border=\"1\" class=\"dataframe\">\n",
       "  <thead>\n",
       "    <tr style=\"text-align: right;\">\n",
       "      <th></th>\n",
       "      <th>Courses</th>\n",
       "      <th>Fee</th>\n",
       "      <th>Duration</th>\n",
       "      <th>Discount</th>\n",
       "    </tr>\n",
       "  </thead>\n",
       "  <tbody>\n",
       "    <tr>\n",
       "      <th>r1</th>\n",
       "      <td>Spark</td>\n",
       "      <td>20000</td>\n",
       "      <td>30day</td>\n",
       "      <td>1000</td>\n",
       "    </tr>\n",
       "    <tr>\n",
       "      <th>r2</th>\n",
       "      <td>PySpark</td>\n",
       "      <td>25000</td>\n",
       "      <td>40days</td>\n",
       "      <td>2300</td>\n",
       "    </tr>\n",
       "    <tr>\n",
       "      <th>r3</th>\n",
       "      <td>Hadoop</td>\n",
       "      <td>26000</td>\n",
       "      <td>NaN</td>\n",
       "      <td>1500</td>\n",
       "    </tr>\n",
       "    <tr>\n",
       "      <th>r4</th>\n",
       "      <td>Python</td>\n",
       "      <td>22000</td>\n",
       "      <td>None</td>\n",
       "      <td>1200</td>\n",
       "    </tr>\n",
       "  </tbody>\n",
       "</table>\n",
       "</div>"
      ],
      "text/plain": [
       "    Courses    Fee Duration  Discount\n",
       "r1    Spark  20000    30day      1000\n",
       "r2  PySpark  25000   40days      2300\n",
       "r3   Hadoop  26000      NaN      1500\n",
       "r4   Python  22000     None      1200"
      ]
     },
     "execution_count": 150,
     "metadata": {},
     "output_type": "execute_result"
    }
   ],
   "source": [
    "df = pd.DataFrame(technologies,index=indexes)\n",
    "df"
   ]
  },
  {
   "cell_type": "code",
   "execution_count": null,
   "id": "2d5fccdf",
   "metadata": {},
   "outputs": [],
   "source": [
    "# Remove rows when you have default index.\n",
    "df = pd.DataFrame(technologies)\n",
    "df1 = df.drop(0)\n",
    "df3 = df.drop([0, 3])\n",
    "df4 = df.drop(range(0,2))"
   ]
  },
  {
   "cell_type": "code",
   "execution_count": 151,
   "id": "232b780f",
   "metadata": {},
   "outputs": [
    {
     "name": "stdout",
     "output_type": "stream",
     "text": [
      "    Courses    Fee Duration  Discount\n",
      "r1    Spark  20000    30day      1000\n",
      "r2  PySpark  25000   40days      2300\n"
     ]
    }
   ],
   "source": [
    "df2=df.dropna()\n",
    "print(df2)"
   ]
  },
  {
   "cell_type": "code",
   "execution_count": null,
   "id": "34b1737b",
   "metadata": {},
   "outputs": [],
   "source": [
    "df"
   ]
  },
  {
   "cell_type": "code",
   "execution_count": 153,
   "id": "241d6cab",
   "metadata": {},
   "outputs": [
    {
     "data": {
      "text/html": [
       "<div>\n",
       "<style scoped>\n",
       "    .dataframe tbody tr th:only-of-type {\n",
       "        vertical-align: middle;\n",
       "    }\n",
       "\n",
       "    .dataframe tbody tr th {\n",
       "        vertical-align: top;\n",
       "    }\n",
       "\n",
       "    .dataframe thead th {\n",
       "        text-align: right;\n",
       "    }\n",
       "</style>\n",
       "<table border=\"1\" class=\"dataframe\">\n",
       "  <thead>\n",
       "    <tr style=\"text-align: right;\">\n",
       "      <th></th>\n",
       "      <th>Courses</th>\n",
       "      <th>Fee</th>\n",
       "      <th>Duration</th>\n",
       "      <th>Discount</th>\n",
       "    </tr>\n",
       "  </thead>\n",
       "  <tbody>\n",
       "    <tr>\n",
       "      <th>r1</th>\n",
       "      <td>Spark</td>\n",
       "      <td>20000</td>\n",
       "      <td>30day</td>\n",
       "      <td>1000</td>\n",
       "    </tr>\n",
       "    <tr>\n",
       "      <th>r2</th>\n",
       "      <td>PySpark</td>\n",
       "      <td>25000</td>\n",
       "      <td>40days</td>\n",
       "      <td>2300</td>\n",
       "    </tr>\n",
       "    <tr>\n",
       "      <th>r3</th>\n",
       "      <td>Hadoop</td>\n",
       "      <td>26000</td>\n",
       "      <td>NaN</td>\n",
       "      <td>1500</td>\n",
       "    </tr>\n",
       "    <tr>\n",
       "      <th>r4</th>\n",
       "      <td>Python</td>\n",
       "      <td>22000</td>\n",
       "      <td>None</td>\n",
       "      <td>1200</td>\n",
       "    </tr>\n",
       "  </tbody>\n",
       "</table>\n",
       "</div>"
      ],
      "text/plain": [
       "    Courses    Fee Duration  Discount\n",
       "r1    Spark  20000    30day      1000\n",
       "r2  PySpark  25000   40days      2300\n",
       "r3   Hadoop  26000      NaN      1500\n",
       "r4   Python  22000     None      1200"
      ]
     },
     "execution_count": 153,
     "metadata": {},
     "output_type": "execute_result"
    }
   ],
   "source": [
    "df2 = df.drop_duplicates()\n",
    "df2"
   ]
  },
  {
   "cell_type": "code",
   "execution_count": 162,
   "id": "03dd9d58",
   "metadata": {},
   "outputs": [
    {
     "data": {
      "text/html": [
       "<div>\n",
       "<style scoped>\n",
       "    .dataframe tbody tr th:only-of-type {\n",
       "        vertical-align: middle;\n",
       "    }\n",
       "\n",
       "    .dataframe tbody tr th {\n",
       "        vertical-align: top;\n",
       "    }\n",
       "\n",
       "    .dataframe thead th {\n",
       "        text-align: right;\n",
       "    }\n",
       "</style>\n",
       "<table border=\"1\" class=\"dataframe\">\n",
       "  <thead>\n",
       "    <tr style=\"text-align: right;\">\n",
       "      <th></th>\n",
       "      <th>Courses</th>\n",
       "      <th>Fee</th>\n",
       "      <th>Duration</th>\n",
       "      <th>Discount</th>\n",
       "    </tr>\n",
       "  </thead>\n",
       "  <tbody>\n",
       "    <tr>\n",
       "      <th>r1</th>\n",
       "      <td>Spark</td>\n",
       "      <td>20000</td>\n",
       "      <td>30day</td>\n",
       "      <td>1000</td>\n",
       "    </tr>\n",
       "    <tr>\n",
       "      <th>r2</th>\n",
       "      <td>PySpark</td>\n",
       "      <td>25000</td>\n",
       "      <td>40days</td>\n",
       "      <td>2300</td>\n",
       "    </tr>\n",
       "    <tr>\n",
       "      <th>r3</th>\n",
       "      <td>Hadoop</td>\n",
       "      <td>26000</td>\n",
       "      <td>NaN</td>\n",
       "      <td>1500</td>\n",
       "    </tr>\n",
       "    <tr>\n",
       "      <th>r4</th>\n",
       "      <td>Python</td>\n",
       "      <td>22000</td>\n",
       "      <td>None</td>\n",
       "      <td>1200</td>\n",
       "    </tr>\n",
       "  </tbody>\n",
       "</table>\n",
       "</div>"
      ],
      "text/plain": [
       "    Courses    Fee Duration  Discount\n",
       "r1    Spark  20000    30day      1000\n",
       "r2  PySpark  25000   40days      2300\n",
       "r3   Hadoop  26000      NaN      1500\n",
       "r4   Python  22000     None      1200"
      ]
     },
     "execution_count": 162,
     "metadata": {},
     "output_type": "execute_result"
    }
   ],
   "source": [
    "df"
   ]
  },
  {
   "cell_type": "code",
   "execution_count": 163,
   "id": "adb26a70",
   "metadata": {},
   "outputs": [
    {
     "data": {
      "text/html": [
       "<div>\n",
       "<style scoped>\n",
       "    .dataframe tbody tr th:only-of-type {\n",
       "        vertical-align: middle;\n",
       "    }\n",
       "\n",
       "    .dataframe tbody tr th {\n",
       "        vertical-align: top;\n",
       "    }\n",
       "\n",
       "    .dataframe thead th {\n",
       "        text-align: right;\n",
       "    }\n",
       "</style>\n",
       "<table border=\"1\" class=\"dataframe\">\n",
       "  <thead>\n",
       "    <tr style=\"text-align: right;\">\n",
       "      <th></th>\n",
       "      <th>Courses</th>\n",
       "      <th>Duration</th>\n",
       "      <th>Discount</th>\n",
       "    </tr>\n",
       "  </thead>\n",
       "  <tbody>\n",
       "    <tr>\n",
       "      <th>r1</th>\n",
       "      <td>Spark</td>\n",
       "      <td>30day</td>\n",
       "      <td>1000</td>\n",
       "    </tr>\n",
       "    <tr>\n",
       "      <th>r2</th>\n",
       "      <td>PySpark</td>\n",
       "      <td>40days</td>\n",
       "      <td>2300</td>\n",
       "    </tr>\n",
       "    <tr>\n",
       "      <th>r3</th>\n",
       "      <td>Hadoop</td>\n",
       "      <td>NaN</td>\n",
       "      <td>1500</td>\n",
       "    </tr>\n",
       "    <tr>\n",
       "      <th>r4</th>\n",
       "      <td>Python</td>\n",
       "      <td>None</td>\n",
       "      <td>1200</td>\n",
       "    </tr>\n",
       "  </tbody>\n",
       "</table>\n",
       "</div>"
      ],
      "text/plain": [
       "    Courses Duration  Discount\n",
       "r1    Spark    30day      1000\n",
       "r2  PySpark   40days      2300\n",
       "r3   Hadoop      NaN      1500\n",
       "r4   Python     None      1200"
      ]
     },
     "execution_count": 163,
     "metadata": {},
     "output_type": "execute_result"
    }
   ],
   "source": [
    "# Quick examples of drop columns\n",
    "\n",
    "# Drop single column by Name\n",
    "df2=df.drop([\"Fee\"], axis = 1)\n",
    "df2=df.drop(columns=[\"Fee\"], axis = 1)\n",
    "df2=df.drop(labels=[\"Fee\"], axis = 1)\n",
    "\n",
    "# Drop single column by Index\n",
    "df2=df.drop(df.columns[1], axis = 1)\n",
    "\n",
    "# Updates the DataFrame in place\n",
    "df.drop(df.columns[1], axis = 1, inplace=True)\n",
    "\n",
    "df"
   ]
  },
  {
   "cell_type": "code",
   "execution_count": null,
   "id": "0b520939",
   "metadata": {},
   "outputs": [],
   "source": [
    "# Drop multiple columns\n",
    "df.drop([\"Courses\", \"Fee\"], axis = 1, inplace=True)\n",
    "df.drop(df.columns[[1,2]], axis = 1, inplace=True)\n",
    "\n",
    "# Other ways to drop columns\n",
    "df.drop(df.loc[:, 'Courses':'Fee'].columns, axis = 1, inplace=True)\n",
    "df.drop(df.iloc[:, 1:2], axis=1, inplace=True)"
   ]
  },
  {
   "cell_type": "raw",
   "id": "e74bf97f",
   "metadata": {},
   "source": [
    "#Different Ways to Change Data Type in Pandas\n",
    "\n",
    "Key Points–\n",
    "\n",
    "Applying the .astype() method to convert data types directly, specifying the desired dtype.\n",
    "Utilizing the .to_numeric() function to coerce object types into numeric types, with options for handling errors and coercing strings.\n",
    "Using the infer_objects() method to automatically infer and convert data types.\n",
    "Employing the as_type() method to convert data types with specific parameters like nullable integers.\n",
    "Utilizing custom functions or mapping techniques for more complex type conversions"
   ]
  },
  {
   "cell_type": "code",
   "execution_count": 167,
   "id": "1628e372",
   "metadata": {},
   "outputs": [
    {
     "data": {
      "text/html": [
       "<div>\n",
       "<style scoped>\n",
       "    .dataframe tbody tr th:only-of-type {\n",
       "        vertical-align: middle;\n",
       "    }\n",
       "\n",
       "    .dataframe tbody tr th {\n",
       "        vertical-align: top;\n",
       "    }\n",
       "\n",
       "    .dataframe thead th {\n",
       "        text-align: right;\n",
       "    }\n",
       "</style>\n",
       "<table border=\"1\" class=\"dataframe\">\n",
       "  <thead>\n",
       "    <tr style=\"text-align: right;\">\n",
       "      <th></th>\n",
       "      <th>Courses</th>\n",
       "      <th>Fee</th>\n",
       "      <th>Duration</th>\n",
       "      <th>Discount</th>\n",
       "    </tr>\n",
       "  </thead>\n",
       "  <tbody>\n",
       "    <tr>\n",
       "      <th>0</th>\n",
       "      <td>Spark</td>\n",
       "      <td>20000</td>\n",
       "      <td>30day</td>\n",
       "      <td>1000</td>\n",
       "    </tr>\n",
       "    <tr>\n",
       "      <th>1</th>\n",
       "      <td>PySpark</td>\n",
       "      <td>25000</td>\n",
       "      <td>40days</td>\n",
       "      <td>2300</td>\n",
       "    </tr>\n",
       "    <tr>\n",
       "      <th>2</th>\n",
       "      <td>Hadoop</td>\n",
       "      <td>26000</td>\n",
       "      <td>NaN</td>\n",
       "      <td>1500</td>\n",
       "    </tr>\n",
       "    <tr>\n",
       "      <th>3</th>\n",
       "      <td>Python</td>\n",
       "      <td>22000</td>\n",
       "      <td>None</td>\n",
       "      <td>1200</td>\n",
       "    </tr>\n",
       "  </tbody>\n",
       "</table>\n",
       "</div>"
      ],
      "text/plain": [
       "   Courses    Fee Duration  Discount\n",
       "0    Spark  20000    30day      1000\n",
       "1  PySpark  25000   40days      2300\n",
       "2   Hadoop  26000      NaN      1500\n",
       "3   Python  22000     None      1200"
      ]
     },
     "execution_count": 167,
     "metadata": {},
     "output_type": "execute_result"
    }
   ],
   "source": [
    "df = pd.DataFrame(technologies)\n",
    "df"
   ]
  },
  {
   "cell_type": "code",
   "execution_count": 164,
   "id": "08c8264b",
   "metadata": {},
   "outputs": [
    {
     "name": "stdout",
     "output_type": "stream",
     "text": [
      "Courses     object\n",
      "Duration    object\n",
      "Discount     int64\n",
      "dtype: object\n"
     ]
    }
   ],
   "source": [
    "print(df2.dtypes)"
   ]
  },
  {
   "cell_type": "code",
   "execution_count": 176,
   "id": "59489931",
   "metadata": {},
   "outputs": [
    {
     "name": "stdout",
     "output_type": "stream",
     "text": [
      "Courses     string\n",
      "Fee         string\n",
      "Duration    string\n",
      "Discount    string\n",
      "dtype: object\n",
      "Courses     object\n",
      "Fee         object\n",
      "Duration    object\n",
      "Discount    object\n",
      "dtype: object\n"
     ]
    }
   ],
   "source": [
    "# Quick examples of converting data types \n",
    "\n",
    "# Example 1: Convert all types to best possible types\n",
    "df2=df.convert_dtypes()\n",
    "print(df2.dtypes)\n",
    "\n",
    "# Example 2: Change All Columns to Same type\n",
    "df = df.astype(str)\n",
    "print(df.dtypes)\n",
    "\n"
   ]
  },
  {
   "cell_type": "code",
   "execution_count": 177,
   "id": "f0b43ad0",
   "metadata": {},
   "outputs": [
    {
     "name": "stdout",
     "output_type": "stream",
     "text": [
      "Courses      object\n",
      "Fee           int32\n",
      "Duration     object\n",
      "Discount    float64\n",
      "dtype: object\n"
     ]
    }
   ],
   "source": [
    "# Example 3: Change Type For One or Multiple Columns\n",
    "df = df.astype({\"Fee\": int, \"Discount\": float})\n",
    "print(df.dtypes)\n"
   ]
  },
  {
   "cell_type": "code",
   "execution_count": 178,
   "id": "3149aed3",
   "metadata": {},
   "outputs": [
    {
     "name": "stdout",
     "output_type": "stream",
     "text": [
      "Courses      object\n",
      "Fee           int32\n",
      "Duration     object\n",
      "Discount    float64\n",
      "dtype: object\n"
     ]
    }
   ],
   "source": [
    "# Example 4: Ignore errors\n",
    "df = df.astype({\"Courses\": int},errors='ignore')\n",
    "print(df.dtypes)"
   ]
  },
  {
   "cell_type": "code",
   "execution_count": 179,
   "id": "c6088502",
   "metadata": {},
   "outputs": [
    {
     "name": "stdout",
     "output_type": "stream",
     "text": [
      "Courses      object\n",
      "Fee           int32\n",
      "Duration     object\n",
      "Discount    float64\n",
      "dtype: object\n"
     ]
    }
   ],
   "source": [
    "# Example 5: Converts object types to possible types\n",
    "df = df.infer_objects()\n",
    "print(df.dtypes)"
   ]
  },
  {
   "cell_type": "code",
   "execution_count": 180,
   "id": "110d74d5",
   "metadata": {},
   "outputs": [
    {
     "name": "stdout",
     "output_type": "stream",
     "text": [
      "Courses      object\n",
      "Fee           int32\n",
      "Duration     object\n",
      "Discount    float64\n",
      "dtype: object\n",
      "Courses      object\n",
      "Fee           int32\n",
      "Duration     object\n",
      "Discount    float64\n",
      "dtype: object\n"
     ]
    }
   ],
   "source": [
    "\n",
    "\n",
    "\n",
    "\n",
    "\n",
    "# Example 6: Converts fee column to numeric type\n",
    "df['Fee'] = pd.to_numeric(df['Fee'])\n",
    "print(df.dtypes)\n",
    "\n",
    "# Example 7: Convert Fee and Discount to numeric types\n",
    "df[['Fee', 'Discount']] =df [['Fee', 'Discount']].apply(pd.to_numeric)\n",
    "print(df.dtypes)"
   ]
  },
  {
   "cell_type": "code",
   "execution_count": 181,
   "id": "d9cb7da7",
   "metadata": {},
   "outputs": [
    {
     "name": "stdout",
     "output_type": "stream",
     "text": [
      "Courses     string\n",
      "Fee          Int32\n",
      "Duration    string\n",
      "Discount     Int64\n",
      "dtype: object\n"
     ]
    }
   ],
   "source": [
    "#DataFrame.convert_dtypes() to Convert Data Type in Pandas\n",
    "\n",
    "# Convert all types to best possible types\n",
    "df2=df.convert_dtypes()\n",
    "print(df2.dtypes)"
   ]
  },
  {
   "cell_type": "code",
   "execution_count": 182,
   "id": "e5c1c16f",
   "metadata": {},
   "outputs": [
    {
     "data": {
      "text/html": [
       "<div>\n",
       "<style scoped>\n",
       "    .dataframe tbody tr th:only-of-type {\n",
       "        vertical-align: middle;\n",
       "    }\n",
       "\n",
       "    .dataframe tbody tr th {\n",
       "        vertical-align: top;\n",
       "    }\n",
       "\n",
       "    .dataframe thead th {\n",
       "        text-align: right;\n",
       "    }\n",
       "</style>\n",
       "<table border=\"1\" class=\"dataframe\">\n",
       "  <thead>\n",
       "    <tr style=\"text-align: right;\">\n",
       "      <th></th>\n",
       "      <th>Fee</th>\n",
       "      <th>Discount</th>\n",
       "    </tr>\n",
       "  </thead>\n",
       "  <tbody>\n",
       "    <tr>\n",
       "      <th>0</th>\n",
       "      <td>20000.0</td>\n",
       "      <td>1000.0</td>\n",
       "    </tr>\n",
       "    <tr>\n",
       "      <th>1</th>\n",
       "      <td>25000.0</td>\n",
       "      <td>2300.0</td>\n",
       "    </tr>\n",
       "    <tr>\n",
       "      <th>2</th>\n",
       "      <td>26000.0</td>\n",
       "      <td>1500.0</td>\n",
       "    </tr>\n",
       "    <tr>\n",
       "      <th>3</th>\n",
       "      <td>22000.0</td>\n",
       "      <td>1200.0</td>\n",
       "    </tr>\n",
       "  </tbody>\n",
       "</table>\n",
       "</div>"
      ],
      "text/plain": [
       "       Fee  Discount\n",
       "0  20000.0    1000.0\n",
       "1  25000.0    2300.0\n",
       "2  26000.0    1500.0\n",
       "3  22000.0    1200.0"
      ]
     },
     "execution_count": 182,
     "metadata": {},
     "output_type": "execute_result"
    }
   ],
   "source": [
    "# By using a loop\n",
    "for col in ['Fee', 'Discount']:\n",
    "    df[col] = df[col].astype('float')\n",
    "\n",
    "# By using apply() & astype() together\n",
    "df[['Fee', 'Discount']].apply(lambda x: x.astype('float'))"
   ]
  },
  {
   "cell_type": "raw",
   "id": "b2802f87",
   "metadata": {},
   "source": [
    "# Pandas Get the Number of Rows\n",
    "\n",
    "You can get the number of rows in Pandas DataFrame using len(df.index) and df.shape[0] properties. Pandas allow us to get the shape of the DataFrame by counting the number of rows in the DataFrame.\n",
    "\n",
    "DataFrame.shape property returns the rows and columns, for rows get it from the first index which is zero; like df.shape[0] and for columns count, you can get it from df.shape[1]. Alternatively, to find the number of rows that exist in a DataFrame, you can use DataFrame.count() method, but this is not recommended approach due to performance issues."
   ]
  },
  {
   "cell_type": "code",
   "execution_count": 183,
   "id": "e0ca5870",
   "metadata": {},
   "outputs": [
    {
     "data": {
      "text/plain": [
       "4"
      ]
     },
     "execution_count": 183,
     "metadata": {},
     "output_type": "execute_result"
    }
   ],
   "source": [
    "# Quick examples of get the number of rows\n",
    "\n",
    "# Example 1: Get the row count \n",
    "# Using len(df.index)\n",
    "rows_count = len(df.index)\n",
    "\n",
    "# Example 2: Get count of rows \n",
    "# Using len(df.axes[])\n",
    "rows_count = len(df.axes[0])\n",
    "\n",
    "# Example 3:Get count of rows \n",
    "# Using df.shape[0]\n",
    "rows_count = df.shape[0]\n",
    "\n",
    "# Example 4: Get count of rows\n",
    "# Using count()\n",
    "rows_count = df.count()[0]\n",
    "rows_count"
   ]
  },
  {
   "cell_type": "code",
   "execution_count": 187,
   "id": "5a950d16",
   "metadata": {},
   "outputs": [
    {
     "name": "stdout",
     "output_type": "stream",
     "text": [
      "4 4\n"
     ]
    }
   ],
   "source": [
    "# Get row count using df.shape[0]\n",
    "df = pd.DataFrame(technologies)\n",
    "row_count = df.shape[0]  # Returns number of rows\n",
    "col_count = df.shape[1]  # Returns number of columns\n",
    "print(row_count, col_count)"
   ]
  },
  {
   "cell_type": "code",
   "execution_count": 188,
   "id": "c87c82e3",
   "metadata": {},
   "outputs": [
    {
     "name": "stdout",
     "output_type": "stream",
     "text": [
      "Courses     4\n",
      "Fee         4\n",
      "Duration    2\n",
      "Discount    4\n",
      "dtype: int64\n"
     ]
    }
   ],
   "source": [
    "# Get count of each column\n",
    "print(df.count())"
   ]
  },
  {
   "cell_type": "code",
   "execution_count": 190,
   "id": "60287274",
   "metadata": {},
   "outputs": [
    {
     "name": "stdout",
     "output_type": "stream",
     "text": [
      "Number of Rows count is: 4\n"
     ]
    }
   ],
   "source": [
    "\n",
    "# Get count of rows using count()\n",
    "rows_count = df.count()[0]\n",
    "rows_count  = df[df.columns[0]].count()\n",
    "print('Number of Rows count is:', rows_count )"
   ]
  },
  {
   "cell_type": "raw",
   "id": "686c8b14",
   "metadata": {},
   "source": [
    "# Pandas Iterate Over Rows with Examples\n",
    "\n",
    "Like any other data structure, Pandas DataFrame also has a way to iterate (loop through row by row) over rows and access columns/elements of each row. DataFrame provides methods iterrows(), itertuples() to iterate over each Row."
   ]
  },
  {
   "cell_type": "code",
   "execution_count": 191,
   "id": "ec0862ea",
   "metadata": {},
   "outputs": [
    {
     "name": "stdout",
     "output_type": "stream",
     "text": [
      "After iterating all rows:\n",
      "\n",
      "0 20000 Spark 30day\n",
      "1 25000 PySpark 40days\n",
      "2 26000 Hadoop nan\n",
      "3 22000 Python None\n"
     ]
    }
   ],
   "source": [
    "# Iterate all rows using DataFrame.iterrows()\n",
    "print(\"After iterating all rows:\\n\")\n",
    "for index, row in df.iterrows():\n",
    "    print (index,row[\"Fee\"], row[\"Courses\"], row[\"Duration\"])"
   ]
  },
  {
   "cell_type": "code",
   "execution_count": 192,
   "id": "141a03f9",
   "metadata": {},
   "outputs": [
    {
     "name": "stdout",
     "output_type": "stream",
     "text": [
      "Data For First Row :\n",
      "Courses     Spark\n",
      "Fee         20000\n",
      "Duration    30day\n",
      "Discount     1000\n",
      "Name: 0, dtype: object\n"
     ]
    }
   ],
   "source": [
    "\n",
    "# Row contains the column name and data\n",
    "row = next(df.iterrows())[1]\n",
    "print(\"Data For First Row :\")\n",
    "print(row)"
   ]
  },
  {
   "cell_type": "code",
   "execution_count": null,
   "id": "8dc1c0ca",
   "metadata": {},
   "outputs": [],
   "source": [
    "# Syntax DataFrame.itertuples()\n",
    "# DataFrame.itertuples(index=True, name='Pandas')"
   ]
  },
  {
   "cell_type": "code",
   "execution_count": 193,
   "id": "092eb46d",
   "metadata": {},
   "outputs": [
    {
     "name": "stdout",
     "output_type": "stream",
     "text": [
      "0 20000 Spark\n",
      "1 25000 PySpark\n",
      "2 26000 Hadoop\n",
      "3 22000 Python\n"
     ]
    }
   ],
   "source": [
    "# Iterate all rows using DataFrame.itertuples()\n",
    "for row in df.itertuples(index = True):\n",
    "    print (getattr(row,'Index'),getattr(row, \"Fee\"), getattr(row, \"Courses\"))"
   ]
  },
  {
   "cell_type": "code",
   "execution_count": 194,
   "id": "e81e4d5f",
   "metadata": {},
   "outputs": [
    {
     "name": "stdout",
     "output_type": "stream",
     "text": [
      "0      20000 Spark\n",
      "1    25000 PySpark\n",
      "2     26000 Hadoop\n",
      "3     22000 Python\n",
      "dtype: object\n"
     ]
    }
   ],
   "source": [
    "# Another alternate approach by using DataFrame.apply()\n",
    "print(df.apply(lambda row: str(row[\"Fee\"]) + \" \" + str(row[\"Courses\"]), axis = 1))"
   ]
  },
  {
   "cell_type": "code",
   "execution_count": 197,
   "id": "096c38b7",
   "metadata": {},
   "outputs": [
    {
     "name": "stdout",
     "output_type": "stream",
     "text": [
      "RangeIndex(start=0, stop=4, step=1)\n"
     ]
    }
   ],
   "source": [
    "print(df.index)"
   ]
  },
  {
   "cell_type": "code",
   "execution_count": 195,
   "id": "8428edf8",
   "metadata": {},
   "outputs": [
    {
     "name": "stdout",
     "output_type": "stream",
     "text": [
      "20000 Spark\n",
      "25000 PySpark\n",
      "26000 Hadoop\n",
      "22000 Python\n"
     ]
    }
   ],
   "source": [
    "# Using DataFrame.index\n",
    "for idx in df.index:\n",
    "     print(df['Fee'][idx], df['Courses'][idx])"
   ]
  },
  {
   "cell_type": "code",
   "execution_count": 198,
   "id": "0fef8fb5",
   "metadata": {},
   "outputs": [
    {
     "name": "stdout",
     "output_type": "stream",
     "text": [
      "20000 Spark\n",
      "25000 PySpark\n",
      "26000 Hadoop\n",
      "22000 Python\n"
     ]
    }
   ],
   "source": [
    "# Another alternate approach byusing DataFrame.loc()\n",
    "for i in range(len(df)) :\n",
    "    print(df.loc[i, \"Fee\"], df.loc[i, \"Courses\"])"
   ]
  },
  {
   "cell_type": "code",
   "execution_count": 199,
   "id": "de073df1",
   "metadata": {},
   "outputs": [
    {
     "name": "stdout",
     "output_type": "stream",
     "text": [
      "Spark 30day\n",
      "PySpark 40days\n",
      "Hadoop nan\n",
      "Python None\n"
     ]
    }
   ],
   "source": [
    "# Another alternate approach by using DataFrame.iloc()\n",
    "for i in range(len(df)) :\n",
    "    print(df.iloc[i, 0], df.iloc[i, 2])"
   ]
  },
  {
   "cell_type": "code",
   "execution_count": 200,
   "id": "33b0502d",
   "metadata": {},
   "outputs": [
    {
     "name": "stdout",
     "output_type": "stream",
     "text": [
      "label: Courses\n",
      "content: 0      Spark\n",
      "1    PySpark\n",
      "2     Hadoop\n",
      "3     Python\n",
      "Name: Courses, dtype: object\n",
      "label: Fee\n",
      "content: 0    20000\n",
      "1    25000\n",
      "2    26000\n",
      "3    22000\n",
      "Name: Fee, dtype: int64\n",
      "label: Duration\n",
      "content: 0     30day\n",
      "1    40days\n",
      "2       NaN\n",
      "3      None\n",
      "Name: Duration, dtype: object\n",
      "label: Discount\n",
      "content: 0    1000\n",
      "1    2300\n",
      "2    1500\n",
      "3    1200\n",
      "Name: Discount, dtype: int64\n"
     ]
    }
   ],
   "source": [
    "# Iterate over column by column using DataFrame.items()\n",
    "for label, content in df.items():\n",
    "    print(f'label: {label}')\n",
    "    print(f'content: {content}', sep='\\n')"
   ]
  },
  {
   "cell_type": "code",
   "execution_count": 203,
   "id": "81a9e906",
   "metadata": {},
   "outputs": [
    {
     "data": {
      "text/html": [
       "<div>\n",
       "<style scoped>\n",
       "    .dataframe tbody tr th:only-of-type {\n",
       "        vertical-align: middle;\n",
       "    }\n",
       "\n",
       "    .dataframe tbody tr th {\n",
       "        vertical-align: top;\n",
       "    }\n",
       "\n",
       "    .dataframe thead th {\n",
       "        text-align: right;\n",
       "    }\n",
       "</style>\n",
       "<table border=\"1\" class=\"dataframe\">\n",
       "  <thead>\n",
       "    <tr style=\"text-align: right;\">\n",
       "      <th></th>\n",
       "      <th>Courses</th>\n",
       "      <th>Fee</th>\n",
       "      <th>Duration</th>\n",
       "      <th>Discount</th>\n",
       "    </tr>\n",
       "  </thead>\n",
       "  <tbody>\n",
       "    <tr>\n",
       "      <th>0</th>\n",
       "      <td>Spark</td>\n",
       "      <td>20000</td>\n",
       "      <td>30day</td>\n",
       "      <td>1000</td>\n",
       "    </tr>\n",
       "    <tr>\n",
       "      <th>1</th>\n",
       "      <td>PySpark</td>\n",
       "      <td>25000</td>\n",
       "      <td>40days</td>\n",
       "      <td>2300</td>\n",
       "    </tr>\n",
       "    <tr>\n",
       "      <th>2</th>\n",
       "      <td>Hadoop</td>\n",
       "      <td>26000</td>\n",
       "      <td>NaN</td>\n",
       "      <td>1500</td>\n",
       "    </tr>\n",
       "    <tr>\n",
       "      <th>3</th>\n",
       "      <td>Python</td>\n",
       "      <td>22000</td>\n",
       "      <td>None</td>\n",
       "      <td>1200</td>\n",
       "    </tr>\n",
       "  </tbody>\n",
       "</table>\n",
       "</div>"
      ],
      "text/plain": [
       "   Courses    Fee Duration  Discount\n",
       "0    Spark  20000    30day      1000\n",
       "1  PySpark  25000   40days      2300\n",
       "2   Hadoop  26000      NaN      1500\n",
       "3   Python  22000     None      1200"
      ]
     },
     "execution_count": 203,
     "metadata": {},
     "output_type": "execute_result"
    }
   ],
   "source": [
    "df"
   ]
  },
  {
   "cell_type": "code",
   "execution_count": 204,
   "id": "a3152a48",
   "metadata": {},
   "outputs": [
    {
     "name": "stdout",
     "output_type": "stream",
     "text": [
      "Create DataFrame:\n",
      "    A  B  C\n",
      "0  3  5  7\n",
      "1  2  4  6\n",
      "2  5  8  9\n"
     ]
    }
   ],
   "source": [
    "# Create DataFrame\n",
    "import pandas as pd\n",
    "import numpy as np\n",
    "data = [(3,5,7), (2,4,6),(5,8,9)]\n",
    "df = pd.DataFrame(data, columns = ['A','B','C'])\n",
    "print(\"Create DataFrame:\\n\", df)"
   ]
  },
  {
   "cell_type": "code",
   "execution_count": 205,
   "id": "dc3020ba",
   "metadata": {},
   "outputs": [],
   "source": [
    "# Below are some quick examples\n",
    "\n",
    "# Example 1: Using Dataframe.apply() to apply function add column\n",
    "def add_3(x):\n",
    "    return x+3\n",
    "df2 = df.apply(add_3)\n",
    "\n",
    "\n",
    "# Example 2: Using apply function single column\n",
    "def add_4(x):\n",
    "    return x+4\n",
    "df[\"B\"] = df[\"B\"].apply(add_4)\n",
    "\n",
    "\n",
    "# Example 3: Apply to multiple columns\n",
    "df[['A','B']] = df[['A','B']].apply(add_3)\n",
    "\n"
   ]
  },
  {
   "cell_type": "code",
   "execution_count": 206,
   "id": "a7f8ada7",
   "metadata": {},
   "outputs": [
    {
     "data": {
      "text/html": [
       "<div>\n",
       "<style scoped>\n",
       "    .dataframe tbody tr th:only-of-type {\n",
       "        vertical-align: middle;\n",
       "    }\n",
       "\n",
       "    .dataframe tbody tr th {\n",
       "        vertical-align: top;\n",
       "    }\n",
       "\n",
       "    .dataframe thead th {\n",
       "        text-align: right;\n",
       "    }\n",
       "</style>\n",
       "<table border=\"1\" class=\"dataframe\">\n",
       "  <thead>\n",
       "    <tr style=\"text-align: right;\">\n",
       "      <th></th>\n",
       "      <th>A</th>\n",
       "      <th>B</th>\n",
       "      <th>C</th>\n",
       "    </tr>\n",
       "  </thead>\n",
       "  <tbody>\n",
       "    <tr>\n",
       "      <th>0</th>\n",
       "      <td>6</td>\n",
       "      <td>12</td>\n",
       "      <td>7</td>\n",
       "    </tr>\n",
       "    <tr>\n",
       "      <th>1</th>\n",
       "      <td>5</td>\n",
       "      <td>11</td>\n",
       "      <td>6</td>\n",
       "    </tr>\n",
       "    <tr>\n",
       "      <th>2</th>\n",
       "      <td>8</td>\n",
       "      <td>15</td>\n",
       "      <td>9</td>\n",
       "    </tr>\n",
       "  </tbody>\n",
       "</table>\n",
       "</div>"
      ],
      "text/plain": [
       "   A   B  C\n",
       "0  6  12  7\n",
       "1  5  11  6\n",
       "2  8  15  9"
      ]
     },
     "execution_count": 206,
     "metadata": {},
     "output_type": "execute_result"
    }
   ],
   "source": [
    "df"
   ]
  },
  {
   "cell_type": "code",
   "execution_count": null,
   "id": "41539a87",
   "metadata": {},
   "outputs": [],
   "source": [
    "\n",
    "# Example 4: Apply a lambda function to each column\n",
    "df2 = df.apply(lambda x : x + 10)\n",
    "\n",
    "\n",
    "# Example 5: Using Dataframe.apply() and lambda function\n",
    "df[\"A\"] = df[\"A\"].apply(lambda x: x-2)\n",
    "\n",
    "\n",
    "# Example 6: Using Dataframe.apply() & [] operator\n",
    "df['A'] = df['A'].apply(np.square)\n",
    "\n",
    "\n",
    "# Example 7: Using numpy.square() and [] operator\n",
    "df['A'] = np.square(df['A'])\n",
    "\n",
    "\n",
    "# Example 8: Apply function NumPy.square() to square the values of two rows \n",
    "#'A'and'B\n",
    "df2 = df.apply(lambda x: np.square(x) if x.name in ['A','B'] else x)\n",
    "\n"
   ]
  },
  {
   "cell_type": "code",
   "execution_count": 207,
   "id": "c4ebfba9",
   "metadata": {},
   "outputs": [],
   "source": [
    "# Example 9: Apply function single column using transform() \n",
    "def add_2(x):\n",
    "    return x+2\n",
    "df = df.transform(add_2)\n",
    "\n",
    "# Example 10: Using DataFrame.map() to Single Column\n",
    "df['A'] = df['A'].map(lambda A: A/2.)\n",
    "\n",
    "# Example 11: Using DataFrame.assign() and Lambda\n",
    "df2 = df.assign(B=lambda df: df.B/2)"
   ]
  },
  {
   "cell_type": "code",
   "execution_count": 208,
   "id": "5270181c",
   "metadata": {},
   "outputs": [
    {
     "data": {
      "text/html": [
       "<div>\n",
       "<style scoped>\n",
       "    .dataframe tbody tr th:only-of-type {\n",
       "        vertical-align: middle;\n",
       "    }\n",
       "\n",
       "    .dataframe tbody tr th {\n",
       "        vertical-align: top;\n",
       "    }\n",
       "\n",
       "    .dataframe thead th {\n",
       "        text-align: right;\n",
       "    }\n",
       "</style>\n",
       "<table border=\"1\" class=\"dataframe\">\n",
       "  <thead>\n",
       "    <tr style=\"text-align: right;\">\n",
       "      <th></th>\n",
       "      <th>A</th>\n",
       "      <th>B</th>\n",
       "      <th>C</th>\n",
       "    </tr>\n",
       "  </thead>\n",
       "  <tbody>\n",
       "    <tr>\n",
       "      <th>0</th>\n",
       "      <td>4.0</td>\n",
       "      <td>7.0</td>\n",
       "      <td>9</td>\n",
       "    </tr>\n",
       "    <tr>\n",
       "      <th>1</th>\n",
       "      <td>3.5</td>\n",
       "      <td>6.5</td>\n",
       "      <td>8</td>\n",
       "    </tr>\n",
       "    <tr>\n",
       "      <th>2</th>\n",
       "      <td>5.0</td>\n",
       "      <td>8.5</td>\n",
       "      <td>11</td>\n",
       "    </tr>\n",
       "  </tbody>\n",
       "</table>\n",
       "</div>"
      ],
      "text/plain": [
       "     A    B   C\n",
       "0  4.0  7.0   9\n",
       "1  3.5  6.5   8\n",
       "2  5.0  8.5  11"
      ]
     },
     "execution_count": 208,
     "metadata": {},
     "output_type": "execute_result"
    }
   ],
   "source": [
    "df2"
   ]
  },
  {
   "cell_type": "raw",
   "id": "47678688",
   "metadata": {},
   "source": [
    "# groupby() in pandas\n",
    "\n",
    "In Pandas, you can use groupby() with the combination of sum(), count(), pivot(), transform(), aggregate(), and many more methods to perform various operations on grouped data.\n",
    "\n",
    "# Syntax of DataFrame.groupby()\n",
    "DataFrame.groupby(by=None, axis=0, level=None, as_index=True, \n",
    "       sort=True, group_keys=True, squeeze=<no_default>, \n",
    "       observed=False, dropna=True)\n",
    "by – List of column names to group by\n",
    "axis – Default to 0. It takes 0 or ‘index’, 1 or ‘columns’\n",
    "level – Used with MultiIndex.\n",
    "as_index – sql style grouped output.\n",
    "sort – Default to True. Specify whether to sort after the group\n",
    "group_keys – add group keys or not\n",
    "squeeze – deprecated in new versions\n",
    "observed – This only applies if any of the groupers are Categoricals.\n",
    "dropna – Default to False. Use True to drop None/Nan on sorry keys"
   ]
  },
  {
   "cell_type": "code",
   "execution_count": 209,
   "id": "cf8293dc",
   "metadata": {},
   "outputs": [
    {
     "name": "stdout",
     "output_type": "stream",
     "text": [
      "Create DataFrame:\n",
      "    Courses    Fee Duration  Discount\n",
      "0    Spark  22000   30days    1000.0\n",
      "1  PySpark  25000   50days    2300.0\n",
      "2   Hadoop  23000   55days    1000.0\n",
      "3   Python  24000   40days    1200.0\n",
      "4   Pandas  26000   60days    2500.0\n",
      "5   Hadoop  25000   35days       NaN\n",
      "6    Spark  25000   30days    1400.0\n",
      "7   Python  22000   50days    1600.0\n",
      "8       NA   1500   40days       0.0\n"
     ]
    }
   ],
   "source": [
    "import pandas as pd\n",
    "technologies   = ({\n",
    "    'Courses':[\"Spark\",\"PySpark\",\"Hadoop\",\"Python\",\"Pandas\",\"Hadoop\",\"Spark\",\"Python\",\"NA\"],\n",
    "    'Fee' :[22000,25000,23000,24000,26000,25000,25000,22000,1500],\n",
    "    'Duration':['30days','50days','55days','40days','60days','35days','30days','50days','40days'],\n",
    "    'Discount':[1000,2300,1000,1200,2500,None,1400,1600,0]\n",
    "          })\n",
    "df = pd.DataFrame(technologies)\n",
    "print(\"Create DataFrame:\\n\", df)"
   ]
  },
  {
   "cell_type": "code",
   "execution_count": 211,
   "id": "1a0293c0",
   "metadata": {},
   "outputs": [
    {
     "data": {
      "text/html": [
       "<div>\n",
       "<style scoped>\n",
       "    .dataframe tbody tr th:only-of-type {\n",
       "        vertical-align: middle;\n",
       "    }\n",
       "\n",
       "    .dataframe tbody tr th {\n",
       "        vertical-align: top;\n",
       "    }\n",
       "\n",
       "    .dataframe thead th {\n",
       "        text-align: right;\n",
       "    }\n",
       "</style>\n",
       "<table border=\"1\" class=\"dataframe\">\n",
       "  <thead>\n",
       "    <tr style=\"text-align: right;\">\n",
       "      <th></th>\n",
       "      <th>Fee</th>\n",
       "      <th>Discount</th>\n",
       "    </tr>\n",
       "    <tr>\n",
       "      <th>Courses</th>\n",
       "      <th></th>\n",
       "      <th></th>\n",
       "    </tr>\n",
       "  </thead>\n",
       "  <tbody>\n",
       "    <tr>\n",
       "      <th>Hadoop</th>\n",
       "      <td>48000</td>\n",
       "      <td>1000.0</td>\n",
       "    </tr>\n",
       "    <tr>\n",
       "      <th>NA</th>\n",
       "      <td>1500</td>\n",
       "      <td>0.0</td>\n",
       "    </tr>\n",
       "    <tr>\n",
       "      <th>Pandas</th>\n",
       "      <td>26000</td>\n",
       "      <td>2500.0</td>\n",
       "    </tr>\n",
       "    <tr>\n",
       "      <th>PySpark</th>\n",
       "      <td>25000</td>\n",
       "      <td>2300.0</td>\n",
       "    </tr>\n",
       "    <tr>\n",
       "      <th>Python</th>\n",
       "      <td>46000</td>\n",
       "      <td>2800.0</td>\n",
       "    </tr>\n",
       "    <tr>\n",
       "      <th>Spark</th>\n",
       "      <td>47000</td>\n",
       "      <td>2400.0</td>\n",
       "    </tr>\n",
       "  </tbody>\n",
       "</table>\n",
       "</div>"
      ],
      "text/plain": [
       "           Fee  Discount\n",
       "Courses                 \n",
       "Hadoop   48000    1000.0\n",
       "NA        1500       0.0\n",
       "Pandas   26000    2500.0\n",
       "PySpark  25000    2300.0\n",
       "Python   46000    2800.0\n",
       "Spark    47000    2400.0"
      ]
     },
     "execution_count": 211,
     "metadata": {},
     "output_type": "execute_result"
    }
   ],
   "source": [
    "df2 =df.groupby('Courses').sum()\n",
    "df2"
   ]
  },
  {
   "cell_type": "code",
   "execution_count": 214,
   "id": "ed3317e2",
   "metadata": {},
   "outputs": [
    {
     "data": {
      "text/html": [
       "<div>\n",
       "<style scoped>\n",
       "    .dataframe tbody tr th:only-of-type {\n",
       "        vertical-align: middle;\n",
       "    }\n",
       "\n",
       "    .dataframe tbody tr th {\n",
       "        vertical-align: top;\n",
       "    }\n",
       "\n",
       "    .dataframe thead th {\n",
       "        text-align: right;\n",
       "    }\n",
       "</style>\n",
       "<table border=\"1\" class=\"dataframe\">\n",
       "  <thead>\n",
       "    <tr style=\"text-align: right;\">\n",
       "      <th></th>\n",
       "      <th></th>\n",
       "      <th>Fee</th>\n",
       "      <th>Discount</th>\n",
       "    </tr>\n",
       "    <tr>\n",
       "      <th>Courses</th>\n",
       "      <th>Duration</th>\n",
       "      <th></th>\n",
       "      <th></th>\n",
       "    </tr>\n",
       "  </thead>\n",
       "  <tbody>\n",
       "    <tr>\n",
       "      <th rowspan=\"2\" valign=\"top\">Hadoop</th>\n",
       "      <th>35days</th>\n",
       "      <td>25000</td>\n",
       "      <td>0.0</td>\n",
       "    </tr>\n",
       "    <tr>\n",
       "      <th>55days</th>\n",
       "      <td>23000</td>\n",
       "      <td>1000.0</td>\n",
       "    </tr>\n",
       "    <tr>\n",
       "      <th>NA</th>\n",
       "      <th>40days</th>\n",
       "      <td>1500</td>\n",
       "      <td>0.0</td>\n",
       "    </tr>\n",
       "    <tr>\n",
       "      <th>Pandas</th>\n",
       "      <th>60days</th>\n",
       "      <td>26000</td>\n",
       "      <td>2500.0</td>\n",
       "    </tr>\n",
       "    <tr>\n",
       "      <th>PySpark</th>\n",
       "      <th>50days</th>\n",
       "      <td>25000</td>\n",
       "      <td>2300.0</td>\n",
       "    </tr>\n",
       "    <tr>\n",
       "      <th rowspan=\"2\" valign=\"top\">Python</th>\n",
       "      <th>40days</th>\n",
       "      <td>24000</td>\n",
       "      <td>1200.0</td>\n",
       "    </tr>\n",
       "    <tr>\n",
       "      <th>50days</th>\n",
       "      <td>22000</td>\n",
       "      <td>1600.0</td>\n",
       "    </tr>\n",
       "    <tr>\n",
       "      <th>Spark</th>\n",
       "      <th>30days</th>\n",
       "      <td>47000</td>\n",
       "      <td>2400.0</td>\n",
       "    </tr>\n",
       "  </tbody>\n",
       "</table>\n",
       "</div>"
      ],
      "text/plain": [
       "                    Fee  Discount\n",
       "Courses Duration                 \n",
       "Hadoop  35days    25000       0.0\n",
       "        55days    23000    1000.0\n",
       "NA      40days     1500       0.0\n",
       "Pandas  60days    26000    2500.0\n",
       "PySpark 50days    25000    2300.0\n",
       "Python  40days    24000    1200.0\n",
       "        50days    22000    1600.0\n",
       "Spark   30days    47000    2400.0"
      ]
     },
     "execution_count": 214,
     "metadata": {},
     "output_type": "execute_result"
    }
   ],
   "source": [
    "df.groupby(['Courses','Duration']).sum()"
   ]
  },
  {
   "cell_type": "code",
   "execution_count": 212,
   "id": "fc7f9649",
   "metadata": {},
   "outputs": [
    {
     "name": "stdout",
     "output_type": "stream",
     "text": [
      "After adding index to DataFrame:\n",
      "    Courses Duration    Fee  Discount\n",
      "0   Hadoop   35days  25000       0.0\n",
      "1   Hadoop   55days  23000    1000.0\n",
      "2       NA   40days   1500       0.0\n",
      "3   Pandas   60days  26000    2500.0\n",
      "4  PySpark   50days  25000    2300.0\n",
      "5   Python   40days  24000    1200.0\n",
      "6   Python   50days  22000    1600.0\n",
      "7    Spark   30days  47000    2400.0\n"
     ]
    }
   ],
   "source": [
    "# Add Row Index to the group by result\n",
    "df2 = df.groupby(['Courses','Duration']).sum().reset_index()\n",
    "print(\"After adding index to DataFrame:\\n\", df2)"
   ]
  },
  {
   "cell_type": "code",
   "execution_count": 213,
   "id": "82a6b7d2",
   "metadata": {},
   "outputs": [
    {
     "data": {
      "text/html": [
       "<div>\n",
       "<style scoped>\n",
       "    .dataframe tbody tr th:only-of-type {\n",
       "        vertical-align: middle;\n",
       "    }\n",
       "\n",
       "    .dataframe tbody tr th {\n",
       "        vertical-align: top;\n",
       "    }\n",
       "\n",
       "    .dataframe thead th {\n",
       "        text-align: right;\n",
       "    }\n",
       "</style>\n",
       "<table border=\"1\" class=\"dataframe\">\n",
       "  <thead>\n",
       "    <tr style=\"text-align: right;\">\n",
       "      <th></th>\n",
       "      <th>Courses</th>\n",
       "      <th>Duration</th>\n",
       "      <th>Fee</th>\n",
       "      <th>Discount</th>\n",
       "    </tr>\n",
       "  </thead>\n",
       "  <tbody>\n",
       "    <tr>\n",
       "      <th>0</th>\n",
       "      <td>Hadoop</td>\n",
       "      <td>35days</td>\n",
       "      <td>25000</td>\n",
       "      <td>0.0</td>\n",
       "    </tr>\n",
       "    <tr>\n",
       "      <th>1</th>\n",
       "      <td>Hadoop</td>\n",
       "      <td>55days</td>\n",
       "      <td>23000</td>\n",
       "      <td>1000.0</td>\n",
       "    </tr>\n",
       "    <tr>\n",
       "      <th>2</th>\n",
       "      <td>NA</td>\n",
       "      <td>40days</td>\n",
       "      <td>1500</td>\n",
       "      <td>0.0</td>\n",
       "    </tr>\n",
       "    <tr>\n",
       "      <th>3</th>\n",
       "      <td>Pandas</td>\n",
       "      <td>60days</td>\n",
       "      <td>26000</td>\n",
       "      <td>2500.0</td>\n",
       "    </tr>\n",
       "    <tr>\n",
       "      <th>4</th>\n",
       "      <td>PySpark</td>\n",
       "      <td>50days</td>\n",
       "      <td>25000</td>\n",
       "      <td>2300.0</td>\n",
       "    </tr>\n",
       "    <tr>\n",
       "      <th>5</th>\n",
       "      <td>Python</td>\n",
       "      <td>40days</td>\n",
       "      <td>24000</td>\n",
       "      <td>1200.0</td>\n",
       "    </tr>\n",
       "    <tr>\n",
       "      <th>6</th>\n",
       "      <td>Python</td>\n",
       "      <td>50days</td>\n",
       "      <td>22000</td>\n",
       "      <td>1600.0</td>\n",
       "    </tr>\n",
       "    <tr>\n",
       "      <th>7</th>\n",
       "      <td>Spark</td>\n",
       "      <td>30days</td>\n",
       "      <td>47000</td>\n",
       "      <td>2400.0</td>\n",
       "    </tr>\n",
       "  </tbody>\n",
       "</table>\n",
       "</div>"
      ],
      "text/plain": [
       "   Courses Duration    Fee  Discount\n",
       "0   Hadoop   35days  25000       0.0\n",
       "1   Hadoop   55days  23000    1000.0\n",
       "2       NA   40days   1500       0.0\n",
       "3   Pandas   60days  26000    2500.0\n",
       "4  PySpark   50days  25000    2300.0\n",
       "5   Python   40days  24000    1200.0\n",
       "6   Python   50days  22000    1600.0\n",
       "7    Spark   30days  47000    2400.0"
      ]
     },
     "execution_count": 213,
     "metadata": {},
     "output_type": "execute_result"
    }
   ],
   "source": [
    "df2"
   ]
  },
  {
   "cell_type": "code",
   "execution_count": 215,
   "id": "eb86ce1a",
   "metadata": {},
   "outputs": [
    {
     "name": "stdout",
     "output_type": "stream",
     "text": [
      "           Fee  Discount\n",
      "Courses                 \n",
      "Hadoop   48000    1000.0\n",
      "NA        1500       0.0\n",
      "Pandas   26000    2500.0\n",
      "PySpark  25000    2300.0\n",
      "Python   46000    2800.0\n",
      "Spark    47000    2400.0\n"
     ]
    }
   ],
   "source": [
    "# Drop rows that have None/Nan on group keys\n",
    "df2=df.groupby(by=['Courses'], dropna=False).sum()\n",
    "print(df2)"
   ]
  },
  {
   "cell_type": "code",
   "execution_count": 216,
   "id": "08aba5f3",
   "metadata": {},
   "outputs": [
    {
     "name": "stdout",
     "output_type": "stream",
     "text": [
      "           Fee  Discount\n",
      "Courses                 \n",
      "Spark    47000    2400.0\n",
      "PySpark  25000    2300.0\n",
      "Hadoop   48000    1000.0\n",
      "Python   46000    2800.0\n",
      "Pandas   26000    2500.0\n",
      "NA        1500       0.0\n"
     ]
    }
   ],
   "source": [
    "# Remove sorting on grouped results\n",
    "df2=df.groupby(by=['Courses'], sort=False).sum()\n",
    "print(df2)"
   ]
  },
  {
   "cell_type": "code",
   "execution_count": 217,
   "id": "c261e865",
   "metadata": {},
   "outputs": [
    {
     "name": "stdout",
     "output_type": "stream",
     "text": [
      "           Fee  Discount\n",
      "Courses                 \n",
      "Spark    47000    2400.0\n",
      "Python   46000    2800.0\n",
      "PySpark  25000    2300.0\n",
      "Pandas   26000    2500.0\n",
      "NA        1500       0.0\n",
      "Hadoop   48000    1000.0\n"
     ]
    }
   ],
   "source": [
    "# Sorting group keys on descending order\n",
    "groupedDF = df.groupby('Courses',sort=False).sum()\n",
    "sortedDF=groupedDF.sort_values('Courses', ascending=False)\n",
    "print(sortedDF)"
   ]
  },
  {
   "cell_type": "code",
   "execution_count": 218,
   "id": "13ad76b6",
   "metadata": {},
   "outputs": [
    {
     "data": {
      "text/html": [
       "<div>\n",
       "<style scoped>\n",
       "    .dataframe tbody tr th:only-of-type {\n",
       "        vertical-align: middle;\n",
       "    }\n",
       "\n",
       "    .dataframe tbody tr th {\n",
       "        vertical-align: top;\n",
       "    }\n",
       "\n",
       "    .dataframe thead th {\n",
       "        text-align: right;\n",
       "    }\n",
       "</style>\n",
       "<table border=\"1\" class=\"dataframe\">\n",
       "  <thead>\n",
       "    <tr style=\"text-align: right;\">\n",
       "      <th></th>\n",
       "      <th></th>\n",
       "      <th>Courses</th>\n",
       "      <th>Fee</th>\n",
       "      <th>Duration</th>\n",
       "      <th>Discount</th>\n",
       "    </tr>\n",
       "    <tr>\n",
       "      <th>Courses</th>\n",
       "      <th></th>\n",
       "      <th></th>\n",
       "      <th></th>\n",
       "      <th></th>\n",
       "      <th></th>\n",
       "    </tr>\n",
       "  </thead>\n",
       "  <tbody>\n",
       "    <tr>\n",
       "      <th rowspan=\"2\" valign=\"top\">Hadoop</th>\n",
       "      <th>2</th>\n",
       "      <td>Hadoop</td>\n",
       "      <td>23000</td>\n",
       "      <td>55days</td>\n",
       "      <td>1000.0</td>\n",
       "    </tr>\n",
       "    <tr>\n",
       "      <th>5</th>\n",
       "      <td>Hadoop</td>\n",
       "      <td>25000</td>\n",
       "      <td>35days</td>\n",
       "      <td>NaN</td>\n",
       "    </tr>\n",
       "    <tr>\n",
       "      <th>NA</th>\n",
       "      <th>8</th>\n",
       "      <td>NA</td>\n",
       "      <td>1500</td>\n",
       "      <td>40days</td>\n",
       "      <td>0.0</td>\n",
       "    </tr>\n",
       "    <tr>\n",
       "      <th>Pandas</th>\n",
       "      <th>4</th>\n",
       "      <td>Pandas</td>\n",
       "      <td>26000</td>\n",
       "      <td>60days</td>\n",
       "      <td>2500.0</td>\n",
       "    </tr>\n",
       "    <tr>\n",
       "      <th>PySpark</th>\n",
       "      <th>1</th>\n",
       "      <td>PySpark</td>\n",
       "      <td>25000</td>\n",
       "      <td>50days</td>\n",
       "      <td>2300.0</td>\n",
       "    </tr>\n",
       "    <tr>\n",
       "      <th rowspan=\"2\" valign=\"top\">Python</th>\n",
       "      <th>7</th>\n",
       "      <td>Python</td>\n",
       "      <td>22000</td>\n",
       "      <td>50days</td>\n",
       "      <td>1600.0</td>\n",
       "    </tr>\n",
       "    <tr>\n",
       "      <th>3</th>\n",
       "      <td>Python</td>\n",
       "      <td>24000</td>\n",
       "      <td>40days</td>\n",
       "      <td>1200.0</td>\n",
       "    </tr>\n",
       "    <tr>\n",
       "      <th rowspan=\"2\" valign=\"top\">Spark</th>\n",
       "      <th>0</th>\n",
       "      <td>Spark</td>\n",
       "      <td>22000</td>\n",
       "      <td>30days</td>\n",
       "      <td>1000.0</td>\n",
       "    </tr>\n",
       "    <tr>\n",
       "      <th>6</th>\n",
       "      <td>Spark</td>\n",
       "      <td>25000</td>\n",
       "      <td>30days</td>\n",
       "      <td>1400.0</td>\n",
       "    </tr>\n",
       "  </tbody>\n",
       "</table>\n",
       "</div>"
      ],
      "text/plain": [
       "           Courses    Fee Duration  Discount\n",
       "Courses                                     \n",
       "Hadoop  2   Hadoop  23000   55days    1000.0\n",
       "        5   Hadoop  25000   35days       NaN\n",
       "NA      8       NA   1500   40days       0.0\n",
       "Pandas  4   Pandas  26000   60days    2500.0\n",
       "PySpark 1  PySpark  25000   50days    2300.0\n",
       "Python  7   Python  22000   50days    1600.0\n",
       "        3   Python  24000   40days    1200.0\n",
       "Spark   0    Spark  22000   30days    1000.0\n",
       "        6    Spark  25000   30days    1400.0"
      ]
     },
     "execution_count": 218,
     "metadata": {},
     "output_type": "execute_result"
    }
   ],
   "source": [
    "# Using apply() & lambda\n",
    "df.groupby('Courses').apply(lambda x: x.sort_values('Fee'))"
   ]
  },
  {
   "cell_type": "code",
   "execution_count": 219,
   "id": "4fce7a33",
   "metadata": {},
   "outputs": [
    {
     "name": "stdout",
     "output_type": "stream",
     "text": [
      "After applying multiple aggregations on grouped data:\n",
      "            min    max\n",
      "Courses              \n",
      "Hadoop   23000  25000\n",
      "NA        1500   1500\n",
      "Pandas   26000  26000\n",
      "PySpark  25000  25000\n",
      "Python   22000  24000\n",
      "Spark    22000  25000\n"
     ]
    }
   ],
   "source": [
    "# Groupby & multiple aggregations\n",
    "result = df.groupby('Courses')['Fee'].aggregate(['min','max'])\n",
    "print(\"After applying multiple aggregations on grouped data:\\n\", result)"
   ]
  },
  {
   "cell_type": "code",
   "execution_count": 220,
   "id": "2741a9c7",
   "metadata": {},
   "outputs": [
    {
     "name": "stdout",
     "output_type": "stream",
     "text": [
      "After applying multiple aggregations on grouped data:\n",
      "         Duration    Fee       \n",
      "           count    min    max\n",
      "Courses                       \n",
      "Hadoop         2  23000  25000\n",
      "NA             1   1500   1500\n",
      "Pandas         1  26000  26000\n",
      "PySpark        1  25000  25000\n",
      "Python         2  22000  24000\n",
      "Spark          2  22000  25000\n"
     ]
    }
   ],
   "source": [
    "# Groupby multiple columns & multiple aggregations\n",
    "result = df.groupby('Courses').aggregate({'Duration':'count','Fee':['min','max']})\n",
    "print(\"After applying multiple aggregations on grouped data:\\n\", result)"
   ]
  },
  {
   "cell_type": "code",
   "execution_count": 222,
   "id": "2151a633",
   "metadata": {},
   "outputs": [
    {
     "name": "stdout",
     "output_type": "stream",
     "text": [
      "Courses\n",
      "Fee\n",
      "Duration\n",
      "Discount\n",
      "['Courses', 'Fee', 'Duration', 'Discount']\n",
      "['Fee', 'Discount']\n",
      "['Fee']\n"
     ]
    }
   ],
   "source": [
    "# Quick Examples of Getting Column Names\n",
    "# Below are some quick examples\n",
    "\n",
    "# Example 1: Get the list of all column names from headers\n",
    "column_names = list(df.columns.values)\n",
    "\n",
    "# Example 2: Get the list of all column names from headers\n",
    "column_names = df.columns.values.tolist()\n",
    "\n",
    "# Example 3: Using list(df) to get the column headers as a list\n",
    "column_names = list(df.columns)\n",
    "\n",
    "# Example 4: Using list(df) to get the list of all Column Names\n",
    "column_names = list(df)\n",
    "\n",
    "# Example 5: Dataframe show all columns sorted list\n",
    "column_names=sorted(df)\n",
    "\n",
    "# Example 6: Get all Column Header Labels as List\n",
    "for column_headers in df.columns: \n",
    "    print(column_headers)\n",
    "    \n",
    "column_names = df.keys().values.tolist()\n",
    "print(column_names)\n",
    "\n",
    "# Example 7: Get all numeric columns\n",
    "numeric_columns = df._get_numeric_data().columns.values.tolist()\n",
    "print(numeric_columns)\n",
    "\n",
    "# Example 8: Simple Pandas Numeric Columns Code\n",
    "numeric_columns=df.dtypes[df.dtypes == \"int64\"].index.values.tolist()\n",
    "print(numeric_columns)\n"
   ]
  },
  {
   "cell_type": "raw",
   "id": "197c8a96",
   "metadata": {},
   "source": [
    "# By using pandas.DataFrame.sample() method you can shuffle the DataFrame rows randomly, if you are using the NumPy module you can use the permutation() method to change the order of the rows also called the shuffle. Python also has other packages like sklearn that has a method shuffle() to shuffle the order of rows in DataFrame."
   ]
  },
  {
   "cell_type": "code",
   "execution_count": 223,
   "id": "801b1093",
   "metadata": {},
   "outputs": [
    {
     "name": "stdout",
     "output_type": "stream",
     "text": [
      "   Courses    Fee Duration  Discount\n",
      "0    Spark  22000   30days    1000.0\n",
      "1  PySpark  25000   50days    2300.0\n",
      "2   Hadoop  23000   55days    1000.0\n",
      "3   Python  24000   40days    1200.0\n",
      "4   Pandas  26000   60days    2500.0\n",
      "5   Hadoop  25000   35days       NaN\n",
      "6    Spark  25000   30days    1400.0\n",
      "7   Python  22000   50days    1600.0\n",
      "8       NA   1500   40days       0.0\n"
     ]
    }
   ],
   "source": [
    "df = pd.DataFrame(technologies)\n",
    "print(df)"
   ]
  },
  {
   "cell_type": "code",
   "execution_count": 224,
   "id": "3dacd4e2",
   "metadata": {},
   "outputs": [
    {
     "name": "stdout",
     "output_type": "stream",
     "text": [
      "   Courses    Fee Duration  Discount\n",
      "5   Hadoop  25000   35days       NaN\n",
      "0    Spark  22000   30days    1000.0\n",
      "1  PySpark  25000   50days    2300.0\n",
      "3   Python  24000   40days    1200.0\n",
      "7   Python  22000   50days    1600.0\n",
      "2   Hadoop  23000   55days    1000.0\n",
      "4   Pandas  26000   60days    2500.0\n",
      "6    Spark  25000   30days    1400.0\n",
      "8       NA   1500   40days       0.0\n"
     ]
    }
   ],
   "source": [
    "# Shuffle the DataFrame rows & return all rows\n",
    "df1 = df.sample(frac = 1)\n",
    "print(df1)"
   ]
  },
  {
   "cell_type": "code",
   "execution_count": 225,
   "id": "79fd5fee",
   "metadata": {},
   "outputs": [
    {
     "name": "stdout",
     "output_type": "stream",
     "text": [
      "   index  Courses    Fee Duration  Discount\n",
      "0      3   Python  24000   40days    1200.0\n",
      "1      6    Spark  25000   30days    1400.0\n",
      "2      1  PySpark  25000   50days    2300.0\n",
      "3      5   Hadoop  25000   35days       NaN\n",
      "4      4   Pandas  26000   60days    2500.0\n",
      "5      8       NA   1500   40days       0.0\n",
      "6      7   Python  22000   50days    1600.0\n",
      "7      0    Spark  22000   30days    1000.0\n",
      "8      2   Hadoop  23000   55days    1000.0\n"
     ]
    }
   ],
   "source": [
    "# Create a new Index starting from zero\n",
    "df1 = df.sample(frac = 1).reset_index()\n",
    "print(df1)"
   ]
  },
  {
   "cell_type": "code",
   "execution_count": 226,
   "id": "202268a6",
   "metadata": {},
   "outputs": [
    {
     "name": "stdout",
     "output_type": "stream",
     "text": [
      "   Courses    Fee Duration  Discount\n",
      "0   Pandas  26000   60days    2500.0\n",
      "1   Python  22000   50days    1600.0\n",
      "2  PySpark  25000   50days    2300.0\n",
      "3    Spark  25000   30days    1400.0\n",
      "4       NA   1500   40days       0.0\n",
      "5   Hadoop  23000   55days    1000.0\n",
      "6    Spark  22000   30days    1000.0\n",
      "7   Hadoop  25000   35days       NaN\n",
      "8   Python  24000   40days    1200.0\n"
     ]
    }
   ],
   "source": [
    "# Drop shuffle Index\n",
    "df1 = df.sample(frac = 1).reset_index(drop=True)\n",
    "print(df1)"
   ]
  },
  {
   "cell_type": "raw",
   "id": "6b0a2d04",
   "metadata": {},
   "source": [
    "Using numpy.random.shuffle to Change Order of Rows\n",
    "You can use numpy.random.shuffle() to change the order of the DataFrame rows. Make sure you import NumPy before using this method.\n",
    "\n",
    "\n",
    "# Using NumPy\n",
    "import numpy as np\n",
    "np.random.shuffle(DataFrame.values)"
   ]
  },
  {
   "cell_type": "code",
   "execution_count": 227,
   "id": "fca10488",
   "metadata": {},
   "outputs": [
    {
     "name": "stdout",
     "output_type": "stream",
     "text": [
      "   Courses    Fee Duration  Discount\n",
      "0   Python  22000   50days    1600.0\n",
      "1   Hadoop  25000   35days       NaN\n",
      "2   Hadoop  23000   55days    1000.0\n",
      "3   Pandas  26000   60days    2500.0\n",
      "4   Python  24000   40days    1200.0\n",
      "5    Spark  22000   30days    1000.0\n",
      "6       NA   1500   40days       0.0\n",
      "7    Spark  25000   30days    1400.0\n",
      "8  PySpark  25000   50days    2300.0\n"
     ]
    }
   ],
   "source": [
    "# Using numpy permutation() method to shuffle DataFrame rows\n",
    "df1 = df.iloc[np.random.permutation(df.index)].reset_index(drop=True)\n",
    "print(df1)"
   ]
  },
  {
   "cell_type": "code",
   "execution_count": 228,
   "id": "8c7f7f49",
   "metadata": {},
   "outputs": [],
   "source": [
    "# Using sklearn to shuffle rows\n",
    "from sklearn.utils import shuffle\n",
    "df = shuffle(df)"
   ]
  },
  {
   "cell_type": "code",
   "execution_count": 229,
   "id": "f8d6b39e",
   "metadata": {},
   "outputs": [
    {
     "data": {
      "text/html": [
       "<div>\n",
       "<style scoped>\n",
       "    .dataframe tbody tr th:only-of-type {\n",
       "        vertical-align: middle;\n",
       "    }\n",
       "\n",
       "    .dataframe tbody tr th {\n",
       "        vertical-align: top;\n",
       "    }\n",
       "\n",
       "    .dataframe thead th {\n",
       "        text-align: right;\n",
       "    }\n",
       "</style>\n",
       "<table border=\"1\" class=\"dataframe\">\n",
       "  <thead>\n",
       "    <tr style=\"text-align: right;\">\n",
       "      <th></th>\n",
       "      <th>Courses</th>\n",
       "      <th>Fee</th>\n",
       "      <th>Duration</th>\n",
       "      <th>Discount</th>\n",
       "    </tr>\n",
       "  </thead>\n",
       "  <tbody>\n",
       "    <tr>\n",
       "      <th>3</th>\n",
       "      <td>Python</td>\n",
       "      <td>24000</td>\n",
       "      <td>40days</td>\n",
       "      <td>1200.0</td>\n",
       "    </tr>\n",
       "    <tr>\n",
       "      <th>2</th>\n",
       "      <td>Hadoop</td>\n",
       "      <td>23000</td>\n",
       "      <td>55days</td>\n",
       "      <td>1000.0</td>\n",
       "    </tr>\n",
       "    <tr>\n",
       "      <th>4</th>\n",
       "      <td>Pandas</td>\n",
       "      <td>26000</td>\n",
       "      <td>60days</td>\n",
       "      <td>2500.0</td>\n",
       "    </tr>\n",
       "    <tr>\n",
       "      <th>8</th>\n",
       "      <td>NA</td>\n",
       "      <td>1500</td>\n",
       "      <td>40days</td>\n",
       "      <td>0.0</td>\n",
       "    </tr>\n",
       "    <tr>\n",
       "      <th>6</th>\n",
       "      <td>Spark</td>\n",
       "      <td>25000</td>\n",
       "      <td>30days</td>\n",
       "      <td>1400.0</td>\n",
       "    </tr>\n",
       "    <tr>\n",
       "      <th>5</th>\n",
       "      <td>Hadoop</td>\n",
       "      <td>25000</td>\n",
       "      <td>35days</td>\n",
       "      <td>NaN</td>\n",
       "    </tr>\n",
       "    <tr>\n",
       "      <th>1</th>\n",
       "      <td>PySpark</td>\n",
       "      <td>25000</td>\n",
       "      <td>50days</td>\n",
       "      <td>2300.0</td>\n",
       "    </tr>\n",
       "    <tr>\n",
       "      <th>7</th>\n",
       "      <td>Python</td>\n",
       "      <td>22000</td>\n",
       "      <td>50days</td>\n",
       "      <td>1600.0</td>\n",
       "    </tr>\n",
       "    <tr>\n",
       "      <th>0</th>\n",
       "      <td>Spark</td>\n",
       "      <td>22000</td>\n",
       "      <td>30days</td>\n",
       "      <td>1000.0</td>\n",
       "    </tr>\n",
       "  </tbody>\n",
       "</table>\n",
       "</div>"
      ],
      "text/plain": [
       "   Courses    Fee Duration  Discount\n",
       "3   Python  24000   40days    1200.0\n",
       "2   Hadoop  23000   55days    1000.0\n",
       "4   Pandas  26000   60days    2500.0\n",
       "8       NA   1500   40days       0.0\n",
       "6    Spark  25000   30days    1400.0\n",
       "5   Hadoop  25000   35days       NaN\n",
       "1  PySpark  25000   50days    2300.0\n",
       "7   Python  22000   50days    1600.0\n",
       "0    Spark  22000   30days    1000.0"
      ]
     },
     "execution_count": 229,
     "metadata": {},
     "output_type": "execute_result"
    }
   ],
   "source": [
    "df"
   ]
  },
  {
   "cell_type": "code",
   "execution_count": 230,
   "id": "6157ff7f",
   "metadata": {},
   "outputs": [
    {
     "name": "stdout",
     "output_type": "stream",
     "text": [
      "3     [40days, 24000, Python, 1200.0]\n",
      "2     [23000, 55days, Hadoop, 1000.0]\n",
      "4     [2500.0, 26000, 60days, Pandas]\n",
      "8             [40days, 1500, NA, 0.0]\n",
      "6      [1400.0, Spark, 25000, 30days]\n",
      "5        [35days, Hadoop, nan, 25000]\n",
      "1    [PySpark, 2300.0, 25000, 50days]\n",
      "7     [Python, 22000, 50days, 1600.0]\n",
      "0      [30days, Spark, 1000.0, 22000]\n",
      "dtype: object\n"
     ]
    }
   ],
   "source": [
    "# Using apply() method to shuffle the DataFrame rows\n",
    "import numpy as np\n",
    "df1 = df.apply(np.random.permutation, axis=1)    \n",
    "print(df1)"
   ]
  },
  {
   "cell_type": "code",
   "execution_count": 231,
   "id": "f4d54df7",
   "metadata": {},
   "outputs": [
    {
     "name": "stdout",
     "output_type": "stream",
     "text": [
      "   Courses    Fee Duration  Discount\n",
      "3  PySpark  25000   60days    1000.0\n",
      "2   Hadoop  25000   50days    2500.0\n",
      "4       NA  22000   30days       NaN\n",
      "8   Pandas  24000   40days    1200.0\n",
      "6   Hadoop  23000   40days    1400.0\n",
      "5    Spark   1500   50days       0.0\n",
      "1   Python  26000   35days    2300.0\n",
      "7    Spark  25000   55days    1000.0\n",
      "0   Python  22000   30days    1600.0\n"
     ]
    }
   ],
   "source": [
    "# Using lambda method to Shuffle/permutating DataFrame rows\n",
    "df2 = df.apply(lambda x: x.sample(frac=1).values)\n",
    "print(df2)"
   ]
  },
  {
   "cell_type": "code",
   "execution_count": 232,
   "id": "fda201c1",
   "metadata": {},
   "outputs": [
    {
     "name": "stdout",
     "output_type": "stream",
     "text": [
      "  Duration    Fee  Courses  Discount\n",
      "0   50days  22000   Python    1600.0\n",
      "1   40days   1500       NA       0.0\n",
      "2   40days  24000   Python    1200.0\n",
      "3   35days  25000   Hadoop       NaN\n",
      "4   30days  22000    Spark    1000.0\n",
      "5   60days  26000   Pandas    2500.0\n",
      "6   55days  23000   Hadoop    1000.0\n",
      "7   30days  25000    Spark    1400.0\n",
      "8   50days  25000  PySpark    2300.0\n"
     ]
    }
   ],
   "source": [
    "# Using sample() method to shuffle DataFrame rows and columns\n",
    "df2 = df.sample(frac=1, axis=1).sample(frac=1).reset_index(drop=True)\n",
    "print(df2)"
   ]
  },
  {
   "cell_type": "raw",
   "id": "430cd220",
   "metadata": {},
   "source": [
    "Pandas join() is similar to SQL join where it combines columns from multiple DataFrames based on row indices. In pandas join can be done only on indexes but not on columns. By default, it uses the left join on the row index. If you want to join on columns you should use pandas.merge() method as this by default performs on columns\n",
    "\n",
    "\n",
    "You can join pandas Dataframes similar to joining tables in SQL.\n",
    "pandas.DataFrame.join() method is used to join DataFrames.\n",
    "By default, it uses the left join on the row index. This is unlike merge() where it does inner join on common columns.\n",
    "pandas also support other methods like concat() and merge() to join DataFrames.\n",
    "Joining can be performed using the pd.merge() function or DataFrame methods like df.join().\n",
    "Careful consideration of the join type and key columns is crucial to avoid unintended data duplication or loss during the joining process.\n",
    "\n",
    "\n",
    "# Syntax of pandas.DataFrame.join() method\n",
    "DataFrame.join(other, on=None, how='left', lsuffix='', rsuffix='', sort=False)\n",
    "other – Pass the right DataFrame object or list of DataFrame objects.\n",
    "on – Specify which index you want to join on when you have multiple indexes.\n",
    "how – Use to specify the join type. Accepts inner, left, right, outer.\n",
    "lsuffix – Specify the left suffix string to column names\n",
    "rsuffix – Specify the right suffix string to column names\n",
    "sort – To specify the results to be sorted."
   ]
  },
  {
   "cell_type": "code",
   "execution_count": 270,
   "id": "3e98064f",
   "metadata": {},
   "outputs": [
    {
     "name": "stdout",
     "output_type": "stream",
     "text": [
      "First DataFrame:\n",
      "     Courses    Fee Duration\n",
      "r1    Spark  20000   30days\n",
      "r2  PySpark  25000   40days\n",
      "r3   Python  22000   35days\n",
      "r4   pandas  30000   50days\n",
      "Second DataFRame:\n",
      "    Courses  Discount\n",
      "r1   Spark      2000\n",
      "r6    Java      2300\n",
      "r3  Python      1200\n",
      "r5      Go      2000\n"
     ]
    }
   ],
   "source": [
    "import pandas as pd\n",
    "technologies = {\n",
    "    'Courses':[\"Spark\",\"PySpark\",\"Python\",\"pandas\"],\n",
    "    'Fee' :[20000,25000,22000,30000],\n",
    "    'Duration':['30days','40days','35days','50days'],\n",
    "              }\n",
    "index_labels=['r1','r2','r3','r4']\n",
    "df1 = pd.DataFrame(technologies,index=index_labels)\n",
    "print(\"First DataFrame:\\n\", df1)\n",
    "technologies2 = {\n",
    "    'Courses':[\"Spark\",\"Java\",\"Python\",\"Go\"],\n",
    "    'Discount':[2000,2300,1200,2000]\n",
    "              }\n",
    "index_labels2=['r1','r6','r3','r5']\n",
    "df2 = pd.DataFrame(technologies2,index=index_labels2)\n",
    "print(\"Second DataFRame:\\n\", df2)"
   ]
  },
  {
   "cell_type": "code",
   "execution_count": 235,
   "id": "f834f7b4",
   "metadata": {},
   "outputs": [
    {
     "name": "stdout",
     "output_type": "stream",
     "text": [
      "After joining two DataFrames:\n",
      "    Courses_left    Fee Duration Courses_right  Discount\n",
      "r1        Spark  20000   30days         Spark    2000.0\n",
      "r2      PySpark  25000   40days           NaN       NaN\n",
      "r3       Python  22000   35days        Python    1200.0\n",
      "r4       pandas  30000   50days           NaN       NaN\n"
     ]
    }
   ],
   "source": [
    "# Pandas join \n",
    "df3=df1.join(df2, lsuffix=\"_left\", rsuffix=\"_right\") # left join\n",
    "print(\"After joining two DataFrames:\\n\", df3)"
   ]
  },
  {
   "cell_type": "code",
   "execution_count": 236,
   "id": "b26cdeb2",
   "metadata": {},
   "outputs": [
    {
     "name": "stdout",
     "output_type": "stream",
     "text": [
      "   Courses_left    Fee Duration Courses_right  Discount\n",
      "r1        Spark  20000   30days         Spark      2000\n",
      "r3       Python  22000   35days        Python      1200\n"
     ]
    }
   ],
   "source": [
    "# Pandas Inner join DataFrames\n",
    "df3=df1.join(df2, lsuffix=\"_left\", rsuffix=\"_right\", how='inner')\n",
    "print(df3)\n"
   ]
  },
  {
   "cell_type": "code",
   "execution_count": 237,
   "id": "c39de2c7",
   "metadata": {},
   "outputs": [
    {
     "name": "stdout",
     "output_type": "stream",
     "text": [
      "   Courses_left      Fee Duration Courses_right  Discount\n",
      "r1        Spark  20000.0   30days         Spark      2000\n",
      "r6          NaN      NaN      NaN          Java      2300\n",
      "r3       Python  22000.0   35days        Python      1200\n",
      "r5          NaN      NaN      NaN            Go      2000\n"
     ]
    }
   ],
   "source": [
    "# Pandas Right join DataFrames\n",
    "df3=df1.join(df2, lsuffix=\"_left\", rsuffix=\"_right\", how='right')\n",
    "print(df3)"
   ]
  },
  {
   "cell_type": "code",
   "execution_count": 238,
   "id": "8f998602",
   "metadata": {},
   "outputs": [
    {
     "name": "stdout",
     "output_type": "stream",
     "text": [
      "   Courses_left      Fee Duration Courses_right  Discount\n",
      "r1        Spark  20000.0   30days         Spark    2000.0\n",
      "r2      PySpark  25000.0   40days           NaN       NaN\n",
      "r3       Python  22000.0   35days        Python    1200.0\n",
      "r4       pandas  30000.0   50days           NaN       NaN\n",
      "r5          NaN      NaN      NaN            Go    2000.0\n",
      "r6          NaN      NaN      NaN          Java    2300.0\n"
     ]
    }
   ],
   "source": [
    "# Also called Full Outer Join – Returns all rows from both DataFrames. \n",
    "# Where join expression doesn’t match it returns null on respective cells.\n",
    "\n",
    "\n",
    "# Pandas outer join DataFrames\n",
    "df3=df1.join(df2, lsuffix=\"_left\", rsuffix=\"_right\", how='outer')\n",
    "print(df3)"
   ]
  },
  {
   "cell_type": "code",
   "execution_count": 239,
   "id": "7ec6918e",
   "metadata": {},
   "outputs": [
    {
     "name": "stdout",
     "output_type": "stream",
     "text": [
      "           Fee Duration  Discount\n",
      "Courses                          \n",
      "Spark    20000   30days      2000\n",
      "Python   22000   35days      1200\n"
     ]
    }
   ],
   "source": [
    "# Pandas join on columns\n",
    "df3=df1.set_index('Courses').join(df2.set_index('Courses'), how='inner')\n",
    "print(df3)"
   ]
  },
  {
   "cell_type": "code",
   "execution_count": 240,
   "id": "c9d706ea",
   "metadata": {},
   "outputs": [
    {
     "name": "stdout",
     "output_type": "stream",
     "text": [
      "   Courses    Fee Duration  Discount\n",
      "r1   Spark  20000   30days      2000\n",
      "r3  Python  22000   35days      1200\n"
     ]
    }
   ],
   "source": [
    "# Pandas join\n",
    "df3=df1.join(df2.set_index('Courses'), how='inner', on='Courses')\n",
    "print(df3)"
   ]
  },
  {
   "cell_type": "raw",
   "id": "cd84c004",
   "metadata": {},
   "source": [
    "pandas support pandas.merge() and DataFrame.merge() to merge DataFrames which is exactly similar to SQL join and supports different types of join inner, left, right, outer, cross. By default, it uses inner join where keys don’t match the rows get dropped from both DataFrames, and the result DataFrame contains rows that match on both."
   ]
  },
  {
   "cell_type": "raw",
   "id": "d5af28ff",
   "metadata": {},
   "source": [
    "\n",
    "# Pandas.merge() Syntax\n",
    "pandas.merge(left, right, how='inner', on=None, left_on=None, right_on=None, left_index=False, right_index=False, sort=False, suffixes=('_x', '_y'), copy=True, indicator=False, validate=None)"
   ]
  },
  {
   "cell_type": "code",
   "execution_count": null,
   "id": "b49dc2e6",
   "metadata": {},
   "outputs": [],
   "source": [
    "# Quick Examples of Merging pandas DataFrames\n",
    "\n",
    "# Example 1: Pandas.merge()\n",
    "df3=pd.merge(df1,df2)\n",
    "\n",
    "# Example 2: DataFrame.merge()\n",
    "df3=df1.merge(df2)\n",
    "\n",
    "# Example 3: Merge by column\n",
    "df3=pd.merge(df1,df2, on='Courses')\n",
    "\n",
    "# Example 4: Merge on different colunn names\n",
    "df3=pd.merge(df1,df2, left_on='Courses', right_on='Courses')\n",
    "\n",
    "# Example 5: Merge by Index\n",
    "df3 = pd.merge(df1,df2,left_index=True,right_index=True)\n",
    "\n",
    "# Example 6: Merge by multiple columns\n",
    "df3 = pd.merge(df3, df1,  how='left', left_on=['Col1','col2'], right_on = ['col1','col2'])\n",
    "\n",
    "# Example 7: Merge by left join\n",
    "df3=pd.merge(df1,df2, on='Courses', how='left')\n",
    "\n",
    "# Example 8: Merge by right join\n",
    "df3=pd.merge(df1,df2, on='Courses', how='right')\n",
    "\n",
    "# Example 9: Merge by outer join\n",
    "df3=pd.merge(df1,df2, on='Courses', how='outer')"
   ]
  },
  {
   "cell_type": "code",
   "execution_count": 241,
   "id": "6cf5a1b4",
   "metadata": {},
   "outputs": [],
   "source": [
    "# Example 1: Pandas.merge()\n",
    "df3=pd.merge(df1,df2)\n"
   ]
  },
  {
   "cell_type": "code",
   "execution_count": 242,
   "id": "de9d1e1b",
   "metadata": {},
   "outputs": [
    {
     "data": {
      "text/html": [
       "<div>\n",
       "<style scoped>\n",
       "    .dataframe tbody tr th:only-of-type {\n",
       "        vertical-align: middle;\n",
       "    }\n",
       "\n",
       "    .dataframe tbody tr th {\n",
       "        vertical-align: top;\n",
       "    }\n",
       "\n",
       "    .dataframe thead th {\n",
       "        text-align: right;\n",
       "    }\n",
       "</style>\n",
       "<table border=\"1\" class=\"dataframe\">\n",
       "  <thead>\n",
       "    <tr style=\"text-align: right;\">\n",
       "      <th></th>\n",
       "      <th>Courses</th>\n",
       "      <th>Fee</th>\n",
       "      <th>Duration</th>\n",
       "      <th>Discount</th>\n",
       "    </tr>\n",
       "  </thead>\n",
       "  <tbody>\n",
       "    <tr>\n",
       "      <th>0</th>\n",
       "      <td>Spark</td>\n",
       "      <td>20000</td>\n",
       "      <td>30days</td>\n",
       "      <td>2000</td>\n",
       "    </tr>\n",
       "    <tr>\n",
       "      <th>1</th>\n",
       "      <td>Python</td>\n",
       "      <td>22000</td>\n",
       "      <td>35days</td>\n",
       "      <td>1200</td>\n",
       "    </tr>\n",
       "  </tbody>\n",
       "</table>\n",
       "</div>"
      ],
      "text/plain": [
       "  Courses    Fee Duration  Discount\n",
       "0   Spark  20000   30days      2000\n",
       "1  Python  22000   35days      1200"
      ]
     },
     "execution_count": 242,
     "metadata": {},
     "output_type": "execute_result"
    }
   ],
   "source": [
    "df3"
   ]
  },
  {
   "cell_type": "code",
   "execution_count": 243,
   "id": "9d133e4c",
   "metadata": {},
   "outputs": [
    {
     "data": {
      "text/html": [
       "<div>\n",
       "<style scoped>\n",
       "    .dataframe tbody tr th:only-of-type {\n",
       "        vertical-align: middle;\n",
       "    }\n",
       "\n",
       "    .dataframe tbody tr th {\n",
       "        vertical-align: top;\n",
       "    }\n",
       "\n",
       "    .dataframe thead th {\n",
       "        text-align: right;\n",
       "    }\n",
       "</style>\n",
       "<table border=\"1\" class=\"dataframe\">\n",
       "  <thead>\n",
       "    <tr style=\"text-align: right;\">\n",
       "      <th></th>\n",
       "      <th>Courses</th>\n",
       "      <th>Fee</th>\n",
       "      <th>Duration</th>\n",
       "      <th>Discount</th>\n",
       "    </tr>\n",
       "  </thead>\n",
       "  <tbody>\n",
       "    <tr>\n",
       "      <th>0</th>\n",
       "      <td>Spark</td>\n",
       "      <td>20000</td>\n",
       "      <td>30days</td>\n",
       "      <td>2000</td>\n",
       "    </tr>\n",
       "    <tr>\n",
       "      <th>1</th>\n",
       "      <td>Python</td>\n",
       "      <td>22000</td>\n",
       "      <td>35days</td>\n",
       "      <td>1200</td>\n",
       "    </tr>\n",
       "  </tbody>\n",
       "</table>\n",
       "</div>"
      ],
      "text/plain": [
       "  Courses    Fee Duration  Discount\n",
       "0   Spark  20000   30days      2000\n",
       "1  Python  22000   35days      1200"
      ]
     },
     "execution_count": 243,
     "metadata": {},
     "output_type": "execute_result"
    }
   ],
   "source": [
    "# Example 4: Merge on different colunn names\n",
    "df3=pd.merge(df1,df2, left_on='Courses', right_on='Courses')\n",
    "df3"
   ]
  },
  {
   "cell_type": "code",
   "execution_count": 256,
   "id": "6db624e0",
   "metadata": {},
   "outputs": [
    {
     "data": {
      "text/html": [
       "<div>\n",
       "<style scoped>\n",
       "    .dataframe tbody tr th:only-of-type {\n",
       "        vertical-align: middle;\n",
       "    }\n",
       "\n",
       "    .dataframe tbody tr th {\n",
       "        vertical-align: top;\n",
       "    }\n",
       "\n",
       "    .dataframe thead th {\n",
       "        text-align: right;\n",
       "    }\n",
       "</style>\n",
       "<table border=\"1\" class=\"dataframe\">\n",
       "  <thead>\n",
       "    <tr style=\"text-align: right;\">\n",
       "      <th></th>\n",
       "      <th>Courses_x</th>\n",
       "      <th>Fee</th>\n",
       "      <th>Duration</th>\n",
       "      <th>Courses_y</th>\n",
       "      <th>Discount</th>\n",
       "    </tr>\n",
       "  </thead>\n",
       "  <tbody>\n",
       "    <tr>\n",
       "      <th>r1</th>\n",
       "      <td>Spark</td>\n",
       "      <td>20000</td>\n",
       "      <td>30days</td>\n",
       "      <td>Spark</td>\n",
       "      <td>2000</td>\n",
       "    </tr>\n",
       "    <tr>\n",
       "      <th>r3</th>\n",
       "      <td>Python</td>\n",
       "      <td>22000</td>\n",
       "      <td>35days</td>\n",
       "      <td>Python</td>\n",
       "      <td>1200</td>\n",
       "    </tr>\n",
       "  </tbody>\n",
       "</table>\n",
       "</div>"
      ],
      "text/plain": [
       "   Courses_x    Fee Duration Courses_y  Discount\n",
       "r1     Spark  20000   30days     Spark      2000\n",
       "r3    Python  22000   35days    Python      1200"
      ]
     },
     "execution_count": 256,
     "metadata": {},
     "output_type": "execute_result"
    }
   ],
   "source": [
    "# Example 5: Merge by Index\n",
    "df3 = pd.merge(df1,df2,left_index=True,right_index=True)\n",
    "df3"
   ]
  },
  {
   "cell_type": "code",
   "execution_count": 252,
   "id": "0fea2dad",
   "metadata": {},
   "outputs": [
    {
     "data": {
      "text/plain": [
       "(    Courses    Fee Duration\n",
       " r1    Spark  20000   30days\n",
       " r2  PySpark  25000   40days\n",
       " r3   Python  22000   35days\n",
       " r4   pandas  30000   50days,\n",
       "    Courses  Discount\n",
       " r1   Spark      2000\n",
       " r6    Java      2300\n",
       " r3  Python      1200\n",
       " r5      Go      2000)"
      ]
     },
     "execution_count": 252,
     "metadata": {},
     "output_type": "execute_result"
    }
   ],
   "source": [
    "df1, df2"
   ]
  },
  {
   "cell_type": "code",
   "execution_count": 257,
   "id": "ff278a7b",
   "metadata": {},
   "outputs": [
    {
     "name": "stdout",
     "output_type": "stream",
     "text": [
      "  Courses    Fee Duration  Discount\n",
      "0   Spark  20000   30days      2000\n",
      "1  Python  22000   35days      1200\n"
     ]
    }
   ],
   "source": [
    "# When column names are different\n",
    "df3=pd.merge(df1,df2, left_on='Courses', right_on='Courses')\n",
    "print(df3)"
   ]
  },
  {
   "cell_type": "code",
   "execution_count": 258,
   "id": "1a570084",
   "metadata": {},
   "outputs": [
    {
     "name": "stdout",
     "output_type": "stream",
     "text": [
      "  Courses    Fee Duration_x  Discount Duration_y\n",
      "0   Spark  20000     30days      2000     30days\n",
      "1  Python  22000     35days      1200     35days\n"
     ]
    }
   ],
   "source": [
    "df3 = pd.merge(df3, df1,  how='left', left_on=['Courses','Fee'], right_on = ['Courses','Fee'])\n",
    "print(df3)"
   ]
  },
  {
   "cell_type": "raw",
   "id": "125561d2",
   "metadata": {},
   "source": [
    "Use pandas.concat() to concatenate/merge two or multiple pandas DataFrames across rows or columns. When you concat() two pandas DataFrames on rows, it creates a new Dataframe containing all rows of two DataFrames basically it does append one DataFrame with another. When you use concat() on columns it performs the join operation.\n",
    "\n",
    "pandas concat() Key Points\n",
    "\n",
    "By default concat() method performs an append operation meaning, it appends each DataFrame at the end of another DataFrame and creates a single DataFrame\n",
    "When you use concat() to join two DataFrames, it supports only inner and outer joins, and by default, it performs outer join.\n",
    "Using concat you can join or append multiple pandas DataFrames\n",
    "\n",
    "# Syntax of concat() function\n",
    "pandas.concat(objs, axis=0, join='outer', ignore_index=False, keys=None, levels=None, names=None, verify_integrity=False, sort=False, copy=True)"
   ]
  },
  {
   "cell_type": "code",
   "execution_count": 260,
   "id": "223cb191",
   "metadata": {},
   "outputs": [
    {
     "data": {
      "text/plain": [
       "(   Courses    Fee Duration  Discount\n",
       " 3   Python  24000   40days    1200.0\n",
       " 2   Hadoop  23000   55days    1000.0\n",
       " 4   Pandas  26000   60days    2500.0\n",
       " 8       NA   1500   40days       0.0\n",
       " 6    Spark  25000   30days    1400.0\n",
       " 5   Hadoop  25000   35days       NaN\n",
       " 1  PySpark  25000   50days    2300.0\n",
       " 7   Python  22000   50days    1600.0\n",
       " 0    Spark  22000   30days    1000.0,\n",
       "     Courses    Fee Duration\n",
       " r1    Spark  20000   30days\n",
       " r2  PySpark  25000   40days\n",
       " r3   Python  22000   35days\n",
       " r4   pandas  30000   50days)"
      ]
     },
     "execution_count": 260,
     "metadata": {},
     "output_type": "execute_result"
    }
   ],
   "source": [
    "df, df1"
   ]
  },
  {
   "cell_type": "code",
   "execution_count": null,
   "id": "1cb7ff10",
   "metadata": {},
   "outputs": [],
   "source": [
    "# Below are some quick examples\n",
    "\n",
    "# Using pandas.concat() to concat two DataFrame\n",
    "data = [df, df1]\n",
    "df2 = pd.concat(data)\n",
    "\n",
    "# Use pandas.concat() method to ignore_index \n",
    "df2 = pd.concat([df, df1], ignore_index=True, sort=False)\n",
    "\n",
    "# Using pandas.concat() Method\n",
    "data = [df, df1]\n",
    "df2 = pd.concat(data, ignore_index=True, sort=False)\n",
    "\n",
    "# Using pandas.concat() to join concat two DataFrames\n",
    "data = pd.concat([df, df1], axis=1, join='inner')\n",
    "\n",
    "# Using DataFrame.append() method\n",
    "data = df.append(df1)\n",
    "\n",
    "# Use DataFrame.append() \n",
    "df2 = df.append(df1, ignore_index=True)\n",
    "\n",
    "# Appending multiple DataFrame\n",
    "data = df.append([df1, df2])"
   ]
  },
  {
   "cell_type": "code",
   "execution_count": 259,
   "id": "3e3030bb",
   "metadata": {},
   "outputs": [
    {
     "data": {
      "text/html": [
       "<div>\n",
       "<style scoped>\n",
       "    .dataframe tbody tr th:only-of-type {\n",
       "        vertical-align: middle;\n",
       "    }\n",
       "\n",
       "    .dataframe tbody tr th {\n",
       "        vertical-align: top;\n",
       "    }\n",
       "\n",
       "    .dataframe thead th {\n",
       "        text-align: right;\n",
       "    }\n",
       "</style>\n",
       "<table border=\"1\" class=\"dataframe\">\n",
       "  <thead>\n",
       "    <tr style=\"text-align: right;\">\n",
       "      <th></th>\n",
       "      <th>Courses</th>\n",
       "      <th>Fee</th>\n",
       "      <th>Duration</th>\n",
       "      <th>Discount</th>\n",
       "    </tr>\n",
       "  </thead>\n",
       "  <tbody>\n",
       "    <tr>\n",
       "      <th>0</th>\n",
       "      <td>Python</td>\n",
       "      <td>24000</td>\n",
       "      <td>40days</td>\n",
       "      <td>1200.0</td>\n",
       "    </tr>\n",
       "    <tr>\n",
       "      <th>1</th>\n",
       "      <td>Hadoop</td>\n",
       "      <td>23000</td>\n",
       "      <td>55days</td>\n",
       "      <td>1000.0</td>\n",
       "    </tr>\n",
       "    <tr>\n",
       "      <th>2</th>\n",
       "      <td>Pandas</td>\n",
       "      <td>26000</td>\n",
       "      <td>60days</td>\n",
       "      <td>2500.0</td>\n",
       "    </tr>\n",
       "    <tr>\n",
       "      <th>3</th>\n",
       "      <td>NA</td>\n",
       "      <td>1500</td>\n",
       "      <td>40days</td>\n",
       "      <td>0.0</td>\n",
       "    </tr>\n",
       "    <tr>\n",
       "      <th>4</th>\n",
       "      <td>Spark</td>\n",
       "      <td>25000</td>\n",
       "      <td>30days</td>\n",
       "      <td>1400.0</td>\n",
       "    </tr>\n",
       "    <tr>\n",
       "      <th>5</th>\n",
       "      <td>Hadoop</td>\n",
       "      <td>25000</td>\n",
       "      <td>35days</td>\n",
       "      <td>NaN</td>\n",
       "    </tr>\n",
       "    <tr>\n",
       "      <th>6</th>\n",
       "      <td>PySpark</td>\n",
       "      <td>25000</td>\n",
       "      <td>50days</td>\n",
       "      <td>2300.0</td>\n",
       "    </tr>\n",
       "    <tr>\n",
       "      <th>7</th>\n",
       "      <td>Python</td>\n",
       "      <td>22000</td>\n",
       "      <td>50days</td>\n",
       "      <td>1600.0</td>\n",
       "    </tr>\n",
       "    <tr>\n",
       "      <th>8</th>\n",
       "      <td>Spark</td>\n",
       "      <td>22000</td>\n",
       "      <td>30days</td>\n",
       "      <td>1000.0</td>\n",
       "    </tr>\n",
       "    <tr>\n",
       "      <th>9</th>\n",
       "      <td>Spark</td>\n",
       "      <td>20000</td>\n",
       "      <td>30days</td>\n",
       "      <td>NaN</td>\n",
       "    </tr>\n",
       "    <tr>\n",
       "      <th>10</th>\n",
       "      <td>PySpark</td>\n",
       "      <td>25000</td>\n",
       "      <td>40days</td>\n",
       "      <td>NaN</td>\n",
       "    </tr>\n",
       "    <tr>\n",
       "      <th>11</th>\n",
       "      <td>Python</td>\n",
       "      <td>22000</td>\n",
       "      <td>35days</td>\n",
       "      <td>NaN</td>\n",
       "    </tr>\n",
       "    <tr>\n",
       "      <th>12</th>\n",
       "      <td>pandas</td>\n",
       "      <td>30000</td>\n",
       "      <td>50days</td>\n",
       "      <td>NaN</td>\n",
       "    </tr>\n",
       "  </tbody>\n",
       "</table>\n",
       "</div>"
      ],
      "text/plain": [
       "    Courses    Fee Duration  Discount\n",
       "0    Python  24000   40days    1200.0\n",
       "1    Hadoop  23000   55days    1000.0\n",
       "2    Pandas  26000   60days    2500.0\n",
       "3        NA   1500   40days       0.0\n",
       "4     Spark  25000   30days    1400.0\n",
       "5    Hadoop  25000   35days       NaN\n",
       "6   PySpark  25000   50days    2300.0\n",
       "7    Python  22000   50days    1600.0\n",
       "8     Spark  22000   30days    1000.0\n",
       "9     Spark  20000   30days       NaN\n",
       "10  PySpark  25000   40days       NaN\n",
       "11   Python  22000   35days       NaN\n",
       "12   pandas  30000   50days       NaN"
      ]
     },
     "execution_count": 259,
     "metadata": {},
     "output_type": "execute_result"
    }
   ],
   "source": [
    "# Use pandas.concat() method to ignore_index \n",
    "df2 = pd.concat([df, df1], ignore_index=True, sort=False)\n",
    "df2"
   ]
  },
  {
   "cell_type": "code",
   "execution_count": 261,
   "id": "bb86d713",
   "metadata": {},
   "outputs": [
    {
     "data": {
      "text/html": [
       "<div>\n",
       "<style scoped>\n",
       "    .dataframe tbody tr th:only-of-type {\n",
       "        vertical-align: middle;\n",
       "    }\n",
       "\n",
       "    .dataframe tbody tr th {\n",
       "        vertical-align: top;\n",
       "    }\n",
       "\n",
       "    .dataframe thead th {\n",
       "        text-align: right;\n",
       "    }\n",
       "</style>\n",
       "<table border=\"1\" class=\"dataframe\">\n",
       "  <thead>\n",
       "    <tr style=\"text-align: right;\">\n",
       "      <th></th>\n",
       "      <th>Courses</th>\n",
       "      <th>Fee</th>\n",
       "      <th>Duration</th>\n",
       "      <th>Discount</th>\n",
       "      <th>Courses</th>\n",
       "      <th>Fee</th>\n",
       "      <th>Duration</th>\n",
       "    </tr>\n",
       "  </thead>\n",
       "  <tbody>\n",
       "  </tbody>\n",
       "</table>\n",
       "</div>"
      ],
      "text/plain": [
       "Empty DataFrame\n",
       "Columns: [Courses, Fee, Duration, Discount, Courses, Fee, Duration]\n",
       "Index: []"
      ]
     },
     "execution_count": 261,
     "metadata": {},
     "output_type": "execute_result"
    }
   ],
   "source": [
    "# Using pandas.concat() to join concat two DataFrames\n",
    "data = pd.concat([df, df1], axis=1, join='inner')\n",
    "data"
   ]
  },
  {
   "cell_type": "code",
   "execution_count": 262,
   "id": "d60c2bdf",
   "metadata": {},
   "outputs": [
    {
     "name": "stderr",
     "output_type": "stream",
     "text": [
      "C:\\Users\\A200160861\\AppData\\Local\\Temp\\ipykernel_20252\\235149634.py:2: FutureWarning: The frame.append method is deprecated and will be removed from pandas in a future version. Use pandas.concat instead.\n",
      "  data = df.append([df1, df2])\n"
     ]
    }
   ],
   "source": [
    "# Appending multiple DataFrame\n",
    "data = df.append([df1, df2])"
   ]
  },
  {
   "cell_type": "code",
   "execution_count": 263,
   "id": "3e17ffcc",
   "metadata": {},
   "outputs": [
    {
     "data": {
      "text/html": [
       "<div>\n",
       "<style scoped>\n",
       "    .dataframe tbody tr th:only-of-type {\n",
       "        vertical-align: middle;\n",
       "    }\n",
       "\n",
       "    .dataframe tbody tr th {\n",
       "        vertical-align: top;\n",
       "    }\n",
       "\n",
       "    .dataframe thead th {\n",
       "        text-align: right;\n",
       "    }\n",
       "</style>\n",
       "<table border=\"1\" class=\"dataframe\">\n",
       "  <thead>\n",
       "    <tr style=\"text-align: right;\">\n",
       "      <th></th>\n",
       "      <th>Courses</th>\n",
       "      <th>Fee</th>\n",
       "      <th>Duration</th>\n",
       "      <th>Discount</th>\n",
       "    </tr>\n",
       "  </thead>\n",
       "  <tbody>\n",
       "    <tr>\n",
       "      <th>3</th>\n",
       "      <td>Python</td>\n",
       "      <td>24000</td>\n",
       "      <td>40days</td>\n",
       "      <td>1200.0</td>\n",
       "    </tr>\n",
       "    <tr>\n",
       "      <th>2</th>\n",
       "      <td>Hadoop</td>\n",
       "      <td>23000</td>\n",
       "      <td>55days</td>\n",
       "      <td>1000.0</td>\n",
       "    </tr>\n",
       "    <tr>\n",
       "      <th>4</th>\n",
       "      <td>Pandas</td>\n",
       "      <td>26000</td>\n",
       "      <td>60days</td>\n",
       "      <td>2500.0</td>\n",
       "    </tr>\n",
       "    <tr>\n",
       "      <th>8</th>\n",
       "      <td>NA</td>\n",
       "      <td>1500</td>\n",
       "      <td>40days</td>\n",
       "      <td>0.0</td>\n",
       "    </tr>\n",
       "    <tr>\n",
       "      <th>6</th>\n",
       "      <td>Spark</td>\n",
       "      <td>25000</td>\n",
       "      <td>30days</td>\n",
       "      <td>1400.0</td>\n",
       "    </tr>\n",
       "    <tr>\n",
       "      <th>5</th>\n",
       "      <td>Hadoop</td>\n",
       "      <td>25000</td>\n",
       "      <td>35days</td>\n",
       "      <td>NaN</td>\n",
       "    </tr>\n",
       "    <tr>\n",
       "      <th>1</th>\n",
       "      <td>PySpark</td>\n",
       "      <td>25000</td>\n",
       "      <td>50days</td>\n",
       "      <td>2300.0</td>\n",
       "    </tr>\n",
       "    <tr>\n",
       "      <th>7</th>\n",
       "      <td>Python</td>\n",
       "      <td>22000</td>\n",
       "      <td>50days</td>\n",
       "      <td>1600.0</td>\n",
       "    </tr>\n",
       "    <tr>\n",
       "      <th>0</th>\n",
       "      <td>Spark</td>\n",
       "      <td>22000</td>\n",
       "      <td>30days</td>\n",
       "      <td>1000.0</td>\n",
       "    </tr>\n",
       "    <tr>\n",
       "      <th>r1</th>\n",
       "      <td>Spark</td>\n",
       "      <td>20000</td>\n",
       "      <td>30days</td>\n",
       "      <td>NaN</td>\n",
       "    </tr>\n",
       "    <tr>\n",
       "      <th>r2</th>\n",
       "      <td>PySpark</td>\n",
       "      <td>25000</td>\n",
       "      <td>40days</td>\n",
       "      <td>NaN</td>\n",
       "    </tr>\n",
       "    <tr>\n",
       "      <th>r3</th>\n",
       "      <td>Python</td>\n",
       "      <td>22000</td>\n",
       "      <td>35days</td>\n",
       "      <td>NaN</td>\n",
       "    </tr>\n",
       "    <tr>\n",
       "      <th>r4</th>\n",
       "      <td>pandas</td>\n",
       "      <td>30000</td>\n",
       "      <td>50days</td>\n",
       "      <td>NaN</td>\n",
       "    </tr>\n",
       "    <tr>\n",
       "      <th>0</th>\n",
       "      <td>Python</td>\n",
       "      <td>24000</td>\n",
       "      <td>40days</td>\n",
       "      <td>1200.0</td>\n",
       "    </tr>\n",
       "    <tr>\n",
       "      <th>1</th>\n",
       "      <td>Hadoop</td>\n",
       "      <td>23000</td>\n",
       "      <td>55days</td>\n",
       "      <td>1000.0</td>\n",
       "    </tr>\n",
       "    <tr>\n",
       "      <th>2</th>\n",
       "      <td>Pandas</td>\n",
       "      <td>26000</td>\n",
       "      <td>60days</td>\n",
       "      <td>2500.0</td>\n",
       "    </tr>\n",
       "    <tr>\n",
       "      <th>3</th>\n",
       "      <td>NA</td>\n",
       "      <td>1500</td>\n",
       "      <td>40days</td>\n",
       "      <td>0.0</td>\n",
       "    </tr>\n",
       "    <tr>\n",
       "      <th>4</th>\n",
       "      <td>Spark</td>\n",
       "      <td>25000</td>\n",
       "      <td>30days</td>\n",
       "      <td>1400.0</td>\n",
       "    </tr>\n",
       "    <tr>\n",
       "      <th>5</th>\n",
       "      <td>Hadoop</td>\n",
       "      <td>25000</td>\n",
       "      <td>35days</td>\n",
       "      <td>NaN</td>\n",
       "    </tr>\n",
       "    <tr>\n",
       "      <th>6</th>\n",
       "      <td>PySpark</td>\n",
       "      <td>25000</td>\n",
       "      <td>50days</td>\n",
       "      <td>2300.0</td>\n",
       "    </tr>\n",
       "    <tr>\n",
       "      <th>7</th>\n",
       "      <td>Python</td>\n",
       "      <td>22000</td>\n",
       "      <td>50days</td>\n",
       "      <td>1600.0</td>\n",
       "    </tr>\n",
       "    <tr>\n",
       "      <th>8</th>\n",
       "      <td>Spark</td>\n",
       "      <td>22000</td>\n",
       "      <td>30days</td>\n",
       "      <td>1000.0</td>\n",
       "    </tr>\n",
       "    <tr>\n",
       "      <th>9</th>\n",
       "      <td>Spark</td>\n",
       "      <td>20000</td>\n",
       "      <td>30days</td>\n",
       "      <td>NaN</td>\n",
       "    </tr>\n",
       "    <tr>\n",
       "      <th>10</th>\n",
       "      <td>PySpark</td>\n",
       "      <td>25000</td>\n",
       "      <td>40days</td>\n",
       "      <td>NaN</td>\n",
       "    </tr>\n",
       "    <tr>\n",
       "      <th>11</th>\n",
       "      <td>Python</td>\n",
       "      <td>22000</td>\n",
       "      <td>35days</td>\n",
       "      <td>NaN</td>\n",
       "    </tr>\n",
       "    <tr>\n",
       "      <th>12</th>\n",
       "      <td>pandas</td>\n",
       "      <td>30000</td>\n",
       "      <td>50days</td>\n",
       "      <td>NaN</td>\n",
       "    </tr>\n",
       "  </tbody>\n",
       "</table>\n",
       "</div>"
      ],
      "text/plain": [
       "    Courses    Fee Duration  Discount\n",
       "3    Python  24000   40days    1200.0\n",
       "2    Hadoop  23000   55days    1000.0\n",
       "4    Pandas  26000   60days    2500.0\n",
       "8        NA   1500   40days       0.0\n",
       "6     Spark  25000   30days    1400.0\n",
       "5    Hadoop  25000   35days       NaN\n",
       "1   PySpark  25000   50days    2300.0\n",
       "7    Python  22000   50days    1600.0\n",
       "0     Spark  22000   30days    1000.0\n",
       "r1    Spark  20000   30days       NaN\n",
       "r2  PySpark  25000   40days       NaN\n",
       "r3   Python  22000   35days       NaN\n",
       "r4   pandas  30000   50days       NaN\n",
       "0    Python  24000   40days    1200.0\n",
       "1    Hadoop  23000   55days    1000.0\n",
       "2    Pandas  26000   60days    2500.0\n",
       "3        NA   1500   40days       0.0\n",
       "4     Spark  25000   30days    1400.0\n",
       "5    Hadoop  25000   35days       NaN\n",
       "6   PySpark  25000   50days    2300.0\n",
       "7    Python  22000   50days    1600.0\n",
       "8     Spark  22000   30days    1000.0\n",
       "9     Spark  20000   30days       NaN\n",
       "10  PySpark  25000   40days       NaN\n",
       "11   Python  22000   35days       NaN\n",
       "12   pandas  30000   50days       NaN"
      ]
     },
     "execution_count": 263,
     "metadata": {},
     "output_type": "execute_result"
    }
   ],
   "source": [
    "data"
   ]
  },
  {
   "cell_type": "raw",
   "id": "3303ec00",
   "metadata": {},
   "source": [
    "pandas.DataFrame.fillna() method is used to fill column (one or multiple columns) containing NA/NaN/None with 0, empty, blank, or any specified values etc. NaN is considered a missing value. When you dealing with machine learning, handling missing values is very important, not handling these will result in a side effect with an incorrect result.\n",
    "\n"
   ]
  },
  {
   "cell_type": "code",
   "execution_count": null,
   "id": "9eb28049",
   "metadata": {},
   "outputs": [],
   "source": [
    "# Below are quick examples.\n",
    "\n",
    "# Example 1: Fillna() on all columns\n",
    "df2=df.fillna('None')\n",
    "\n",
    "# Example 2: Fillna() on once column\n",
    "df2['Discount'] =  df['Discount'].fillna(0)\n",
    "\n",
    "# Example 3: Fillna() on multiple columns\n",
    "df2[['Discount','Fee']] =  df[['Discount','Fee']].fillna(0)\n",
    "\n",
    "# Example 4: Fillna() on multiple columns with different values\n",
    "df2 =  df.fillna(value={'Discount':0,'Fee':10000})\n",
    "\n",
    "# Example 5: Fill with limit\n",
    "df2=df.fillna(value={'Discount':0,'Fee':0},limit=1)"
   ]
  },
  {
   "cell_type": "code",
   "execution_count": 265,
   "id": "26c24538",
   "metadata": {},
   "outputs": [
    {
     "data": {
      "text/html": [
       "<div>\n",
       "<style scoped>\n",
       "    .dataframe tbody tr th:only-of-type {\n",
       "        vertical-align: middle;\n",
       "    }\n",
       "\n",
       "    .dataframe tbody tr th {\n",
       "        vertical-align: top;\n",
       "    }\n",
       "\n",
       "    .dataframe thead th {\n",
       "        text-align: right;\n",
       "    }\n",
       "</style>\n",
       "<table border=\"1\" class=\"dataframe\">\n",
       "  <thead>\n",
       "    <tr style=\"text-align: right;\">\n",
       "      <th></th>\n",
       "      <th>Courses</th>\n",
       "      <th>Fee</th>\n",
       "      <th>Duration</th>\n",
       "      <th>Discount</th>\n",
       "    </tr>\n",
       "  </thead>\n",
       "  <tbody>\n",
       "    <tr>\n",
       "      <th>3</th>\n",
       "      <td>Python</td>\n",
       "      <td>24000</td>\n",
       "      <td>40days</td>\n",
       "      <td>1200.0</td>\n",
       "    </tr>\n",
       "    <tr>\n",
       "      <th>2</th>\n",
       "      <td>Hadoop</td>\n",
       "      <td>23000</td>\n",
       "      <td>55days</td>\n",
       "      <td>1000.0</td>\n",
       "    </tr>\n",
       "    <tr>\n",
       "      <th>4</th>\n",
       "      <td>Pandas</td>\n",
       "      <td>26000</td>\n",
       "      <td>60days</td>\n",
       "      <td>2500.0</td>\n",
       "    </tr>\n",
       "    <tr>\n",
       "      <th>8</th>\n",
       "      <td>NA</td>\n",
       "      <td>1500</td>\n",
       "      <td>40days</td>\n",
       "      <td>0.0</td>\n",
       "    </tr>\n",
       "    <tr>\n",
       "      <th>6</th>\n",
       "      <td>Spark</td>\n",
       "      <td>25000</td>\n",
       "      <td>30days</td>\n",
       "      <td>1400.0</td>\n",
       "    </tr>\n",
       "    <tr>\n",
       "      <th>5</th>\n",
       "      <td>Hadoop</td>\n",
       "      <td>25000</td>\n",
       "      <td>35days</td>\n",
       "      <td>NaN</td>\n",
       "    </tr>\n",
       "    <tr>\n",
       "      <th>1</th>\n",
       "      <td>PySpark</td>\n",
       "      <td>25000</td>\n",
       "      <td>50days</td>\n",
       "      <td>2300.0</td>\n",
       "    </tr>\n",
       "    <tr>\n",
       "      <th>7</th>\n",
       "      <td>Python</td>\n",
       "      <td>22000</td>\n",
       "      <td>50days</td>\n",
       "      <td>1600.0</td>\n",
       "    </tr>\n",
       "    <tr>\n",
       "      <th>0</th>\n",
       "      <td>Spark</td>\n",
       "      <td>22000</td>\n",
       "      <td>30days</td>\n",
       "      <td>1000.0</td>\n",
       "    </tr>\n",
       "  </tbody>\n",
       "</table>\n",
       "</div>"
      ],
      "text/plain": [
       "   Courses    Fee Duration  Discount\n",
       "3   Python  24000   40days    1200.0\n",
       "2   Hadoop  23000   55days    1000.0\n",
       "4   Pandas  26000   60days    2500.0\n",
       "8       NA   1500   40days       0.0\n",
       "6    Spark  25000   30days    1400.0\n",
       "5   Hadoop  25000   35days       NaN\n",
       "1  PySpark  25000   50days    2300.0\n",
       "7   Python  22000   50days    1600.0\n",
       "0    Spark  22000   30days    1000.0"
      ]
     },
     "execution_count": 265,
     "metadata": {},
     "output_type": "execute_result"
    }
   ],
   "source": [
    "df"
   ]
  },
  {
   "cell_type": "code",
   "execution_count": 264,
   "id": "bc8a28af",
   "metadata": {},
   "outputs": [
    {
     "data": {
      "text/html": [
       "<div>\n",
       "<style scoped>\n",
       "    .dataframe tbody tr th:only-of-type {\n",
       "        vertical-align: middle;\n",
       "    }\n",
       "\n",
       "    .dataframe tbody tr th {\n",
       "        vertical-align: top;\n",
       "    }\n",
       "\n",
       "    .dataframe thead th {\n",
       "        text-align: right;\n",
       "    }\n",
       "</style>\n",
       "<table border=\"1\" class=\"dataframe\">\n",
       "  <thead>\n",
       "    <tr style=\"text-align: right;\">\n",
       "      <th></th>\n",
       "      <th>Courses</th>\n",
       "      <th>Fee</th>\n",
       "      <th>Duration</th>\n",
       "      <th>Discount</th>\n",
       "    </tr>\n",
       "  </thead>\n",
       "  <tbody>\n",
       "    <tr>\n",
       "      <th>3</th>\n",
       "      <td>Python</td>\n",
       "      <td>24000</td>\n",
       "      <td>40days</td>\n",
       "      <td>1200.0</td>\n",
       "    </tr>\n",
       "    <tr>\n",
       "      <th>2</th>\n",
       "      <td>Hadoop</td>\n",
       "      <td>23000</td>\n",
       "      <td>55days</td>\n",
       "      <td>1000.0</td>\n",
       "    </tr>\n",
       "    <tr>\n",
       "      <th>4</th>\n",
       "      <td>Pandas</td>\n",
       "      <td>26000</td>\n",
       "      <td>60days</td>\n",
       "      <td>2500.0</td>\n",
       "    </tr>\n",
       "    <tr>\n",
       "      <th>8</th>\n",
       "      <td>NA</td>\n",
       "      <td>1500</td>\n",
       "      <td>40days</td>\n",
       "      <td>0.0</td>\n",
       "    </tr>\n",
       "    <tr>\n",
       "      <th>6</th>\n",
       "      <td>Spark</td>\n",
       "      <td>25000</td>\n",
       "      <td>30days</td>\n",
       "      <td>1400.0</td>\n",
       "    </tr>\n",
       "    <tr>\n",
       "      <th>5</th>\n",
       "      <td>Hadoop</td>\n",
       "      <td>25000</td>\n",
       "      <td>35days</td>\n",
       "      <td>0.0</td>\n",
       "    </tr>\n",
       "    <tr>\n",
       "      <th>1</th>\n",
       "      <td>PySpark</td>\n",
       "      <td>25000</td>\n",
       "      <td>50days</td>\n",
       "      <td>2300.0</td>\n",
       "    </tr>\n",
       "    <tr>\n",
       "      <th>7</th>\n",
       "      <td>Python</td>\n",
       "      <td>22000</td>\n",
       "      <td>50days</td>\n",
       "      <td>1600.0</td>\n",
       "    </tr>\n",
       "    <tr>\n",
       "      <th>0</th>\n",
       "      <td>Spark</td>\n",
       "      <td>22000</td>\n",
       "      <td>30days</td>\n",
       "      <td>1000.0</td>\n",
       "    </tr>\n",
       "  </tbody>\n",
       "</table>\n",
       "</div>"
      ],
      "text/plain": [
       "   Courses    Fee Duration  Discount\n",
       "3   Python  24000   40days    1200.0\n",
       "2   Hadoop  23000   55days    1000.0\n",
       "4   Pandas  26000   60days    2500.0\n",
       "8       NA   1500   40days       0.0\n",
       "6    Spark  25000   30days    1400.0\n",
       "5   Hadoop  25000   35days       0.0\n",
       "1  PySpark  25000   50days    2300.0\n",
       "7   Python  22000   50days    1600.0\n",
       "0    Spark  22000   30days    1000.0"
      ]
     },
     "execution_count": 264,
     "metadata": {},
     "output_type": "execute_result"
    }
   ],
   "source": [
    "# Example 5: Fill with limit\n",
    "df2=df.fillna(value={'Discount':0,'Fee':0},limit=1)\n",
    "df2"
   ]
  },
  {
   "cell_type": "code",
   "execution_count": null,
   "id": "7e29eb08",
   "metadata": {},
   "outputs": [],
   "source": [
    "# Below are the quick examples\n",
    "\n",
    "# Drop rows that has all Nan Values\n",
    "df=df.dropna(how='all')\n",
    "\n",
    "# Drop columns that has all Nan Values\n",
    "df=df.dropna(how='all',axis=1)\n",
    "\n",
    "# Default drop rows that contains nan values\n",
    "df2=df.dropna()\n",
    "\n",
    "# Drop all columns with NaN values\n",
    "df2=df.dropna(axis=1)\n",
    "\n",
    "# Drop rows that has NaN values on selected columns\n",
    "df2=df.dropna(subset=['Courses','Duration'])\n",
    "\n",
    "# With threshold, \n",
    "# Keep only the rows with at least 2 non-NA values.\n",
    "df2=df.dropna(thresh=3,axis=1)"
   ]
  },
  {
   "cell_type": "code",
   "execution_count": 276,
   "id": "7b2f6cb4",
   "metadata": {},
   "outputs": [
    {
     "name": "stdout",
     "output_type": "stream",
     "text": [
      "    Courses      Fee Duration Discount    \n",
      "r1    Spark  20000.0    30day     1000 NaN\n",
      "r2  PySpark  25000.0   40days      NaN NaN\n",
      "r3   Hadoop  26000.0   35days     1200 NaN\n",
      "r4   Python  23093.0   45days     2500 NaN\n",
      "r5   pandas  24000.0      NaN      NaT NaN\n",
      "        NaN      NaN      NaN      NaN NaN\n"
     ]
    }
   ],
   "source": [
    "# Create DataFrame\n",
    "import pandas as pd\n",
    "import numpy as np\n",
    "technologies = {\n",
    "    'Courses':[\"Spark\",\"PySpark\",\"Hadoop\",\"Python\",\"pandas\",np.nan],\n",
    "    'Fee' :[20000,25000,26000,23093,24000,np.nan],\n",
    "    'Duration':['30day','40days','35days','45days',np.nan,np.nan],\n",
    "    'Discount':[1000,np.nan,1200,2500,pd.NaT,np.nan],\n",
    "    '':[np.nan,np.nan,np.nan,np.nan,np.nan,np.nan]\n",
    "              }\n",
    "index_labels=['r1','r2','r3','r4','r5','']\n",
    "df = pd.DataFrame(technologies,index=index_labels)\n",
    "print(df)"
   ]
  },
  {
   "cell_type": "code",
   "execution_count": 277,
   "id": "0ba97af0",
   "metadata": {},
   "outputs": [
    {
     "data": {
      "text/html": [
       "<div>\n",
       "<style scoped>\n",
       "    .dataframe tbody tr th:only-of-type {\n",
       "        vertical-align: middle;\n",
       "    }\n",
       "\n",
       "    .dataframe tbody tr th {\n",
       "        vertical-align: top;\n",
       "    }\n",
       "\n",
       "    .dataframe thead th {\n",
       "        text-align: right;\n",
       "    }\n",
       "</style>\n",
       "<table border=\"1\" class=\"dataframe\">\n",
       "  <thead>\n",
       "    <tr style=\"text-align: right;\">\n",
       "      <th></th>\n",
       "      <th>Courses</th>\n",
       "      <th>Fee</th>\n",
       "      <th>Duration</th>\n",
       "      <th>Discount</th>\n",
       "      <th></th>\n",
       "    </tr>\n",
       "  </thead>\n",
       "  <tbody>\n",
       "    <tr>\n",
       "      <th>r1</th>\n",
       "      <td>Spark</td>\n",
       "      <td>20000.0</td>\n",
       "      <td>30day</td>\n",
       "      <td>1000</td>\n",
       "      <td>NaN</td>\n",
       "    </tr>\n",
       "    <tr>\n",
       "      <th>r2</th>\n",
       "      <td>PySpark</td>\n",
       "      <td>25000.0</td>\n",
       "      <td>40days</td>\n",
       "      <td>NaN</td>\n",
       "      <td>NaN</td>\n",
       "    </tr>\n",
       "    <tr>\n",
       "      <th>r3</th>\n",
       "      <td>Hadoop</td>\n",
       "      <td>26000.0</td>\n",
       "      <td>35days</td>\n",
       "      <td>1200</td>\n",
       "      <td>NaN</td>\n",
       "    </tr>\n",
       "    <tr>\n",
       "      <th>r4</th>\n",
       "      <td>Python</td>\n",
       "      <td>23093.0</td>\n",
       "      <td>45days</td>\n",
       "      <td>2500</td>\n",
       "      <td>NaN</td>\n",
       "    </tr>\n",
       "    <tr>\n",
       "      <th>r5</th>\n",
       "      <td>pandas</td>\n",
       "      <td>24000.0</td>\n",
       "      <td>NaN</td>\n",
       "      <td>NaT</td>\n",
       "      <td>NaN</td>\n",
       "    </tr>\n",
       "  </tbody>\n",
       "</table>\n",
       "</div>"
      ],
      "text/plain": [
       "    Courses      Fee Duration Discount    \n",
       "r1    Spark  20000.0    30day     1000 NaN\n",
       "r2  PySpark  25000.0   40days      NaN NaN\n",
       "r3   Hadoop  26000.0   35days     1200 NaN\n",
       "r4   Python  23093.0   45days     2500 NaN\n",
       "r5   pandas  24000.0      NaN      NaT NaN"
      ]
     },
     "execution_count": 277,
     "metadata": {},
     "output_type": "execute_result"
    }
   ],
   "source": [
    "df.dropna(how='all') ## Drop rows that has all Nan Value"
   ]
  },
  {
   "cell_type": "code",
   "execution_count": 278,
   "id": "03cba9d4",
   "metadata": {},
   "outputs": [
    {
     "data": {
      "text/html": [
       "<div>\n",
       "<style scoped>\n",
       "    .dataframe tbody tr th:only-of-type {\n",
       "        vertical-align: middle;\n",
       "    }\n",
       "\n",
       "    .dataframe tbody tr th {\n",
       "        vertical-align: top;\n",
       "    }\n",
       "\n",
       "    .dataframe thead th {\n",
       "        text-align: right;\n",
       "    }\n",
       "</style>\n",
       "<table border=\"1\" class=\"dataframe\">\n",
       "  <thead>\n",
       "    <tr style=\"text-align: right;\">\n",
       "      <th></th>\n",
       "      <th>Courses</th>\n",
       "      <th>Fee</th>\n",
       "      <th>Duration</th>\n",
       "      <th>Discount</th>\n",
       "    </tr>\n",
       "  </thead>\n",
       "  <tbody>\n",
       "    <tr>\n",
       "      <th>r1</th>\n",
       "      <td>Spark</td>\n",
       "      <td>20000.0</td>\n",
       "      <td>30day</td>\n",
       "      <td>1000</td>\n",
       "    </tr>\n",
       "    <tr>\n",
       "      <th>r2</th>\n",
       "      <td>PySpark</td>\n",
       "      <td>25000.0</td>\n",
       "      <td>40days</td>\n",
       "      <td>NaN</td>\n",
       "    </tr>\n",
       "    <tr>\n",
       "      <th>r3</th>\n",
       "      <td>Hadoop</td>\n",
       "      <td>26000.0</td>\n",
       "      <td>35days</td>\n",
       "      <td>1200</td>\n",
       "    </tr>\n",
       "    <tr>\n",
       "      <th>r4</th>\n",
       "      <td>Python</td>\n",
       "      <td>23093.0</td>\n",
       "      <td>45days</td>\n",
       "      <td>2500</td>\n",
       "    </tr>\n",
       "    <tr>\n",
       "      <th>r5</th>\n",
       "      <td>pandas</td>\n",
       "      <td>24000.0</td>\n",
       "      <td>NaN</td>\n",
       "      <td>NaT</td>\n",
       "    </tr>\n",
       "    <tr>\n",
       "      <th></th>\n",
       "      <td>NaN</td>\n",
       "      <td>NaN</td>\n",
       "      <td>NaN</td>\n",
       "      <td>NaN</td>\n",
       "    </tr>\n",
       "  </tbody>\n",
       "</table>\n",
       "</div>"
      ],
      "text/plain": [
       "    Courses      Fee Duration Discount\n",
       "r1    Spark  20000.0    30day     1000\n",
       "r2  PySpark  25000.0   40days      NaN\n",
       "r3   Hadoop  26000.0   35days     1200\n",
       "r4   Python  23093.0   45days     2500\n",
       "r5   pandas  24000.0      NaN      NaT\n",
       "        NaN      NaN      NaN      NaN"
      ]
     },
     "execution_count": 278,
     "metadata": {},
     "output_type": "execute_result"
    }
   ],
   "source": [
    "df.dropna(how='all',axis=1) "
   ]
  },
  {
   "cell_type": "code",
   "execution_count": 282,
   "id": "85c3506d",
   "metadata": {},
   "outputs": [
    {
     "data": {
      "text/html": [
       "<div>\n",
       "<style scoped>\n",
       "    .dataframe tbody tr th:only-of-type {\n",
       "        vertical-align: middle;\n",
       "    }\n",
       "\n",
       "    .dataframe tbody tr th {\n",
       "        vertical-align: top;\n",
       "    }\n",
       "\n",
       "    .dataframe thead th {\n",
       "        text-align: right;\n",
       "    }\n",
       "</style>\n",
       "<table border=\"1\" class=\"dataframe\">\n",
       "  <thead>\n",
       "    <tr style=\"text-align: right;\">\n",
       "      <th></th>\n",
       "      <th>Courses</th>\n",
       "      <th>Fee</th>\n",
       "      <th>Duration</th>\n",
       "      <th>Discount</th>\n",
       "      <th></th>\n",
       "    </tr>\n",
       "  </thead>\n",
       "  <tbody>\n",
       "    <tr>\n",
       "      <th>r1</th>\n",
       "      <td>Spark</td>\n",
       "      <td>20000.0</td>\n",
       "      <td>30day</td>\n",
       "      <td>1000</td>\n",
       "      <td>NaN</td>\n",
       "    </tr>\n",
       "    <tr>\n",
       "      <th>r2</th>\n",
       "      <td>PySpark</td>\n",
       "      <td>25000.0</td>\n",
       "      <td>40days</td>\n",
       "      <td>NaN</td>\n",
       "      <td>NaN</td>\n",
       "    </tr>\n",
       "    <tr>\n",
       "      <th>r3</th>\n",
       "      <td>Hadoop</td>\n",
       "      <td>26000.0</td>\n",
       "      <td>35days</td>\n",
       "      <td>1200</td>\n",
       "      <td>NaN</td>\n",
       "    </tr>\n",
       "    <tr>\n",
       "      <th>r4</th>\n",
       "      <td>Python</td>\n",
       "      <td>23093.0</td>\n",
       "      <td>45days</td>\n",
       "      <td>2500</td>\n",
       "      <td>NaN</td>\n",
       "    </tr>\n",
       "    <tr>\n",
       "      <th>r5</th>\n",
       "      <td>pandas</td>\n",
       "      <td>24000.0</td>\n",
       "      <td>NaN</td>\n",
       "      <td>NaT</td>\n",
       "      <td>NaN</td>\n",
       "    </tr>\n",
       "    <tr>\n",
       "      <th></th>\n",
       "      <td>NaN</td>\n",
       "      <td>NaN</td>\n",
       "      <td>NaN</td>\n",
       "      <td>NaN</td>\n",
       "      <td>NaN</td>\n",
       "    </tr>\n",
       "  </tbody>\n",
       "</table>\n",
       "</div>"
      ],
      "text/plain": [
       "    Courses      Fee Duration Discount    \n",
       "r1    Spark  20000.0    30day     1000 NaN\n",
       "r2  PySpark  25000.0   40days      NaN NaN\n",
       "r3   Hadoop  26000.0   35days     1200 NaN\n",
       "r4   Python  23093.0   45days     2500 NaN\n",
       "r5   pandas  24000.0      NaN      NaT NaN\n",
       "        NaN      NaN      NaN      NaN NaN"
      ]
     },
     "execution_count": 282,
     "metadata": {},
     "output_type": "execute_result"
    }
   ],
   "source": [
    "dat = df \n",
    "dat"
   ]
  },
  {
   "cell_type": "code",
   "execution_count": 286,
   "id": "8ef0d188",
   "metadata": {},
   "outputs": [
    {
     "data": {
      "text/html": [
       "<div>\n",
       "<style scoped>\n",
       "    .dataframe tbody tr th:only-of-type {\n",
       "        vertical-align: middle;\n",
       "    }\n",
       "\n",
       "    .dataframe tbody tr th {\n",
       "        vertical-align: top;\n",
       "    }\n",
       "\n",
       "    .dataframe thead th {\n",
       "        text-align: right;\n",
       "    }\n",
       "</style>\n",
       "<table border=\"1\" class=\"dataframe\">\n",
       "  <thead>\n",
       "    <tr style=\"text-align: right;\">\n",
       "      <th></th>\n",
       "      <th>Courses</th>\n",
       "      <th>Fee</th>\n",
       "      <th>Duration</th>\n",
       "      <th>Discount</th>\n",
       "      <th></th>\n",
       "    </tr>\n",
       "  </thead>\n",
       "  <tbody>\n",
       "    <tr>\n",
       "      <th>r1</th>\n",
       "      <td>Spark</td>\n",
       "      <td>20000.0</td>\n",
       "      <td>30day</td>\n",
       "      <td>1000</td>\n",
       "      <td>NaN</td>\n",
       "    </tr>\n",
       "    <tr>\n",
       "      <th>r2</th>\n",
       "      <td>PySpark</td>\n",
       "      <td>25000.0</td>\n",
       "      <td>40days</td>\n",
       "      <td>NaN</td>\n",
       "      <td>NaN</td>\n",
       "    </tr>\n",
       "    <tr>\n",
       "      <th>r3</th>\n",
       "      <td>Hadoop</td>\n",
       "      <td>26000.0</td>\n",
       "      <td>35days</td>\n",
       "      <td>1200</td>\n",
       "      <td>NaN</td>\n",
       "    </tr>\n",
       "    <tr>\n",
       "      <th>r4</th>\n",
       "      <td>Python</td>\n",
       "      <td>23093.0</td>\n",
       "      <td>45days</td>\n",
       "      <td>2500</td>\n",
       "      <td>NaN</td>\n",
       "    </tr>\n",
       "    <tr>\n",
       "      <th>r5</th>\n",
       "      <td>pandas</td>\n",
       "      <td>24000.0</td>\n",
       "      <td>NaN</td>\n",
       "      <td>NaT</td>\n",
       "      <td>NaN</td>\n",
       "    </tr>\n",
       "    <tr>\n",
       "      <th></th>\n",
       "      <td>NaN</td>\n",
       "      <td>NaN</td>\n",
       "      <td>NaN</td>\n",
       "      <td>NaN</td>\n",
       "      <td>NaN</td>\n",
       "    </tr>\n",
       "  </tbody>\n",
       "</table>\n",
       "</div>"
      ],
      "text/plain": [
       "    Courses      Fee Duration Discount    \n",
       "r1    Spark  20000.0    30day     1000 NaN\n",
       "r2  PySpark  25000.0   40days      NaN NaN\n",
       "r3   Hadoop  26000.0   35days     1200 NaN\n",
       "r4   Python  23093.0   45days     2500 NaN\n",
       "r5   pandas  24000.0      NaN      NaT NaN\n",
       "        NaN      NaN      NaN      NaN NaN"
      ]
     },
     "execution_count": 286,
     "metadata": {},
     "output_type": "execute_result"
    }
   ],
   "source": [
    "df"
   ]
  },
  {
   "cell_type": "code",
   "execution_count": 284,
   "id": "caa94e17",
   "metadata": {},
   "outputs": [
    {
     "data": {
      "text/html": [
       "<div>\n",
       "<style scoped>\n",
       "    .dataframe tbody tr th:only-of-type {\n",
       "        vertical-align: middle;\n",
       "    }\n",
       "\n",
       "    .dataframe tbody tr th {\n",
       "        vertical-align: top;\n",
       "    }\n",
       "\n",
       "    .dataframe thead th {\n",
       "        text-align: right;\n",
       "    }\n",
       "</style>\n",
       "<table border=\"1\" class=\"dataframe\">\n",
       "  <thead>\n",
       "    <tr style=\"text-align: right;\">\n",
       "      <th></th>\n",
       "      <th>Courses</th>\n",
       "      <th>Fee</th>\n",
       "      <th>Duration</th>\n",
       "      <th>Discount</th>\n",
       "      <th></th>\n",
       "    </tr>\n",
       "  </thead>\n",
       "  <tbody>\n",
       "  </tbody>\n",
       "</table>\n",
       "</div>"
      ],
      "text/plain": [
       "Empty DataFrame\n",
       "Columns: [Courses, Fee, Duration, Discount, ]\n",
       "Index: []"
      ]
     },
     "execution_count": 284,
     "metadata": {},
     "output_type": "execute_result"
    }
   ],
   "source": [
    "dat= dat.dropna()\n",
    "dat"
   ]
  },
  {
   "cell_type": "code",
   "execution_count": 289,
   "id": "2a9e3448",
   "metadata": {},
   "outputs": [
    {
     "name": "stdout",
     "output_type": "stream",
     "text": [
      "    Courses      Fee Duration Discount    \n",
      "r1    Spark  20000.0    30day     1000 NaN\n",
      "r2  PySpark  25000.0   40days      NaN NaN\n",
      "r3   Hadoop  26000.0   35days     1200 NaN\n",
      "r4   Python  23093.0   45days     2500 NaN\n"
     ]
    }
   ],
   "source": [
    "# Drop rows that has NaN values on selected columns\n",
    "df2=df.dropna(subset=['Courses','Duration'])\n",
    "print(df2)"
   ]
  },
  {
   "cell_type": "code",
   "execution_count": 290,
   "id": "fd01c513",
   "metadata": {},
   "outputs": [
    {
     "data": {
      "text/html": [
       "<div>\n",
       "<style scoped>\n",
       "    .dataframe tbody tr th:only-of-type {\n",
       "        vertical-align: middle;\n",
       "    }\n",
       "\n",
       "    .dataframe tbody tr th {\n",
       "        vertical-align: top;\n",
       "    }\n",
       "\n",
       "    .dataframe thead th {\n",
       "        text-align: right;\n",
       "    }\n",
       "</style>\n",
       "<table border=\"1\" class=\"dataframe\">\n",
       "  <thead>\n",
       "    <tr style=\"text-align: right;\">\n",
       "      <th></th>\n",
       "      <th>Courses</th>\n",
       "      <th>Fee</th>\n",
       "      <th>Duration</th>\n",
       "      <th>Discount</th>\n",
       "      <th></th>\n",
       "    </tr>\n",
       "  </thead>\n",
       "  <tbody>\n",
       "    <tr>\n",
       "      <th>r1</th>\n",
       "      <td>Spark</td>\n",
       "      <td>20000.0</td>\n",
       "      <td>30day</td>\n",
       "      <td>1000</td>\n",
       "      <td>NaN</td>\n",
       "    </tr>\n",
       "    <tr>\n",
       "      <th>r2</th>\n",
       "      <td>PySpark</td>\n",
       "      <td>25000.0</td>\n",
       "      <td>40days</td>\n",
       "      <td>NaN</td>\n",
       "      <td>NaN</td>\n",
       "    </tr>\n",
       "    <tr>\n",
       "      <th>r3</th>\n",
       "      <td>Hadoop</td>\n",
       "      <td>26000.0</td>\n",
       "      <td>35days</td>\n",
       "      <td>1200</td>\n",
       "      <td>NaN</td>\n",
       "    </tr>\n",
       "    <tr>\n",
       "      <th>r4</th>\n",
       "      <td>Python</td>\n",
       "      <td>23093.0</td>\n",
       "      <td>45days</td>\n",
       "      <td>2500</td>\n",
       "      <td>NaN</td>\n",
       "    </tr>\n",
       "    <tr>\n",
       "      <th>r5</th>\n",
       "      <td>pandas</td>\n",
       "      <td>24000.0</td>\n",
       "      <td>NaN</td>\n",
       "      <td>NaT</td>\n",
       "      <td>NaN</td>\n",
       "    </tr>\n",
       "  </tbody>\n",
       "</table>\n",
       "</div>"
      ],
      "text/plain": [
       "    Courses      Fee Duration Discount    \n",
       "r1    Spark  20000.0    30day     1000 NaN\n",
       "r2  PySpark  25000.0   40days      NaN NaN\n",
       "r3   Hadoop  26000.0   35days     1200 NaN\n",
       "r4   Python  23093.0   45days     2500 NaN\n",
       "r5   pandas  24000.0      NaN      NaT NaN"
      ]
     },
     "execution_count": 290,
     "metadata": {},
     "output_type": "execute_result"
    }
   ],
   "source": [
    "# Keep only the rows with at least 2 non-NA values.\n",
    "df2=df.dropna(thresh=2)\n",
    "df2"
   ]
  },
  {
   "cell_type": "raw",
   "id": "e91d19f3",
   "metadata": {},
   "source": [
    "#pandas.DataFrame.sort_values()\n",
    "\n",
    "# Syntax of DataFrame.sort_values()\n",
    "DataFrame.sort_values(by, axis=0, ascending=True, inplace=False, kind='quicksort', na_position='last', ignore_index=False, key=None)\n",
    "by – Accepts column/row name as list or list of names to sort.\n",
    "axis – Axis to be sorted,default set to 0. 0 or ‘index’ & 1 or ‘columns’\n",
    "ascending – bool or list of bool. Specify to do sort by ascending or descending order. Default ascending.\n",
    "inplace – If True, updates existing DataFrame. Default set to False.\n",
    "kind – Sorting alorithm to choose from {‘quicksort’, ‘mergesort’, ‘heapsort’, ‘stable’}, default ‘quicksort’\n",
    "na_position – Specify where to keep the NaN’s. {‘first’, ‘last’}, Default set to ‘last’.\n",
    "ignore_index – Specify to reset the index starting from zero. Default set to false.\n",
    "key – callable, optional\n",
    "\n",
    "It supports and provides a param to choose from ‘quicksort’, ‘mergesort’ and ‘heapsort’ algorithms.\n",
    "By default performs ascending order.\n",
    "All NaN values are pushed towards end on sorted column. Provides a way to show it at top.\n",
    "You can reset the index on sorted result."
   ]
  },
  {
   "cell_type": "code",
   "execution_count": 292,
   "id": "02fcb3a0",
   "metadata": {},
   "outputs": [
    {
     "name": "stdout",
     "output_type": "stream",
     "text": [
      "   Courses    Fee Duration  Discount\n",
      "r1   Spark  20000   30days      1000\n",
      "r3     NaN  25000   40days      2500\n",
      "r5  pandas  30000   35days      1500\n",
      "r2    Java  22000   60days      1200\n",
      "r4   Spark  26000   50days      3000\n"
     ]
    }
   ],
   "source": [
    "technologies = ({\n",
    "    'Courses':[\"Spark\",np.nan,\"pandas\",\"Java\",\"Spark\"],\n",
    "    'Fee' :[20000,25000,30000,22000,26000],\n",
    "    'Duration':['30days','40days','35days','60days','50days'],\n",
    "    'Discount':[1000,2500,1500,1200,3000]\n",
    "               })\n",
    "df = pd.DataFrame(technologies, index = ['r1','r3','r5','r2','r4'])\n",
    "print(df)"
   ]
  },
  {
   "cell_type": "code",
   "execution_count": 293,
   "id": "991a2816",
   "metadata": {},
   "outputs": [
    {
     "data": {
      "text/html": [
       "<div>\n",
       "<style scoped>\n",
       "    .dataframe tbody tr th:only-of-type {\n",
       "        vertical-align: middle;\n",
       "    }\n",
       "\n",
       "    .dataframe tbody tr th {\n",
       "        vertical-align: top;\n",
       "    }\n",
       "\n",
       "    .dataframe thead th {\n",
       "        text-align: right;\n",
       "    }\n",
       "</style>\n",
       "<table border=\"1\" class=\"dataframe\">\n",
       "  <thead>\n",
       "    <tr style=\"text-align: right;\">\n",
       "      <th></th>\n",
       "      <th>Courses</th>\n",
       "      <th>Fee</th>\n",
       "      <th>Duration</th>\n",
       "      <th>Discount</th>\n",
       "    </tr>\n",
       "  </thead>\n",
       "  <tbody>\n",
       "    <tr>\n",
       "      <th>r2</th>\n",
       "      <td>Java</td>\n",
       "      <td>22000</td>\n",
       "      <td>60days</td>\n",
       "      <td>1200</td>\n",
       "    </tr>\n",
       "    <tr>\n",
       "      <th>r1</th>\n",
       "      <td>Spark</td>\n",
       "      <td>20000</td>\n",
       "      <td>30days</td>\n",
       "      <td>1000</td>\n",
       "    </tr>\n",
       "    <tr>\n",
       "      <th>r4</th>\n",
       "      <td>Spark</td>\n",
       "      <td>26000</td>\n",
       "      <td>50days</td>\n",
       "      <td>3000</td>\n",
       "    </tr>\n",
       "    <tr>\n",
       "      <th>r5</th>\n",
       "      <td>pandas</td>\n",
       "      <td>30000</td>\n",
       "      <td>35days</td>\n",
       "      <td>1500</td>\n",
       "    </tr>\n",
       "    <tr>\n",
       "      <th>r3</th>\n",
       "      <td>NaN</td>\n",
       "      <td>25000</td>\n",
       "      <td>40days</td>\n",
       "      <td>2500</td>\n",
       "    </tr>\n",
       "  </tbody>\n",
       "</table>\n",
       "</div>"
      ],
      "text/plain": [
       "   Courses    Fee Duration  Discount\n",
       "r2    Java  22000   60days      1200\n",
       "r1   Spark  20000   30days      1000\n",
       "r4   Spark  26000   50days      3000\n",
       "r5  pandas  30000   35days      1500\n",
       "r3     NaN  25000   40days      2500"
      ]
     },
     "execution_count": 293,
     "metadata": {},
     "output_type": "execute_result"
    }
   ],
   "source": [
    "df.sort_values('Courses')"
   ]
  },
  {
   "cell_type": "code",
   "execution_count": 294,
   "id": "4afab7fb",
   "metadata": {},
   "outputs": [
    {
     "data": {
      "text/html": [
       "<div>\n",
       "<style scoped>\n",
       "    .dataframe tbody tr th:only-of-type {\n",
       "        vertical-align: middle;\n",
       "    }\n",
       "\n",
       "    .dataframe tbody tr th {\n",
       "        vertical-align: top;\n",
       "    }\n",
       "\n",
       "    .dataframe thead th {\n",
       "        text-align: right;\n",
       "    }\n",
       "</style>\n",
       "<table border=\"1\" class=\"dataframe\">\n",
       "  <thead>\n",
       "    <tr style=\"text-align: right;\">\n",
       "      <th></th>\n",
       "      <th>Courses</th>\n",
       "      <th>Fee</th>\n",
       "      <th>Duration</th>\n",
       "      <th>Discount</th>\n",
       "    </tr>\n",
       "  </thead>\n",
       "  <tbody>\n",
       "    <tr>\n",
       "      <th>r5</th>\n",
       "      <td>pandas</td>\n",
       "      <td>30000</td>\n",
       "      <td>35days</td>\n",
       "      <td>1500</td>\n",
       "    </tr>\n",
       "    <tr>\n",
       "      <th>r1</th>\n",
       "      <td>Spark</td>\n",
       "      <td>20000</td>\n",
       "      <td>30days</td>\n",
       "      <td>1000</td>\n",
       "    </tr>\n",
       "    <tr>\n",
       "      <th>r4</th>\n",
       "      <td>Spark</td>\n",
       "      <td>26000</td>\n",
       "      <td>50days</td>\n",
       "      <td>3000</td>\n",
       "    </tr>\n",
       "    <tr>\n",
       "      <th>r2</th>\n",
       "      <td>Java</td>\n",
       "      <td>22000</td>\n",
       "      <td>60days</td>\n",
       "      <td>1200</td>\n",
       "    </tr>\n",
       "    <tr>\n",
       "      <th>r3</th>\n",
       "      <td>NaN</td>\n",
       "      <td>25000</td>\n",
       "      <td>40days</td>\n",
       "      <td>2500</td>\n",
       "    </tr>\n",
       "  </tbody>\n",
       "</table>\n",
       "</div>"
      ],
      "text/plain": [
       "   Courses    Fee Duration  Discount\n",
       "r5  pandas  30000   35days      1500\n",
       "r1   Spark  20000   30days      1000\n",
       "r4   Spark  26000   50days      3000\n",
       "r2    Java  22000   60days      1200\n",
       "r3     NaN  25000   40days      2500"
      ]
     },
     "execution_count": 294,
     "metadata": {},
     "output_type": "execute_result"
    }
   ],
   "source": [
    "df.sort_values('Courses', ascending=False)"
   ]
  },
  {
   "cell_type": "code",
   "execution_count": 295,
   "id": "60697264",
   "metadata": {},
   "outputs": [
    {
     "name": "stdout",
     "output_type": "stream",
     "text": [
      "   Courses    Fee Duration  Discount\n",
      "r2    Java  22000   60days      1200\n",
      "r1   Spark  20000   30days      1000\n",
      "r4   Spark  26000   50days      3000\n",
      "r5  pandas  30000   35days      1500\n",
      "r3     NaN  25000   40days      2500\n"
     ]
    }
   ],
   "source": [
    "# Sory by multiple columns\n",
    "df2 = df.sort_values(by=['Courses','Fee'])\n",
    "print(df2)"
   ]
  },
  {
   "cell_type": "code",
   "execution_count": 296,
   "id": "80b6d136",
   "metadata": {},
   "outputs": [
    {
     "name": "stdout",
     "output_type": "stream",
     "text": [
      "   Courses    Fee Duration  Discount\n",
      "r3     NaN  25000   40days      2500\n",
      "r2    Java  22000   60days      1200\n",
      "r1   Spark  20000   30days      1000\n",
      "r4   Spark  26000   50days      3000\n",
      "r5  pandas  30000   35days      1500\n"
     ]
    }
   ],
   "source": [
    "# Sory by putting NaN at first\n",
    "df2 = df.sort_values(by=['Courses','Fee'], na_position='first')\n",
    "print(df2)"
   ]
  },
  {
   "cell_type": "raw",
   "id": "e2d01b8e",
   "metadata": {},
   "source": [
    " Syntax of sort_index() function\n",
    "DataFrame.sort_index(axis=0, level=None, ascending=True, inplace=False, kind='quicksort', na_position='last', sort_remaining=True, ignore_index=False, key=None)"
   ]
  },
  {
   "cell_type": "code",
   "execution_count": 297,
   "id": "38d46bae",
   "metadata": {},
   "outputs": [
    {
     "name": "stdout",
     "output_type": "stream",
     "text": [
      "    Courses    Fee Duration  Discount\n",
      "101   Spark  20000   30days      1000\n",
      "123     NaN  25000   40days      2500\n",
      "115  pandas  30000   35days      1500\n",
      "340    Java  22000   60days      1200\n",
      "100   Spark  26000   50days      3000\n"
     ]
    }
   ],
   "source": [
    "technologies = ({\n",
    "    'Courses':[\"Spark\",np.nan,\"pandas\",\"Java\",\"Spark\"],\n",
    "    'Fee' :[20000,25000,30000,22000,26000],\n",
    "    'Duration':['30days','40days','35days','60days','50days'],\n",
    "    'Discount':[1000,2500,1500,1200,3000]\n",
    "               })\n",
    "df = pd.DataFrame(technologies, index = [101,123,115,340,100])\n",
    "print(df)"
   ]
  },
  {
   "cell_type": "code",
   "execution_count": 298,
   "id": "136d923e",
   "metadata": {},
   "outputs": [
    {
     "data": {
      "text/html": [
       "<div>\n",
       "<style scoped>\n",
       "    .dataframe tbody tr th:only-of-type {\n",
       "        vertical-align: middle;\n",
       "    }\n",
       "\n",
       "    .dataframe tbody tr th {\n",
       "        vertical-align: top;\n",
       "    }\n",
       "\n",
       "    .dataframe thead th {\n",
       "        text-align: right;\n",
       "    }\n",
       "</style>\n",
       "<table border=\"1\" class=\"dataframe\">\n",
       "  <thead>\n",
       "    <tr style=\"text-align: right;\">\n",
       "      <th></th>\n",
       "      <th>Courses</th>\n",
       "      <th>Fee</th>\n",
       "      <th>Duration</th>\n",
       "      <th>Discount</th>\n",
       "    </tr>\n",
       "  </thead>\n",
       "  <tbody>\n",
       "    <tr>\n",
       "      <th>100</th>\n",
       "      <td>Spark</td>\n",
       "      <td>26000</td>\n",
       "      <td>50days</td>\n",
       "      <td>3000</td>\n",
       "    </tr>\n",
       "    <tr>\n",
       "      <th>101</th>\n",
       "      <td>Spark</td>\n",
       "      <td>20000</td>\n",
       "      <td>30days</td>\n",
       "      <td>1000</td>\n",
       "    </tr>\n",
       "    <tr>\n",
       "      <th>115</th>\n",
       "      <td>pandas</td>\n",
       "      <td>30000</td>\n",
       "      <td>35days</td>\n",
       "      <td>1500</td>\n",
       "    </tr>\n",
       "    <tr>\n",
       "      <th>123</th>\n",
       "      <td>NaN</td>\n",
       "      <td>25000</td>\n",
       "      <td>40days</td>\n",
       "      <td>2500</td>\n",
       "    </tr>\n",
       "    <tr>\n",
       "      <th>340</th>\n",
       "      <td>Java</td>\n",
       "      <td>22000</td>\n",
       "      <td>60days</td>\n",
       "      <td>1200</td>\n",
       "    </tr>\n",
       "  </tbody>\n",
       "</table>\n",
       "</div>"
      ],
      "text/plain": [
       "    Courses    Fee Duration  Discount\n",
       "100   Spark  26000   50days      3000\n",
       "101   Spark  20000   30days      1000\n",
       "115  pandas  30000   35days      1500\n",
       "123     NaN  25000   40days      2500\n",
       "340    Java  22000   60days      1200"
      ]
     },
     "execution_count": 298,
     "metadata": {},
     "output_type": "execute_result"
    }
   ],
   "source": [
    "df.sort_index()"
   ]
  },
  {
   "cell_type": "code",
   "execution_count": 299,
   "id": "ed45d7ea",
   "metadata": {},
   "outputs": [
    {
     "data": {
      "text/html": [
       "<div>\n",
       "<style scoped>\n",
       "    .dataframe tbody tr th:only-of-type {\n",
       "        vertical-align: middle;\n",
       "    }\n",
       "\n",
       "    .dataframe tbody tr th {\n",
       "        vertical-align: top;\n",
       "    }\n",
       "\n",
       "    .dataframe thead th {\n",
       "        text-align: right;\n",
       "    }\n",
       "</style>\n",
       "<table border=\"1\" class=\"dataframe\">\n",
       "  <thead>\n",
       "    <tr style=\"text-align: right;\">\n",
       "      <th></th>\n",
       "      <th>Courses</th>\n",
       "      <th>Fee</th>\n",
       "      <th>Duration</th>\n",
       "      <th>Discount</th>\n",
       "    </tr>\n",
       "  </thead>\n",
       "  <tbody>\n",
       "    <tr>\n",
       "      <th>0</th>\n",
       "      <td>Spark</td>\n",
       "      <td>26000</td>\n",
       "      <td>50days</td>\n",
       "      <td>3000</td>\n",
       "    </tr>\n",
       "    <tr>\n",
       "      <th>1</th>\n",
       "      <td>Spark</td>\n",
       "      <td>20000</td>\n",
       "      <td>30days</td>\n",
       "      <td>1000</td>\n",
       "    </tr>\n",
       "    <tr>\n",
       "      <th>2</th>\n",
       "      <td>pandas</td>\n",
       "      <td>30000</td>\n",
       "      <td>35days</td>\n",
       "      <td>1500</td>\n",
       "    </tr>\n",
       "    <tr>\n",
       "      <th>3</th>\n",
       "      <td>NaN</td>\n",
       "      <td>25000</td>\n",
       "      <td>40days</td>\n",
       "      <td>2500</td>\n",
       "    </tr>\n",
       "    <tr>\n",
       "      <th>4</th>\n",
       "      <td>Java</td>\n",
       "      <td>22000</td>\n",
       "      <td>60days</td>\n",
       "      <td>1200</td>\n",
       "    </tr>\n",
       "  </tbody>\n",
       "</table>\n",
       "</div>"
      ],
      "text/plain": [
       "  Courses    Fee Duration  Discount\n",
       "0   Spark  26000   50days      3000\n",
       "1   Spark  20000   30days      1000\n",
       "2  pandas  30000   35days      1500\n",
       "3     NaN  25000   40days      2500\n",
       "4    Java  22000   60days      1200"
      ]
     },
     "execution_count": 299,
     "metadata": {},
     "output_type": "execute_result"
    }
   ],
   "source": [
    "df.sort_index(ignore_index=True)"
   ]
  },
  {
   "cell_type": "code",
   "execution_count": 300,
   "id": "a80ee85e",
   "metadata": {},
   "outputs": [
    {
     "name": "stdout",
     "output_type": "stream",
     "text": [
      "    Courses  Discount Duration    Fee\n",
      "101   Spark      1000   30days  20000\n",
      "123     NaN      2500   40days  25000\n",
      "115  pandas      1500   35days  30000\n",
      "340    Java      1200   60days  22000\n",
      "100   Spark      3000   50days  26000\n"
     ]
    }
   ],
   "source": [
    "# Sort by column names\n",
    "df2 = df.sort_index(axis=1)\n",
    "print(df2)"
   ]
  },
  {
   "cell_type": "code",
   "execution_count": null,
   "id": "0dbeff0f",
   "metadata": {},
   "outputs": [],
   "source": []
  },
  {
   "cell_type": "code",
   "execution_count": null,
   "id": "67548059",
   "metadata": {},
   "outputs": [],
   "source": []
  },
  {
   "cell_type": "code",
   "execution_count": null,
   "id": "4bf46e65",
   "metadata": {},
   "outputs": [],
   "source": []
  },
  {
   "cell_type": "raw",
   "id": "bd01b813",
   "metadata": {},
   "source": [
    "PANDAS RENAME SCENARIO\tRENAME COLUMN EXAMPLE\n",
    "Rename columns with list\tdf.columns=[‘A’,’B’,’C’]\n",
    "Rename column name by index\tdf.columns.values[2] = “C”\n",
    "Rename the column using Dict\tdf2=df.rename(columns={‘a’: ‘A’, ‘b’: ‘B’})\n",
    "Rename column using Dict & axis\tdf2=df.rename({‘a’: ‘A’, ‘b’: ‘B’}, axis=1)\n",
    "Rename column in place\tdf2=df.rename({‘a’: ‘A’, ‘b’: ‘B’}, axis=’columns’)\n",
    "df.rename(columns={‘a’: ‘A’, ‘b’: ‘B’}, in place = True)\tdf.rename(columns={‘a’: ‘A’, ‘b’: ‘B’}, inplace = True)\n",
    "Rename using lambda function\tdf.rename(columns=lambda x: x[1:], inplace=True)\n",
    "Rename with error\tdf.rename(columns = {‘x’:’X’}, errors = “raise”)\n",
    "Rename using set_asis()\tdf2=df.set_axis([‘A’,’B’,’C’], axis=1)"
   ]
  },
  {
   "cell_type": "code",
   "execution_count": 48,
   "id": "7d55a183",
   "metadata": {},
   "outputs": [
    {
     "data": {
      "text/plain": [
       "0"
      ]
     },
     "execution_count": 48,
     "metadata": {},
     "output_type": "execute_result"
    }
   ],
   "source": [
    "a=np.array([-1,1])\n",
    "b=np.array([1,1])\n",
    "np.dot(a,b) "
   ]
  },
  {
   "cell_type": "code",
   "execution_count": 49,
   "id": "50261076",
   "metadata": {},
   "outputs": [],
   "source": [
    "X=np.array([[1,0],[0,1]])\n",
    "Y=np.array([[2,2],[2,2]])\n",
    "Z=np.dot(X,Y)"
   ]
  },
  {
   "cell_type": "code",
   "execution_count": 50,
   "id": "17d7bf96",
   "metadata": {},
   "outputs": [
    {
     "data": {
      "text/plain": [
       "array([[2, 2],\n",
       "       [2, 2]])"
      ]
     },
     "execution_count": 50,
     "metadata": {},
     "output_type": "execute_result"
    }
   ],
   "source": [
    "Z"
   ]
  },
  {
   "cell_type": "code",
   "execution_count": 52,
   "id": "ff7fef3c",
   "metadata": {},
   "outputs": [
    {
     "data": {
      "text/plain": [
       "array([0, 0, 0, 0, 0])"
      ]
     },
     "execution_count": 52,
     "metadata": {},
     "output_type": "execute_result"
    }
   ],
   "source": [
    "a=np.array([0,1,0,1,0])\n",
    "b=np.array([1,0,1,0,1]) \n",
    "a*b "
   ]
  },
  {
   "cell_type": "code",
   "execution_count": null,
   "id": "e4c2f243",
   "metadata": {},
   "outputs": [],
   "source": []
  },
  {
   "cell_type": "code",
   "execution_count": null,
   "id": "a8e0d712",
   "metadata": {},
   "outputs": [],
   "source": []
  },
  {
   "cell_type": "code",
   "execution_count": null,
   "id": "d71f04ad",
   "metadata": {},
   "outputs": [],
   "source": [
    "Reading and writing files\n",
    "Package/Method\tDescription\tSyntax and Code Example\n",
    "File opening modes\tDifferent modes to open files for specific operations.\tSyntax: r (reading) w (writing) a (appending) + (updating: read/write) b (binary, otherwise text)\n",
    "1\n",
    "Examples: with open(\"data.txt\", \"r\") as file: content = file.read() print(content) with open(\"output.txt\", \"w\") as file: file.write(\"Hello, world!\") with open(\"log.txt\", \"a\") as file: file.write(\"Log entry: Something happened.\") with open(\"data.txt\", \"r+\") as file: content = file.read() file.write(\"Updated content: \" + content)</td>\n",
    "Copied!\n",
    "File reading methods\tDifferent methods to read file content in various ways.\tSyntax:\n",
    "1\n",
    "2\n",
    "3\n",
    "file.readlines() # reads all lines as a list\n",
    "readline() # reads the next line as a string\n",
    "file.read() # reads the entire file content as a string\n",
    "Copied!\n",
    "Example:\n",
    "\n",
    "1\n",
    "2\n",
    "3\n",
    "4\n",
    "with open(\"data.txt\", \"r\") as file:\n",
    "    lines = file.readlines()\n",
    "    next_line = file.readline()\n",
    "    content = file.read()\n",
    "Copied!\n",
    "File writing methods\tDifferent write methods to write content to a file.\tSyntax:\n",
    "1\n",
    "2\n",
    "file.write(content) # writes a string to the file\n",
    "file.writelines(lines) # writes a list of strings to the file\n",
    "Copied!\n",
    "Example:\n",
    "\n",
    "1\n",
    "2\n",
    "3\n",
    "lines = [\"Hello\\n\", \"World\\n\"]\n",
    "with open(\"output.txt\", \"w\") as file:\n",
    "    file.writelines(lines)\n",
    "Copied!\n",
    "Iterating over lines\tIterates through each line in the file using a `loop`.\tSyntax:\n",
    "1\n",
    "for line in file: # Code to process each line\n",
    "Copied!\n",
    "Example:\n",
    "\n",
    "1\n",
    "2\n",
    "with open(\"data.txt\", \"r\") as file:\n",
    "for line in file: print(line)\n",
    "Copied!\n",
    "Open() and close()\tOpens a file, performs operations, and explicitly closes the file using the close() method.\tSyntax:\n",
    "1\n",
    "2\n",
    "file = open(filename, mode) # Code that uses the file\n",
    "file.close()\n",
    "Copied!\n",
    "Example:\n",
    "\n",
    "1\n",
    "2\n",
    "3\n",
    "file = open(\"data.txt\", \"r\")\n",
    "content = file.read()\n",
    "file.close()\n",
    "Copied!\n",
    "with open()\tOpens a file using a with block, ensuring automatic file closure after usage.\tSyntax:\n",
    "1\n",
    "with open(filename, mode) as file: # Code that uses the file\n",
    "Copied!\n",
    "Example:\n",
    "\n",
    "1\n",
    "2\n",
    "with open(\"data.txt\", \"r\") as file:\n",
    "content = file.read()\n",
    "Copied!\n",
    "Pandas\n",
    "Package/Method\tDescription\tSyntax and Code Example\n",
    ".read_csv()\tReads data from a `.CSV` file and creates a DataFrame.\tSyntax: dataframe_name = pd.read_csv(\"filename.csv\") Example: df = pd.read_csv(\"data.csv\")\n",
    ".read_excel()\tReads data from an Excel file and creates a DataFrame.\tSyntax:\n",
    "1\n",
    "dataframe_name = pd.read_excel(\"filename.xlsx\")\n",
    "Copied!\n",
    "Example:\n",
    "\n",
    "1\n",
    "df = pd.read_excel(\"data.xlsx\")\n",
    "Copied!\n",
    ".to_csv()\tWrites DataFrame to a CSV file.\tSyntax:\n",
    "1\n",
    "dataframe_name.to_csv(\"output.csv\", index=False)\n",
    "Copied!\n",
    "Example:\n",
    "\n",
    "1\n",
    "df.to_csv(\"output.csv\", index=False)\n",
    "Copied!\n",
    "Access Columns\tAccesses a specific column using [] in the DataFrame.\tSyntax:\n",
    "1\n",
    "2\n",
    "dataframe_name[\"column_name\"] # Accesses single column\n",
    "dataframe_name[[\"column1\", \"column2\"]] # Accesses multiple columns\n",
    "Copied!\n",
    "Example:\n",
    "\n",
    "1\n",
    "2\n",
    "df[\"age\"]\n",
    "df[[\"name\", \"age\"]]\n",
    "Copied!\n",
    "describe()\tGenerates statistics summary of numeric columns in the DataFrame.\tSyntax:\n",
    "1\n",
    "dataframe_name.describe()\n",
    "Copied!\n",
    "Example:\n",
    "\n",
    "1\n",
    "df.describe()\n",
    "Copied!\n",
    "drop()\tRemoves specified rows or columns from the DataFrame. axis=1 indicates columns. axis=0 indicates rows.\tSyntax:\n",
    "1\n",
    "2\n",
    "dataframe_name.drop([\"column1\", \"column2\"], axis=1, inplace=True)\n",
    "dataframe_name.drop(index=[row1, row2], axis=0, inplace=True)\n",
    "Copied!\n",
    "Example:\n",
    "\n",
    "1\n",
    "2\n",
    "df.drop([\"age\", \"salary\"], axis=1, inplace=True) # Will drop columns\n",
    "df.drop(index=[5, 10], axis=0, inplace=True) # Will drop rows\n",
    "Copied!\n",
    "dropna()\tRemoves rows with missing NaN values from the DataFrame. axis=0 indicates rows.\tSyntax:\n",
    "1\n",
    "dataframe_name.dropna(axis=0, inplace=True)\n",
    "Copied!\n",
    "Example:\n",
    "\n",
    "1\n",
    "df.dropna(axis=0, inplace=True)\n",
    "Copied!\n",
    "duplicated()\tDuplicate or repetitive values or records within a data set.\tSyntax:\n",
    "1\n",
    "dataframe_name.duplicated()\n",
    "Copied!\n",
    "Example:\n",
    "\n",
    "1\n",
    "duplicate_rows = df[df.duplicated()]\n",
    "Copied!\n",
    "Filter Rows\tCreates a new DataFrame with rows that meet specified conditions.\tSyntax:\n",
    "1\n",
    "filtered_df = dataframe_name[(Conditional_statements)]\n",
    "Copied!\n",
    "Example:\n",
    "\n",
    "1\n",
    "filtered_df = df[(df[\"age\"] > 30) & (df[\"salary\"] < 50000)\n",
    "Copied!\n",
    "groupby()\tSplits a DataFrame into groups based on specified criteria, enabling subsequent aggregation, transformation, or analysis within each group.\tSyntax:\n",
    "1\n",
    "2\n",
    "grouped = dataframe_name.groupby(by, axis=0, level=None, as_index=True,\n",
    "sort=True, group_keys=True, squeeze=False, observed=False, dropna=True)\n",
    "Copied!\n",
    "Example:\n",
    "\n",
    "1\n",
    "grouped = df.groupby([\"category\", \"region\"]).agg({\"sales\": \"sum\"})\n",
    "Copied!\n",
    "head()\tDisplays the first n rows of the DataFrame.\tSyntax:\n",
    "1\n",
    "dataframe_name.head(n)\n",
    "Copied!\n",
    "Example:\n",
    "\n",
    "1\n",
    "df.head(5)\n",
    "Copied!\n",
    "Import pandas\tImports the Pandas library with the alias pd.\tSyntax:\n",
    "1\n",
    "import pandas as pd\n",
    "Copied!\n",
    "Example:\n",
    "\n",
    "1\n",
    "import pandas as pd\n",
    "Copied!\n",
    "info()\tProvides information about the DataFrame, including data types and memory usage.\tSyntax:\n",
    "1\n",
    "dataframe_name.info()\n",
    "Copied!\n",
    "Example:\n",
    "\n",
    "1\n",
    "df.info()\n",
    "Copied!\n",
    "merge()\tMerges two DataFrames based on multiple common columns.\tSyntax:\n",
    "1\n",
    "merged_df = pd.merge(df1, df2, on=[\"column1\", \"column2\"])\n",
    "Copied!\n",
    "Example:\n",
    "\n",
    "1\n",
    "merged_df = pd.merge(sales, products, on=[\"product_id\", \"category_id\"])\n",
    "Copied!\n",
    "print DataFrame\tDisplays the content of the DataFrame.\tSyntax:\n",
    "1\n",
    "print(df) # or just type df\n",
    "Copied!\n",
    "Example:\n",
    "\n",
    "1\n",
    "2\n",
    "print(df)\n",
    "df\n",
    "Copied!\n",
    "replace()\tReplaces specific values in a column with new values.\tSyntax:\n",
    "1\n",
    "dataframe_name[\"column_name\"].replace(old_value, new_value, inplace=True)\n",
    "Copied!\n",
    "Example:\n",
    "\n",
    "1\n",
    "df[\"status\"].replace(\"In Progress\", \"Active\", inplace=True)\n",
    "Copied!\n",
    "tail()\tDisplays the last n rows of the DataFrame.\tSyntax:\n",
    "1\n",
    "dataframe_name.tail(n)\n",
    "Copied!\n",
    "Example:\n",
    "\n",
    "1\n",
    "df.tail(5)\n",
    "Copied!\n",
    "Numpy\n",
    "Package/Method\tDescription\tSyntax and Code Example\n",
    "Importing NumPy\tImports the NumPy library.\tSyntax:\n",
    "1\n",
    "import numpy as np\n",
    "Copied!\n",
    "Example:\n",
    "\n",
    "1\n",
    "import numpy as np\n",
    "Copied!\n",
    "np.array()\tCreates a one or multi-dimensional array,\tSyntax:\n",
    "1\n",
    "2\n",
    "array_1d = np.array([list1 values]) # 1D Array\n",
    "array_2d = np.array([[list1 values], [list2 values]]) # 2D Array\n",
    "Copied!\n",
    "Example:\n",
    "\n",
    "1\n",
    "2\n",
    "array_1d = np.array([1, 2, 3]) # 1D Array\n",
    "array_2d = np.array([[1, 2], [3, 4]]) # 2D Array\n",
    "Copied!\n",
    "Numpy Array Attributes\t- Calculates the mean of array elements\n",
    "- Calculates the sum of array elements\n",
    "- Finds the minimum value in the array\n",
    "- Finds the maximum value in the array\n",
    "- Computes dot product of two arrays\tExample:\n",
    "1\n",
    "2\n",
    "3\n",
    "4\n",
    "5\n",
    "np.mean(array)\n",
    "np.sum(array)\n",
    "np.min(array\n",
    "np.max(array)\n",
    "np.dot(array_1, array_2)\n",
    "Copied!\n"
   ]
  },
  {
   "cell_type": "code",
   "execution_count": null,
   "id": "0fd8e5c9",
   "metadata": {},
   "outputs": [],
   "source": [
    "# Exercise"
   ]
  },
  {
   "cell_type": "code",
   "execution_count": 301,
   "id": "6aa51f9f",
   "metadata": {},
   "outputs": [],
   "source": [
    "data = {'X':[78,85,96,80,86], 'Y':[84,94,89,83,86],'Z':[86,97,96,72,83]}"
   ]
  },
  {
   "cell_type": "code",
   "execution_count": 302,
   "id": "0233bbb3",
   "metadata": {},
   "outputs": [],
   "source": [
    "import pandas as pd"
   ]
  },
  {
   "cell_type": "code",
   "execution_count": 305,
   "id": "085e2ad2",
   "metadata": {},
   "outputs": [
    {
     "data": {
      "text/html": [
       "<div>\n",
       "<style scoped>\n",
       "    .dataframe tbody tr th:only-of-type {\n",
       "        vertical-align: middle;\n",
       "    }\n",
       "\n",
       "    .dataframe tbody tr th {\n",
       "        vertical-align: top;\n",
       "    }\n",
       "\n",
       "    .dataframe thead th {\n",
       "        text-align: right;\n",
       "    }\n",
       "</style>\n",
       "<table border=\"1\" class=\"dataframe\">\n",
       "  <thead>\n",
       "    <tr style=\"text-align: right;\">\n",
       "      <th></th>\n",
       "      <th>X</th>\n",
       "      <th>Y</th>\n",
       "      <th>Z</th>\n",
       "    </tr>\n",
       "  </thead>\n",
       "  <tbody>\n",
       "    <tr>\n",
       "      <th>0</th>\n",
       "      <td>78</td>\n",
       "      <td>84</td>\n",
       "      <td>86</td>\n",
       "    </tr>\n",
       "    <tr>\n",
       "      <th>1</th>\n",
       "      <td>85</td>\n",
       "      <td>94</td>\n",
       "      <td>97</td>\n",
       "    </tr>\n",
       "    <tr>\n",
       "      <th>2</th>\n",
       "      <td>96</td>\n",
       "      <td>89</td>\n",
       "      <td>96</td>\n",
       "    </tr>\n",
       "    <tr>\n",
       "      <th>3</th>\n",
       "      <td>80</td>\n",
       "      <td>83</td>\n",
       "      <td>72</td>\n",
       "    </tr>\n",
       "    <tr>\n",
       "      <th>4</th>\n",
       "      <td>86</td>\n",
       "      <td>86</td>\n",
       "      <td>83</td>\n",
       "    </tr>\n",
       "  </tbody>\n",
       "</table>\n",
       "</div>"
      ],
      "text/plain": [
       "    X   Y   Z\n",
       "0  78  84  86\n",
       "1  85  94  97\n",
       "2  96  89  96\n",
       "3  80  83  72\n",
       "4  86  86  83"
      ]
     },
     "execution_count": 305,
     "metadata": {},
     "output_type": "execute_result"
    }
   ],
   "source": [
    "df = pd.DataFrame(data)\n",
    "df.head(5)"
   ]
  },
  {
   "cell_type": "code",
   "execution_count": 307,
   "id": "e79dce45",
   "metadata": {},
   "outputs": [],
   "source": [
    "# Sample Python dictionary data and list labels:\n",
    "exam_data = {'name': ['Anastasia', 'Dima', 'Katherine', 'James', 'Emily', 'Michael', 'Matthew', 'Laura', 'Kevin', 'Jonas'],\n",
    "'score': [12.5, 9, 16.5, np.nan, 9, 20, 14.5, np.nan, 8, 19],\n",
    "'attempts': [1, 3, 2, 3, 2, 3, 1, 1, 2, 1],\n",
    "'qualify': ['yes', 'no', 'yes', 'no', 'no', 'yes', 'yes', 'no', 'no', 'yes']}\n",
    "labels = ['a', 'b', 'c', 'd', 'e', 'f', 'g', 'h', 'i', 'j']"
   ]
  },
  {
   "cell_type": "code",
   "execution_count": 309,
   "id": "94ec59ca",
   "metadata": {},
   "outputs": [
    {
     "data": {
      "text/html": [
       "<div>\n",
       "<style scoped>\n",
       "    .dataframe tbody tr th:only-of-type {\n",
       "        vertical-align: middle;\n",
       "    }\n",
       "\n",
       "    .dataframe tbody tr th {\n",
       "        vertical-align: top;\n",
       "    }\n",
       "\n",
       "    .dataframe thead th {\n",
       "        text-align: right;\n",
       "    }\n",
       "</style>\n",
       "<table border=\"1\" class=\"dataframe\">\n",
       "  <thead>\n",
       "    <tr style=\"text-align: right;\">\n",
       "      <th></th>\n",
       "      <th>name</th>\n",
       "      <th>score</th>\n",
       "      <th>attempts</th>\n",
       "      <th>qualify</th>\n",
       "    </tr>\n",
       "  </thead>\n",
       "  <tbody>\n",
       "    <tr>\n",
       "      <th>a</th>\n",
       "      <td>Anastasia</td>\n",
       "      <td>12.5</td>\n",
       "      <td>1</td>\n",
       "      <td>yes</td>\n",
       "    </tr>\n",
       "    <tr>\n",
       "      <th>b</th>\n",
       "      <td>Dima</td>\n",
       "      <td>9.0</td>\n",
       "      <td>3</td>\n",
       "      <td>no</td>\n",
       "    </tr>\n",
       "    <tr>\n",
       "      <th>c</th>\n",
       "      <td>Katherine</td>\n",
       "      <td>16.5</td>\n",
       "      <td>2</td>\n",
       "      <td>yes</td>\n",
       "    </tr>\n",
       "    <tr>\n",
       "      <th>d</th>\n",
       "      <td>James</td>\n",
       "      <td>NaN</td>\n",
       "      <td>3</td>\n",
       "      <td>no</td>\n",
       "    </tr>\n",
       "    <tr>\n",
       "      <th>e</th>\n",
       "      <td>Emily</td>\n",
       "      <td>9.0</td>\n",
       "      <td>2</td>\n",
       "      <td>no</td>\n",
       "    </tr>\n",
       "  </tbody>\n",
       "</table>\n",
       "</div>"
      ],
      "text/plain": [
       "        name  score  attempts qualify\n",
       "a  Anastasia   12.5         1     yes\n",
       "b       Dima    9.0         3      no\n",
       "c  Katherine   16.5         2     yes\n",
       "d      James    NaN         3      no\n",
       "e      Emily    9.0         2      no"
      ]
     },
     "execution_count": 309,
     "metadata": {},
     "output_type": "execute_result"
    }
   ],
   "source": [
    "df2 = pd.DataFrame(exam_data, index = labels)\n",
    "df2.head()"
   ]
  },
  {
   "cell_type": "code",
   "execution_count": 314,
   "id": "e3e5a106",
   "metadata": {},
   "outputs": [
    {
     "data": {
      "text/html": [
       "<div>\n",
       "<style scoped>\n",
       "    .dataframe tbody tr th:only-of-type {\n",
       "        vertical-align: middle;\n",
       "    }\n",
       "\n",
       "    .dataframe tbody tr th {\n",
       "        vertical-align: top;\n",
       "    }\n",
       "\n",
       "    .dataframe thead th {\n",
       "        text-align: right;\n",
       "    }\n",
       "</style>\n",
       "<table border=\"1\" class=\"dataframe\">\n",
       "  <thead>\n",
       "    <tr style=\"text-align: right;\">\n",
       "      <th></th>\n",
       "      <th>name</th>\n",
       "      <th>score</th>\n",
       "      <th>attempts</th>\n",
       "      <th>qualify</th>\n",
       "    </tr>\n",
       "  </thead>\n",
       "  <tbody>\n",
       "    <tr>\n",
       "      <th>b</th>\n",
       "      <td>Dima</td>\n",
       "      <td>9.0</td>\n",
       "      <td>3</td>\n",
       "      <td>no</td>\n",
       "    </tr>\n",
       "    <tr>\n",
       "      <th>d</th>\n",
       "      <td>James</td>\n",
       "      <td>NaN</td>\n",
       "      <td>3</td>\n",
       "      <td>no</td>\n",
       "    </tr>\n",
       "    <tr>\n",
       "      <th>f</th>\n",
       "      <td>Michael</td>\n",
       "      <td>20.0</td>\n",
       "      <td>3</td>\n",
       "      <td>yes</td>\n",
       "    </tr>\n",
       "  </tbody>\n",
       "</table>\n",
       "</div>"
      ],
      "text/plain": [
       "      name  score  attempts qualify\n",
       "b     Dima    9.0         3      no\n",
       "d    James    NaN         3      no\n",
       "f  Michael   20.0         3     yes"
      ]
     },
     "execution_count": 314,
     "metadata": {},
     "output_type": "execute_result"
    }
   ],
   "source": [
    "df2[df2['attempts']>2]"
   ]
  },
  {
   "cell_type": "code",
   "execution_count": 315,
   "id": "cc17f264",
   "metadata": {},
   "outputs": [
    {
     "data": {
      "text/plain": [
       "5"
      ]
     },
     "execution_count": 315,
     "metadata": {},
     "output_type": "execute_result"
    }
   ],
   "source": [
    "# No of cols, rows\n",
    "len(df)"
   ]
  },
  {
   "cell_type": "code",
   "execution_count": 317,
   "id": "e9ec1c69",
   "metadata": {},
   "outputs": [
    {
     "name": "stdout",
     "output_type": "stream",
     "text": [
      "5 3\n"
     ]
    }
   ],
   "source": [
    "row_count = df.shape[0]  # Returns number of rows\n",
    "col_count = df.shape[1]  # Returns number of columns\n",
    "print(row_count, col_count)"
   ]
  },
  {
   "cell_type": "code",
   "execution_count": 324,
   "id": "94caa123",
   "metadata": {},
   "outputs": [
    {
     "data": {
      "text/html": [
       "<div>\n",
       "<style scoped>\n",
       "    .dataframe tbody tr th:only-of-type {\n",
       "        vertical-align: middle;\n",
       "    }\n",
       "\n",
       "    .dataframe tbody tr th {\n",
       "        vertical-align: top;\n",
       "    }\n",
       "\n",
       "    .dataframe thead th {\n",
       "        text-align: right;\n",
       "    }\n",
       "</style>\n",
       "<table border=\"1\" class=\"dataframe\">\n",
       "  <thead>\n",
       "    <tr style=\"text-align: right;\">\n",
       "      <th></th>\n",
       "      <th>name</th>\n",
       "      <th>score</th>\n",
       "      <th>attempts</th>\n",
       "      <th>qualify</th>\n",
       "    </tr>\n",
       "  </thead>\n",
       "  <tbody>\n",
       "    <tr>\n",
       "      <th>d</th>\n",
       "      <td>James</td>\n",
       "      <td>NaN</td>\n",
       "      <td>3</td>\n",
       "      <td>no</td>\n",
       "    </tr>\n",
       "    <tr>\n",
       "      <th>h</th>\n",
       "      <td>Laura</td>\n",
       "      <td>NaN</td>\n",
       "      <td>1</td>\n",
       "      <td>no</td>\n",
       "    </tr>\n",
       "  </tbody>\n",
       "</table>\n",
       "</div>"
      ],
      "text/plain": [
       "    name  score  attempts qualify\n",
       "d  James    NaN         3      no\n",
       "h  Laura    NaN         1      no"
      ]
     },
     "execution_count": 324,
     "metadata": {},
     "output_type": "execute_result"
    }
   ],
   "source": [
    "df2[df2['score'].isnull()]"
   ]
  },
  {
   "cell_type": "code",
   "execution_count": 326,
   "id": "990724b0",
   "metadata": {},
   "outputs": [
    {
     "data": {
      "text/html": [
       "<div>\n",
       "<style scoped>\n",
       "    .dataframe tbody tr th:only-of-type {\n",
       "        vertical-align: middle;\n",
       "    }\n",
       "\n",
       "    .dataframe tbody tr th {\n",
       "        vertical-align: top;\n",
       "    }\n",
       "\n",
       "    .dataframe thead th {\n",
       "        text-align: right;\n",
       "    }\n",
       "</style>\n",
       "<table border=\"1\" class=\"dataframe\">\n",
       "  <thead>\n",
       "    <tr style=\"text-align: right;\">\n",
       "      <th></th>\n",
       "      <th>name</th>\n",
       "      <th>score</th>\n",
       "      <th>attempts</th>\n",
       "      <th>qualify</th>\n",
       "    </tr>\n",
       "  </thead>\n",
       "  <tbody>\n",
       "    <tr>\n",
       "      <th>c</th>\n",
       "      <td>Katherine</td>\n",
       "      <td>16.5</td>\n",
       "      <td>2</td>\n",
       "      <td>yes</td>\n",
       "    </tr>\n",
       "    <tr>\n",
       "      <th>f</th>\n",
       "      <td>Michael</td>\n",
       "      <td>20.0</td>\n",
       "      <td>3</td>\n",
       "      <td>yes</td>\n",
       "    </tr>\n",
       "    <tr>\n",
       "      <th>j</th>\n",
       "      <td>Jonas</td>\n",
       "      <td>19.0</td>\n",
       "      <td>1</td>\n",
       "      <td>yes</td>\n",
       "    </tr>\n",
       "  </tbody>\n",
       "</table>\n",
       "</div>"
      ],
      "text/plain": [
       "        name  score  attempts qualify\n",
       "c  Katherine   16.5         2     yes\n",
       "f    Michael   20.0         3     yes\n",
       "j      Jonas   19.0         1     yes"
      ]
     },
     "execution_count": 326,
     "metadata": {},
     "output_type": "execute_result"
    }
   ],
   "source": [
    "df2[df2['score']>=15]"
   ]
  },
  {
   "cell_type": "code",
   "execution_count": 327,
   "id": "003e9f1a",
   "metadata": {},
   "outputs": [
    {
     "data": {
      "text/html": [
       "<div>\n",
       "<style scoped>\n",
       "    .dataframe tbody tr th:only-of-type {\n",
       "        vertical-align: middle;\n",
       "    }\n",
       "\n",
       "    .dataframe tbody tr th {\n",
       "        vertical-align: top;\n",
       "    }\n",
       "\n",
       "    .dataframe thead th {\n",
       "        text-align: right;\n",
       "    }\n",
       "</style>\n",
       "<table border=\"1\" class=\"dataframe\">\n",
       "  <thead>\n",
       "    <tr style=\"text-align: right;\">\n",
       "      <th></th>\n",
       "      <th>name</th>\n",
       "      <th>score</th>\n",
       "      <th>attempts</th>\n",
       "      <th>qualify</th>\n",
       "    </tr>\n",
       "  </thead>\n",
       "  <tbody>\n",
       "    <tr>\n",
       "      <th>c</th>\n",
       "      <td>Katherine</td>\n",
       "      <td>16.5</td>\n",
       "      <td>2</td>\n",
       "      <td>yes</td>\n",
       "    </tr>\n",
       "    <tr>\n",
       "      <th>f</th>\n",
       "      <td>Michael</td>\n",
       "      <td>20.0</td>\n",
       "      <td>3</td>\n",
       "      <td>yes</td>\n",
       "    </tr>\n",
       "    <tr>\n",
       "      <th>j</th>\n",
       "      <td>Jonas</td>\n",
       "      <td>19.0</td>\n",
       "      <td>1</td>\n",
       "      <td>yes</td>\n",
       "    </tr>\n",
       "  </tbody>\n",
       "</table>\n",
       "</div>"
      ],
      "text/plain": [
       "        name  score  attempts qualify\n",
       "c  Katherine   16.5         2     yes\n",
       "f    Michael   20.0         3     yes\n",
       "j      Jonas   19.0         1     yes"
      ]
     },
     "execution_count": 327,
     "metadata": {},
     "output_type": "execute_result"
    }
   ],
   "source": [
    "df2[df2['score'].between(15,20)]"
   ]
  },
  {
   "cell_type": "code",
   "execution_count": 332,
   "id": "98aa5870",
   "metadata": {},
   "outputs": [
    {
     "data": {
      "text/html": [
       "<div>\n",
       "<style scoped>\n",
       "    .dataframe tbody tr th:only-of-type {\n",
       "        vertical-align: middle;\n",
       "    }\n",
       "\n",
       "    .dataframe tbody tr th {\n",
       "        vertical-align: top;\n",
       "    }\n",
       "\n",
       "    .dataframe thead th {\n",
       "        text-align: right;\n",
       "    }\n",
       "</style>\n",
       "<table border=\"1\" class=\"dataframe\">\n",
       "  <thead>\n",
       "    <tr style=\"text-align: right;\">\n",
       "      <th></th>\n",
       "      <th>name</th>\n",
       "      <th>score</th>\n",
       "      <th>attempts</th>\n",
       "      <th>qualify</th>\n",
       "    </tr>\n",
       "  </thead>\n",
       "  <tbody>\n",
       "    <tr>\n",
       "      <th>j</th>\n",
       "      <td>Jonas</td>\n",
       "      <td>19.0</td>\n",
       "      <td>1</td>\n",
       "      <td>yes</td>\n",
       "    </tr>\n",
       "  </tbody>\n",
       "</table>\n",
       "</div>"
      ],
      "text/plain": [
       "    name  score  attempts qualify\n",
       "j  Jonas   19.0         1     yes"
      ]
     },
     "execution_count": 332,
     "metadata": {},
     "output_type": "execute_result"
    }
   ],
   "source": [
    "df2[(df2['score']>15) & (df2['attempts']<2)]"
   ]
  },
  {
   "cell_type": "code",
   "execution_count": 330,
   "id": "d4fc58a9",
   "metadata": {},
   "outputs": [
    {
     "data": {
      "text/html": [
       "<div>\n",
       "<style scoped>\n",
       "    .dataframe tbody tr th:only-of-type {\n",
       "        vertical-align: middle;\n",
       "    }\n",
       "\n",
       "    .dataframe tbody tr th {\n",
       "        vertical-align: top;\n",
       "    }\n",
       "\n",
       "    .dataframe thead th {\n",
       "        text-align: right;\n",
       "    }\n",
       "</style>\n",
       "<table border=\"1\" class=\"dataframe\">\n",
       "  <thead>\n",
       "    <tr style=\"text-align: right;\">\n",
       "      <th></th>\n",
       "      <th>name</th>\n",
       "      <th>score</th>\n",
       "      <th>attempts</th>\n",
       "      <th>qualify</th>\n",
       "    </tr>\n",
       "  </thead>\n",
       "  <tbody>\n",
       "    <tr>\n",
       "      <th>j</th>\n",
       "      <td>Jonas</td>\n",
       "      <td>19.0</td>\n",
       "      <td>1</td>\n",
       "      <td>yes</td>\n",
       "    </tr>\n",
       "  </tbody>\n",
       "</table>\n",
       "</div>"
      ],
      "text/plain": [
       "    name  score  attempts qualify\n",
       "j  Jonas   19.0         1     yes"
      ]
     },
     "execution_count": 330,
     "metadata": {},
     "output_type": "execute_result"
    }
   ],
   "source": [
    "df2[(df2['attempts'] < 2) & (df2['score'] > 15)]"
   ]
  },
  {
   "cell_type": "code",
   "execution_count": null,
   "id": "9ba9cba7",
   "metadata": {},
   "outputs": [],
   "source": []
  }
 ],
 "metadata": {
  "kernelspec": {
   "display_name": "Python 3 (ipykernel)",
   "language": "python",
   "name": "python3"
  },
  "language_info": {
   "codemirror_mode": {
    "name": "ipython",
    "version": 3
   },
   "file_extension": ".py",
   "mimetype": "text/x-python",
   "name": "python",
   "nbconvert_exporter": "python",
   "pygments_lexer": "ipython3",
   "version": "3.9.12"
  }
 },
 "nbformat": 4,
 "nbformat_minor": 5
}
