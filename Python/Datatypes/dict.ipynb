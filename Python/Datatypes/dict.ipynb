{
 "cells": [
  {
   "cell_type": "markdown",
   "id": "6ea4d41c",
   "metadata": {},
   "source": [
    "# Play with Dict"
   ]
  },
  {
   "cell_type": "code",
   "execution_count": 4,
   "id": "3fb63057",
   "metadata": {},
   "outputs": [],
   "source": [
    "dict1 = {} #Empty dict"
   ]
  },
  {
   "cell_type": "code",
   "execution_count": 5,
   "id": "c824fec6",
   "metadata": {},
   "outputs": [
    {
     "data": {
      "text/plain": [
       "{}"
      ]
     },
     "execution_count": 5,
     "metadata": {},
     "output_type": "execute_result"
    }
   ],
   "source": [
    "dict1"
   ]
  },
  {
   "cell_type": "code",
   "execution_count": null,
   "id": "65d41fe0",
   "metadata": {},
   "outputs": [],
   "source": [
    "#Create dictionary"
   ]
  },
  {
   "cell_type": "code",
   "execution_count": 6,
   "id": "35b09164",
   "metadata": {},
   "outputs": [],
   "source": [
    "dict2 = {\n",
    "    'key1':'val1',\n",
    "    \"key2\":\"val2\"\n",
    "}"
   ]
  },
  {
   "cell_type": "code",
   "execution_count": 7,
   "id": "841fafab",
   "metadata": {},
   "outputs": [
    {
     "data": {
      "text/plain": [
       "{'key1': 'val1', 'key2': 'val2'}"
      ]
     },
     "execution_count": 7,
     "metadata": {},
     "output_type": "execute_result"
    }
   ],
   "source": [
    "dict2"
   ]
  },
  {
   "cell_type": "code",
   "execution_count": 9,
   "id": "23d9cce7",
   "metadata": {},
   "outputs": [],
   "source": [
    "dict3 ={\n",
    "    1:\"val1\",\n",
    "    2:[100,200,300]\n",
    "}"
   ]
  },
  {
   "cell_type": "code",
   "execution_count": 10,
   "id": "9e87a5fd",
   "metadata": {},
   "outputs": [
    {
     "data": {
      "text/plain": [
       "{1: 'val1', 2: [100, 200, 300]}"
      ]
     },
     "execution_count": 10,
     "metadata": {},
     "output_type": "execute_result"
    }
   ],
   "source": [
    "dict3"
   ]
  },
  {
   "cell_type": "code",
   "execution_count": 11,
   "id": "81d3add5",
   "metadata": {},
   "outputs": [],
   "source": [
    "dict4={\n",
    "    11:{111:\"v1\"},\n",
    "    12:{112:\"v2\"}\n",
    "}"
   ]
  },
  {
   "cell_type": "code",
   "execution_count": 12,
   "id": "865ea9cb",
   "metadata": {},
   "outputs": [
    {
     "data": {
      "text/plain": [
       "{11: {111: 'v1'}, 12: {112: 'v2'}}"
      ]
     },
     "execution_count": 12,
     "metadata": {},
     "output_type": "execute_result"
    }
   ],
   "source": [
    "dict4"
   ]
  },
  {
   "cell_type": "code",
   "execution_count": 13,
   "id": "4b08e7e7",
   "metadata": {},
   "outputs": [],
   "source": [
    "# Get value, key and items"
   ]
  },
  {
   "cell_type": "code",
   "execution_count": 15,
   "id": "8a106a82",
   "metadata": {},
   "outputs": [
    {
     "data": {
      "text/plain": [
       "dict_items([])"
      ]
     },
     "execution_count": 15,
     "metadata": {},
     "output_type": "execute_result"
    }
   ],
   "source": [
    "dict1.items()"
   ]
  },
  {
   "cell_type": "code",
   "execution_count": 17,
   "id": "a24cb18d",
   "metadata": {},
   "outputs": [
    {
     "name": "stdout",
     "output_type": "stream",
     "text": [
      "dict_items([('key1', 'val1'), ('key2', 'val2')])\n"
     ]
    }
   ],
   "source": [
    "print(dict2.items())"
   ]
  },
  {
   "cell_type": "code",
   "execution_count": 18,
   "id": "2e0fc325",
   "metadata": {},
   "outputs": [
    {
     "name": "stdout",
     "output_type": "stream",
     "text": [
      "dict_keys(['key1', 'key2'])\n"
     ]
    }
   ],
   "source": [
    "print(dict2.keys())"
   ]
  },
  {
   "cell_type": "code",
   "execution_count": 19,
   "id": "a3e1b999",
   "metadata": {},
   "outputs": [
    {
     "name": "stdout",
     "output_type": "stream",
     "text": [
      "dict_values(['val1', 'val2'])\n"
     ]
    }
   ],
   "source": [
    "print(dict2.values())"
   ]
  },
  {
   "cell_type": "raw",
   "id": "b0fef46d",
   "metadata": {},
   "source": [
    "Add Items to a Python Dictionary with Different DataTypes"
   ]
  },
  {
   "cell_type": "code",
   "execution_count": 20,
   "id": "4d8e85db",
   "metadata": {},
   "outputs": [
    {
     "data": {
      "text/plain": [
       "{'key1': 'val1', 'key2': 'val2'}"
      ]
     },
     "execution_count": 20,
     "metadata": {},
     "output_type": "execute_result"
    }
   ],
   "source": [
    "dict2"
   ]
  },
  {
   "cell_type": "code",
   "execution_count": 21,
   "id": "32f0ebaa",
   "metadata": {},
   "outputs": [],
   "source": [
    "# Add element\n",
    "\n",
    "dict2[2]=\"val3\""
   ]
  },
  {
   "cell_type": "code",
   "execution_count": 22,
   "id": "7c8238d5",
   "metadata": {},
   "outputs": [
    {
     "data": {
      "text/plain": [
       "{'key1': 'val1', 'key2': 'val2', 2: 'val3'}"
      ]
     },
     "execution_count": 22,
     "metadata": {},
     "output_type": "execute_result"
    }
   ],
   "source": [
    "dict2"
   ]
  },
  {
   "cell_type": "code",
   "execution_count": 23,
   "id": "cc6fdaba",
   "metadata": {},
   "outputs": [],
   "source": [
    "dict2[\"key3\"]=\"val3\""
   ]
  },
  {
   "cell_type": "code",
   "execution_count": 24,
   "id": "52e62498",
   "metadata": {},
   "outputs": [
    {
     "data": {
      "text/plain": [
       "{'key1': 'val1', 'key2': 'val2', 2: 'val3', 'key3': 'val3'}"
      ]
     },
     "execution_count": 24,
     "metadata": {},
     "output_type": "execute_result"
    }
   ],
   "source": [
    "dict2"
   ]
  },
  {
   "cell_type": "code",
   "execution_count": 25,
   "id": "59e664e5",
   "metadata": {},
   "outputs": [
    {
     "name": "stdout",
     "output_type": "stream",
     "text": [
      "{'key1': 'val1', 'key2': 'val2', 2: 'val3', 'key3': 'val3'}\n",
      "\n",
      "Adding a Nested Key: \n",
      "{'key1': 'val1', 'key2': 'val2', 2: 'val3', 'key3': 'val3', 5: {'Nested': {'1': 'Life', '2': 'Geeks'}}}\n"
     ]
    }
   ],
   "source": [
    "print(dict2)\n",
    "dict2[5] = {'Nested': {'1': 'Life', '2': 'Geeks'}}\n",
    "print(\"\\nAdding a Nested Key: \")\n",
    "print(dict2)"
   ]
  },
  {
   "cell_type": "raw",
   "id": "ac3d266e",
   "metadata": {},
   "source": [
    "Access a Value in Python Dictionary"
   ]
  },
  {
   "cell_type": "code",
   "execution_count": 27,
   "id": "1a5a270b",
   "metadata": {},
   "outputs": [
    {
     "data": {
      "text/plain": [
       "'val1'"
      ]
     },
     "execution_count": 27,
     "metadata": {},
     "output_type": "execute_result"
    }
   ],
   "source": [
    "dict2[\"key1\"]"
   ]
  },
  {
   "cell_type": "code",
   "execution_count": 29,
   "id": "c3989c6b",
   "metadata": {},
   "outputs": [
    {
     "ename": "KeyError",
     "evalue": "'key4'",
     "output_type": "error",
     "traceback": [
      "\u001b[1;31m---------------------------------------------------------------------------\u001b[0m",
      "\u001b[1;31mKeyError\u001b[0m                                  Traceback (most recent call last)",
      "Input \u001b[1;32mIn [29]\u001b[0m, in \u001b[0;36m<cell line: 1>\u001b[1;34m()\u001b[0m\n\u001b[1;32m----> 1\u001b[0m \u001b[43mdict2\u001b[49m\u001b[43m[\u001b[49m\u001b[38;5;124;43m\"\u001b[39;49m\u001b[38;5;124;43mkey4\u001b[39;49m\u001b[38;5;124;43m\"\u001b[39;49m\u001b[43m]\u001b[49m\n",
      "\u001b[1;31mKeyError\u001b[0m: 'key4'"
     ]
    }
   ],
   "source": [
    "dict2[\"key4\"] # throw error -if key not exists"
   ]
  },
  {
   "cell_type": "code",
   "execution_count": 36,
   "id": "ab712227",
   "metadata": {},
   "outputs": [
    {
     "data": {
      "text/plain": [
       "{'key1': 'val1',\n",
       " 'key2': 'val2',\n",
       " 2: 'val3',\n",
       " 'key3': 'val3',\n",
       " 5: {'Nested': {'1': 'Life', '2': 'Geeks'}}}"
      ]
     },
     "execution_count": 36,
     "metadata": {},
     "output_type": "execute_result"
    }
   ],
   "source": [
    "dict2"
   ]
  },
  {
   "cell_type": "code",
   "execution_count": 38,
   "id": "3bfc2f89",
   "metadata": {},
   "outputs": [
    {
     "ename": "AttributeError",
     "evalue": "'dict' object has no attribute 'key1'",
     "output_type": "error",
     "traceback": [
      "\u001b[1;31m---------------------------------------------------------------------------\u001b[0m",
      "\u001b[1;31mAttributeError\u001b[0m                            Traceback (most recent call last)",
      "Input \u001b[1;32mIn [38]\u001b[0m, in \u001b[0;36m<cell line: 1>\u001b[1;34m()\u001b[0m\n\u001b[1;32m----> 1\u001b[0m \u001b[43mdict1\u001b[49m\u001b[38;5;241;43m.\u001b[39;49m\u001b[43mkey1\u001b[49m\n",
      "\u001b[1;31mAttributeError\u001b[0m: 'dict' object has no attribute 'key1'"
     ]
    }
   ],
   "source": [
    "dict1.key1"
   ]
  },
  {
   "cell_type": "code",
   "execution_count": 28,
   "id": "a92e3511",
   "metadata": {},
   "outputs": [
    {
     "data": {
      "text/plain": [
       "'val1'"
      ]
     },
     "execution_count": 28,
     "metadata": {},
     "output_type": "execute_result"
    }
   ],
   "source": [
    "dict2.get(\"key1\",None)"
   ]
  },
  {
   "cell_type": "code",
   "execution_count": 31,
   "id": "e100f863",
   "metadata": {},
   "outputs": [],
   "source": [
    "dict2.get(\"key4\",None) # return none, if key not exists"
   ]
  },
  {
   "cell_type": "code",
   "execution_count": 40,
   "id": "e502a194",
   "metadata": {},
   "outputs": [
    {
     "data": {
      "text/plain": [
       "{'1': 'Life', '2': 'Geeks'}"
      ]
     },
     "execution_count": 40,
     "metadata": {},
     "output_type": "execute_result"
    }
   ],
   "source": [
    "dict2[5]['Nested']"
   ]
  },
  {
   "cell_type": "code",
   "execution_count": 42,
   "id": "302c1ab3",
   "metadata": {},
   "outputs": [
    {
     "data": {
      "text/plain": [
       "{'key1': 'val1',\n",
       " 'key2': 'val2',\n",
       " 2: 'val3',\n",
       " 'key3': 'val3',\n",
       " 5: {'Nested': {'1': 'Life', '2': 'Geeks'}}}"
      ]
     },
     "execution_count": 42,
     "metadata": {},
     "output_type": "execute_result"
    }
   ],
   "source": [
    "# Deleting Elements using ‘del’ Keyword\n",
    "dict2"
   ]
  },
  {
   "cell_type": "code",
   "execution_count": 43,
   "id": "4245e8a1",
   "metadata": {},
   "outputs": [],
   "source": [
    "del dict2[2]"
   ]
  },
  {
   "cell_type": "code",
   "execution_count": 44,
   "id": "c6baa23e",
   "metadata": {},
   "outputs": [
    {
     "data": {
      "text/plain": [
       "{'key1': 'val1',\n",
       " 'key2': 'val2',\n",
       " 'key3': 'val3',\n",
       " 5: {'Nested': {'1': 'Life', '2': 'Geeks'}}}"
      ]
     },
     "execution_count": 44,
     "metadata": {},
     "output_type": "execute_result"
    }
   ],
   "source": [
    "dict2"
   ]
  },
  {
   "cell_type": "code",
   "execution_count": 50,
   "id": "602bd1d7",
   "metadata": {},
   "outputs": [
    {
     "ename": "KeyError",
     "evalue": "2",
     "output_type": "error",
     "traceback": [
      "\u001b[1;31m---------------------------------------------------------------------------\u001b[0m",
      "\u001b[1;31mKeyError\u001b[0m                                  Traceback (most recent call last)",
      "Input \u001b[1;32mIn [50]\u001b[0m, in \u001b[0;36m<cell line: 4>\u001b[1;34m()\u001b[0m\n\u001b[0;32m      1\u001b[0m \u001b[38;5;66;03m# pop() -by index\u001b[39;00m\n\u001b[0;32m      2\u001b[0m \u001b[38;5;66;03m#popItem()\u001b[39;00m\n\u001b[1;32m----> 4\u001b[0m \u001b[43mdict2\u001b[49m\u001b[38;5;241;43m.\u001b[39;49m\u001b[43mpop\u001b[49m\u001b[43m(\u001b[49m\u001b[38;5;241;43m2\u001b[39;49m\u001b[43m)\u001b[49m\n",
      "\u001b[1;31mKeyError\u001b[0m: 2"
     ]
    }
   ],
   "source": [
    "# pop() -by key\n",
    "#popItem()\n",
    "\n",
    "dict2.pop(2) # Icant pop with index"
   ]
  },
  {
   "cell_type": "code",
   "execution_count": 51,
   "id": "aa7a974f",
   "metadata": {},
   "outputs": [
    {
     "data": {
      "text/plain": [
       "'val3'"
      ]
     },
     "execution_count": 51,
     "metadata": {},
     "output_type": "execute_result"
    }
   ],
   "source": [
    "dict2.pop('key3')"
   ]
  },
  {
   "cell_type": "code",
   "execution_count": 52,
   "id": "0e5cef33",
   "metadata": {},
   "outputs": [
    {
     "data": {
      "text/plain": [
       "{'key1': 'val1', 'key2': 'val2', 5: {'Nested': {'1': 'Life', '2': 'Geeks'}}}"
      ]
     },
     "execution_count": 52,
     "metadata": {},
     "output_type": "execute_result"
    }
   ],
   "source": [
    "dict2"
   ]
  },
  {
   "cell_type": "code",
   "execution_count": 53,
   "id": "35d2eb6d",
   "metadata": {},
   "outputs": [
    {
     "ename": "TypeError",
     "evalue": "pop expected at least 1 argument, got 0",
     "output_type": "error",
     "traceback": [
      "\u001b[1;31m---------------------------------------------------------------------------\u001b[0m",
      "\u001b[1;31mTypeError\u001b[0m                                 Traceback (most recent call last)",
      "Input \u001b[1;32mIn [53]\u001b[0m, in \u001b[0;36m<cell line: 1>\u001b[1;34m()\u001b[0m\n\u001b[1;32m----> 1\u001b[0m \u001b[43mdict2\u001b[49m\u001b[38;5;241;43m.\u001b[39;49m\u001b[43mpop\u001b[49m\u001b[43m(\u001b[49m\u001b[43m)\u001b[49m\n",
      "\u001b[1;31mTypeError\u001b[0m: pop expected at least 1 argument, got 0"
     ]
    }
   ],
   "source": [
    "dict2.pop() # I can't pop without any value"
   ]
  },
  {
   "cell_type": "code",
   "execution_count": null,
   "id": "89472732",
   "metadata": {},
   "outputs": [],
   "source": [
    "dict2['key3'] = 5"
   ]
  },
  {
   "cell_type": "code",
   "execution_count": 54,
   "id": "f478b7c2",
   "metadata": {},
   "outputs": [
    {
     "data": {
      "text/plain": [
       "(5, {'Nested': {'1': 'Life', '2': 'Geeks'}})"
      ]
     },
     "execution_count": 54,
     "metadata": {},
     "output_type": "execute_result"
    }
   ],
   "source": [
    "dict2.popitem()"
   ]
  },
  {
   "cell_type": "code",
   "execution_count": 55,
   "id": "1445010c",
   "metadata": {},
   "outputs": [
    {
     "data": {
      "text/plain": [
       "{'key1': 'val1', 'key2': 'val2'}"
      ]
     },
     "execution_count": 55,
     "metadata": {},
     "output_type": "execute_result"
    }
   ],
   "source": [
    "dict2"
   ]
  },
  {
   "cell_type": "code",
   "execution_count": 56,
   "id": "82d2658c",
   "metadata": {},
   "outputs": [
    {
     "data": {
      "text/plain": [
       "('key2', 'val2')"
      ]
     },
     "execution_count": 56,
     "metadata": {},
     "output_type": "execute_result"
    }
   ],
   "source": [
    "dict2.popitem()"
   ]
  },
  {
   "cell_type": "code",
   "execution_count": 57,
   "id": "73b777ad",
   "metadata": {},
   "outputs": [
    {
     "data": {
      "text/plain": [
       "{'key1': 'val1'}"
      ]
     },
     "execution_count": 57,
     "metadata": {},
     "output_type": "execute_result"
    }
   ],
   "source": [
    "dict2"
   ]
  },
  {
   "cell_type": "code",
   "execution_count": 58,
   "id": "9837d940",
   "metadata": {},
   "outputs": [
    {
     "data": {
      "text/plain": [
       "('key1', 'val1')"
      ]
     },
     "execution_count": 58,
     "metadata": {},
     "output_type": "execute_result"
    }
   ],
   "source": [
    "dict2.popitem()"
   ]
  },
  {
   "cell_type": "code",
   "execution_count": 59,
   "id": "478c6816",
   "metadata": {},
   "outputs": [
    {
     "data": {
      "text/plain": [
       "{}"
      ]
     },
     "execution_count": 59,
     "metadata": {},
     "output_type": "execute_result"
    }
   ],
   "source": [
    "dict2"
   ]
  },
  {
   "cell_type": "code",
   "execution_count": 61,
   "id": "c57bbbd6",
   "metadata": {},
   "outputs": [
    {
     "ename": "KeyError",
     "evalue": "'popitem(): dictionary is empty'",
     "output_type": "error",
     "traceback": [
      "\u001b[1;31m---------------------------------------------------------------------------\u001b[0m",
      "\u001b[1;31mKeyError\u001b[0m                                  Traceback (most recent call last)",
      "Input \u001b[1;32mIn [61]\u001b[0m, in \u001b[0;36m<cell line: 1>\u001b[1;34m()\u001b[0m\n\u001b[1;32m----> 1\u001b[0m \u001b[43mdict1\u001b[49m\u001b[38;5;241;43m.\u001b[39;49m\u001b[43mpopitem\u001b[49m\u001b[43m(\u001b[49m\u001b[43m)\u001b[49m\n",
      "\u001b[1;31mKeyError\u001b[0m: 'popitem(): dictionary is empty'"
     ]
    }
   ],
   "source": [
    "dict1.popitem() # Can't pop empty dict"
   ]
  },
  {
   "cell_type": "code",
   "execution_count": 75,
   "id": "79ef62a4",
   "metadata": {},
   "outputs": [],
   "source": [
    "dict2 = {'key1': 'val1', 'key2': 'val2', 5: {'Nested': {'1': 'Life', '2': 'Geeks'}}}\n"
   ]
  },
  {
   "cell_type": "code",
   "execution_count": 60,
   "id": "95f2f73b",
   "metadata": {},
   "outputs": [
    {
     "ename": "TypeError",
     "evalue": "dict.popitem() takes no arguments (1 given)",
     "output_type": "error",
     "traceback": [
      "\u001b[1;31m---------------------------------------------------------------------------\u001b[0m",
      "\u001b[1;31mTypeError\u001b[0m                                 Traceback (most recent call last)",
      "Input \u001b[1;32mIn [60]\u001b[0m, in \u001b[0;36m<cell line: 1>\u001b[1;34m()\u001b[0m\n\u001b[1;32m----> 1\u001b[0m \u001b[43mdict2\u001b[49m\u001b[38;5;241;43m.\u001b[39;49m\u001b[43mpopitem\u001b[49m\u001b[43m(\u001b[49m\u001b[38;5;241;43m0\u001b[39;49m\u001b[43m)\u001b[49m\n",
      "\u001b[1;31mTypeError\u001b[0m: dict.popitem() takes no arguments (1 given)"
     ]
    }
   ],
   "source": [
    "dict2.popitem(0) #No argument must be provided for popItem"
   ]
  },
  {
   "cell_type": "code",
   "execution_count": 64,
   "id": "484247c2",
   "metadata": {},
   "outputs": [],
   "source": [
    "dicttets = {'key': {111: 'v1'}, 'key': {112: 'v2'}}\n"
   ]
  },
  {
   "cell_type": "code",
   "execution_count": 65,
   "id": "6c8b623b",
   "metadata": {},
   "outputs": [
    {
     "data": {
      "text/plain": [
       "{'key': {112: 'v2'}}"
      ]
     },
     "execution_count": 65,
     "metadata": {},
     "output_type": "execute_result"
    }
   ],
   "source": [
    "dicttets # if i provide same key it will take only the last value assigned."
   ]
  },
  {
   "cell_type": "code",
   "execution_count": 71,
   "id": "91e05cfc",
   "metadata": {},
   "outputs": [
    {
     "data": {
      "text/plain": [
       "{'key': {112: 'v2'}}"
      ]
     },
     "execution_count": 71,
     "metadata": {},
     "output_type": "execute_result"
    }
   ],
   "source": [
    "dicttets"
   ]
  },
  {
   "cell_type": "code",
   "execution_count": 77,
   "id": "cee9fbb5",
   "metadata": {},
   "outputs": [],
   "source": [
    "# Update dict\n",
    "\n",
    "dicttets.update(dict2)"
   ]
  },
  {
   "cell_type": "code",
   "execution_count": 78,
   "id": "05bdc50f",
   "metadata": {},
   "outputs": [
    {
     "data": {
      "text/plain": [
       "{'key': {112: 'v2'},\n",
       " 'key1': 'val1',\n",
       " 'key2': 'val2',\n",
       " 5: {'Nested': {'1': 'Life', '2': 'Geeks'}}}"
      ]
     },
     "execution_count": 78,
     "metadata": {},
     "output_type": "execute_result"
    }
   ],
   "source": [
    "dicttets"
   ]
  },
  {
   "cell_type": "code",
   "execution_count": 81,
   "id": "051e2b50",
   "metadata": {},
   "outputs": [],
   "source": [
    "dicttets.get(\"key3\",None)"
   ]
  },
  {
   "cell_type": "code",
   "execution_count": 83,
   "id": "1abc0592",
   "metadata": {},
   "outputs": [
    {
     "data": {
      "text/plain": [
       "{'k': None, 'e': None, 'y': None, '3': None}"
      ]
     },
     "execution_count": 83,
     "metadata": {},
     "output_type": "execute_result"
    }
   ],
   "source": [
    "dicttets.fromkeys(\"key3\")"
   ]
  },
  {
   "cell_type": "code",
   "execution_count": 100,
   "id": "9b393fb5",
   "metadata": {},
   "outputs": [
    {
     "data": {
      "text/plain": [
       "{'k': 'val3', 'e': 'val3', 'y': 'val3', '3': 'val3'}"
      ]
     },
     "execution_count": 100,
     "metadata": {},
     "output_type": "execute_result"
    }
   ],
   "source": [
    "dicttets.fromkeys(\"key3\",'val3')"
   ]
  },
  {
   "cell_type": "code",
   "execution_count": 85,
   "id": "d72d6a46",
   "metadata": {},
   "outputs": [],
   "source": [
    "dicttets.setdefault(\"test\")"
   ]
  },
  {
   "cell_type": "code",
   "execution_count": 86,
   "id": "fb62f572",
   "metadata": {},
   "outputs": [
    {
     "data": {
      "text/plain": [
       "{'key': {112: 'v2'},\n",
       " 'key1': 'val1',\n",
       " 'key2': 'val2',\n",
       " 5: {'Nested': {'1': 'Life', '2': 'Geeks'}},\n",
       " 'test': None}"
      ]
     },
     "execution_count": 86,
     "metadata": {},
     "output_type": "execute_result"
    }
   ],
   "source": [
    "dicttets"
   ]
  },
  {
   "cell_type": "code",
   "execution_count": 88,
   "id": "21cc1977",
   "metadata": {},
   "outputs": [
    {
     "data": {
      "text/plain": [
       "'val2'"
      ]
     },
     "execution_count": 88,
     "metadata": {},
     "output_type": "execute_result"
    }
   ],
   "source": [
    "dicttets.setdefault(\"key2\",\"value2\")"
   ]
  },
  {
   "cell_type": "code",
   "execution_count": 89,
   "id": "36e7639b",
   "metadata": {},
   "outputs": [
    {
     "data": {
      "text/plain": [
       "{'key': {112: 'v2'},\n",
       " 'key1': 'val1',\n",
       " 'key2': 'val2',\n",
       " 5: {'Nested': {'1': 'Life', '2': 'Geeks'}},\n",
       " 'test': None}"
      ]
     },
     "execution_count": 89,
     "metadata": {},
     "output_type": "execute_result"
    }
   ],
   "source": [
    "dicttets"
   ]
  },
  {
   "cell_type": "code",
   "execution_count": 96,
   "id": "951f4a58",
   "metadata": {},
   "outputs": [],
   "source": [
    "dicttets.setdefault(\"test\",\"value3\")"
   ]
  },
  {
   "cell_type": "code",
   "execution_count": 97,
   "id": "59daa60f",
   "metadata": {},
   "outputs": [
    {
     "data": {
      "text/plain": [
       "{'key': {112: 'v2'},\n",
       " 'key1': 'val1',\n",
       " 'key2': 'val2',\n",
       " 5: {'Nested': {'1': 'Life', '2': 'Geeks'}},\n",
       " 'test': None}"
      ]
     },
     "execution_count": 97,
     "metadata": {},
     "output_type": "execute_result"
    }
   ],
   "source": [
    "dicttets"
   ]
  },
  {
   "cell_type": "code",
   "execution_count": 98,
   "id": "c0b3568f",
   "metadata": {},
   "outputs": [
    {
     "data": {
      "text/plain": [
       "'val2'"
      ]
     },
     "execution_count": 98,
     "metadata": {},
     "output_type": "execute_result"
    }
   ],
   "source": [
    "dicttets[\"key2\"]"
   ]
  },
  {
   "cell_type": "code",
   "execution_count": 76,
   "id": "58bc1ea7",
   "metadata": {},
   "outputs": [
    {
     "data": {
      "text/plain": [
       "{'key1': 'val1', 'key2': 'val2', 5: {'Nested': {'1': 'Life', '2': 'Geeks'}}}"
      ]
     },
     "execution_count": 76,
     "metadata": {},
     "output_type": "execute_result"
    }
   ],
   "source": [
    "dict2"
   ]
  },
  {
   "cell_type": "code",
   "execution_count": 99,
   "id": "5840286e",
   "metadata": {},
   "outputs": [],
   "source": [
    "\n",
    "    \n",
    "# https://www.geeksforgeeks.org/python-dictionary/"
   ]
  },
  {
   "cell_type": "code",
   "execution_count": null,
   "id": "a8a8435a",
   "metadata": {},
   "outputs": [],
   "source": []
  },
  {
   "cell_type": "code",
   "execution_count": null,
   "id": "ef5b3190",
   "metadata": {},
   "outputs": [],
   "source": [
    "Method\tDescription\n",
    "clear()\tRemoves all the elements from the dictionary\n",
    "copy()\tReturns a copy of the dictionary\n",
    "fromkeys()\tReturns a dictionary with the specified keys and value\n",
    "get()\tReturns the value of the specified key\n",
    "items()\tReturns a list containing a tuple for each key value pair\n",
    "keys()\tReturns a list containing the dictionary's keys\n",
    "pop()\tRemoves the element with the specified key\n",
    "popitem()\tRemoves the last inserted key-value pair\n",
    "setdefault()\tReturns the value of the specified key. If the key does not exist: insert the key, with the specified value\n",
    "update()\tUpdates the dictionary with the specified key-value pairs\n",
    "values()\tReturns a list of all the values in the dictionary"
   ]
  },
  {
   "cell_type": "raw",
   "id": "29a71c14",
   "metadata": {},
   "source": [
    "Complexities for Adding Elements in a Dictionary:\n",
    "Time complexity: O(1)/O(n)\n",
    "Space complexity: O(1)\n",
    "\n",
    "Complexities for Accessing elements in a Dictionary:\n",
    "Time complexity: O(1)\n",
    "Space complexity: O(1)"
   ]
  }
 ],
 "metadata": {
  "kernelspec": {
   "display_name": "Python 3 (ipykernel)",
   "language": "python",
   "name": "python3"
  },
  "language_info": {
   "codemirror_mode": {
    "name": "ipython",
    "version": 3
   },
   "file_extension": ".py",
   "mimetype": "text/x-python",
   "name": "python",
   "nbconvert_exporter": "python",
   "pygments_lexer": "ipython3",
   "version": "3.9.12"
  }
 },
 "nbformat": 4,
 "nbformat_minor": 5
}
