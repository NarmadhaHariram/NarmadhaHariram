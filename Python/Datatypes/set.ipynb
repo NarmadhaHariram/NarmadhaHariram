{
 "cells": [
  {
   "cell_type": "markdown",
   "id": "fee924f7",
   "metadata": {},
   "source": [
    "# Play with set\n",
    "\n",
    "A Set in Python programming is an unordered collection data type that is iterable, mutable and has no duplicate elements. \n",
    "\n",
    "Set are represented by { } (values enclosed in curly braces)"
   ]
  },
  {
   "cell_type": "code",
   "execution_count": 1,
   "id": "e99ba8b6",
   "metadata": {},
   "outputs": [],
   "source": [
    "val ={'test','with','set'}"
   ]
  },
  {
   "cell_type": "code",
   "execution_count": 2,
   "id": "9361b897",
   "metadata": {},
   "outputs": [
    {
     "name": "stdout",
     "output_type": "stream",
     "text": [
      "{'with', 'set', 'test'}\n"
     ]
    }
   ],
   "source": [
    "print(val)\n",
    "\n",
    "#Time Complexity: O(1)\n",
    "#Auxiliary Space: O(1)"
   ]
  },
  {
   "cell_type": "code",
   "execution_count": 4,
   "id": "4756f5de",
   "metadata": {},
   "outputs": [],
   "source": [
    "myset = set([\"test\",\"val\",\"with\",\"set\"])"
   ]
  },
  {
   "cell_type": "code",
   "execution_count": 5,
   "id": "1cab9360",
   "metadata": {},
   "outputs": [
    {
     "data": {
      "text/plain": [
       "{'set', 'test', 'val', 'with'}"
      ]
     },
     "execution_count": 5,
     "metadata": {},
     "output_type": "execute_result"
    }
   ],
   "source": [
    "myset"
   ]
  },
  {
   "cell_type": "raw",
   "id": "386e668f",
   "metadata": {},
   "source": [
    "# insert items with set\n",
    "\n",
    "Python set is an unordered datatype, which means we cannot know in which order the elements of the set are stored.\n",
    "\n",
    "Time Complexity: O(n)\n",
    "Auxiliary Space: O(n)"
   ]
  },
  {
   "cell_type": "code",
   "execution_count": 6,
   "id": "bc7350e2",
   "metadata": {},
   "outputs": [],
   "source": [
    "myset.add('newitem')"
   ]
  },
  {
   "cell_type": "code",
   "execution_count": 7,
   "id": "43f9e451",
   "metadata": {},
   "outputs": [
    {
     "data": {
      "text/plain": [
       "{'newitem', 'set', 'test', 'val', 'with'}"
      ]
     },
     "execution_count": 7,
     "metadata": {},
     "output_type": "execute_result"
    }
   ],
   "source": [
    "myset"
   ]
  },
  {
   "cell_type": "raw",
   "id": "df75cb62",
   "metadata": {},
   "source": [
    "#Check unique and  Immutable with Python Set\n"
   ]
  },
  {
   "cell_type": "code",
   "execution_count": 8,
   "id": "0653208e",
   "metadata": {},
   "outputs": [],
   "source": [
    "myset2 ={'Test','set','Test'}\n",
    "myset2.add('new')"
   ]
  },
  {
   "cell_type": "code",
   "execution_count": 9,
   "id": "17dd6ae9",
   "metadata": {},
   "outputs": [
    {
     "data": {
      "text/plain": [
       "{'Test', 'new', 'set'}"
      ]
     },
     "execution_count": 9,
     "metadata": {},
     "output_type": "execute_result"
    }
   ],
   "source": [
    "myset2 #Removed duplicate value Test"
   ]
  },
  {
   "cell_type": "code",
   "execution_count": 10,
   "id": "7f8cf469",
   "metadata": {},
   "outputs": [
    {
     "ename": "TypeError",
     "evalue": "'set' object does not support item assignment",
     "output_type": "error",
     "traceback": [
      "\u001b[1;31m---------------------------------------------------------------------------\u001b[0m",
      "\u001b[1;31mTypeError\u001b[0m                                 Traceback (most recent call last)",
      "Input \u001b[1;32mIn [10]\u001b[0m, in \u001b[0;36m<cell line: 1>\u001b[1;34m()\u001b[0m\n\u001b[1;32m----> 1\u001b[0m myset[\u001b[38;5;241m2\u001b[39m] \u001b[38;5;241m=\u001b[39m\u001b[38;5;124m\"\u001b[39m\u001b[38;5;124mtest3\u001b[39m\u001b[38;5;124m\"\u001b[39m\n",
      "\u001b[1;31mTypeError\u001b[0m: 'set' object does not support item assignment"
     ]
    }
   ],
   "source": [
    "myset[2] =\"test3\" #You cant add like dict"
   ]
  },
  {
   "cell_type": "code",
   "execution_count": 11,
   "id": "661497e5",
   "metadata": {},
   "outputs": [
    {
     "name": "stdout",
     "output_type": "stream",
     "text": [
      "{True, 52.7, 'for', 10, 'Geeks'}\n"
     ]
    }
   ],
   "source": [
    "# can store heterogeneous elements\n",
    "myset = {\"Geeks\", \"for\", 10, 52.7, True}\n",
    "print(myset)"
   ]
  },
  {
   "cell_type": "code",
   "execution_count": 15,
   "id": "94328f54",
   "metadata": {},
   "outputs": [],
   "source": [
    "# Python Frozen Sets\n",
    "normalset = {\"Geeks\", \"for\", 10, 52.7, True,\"Geeks\"}\n",
    "\n",
    "frozen_set=frozenset([\"a\",\"b\",\"1\",\"a\"])"
   ]
  },
  {
   "cell_type": "code",
   "execution_count": 16,
   "id": "6e402f2b",
   "metadata": {},
   "outputs": [
    {
     "data": {
      "text/plain": [
       "{10, 52.7, 'Geeks', True, 'for'}"
      ]
     },
     "execution_count": 16,
     "metadata": {},
     "output_type": "execute_result"
    }
   ],
   "source": [
    "normalset"
   ]
  },
  {
   "cell_type": "code",
   "execution_count": 17,
   "id": "994c3890",
   "metadata": {},
   "outputs": [
    {
     "data": {
      "text/plain": [
       "frozenset({'1', 'a', 'b'})"
      ]
     },
     "execution_count": 17,
     "metadata": {},
     "output_type": "execute_result"
    }
   ],
   "source": [
    "frozen_set"
   ]
  },
  {
   "cell_type": "code",
   "execution_count": 18,
   "id": "9c4ca52b",
   "metadata": {},
   "outputs": [
    {
     "ename": "AttributeError",
     "evalue": "'frozenset' object has no attribute 'add'",
     "output_type": "error",
     "traceback": [
      "\u001b[1;31m---------------------------------------------------------------------------\u001b[0m",
      "\u001b[1;31mAttributeError\u001b[0m                            Traceback (most recent call last)",
      "Input \u001b[1;32mIn [18]\u001b[0m, in \u001b[0;36m<cell line: 1>\u001b[1;34m()\u001b[0m\n\u001b[1;32m----> 1\u001b[0m \u001b[43mfrozen_set\u001b[49m\u001b[38;5;241;43m.\u001b[39;49m\u001b[43madd\u001b[49m(\u001b[38;5;124m'\u001b[39m\u001b[38;5;124mc\u001b[39m\u001b[38;5;124m'\u001b[39m)\n",
      "\u001b[1;31mAttributeError\u001b[0m: 'frozenset' object has no attribute 'add'"
     ]
    }
   ],
   "source": [
    "frozen_set.add('c') # can't modify frozen set"
   ]
  },
  {
   "cell_type": "code",
   "execution_count": 19,
   "id": "caee5137",
   "metadata": {},
   "outputs": [],
   "source": [
    "# Set operations"
   ]
  },
  {
   "cell_type": "code",
   "execution_count": 21,
   "id": "decefa34",
   "metadata": {},
   "outputs": [],
   "source": [
    "myset.add(11)"
   ]
  },
  {
   "cell_type": "code",
   "execution_count": 22,
   "id": "ad547165",
   "metadata": {},
   "outputs": [
    {
     "data": {
      "text/plain": [
       "{10, 11, 52.7, 'Geeks', True, 'for'}"
      ]
     },
     "execution_count": 22,
     "metadata": {},
     "output_type": "execute_result"
    }
   ],
   "source": [
    "myset"
   ]
  },
  {
   "cell_type": "code",
   "execution_count": 23,
   "id": "389a1249",
   "metadata": {},
   "outputs": [],
   "source": [
    "myset.remove('for')"
   ]
  },
  {
   "cell_type": "code",
   "execution_count": 24,
   "id": "fcd67ce9",
   "metadata": {},
   "outputs": [
    {
     "data": {
      "text/plain": [
       "{10, 11, 52.7, 'Geeks', True}"
      ]
     },
     "execution_count": 24,
     "metadata": {},
     "output_type": "execute_result"
    }
   ],
   "source": [
    "myset"
   ]
  },
  {
   "cell_type": "code",
   "execution_count": 26,
   "id": "a3620423",
   "metadata": {},
   "outputs": [
    {
     "ename": "KeyError",
     "evalue": "3",
     "output_type": "error",
     "traceback": [
      "\u001b[1;31m---------------------------------------------------------------------------\u001b[0m",
      "\u001b[1;31mKeyError\u001b[0m                                  Traceback (most recent call last)",
      "Input \u001b[1;32mIn [26]\u001b[0m, in \u001b[0;36m<cell line: 1>\u001b[1;34m()\u001b[0m\n\u001b[1;32m----> 1\u001b[0m \u001b[43mmyset\u001b[49m\u001b[38;5;241;43m.\u001b[39;49m\u001b[43mremove\u001b[49m\u001b[43m(\u001b[49m\u001b[38;5;241;43m3\u001b[39;49m\u001b[43m)\u001b[49m\n",
      "\u001b[1;31mKeyError\u001b[0m: 3"
     ]
    }
   ],
   "source": [
    "myset.remove(3)"
   ]
  },
  {
   "cell_type": "code",
   "execution_count": 30,
   "id": "cbf2fb65",
   "metadata": {},
   "outputs": [],
   "source": [
    "new = myset.copy()"
   ]
  },
  {
   "cell_type": "code",
   "execution_count": 31,
   "id": "70950b8d",
   "metadata": {},
   "outputs": [
    {
     "data": {
      "text/plain": [
       "{10, 11, 52.7, 'Geeks', True}"
      ]
     },
     "execution_count": 31,
     "metadata": {},
     "output_type": "execute_result"
    }
   ],
   "source": [
    "new"
   ]
  },
  {
   "cell_type": "code",
   "execution_count": 32,
   "id": "1bca66c5",
   "metadata": {},
   "outputs": [
    {
     "data": {
      "text/plain": [
       "{10, 11, 52.7, 'Geeks', True}"
      ]
     },
     "execution_count": 32,
     "metadata": {},
     "output_type": "execute_result"
    }
   ],
   "source": [
    "myset"
   ]
  },
  {
   "cell_type": "code",
   "execution_count": 33,
   "id": "d5fb09b8",
   "metadata": {},
   "outputs": [],
   "source": [
    "myset.discard(-1) #if present discard, else none"
   ]
  },
  {
   "cell_type": "code",
   "execution_count": 34,
   "id": "f0e87ac6",
   "metadata": {},
   "outputs": [
    {
     "data": {
      "text/plain": [
       "{10, 11, 52.7, 'Geeks', True}"
      ]
     },
     "execution_count": 34,
     "metadata": {},
     "output_type": "execute_result"
    }
   ],
   "source": [
    "myset"
   ]
  },
  {
   "cell_type": "code",
   "execution_count": 37,
   "id": "e7c7abce",
   "metadata": {},
   "outputs": [],
   "source": [
    "myset.discard(52.7) "
   ]
  },
  {
   "cell_type": "code",
   "execution_count": 38,
   "id": "e0a59b70",
   "metadata": {},
   "outputs": [
    {
     "data": {
      "text/plain": [
       "{10, 11, 'Geeks', True}"
      ]
     },
     "execution_count": 38,
     "metadata": {},
     "output_type": "execute_result"
    }
   ],
   "source": [
    "myset"
   ]
  },
  {
   "cell_type": "code",
   "execution_count": 39,
   "id": "e9e96642",
   "metadata": {},
   "outputs": [],
   "source": [
    "# Python Program to\n",
    "# demonstrate union of\n",
    "# two sets\n",
    " \n",
    "people = {\"Jay\", \"Idrish\", \"Archil\"}\n",
    "vampires = {\"Karan\", \"Arjun\"}\n",
    "dracula = {\"Deepanshu\", \"Raju\"}"
   ]
  },
  {
   "cell_type": "code",
   "execution_count": 41,
   "id": "dd11b5b1",
   "metadata": {},
   "outputs": [
    {
     "data": {
      "text/plain": [
       "{'Archil', 'Arjun', 'Idrish', 'Jay', 'Karan'}"
      ]
     },
     "execution_count": 41,
     "metadata": {},
     "output_type": "execute_result"
    }
   ],
   "source": [
    "population = people.union(vampires)\n",
    "population"
   ]
  },
  {
   "cell_type": "code",
   "execution_count": 42,
   "id": "fdf0fc57",
   "metadata": {},
   "outputs": [
    {
     "data": {
      "text/plain": [
       "{'Archil', 'Deepanshu', 'Idrish', 'Jay', 'Raju'}"
      ]
     },
     "execution_count": 42,
     "metadata": {},
     "output_type": "execute_result"
    }
   ],
   "source": [
    "population1 = people|dracula\n",
    "population1"
   ]
  },
  {
   "cell_type": "code",
   "execution_count": 43,
   "id": "0ab76cde",
   "metadata": {},
   "outputs": [
    {
     "data": {
      "text/plain": [
       "{'Archil', 'Idrish', 'Jay'}"
      ]
     },
     "execution_count": 43,
     "metadata": {},
     "output_type": "execute_result"
    }
   ],
   "source": [
    "population1.difference(dracula)"
   ]
  },
  {
   "cell_type": "code",
   "execution_count": 44,
   "id": "e3aaa00a",
   "metadata": {},
   "outputs": [
    {
     "data": {
      "text/plain": [
       "{'Archil', 'Deepanshu', 'Idrish', 'Jay', 'Raju'}"
      ]
     },
     "execution_count": 44,
     "metadata": {},
     "output_type": "execute_result"
    }
   ],
   "source": [
    "population1"
   ]
  },
  {
   "cell_type": "code",
   "execution_count": 45,
   "id": "5f893f14",
   "metadata": {},
   "outputs": [],
   "source": [
    "population1.difference_update(people)"
   ]
  },
  {
   "cell_type": "code",
   "execution_count": 46,
   "id": "2a5ac023",
   "metadata": {},
   "outputs": [
    {
     "data": {
      "text/plain": [
       "{'Deepanshu', 'Raju'}"
      ]
     },
     "execution_count": 46,
     "metadata": {},
     "output_type": "execute_result"
    }
   ],
   "source": [
    "population1"
   ]
  },
  {
   "cell_type": "code",
   "execution_count": 47,
   "id": "ed4f2902",
   "metadata": {},
   "outputs": [
    {
     "data": {
      "text/plain": [
       "{'Arjun', 'Karan'}"
      ]
     },
     "execution_count": 47,
     "metadata": {},
     "output_type": "execute_result"
    }
   ],
   "source": [
    "population.intersection(vampires)"
   ]
  },
  {
   "cell_type": "code",
   "execution_count": 48,
   "id": "040c8076",
   "metadata": {},
   "outputs": [],
   "source": [
    "population.intersection_update(people)"
   ]
  },
  {
   "cell_type": "code",
   "execution_count": 49,
   "id": "0529bdf0",
   "metadata": {},
   "outputs": [
    {
     "data": {
      "text/plain": [
       "{'Archil', 'Idrish', 'Jay'}"
      ]
     },
     "execution_count": 49,
     "metadata": {},
     "output_type": "execute_result"
    }
   ],
   "source": [
    "population"
   ]
  },
  {
   "cell_type": "code",
   "execution_count": 50,
   "id": "888c9ba3",
   "metadata": {},
   "outputs": [
    {
     "name": "stdout",
     "output_type": "stream",
     "text": [
      "Intersection using intersection() function\n",
      "{3, 4}\n",
      "\n",
      "Intersection using '&' operator\n",
      "{3, 4}\n"
     ]
    }
   ],
   "source": [
    "# Python program to\n",
    "# demonstrate intersection\n",
    "# of two sets\n",
    " \n",
    "set1 = set()\n",
    "set2 = set()\n",
    " \n",
    "for i in range(5):\n",
    "    set1.add(i)\n",
    " \n",
    "for i in range(3,9):\n",
    "    set2.add(i)\n",
    " \n",
    "# Intersection using\n",
    "# intersection() function\n",
    "set3 = set1.intersection(set2)\n",
    " \n",
    "print(\"Intersection using intersection() function\")\n",
    "print(set3)\n",
    " \n",
    "# Intersection using\n",
    "# \"&\" operator\n",
    "set3 = set1 & set2\n",
    " \n",
    "print(\"\\nIntersection using '&' operator\")\n",
    "print(set3)"
   ]
  },
  {
   "cell_type": "code",
   "execution_count": 52,
   "id": "d144a6a9",
   "metadata": {},
   "outputs": [
    {
     "name": "stdout",
     "output_type": "stream",
     "text": [
      "set1 {0, 1, 2, 3, 4}\n",
      "set2 {3, 4, 5, 6, 7, 8}\n",
      " Difference of two sets using difference() function\n",
      "{0, 1, 2}\n",
      "\n",
      "Difference of two sets using '-' operator\n",
      "{0, 1, 2}\n"
     ]
    }
   ],
   "source": [
    "# Python program to\n",
    "# demonstrate difference\n",
    "# of two sets\n",
    " \n",
    "set1 = set()\n",
    "set2 = set()\n",
    " \n",
    "for i in range(5):\n",
    "    set1.add(i)\n",
    " \n",
    "for i in range(3,9):\n",
    "    set2.add(i)\n",
    " \n",
    "# Difference of two sets\n",
    "# using difference() function\n",
    "print(\"set1\",set1)\n",
    "print(\"set2\",set2)\n",
    "set3 = set1.difference(set2)\n",
    " \n",
    "print(\" Difference of two sets using difference() function\")\n",
    "print(set3)\n",
    " \n",
    "# Difference of two sets\n",
    "# using '-' operator\n",
    "set3 = set1 - set2\n",
    " \n",
    "print(\"\\nDifference of two sets using '-' operator\")\n",
    "print(set3)"
   ]
  },
  {
   "cell_type": "code",
   "execution_count": 1,
   "id": "762d42b7",
   "metadata": {},
   "outputs": [],
   "source": [
    "first_set = {1, 2, 3, 4, 5, 6}\n",
    "second_set = {4, 5, 6, 7, 8, 9}"
   ]
  },
  {
   "cell_type": "code",
   "execution_count": 4,
   "id": "504beef2",
   "metadata": {},
   "outputs": [
    {
     "data": {
      "text/plain": [
       "{1, 2, 3, 4, 5, 6, 7, 8, 9}"
      ]
     },
     "execution_count": 4,
     "metadata": {},
     "output_type": "execute_result"
    }
   ],
   "source": [
    "first_set |second_set"
   ]
  },
  {
   "cell_type": "code",
   "execution_count": 55,
   "id": "0b1d46e5",
   "metadata": {},
   "outputs": [
    {
     "data": {
      "text/plain": [
       "{4, 5, 6}"
      ]
     },
     "execution_count": 55,
     "metadata": {},
     "output_type": "execute_result"
    }
   ],
   "source": [
    "first_set.intersection(second_set)"
   ]
  },
  {
   "cell_type": "code",
   "execution_count": 56,
   "id": "c799d0e2",
   "metadata": {},
   "outputs": [
    {
     "data": {
      "text/plain": [
       "{1, 2, 3, 4, 5, 6, 7, 8, 9}"
      ]
     },
     "execution_count": 56,
     "metadata": {},
     "output_type": "execute_result"
    }
   ],
   "source": [
    "first_set.union(second_set)"
   ]
  },
  {
   "cell_type": "code",
   "execution_count": 57,
   "id": "8fb2e98a",
   "metadata": {},
   "outputs": [
    {
     "data": {
      "text/plain": [
       "{1, 2, 3, 4, 5, 6, 7, 8, 9}"
      ]
     },
     "execution_count": 57,
     "metadata": {},
     "output_type": "execute_result"
    }
   ],
   "source": [
    "first_set|second_set"
   ]
  },
  {
   "cell_type": "code",
   "execution_count": 58,
   "id": "45d9eea9",
   "metadata": {},
   "outputs": [
    {
     "data": {
      "text/plain": [
       "{4, 5, 6}"
      ]
     },
     "execution_count": 58,
     "metadata": {},
     "output_type": "execute_result"
    }
   ],
   "source": [
    "first_set.intersection(second_set)"
   ]
  },
  {
   "cell_type": "code",
   "execution_count": 59,
   "id": "e65ed3b5",
   "metadata": {},
   "outputs": [
    {
     "data": {
      "text/plain": [
       "{1, 2, 3}"
      ]
     },
     "execution_count": 59,
     "metadata": {},
     "output_type": "execute_result"
    }
   ],
   "source": [
    "first_set.difference(second_set)"
   ]
  },
  {
   "cell_type": "code",
   "execution_count": 53,
   "id": "37816c99",
   "metadata": {},
   "outputs": [
    {
     "data": {
      "text/plain": [
       "{1, 2, 3, 7, 8, 9}"
      ]
     },
     "execution_count": 53,
     "metadata": {},
     "output_type": "execute_result"
    }
   ],
   "source": [
    "first_set = {1, 2, 3, 4, 5, 6}\n",
    "second_set = {4, 5, 6, 7, 8, 9}\n",
    "first_set.symmetric_difference(second_set)"
   ]
  },
  {
   "cell_type": "raw",
   "id": "694e2117",
   "metadata": {},
   "source": [
    ">> a = {1, 2, 3, 4, 5, 6}\n",
    ">>> b = {4, 5, 6, 7, 8, 9}\n",
    ">>>\n",
    ">>> a.update(b)          # a \"union\" operation\n",
    ">>> a\n",
    "{1, 2, 3, 4, 5, 6, 7, 8, 9}\n",
    ">>>\n",
    ">>> a &= b               # the \"intersection\" operation\n",
    ">>> a\n",
    "{4, 5, 6, 7, 8, 9}\n",
    ">>>\n",
    ">>> a -= set((7, 8, 9))  # the \"difference\" operation\n",
    ">>> a\n",
    "{4, 5, 6}\n",
    ">>>\n",
    ">>> a ^= b               # the \"symmetric difference\" operation\n",
    ">>> a\n",
    "{7, 8, 9}"
   ]
  },
  {
   "cell_type": "raw",
   "id": "192c22d4",
   "metadata": {},
   "source": [
    "Other Set Operations in Python\n",
    "These are not so common, but they're useful in seeing how sets relate to others.\n",
    "\n",
    "the a.issubset(b) method or <= operator returns true if the a is a subset of b\n",
    "the a.issuperset(b) method or >= operator returns true if the a is a superset of b\n",
    "the a.isdisjoint(b) method return true if there are no common elements between sets a and b\n",
    "\n",
    "The frozenset datatype has all the methods of a set (such as difference(), symmetric_difference, and union) but because it is immutable, it doesn't have methods to add/remove elements."
   ]
  },
  {
   "cell_type": "raw",
   "id": "64bf2c93",
   "metadata": {},
   "source": [
    "key in s\tcontainment check\n",
    "key not in s\tnon-containment check\n",
    "s1 == s2\ts1 is equivalent to s2\n",
    "s1 != s2\ts1 is not equivalent to s2\n",
    "s1 <= s2\ts1 is subset of s2\n",
    "s1 < s2\ts1 is proper subset of s2\n",
    "s1 >= s2\ts1 is superset of s2\n",
    "s1 > s2\ts1 is proper superset of s2\n",
    "s1 | s2\tthe union of s1 and s2"
   ]
  },
  {
   "cell_type": "markdown",
   "id": "85c861eb",
   "metadata": {},
   "source": [
    "differences\n",
    "\n",
    "remove - based on element\n",
    "**\n",
    "discard- based on element\n",
    "####  https://www.geeksforgeeks.org/sets-in-python/"
   ]
  }
 ],
 "metadata": {
  "kernelspec": {
   "display_name": "Python 3 (ipykernel)",
   "language": "python",
   "name": "python3"
  },
  "language_info": {
   "codemirror_mode": {
    "name": "ipython",
    "version": 3
   },
   "file_extension": ".py",
   "mimetype": "text/x-python",
   "name": "python",
   "nbconvert_exporter": "python",
   "pygments_lexer": "ipython3",
   "version": "3.9.12"
  }
 },
 "nbformat": 4,
 "nbformat_minor": 5
}
