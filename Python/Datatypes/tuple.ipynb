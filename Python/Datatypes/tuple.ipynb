{
 "cells": [
  {
   "cell_type": "markdown",
   "id": "a9f4db32",
   "metadata": {},
   "source": [
    "# Playing with tuples\n",
    "\n",
    "Tuple is a collection of Python objects much like a list. The sequence of values stored in a tuple can be of any type, and they are indexed by integers. \n",
    "\n",
    "Values of a tuple are syntactically separated by ‘commas’. Although it is not necessary, it is more common to define a tuple by closing the sequence of values in parentheses."
   ]
  },
  {
   "cell_type": "raw",
   "id": "786df8d9",
   "metadata": {},
   "source": [
    "# Creation of tuple"
   ]
  },
  {
   "cell_type": "code",
   "execution_count": 1,
   "id": "a8a6f0c3",
   "metadata": {},
   "outputs": [],
   "source": [
    "# Empty tuple\n",
    "\n",
    "tupple1 = ()"
   ]
  },
  {
   "cell_type": "code",
   "execution_count": 2,
   "id": "e98d09d2",
   "metadata": {},
   "outputs": [
    {
     "data": {
      "text/plain": [
       "()"
      ]
     },
     "execution_count": 2,
     "metadata": {},
     "output_type": "execute_result"
    }
   ],
   "source": [
    "tupple1"
   ]
  },
  {
   "cell_type": "code",
   "execution_count": 3,
   "id": "0402652d",
   "metadata": {},
   "outputs": [],
   "source": [
    "tuple1 = (\"testing\",'a','tuple')\n",
    "tuple2 = (1,2,3)\n",
    "tuple_from = tuple(\"Example\")"
   ]
  },
  {
   "cell_type": "code",
   "execution_count": 5,
   "id": "187bfd25",
   "metadata": {},
   "outputs": [],
   "source": [
    "tuple3 = (1,\"test\",6,\"test2\")"
   ]
  },
  {
   "cell_type": "code",
   "execution_count": 6,
   "id": "c85d6beb",
   "metadata": {},
   "outputs": [
    {
     "name": "stdout",
     "output_type": "stream",
     "text": [
      "('testing', 'a', 'tuple')\n",
      "(1, 2, 3)\n",
      "('E', 'x', 'a', 'm', 'p', 'l', 'e')\n",
      "(1, 'test', 6, 'test2')\n"
     ]
    }
   ],
   "source": [
    "print(tuple1)\n",
    "print(tuple2)\n",
    "print(tuple_from)\n",
    "print(tuple3)"
   ]
  },
  {
   "cell_type": "code",
   "execution_count": 8,
   "id": "b02da2ff",
   "metadata": {},
   "outputs": [
    {
     "data": {
      "text/plain": [
       "'tuple tuple tuple '"
      ]
     },
     "execution_count": 8,
     "metadata": {},
     "output_type": "execute_result"
    }
   ],
   "source": [
    "(\"tuple \")*3"
   ]
  },
  {
   "cell_type": "code",
   "execution_count": 13,
   "id": "c73ba959",
   "metadata": {},
   "outputs": [
    {
     "name": "stdout",
     "output_type": "stream",
     "text": [
      "('TestTuple',)\n",
      "(('TestTuple',),)\n",
      "((('TestTuple',),),)\n",
      "(((('TestTuple',),),),)\n",
      "((((('TestTuple',),),),),)\n"
     ]
    }
   ],
   "source": [
    "# Creating a test tuple using loop\n",
    "n = 5\n",
    "example = (\"TestTuple\")\n",
    "for i in range(int(n)):\n",
    "    example = (example,)\n",
    "    print(example)"
   ]
  },
  {
   "cell_type": "raw",
   "id": "f9df9cd2",
   "metadata": {},
   "source": [
    "Accessing of Tuples\n",
    "Tuples are immutable, and usually, they contain a sequence of heterogeneous elements that are accessed via unpacking or indexing (or even by attribute in the case of named tuples). Lists are mutable, and their elements are usually homogeneous and are accessed by iterating over the list."
   ]
  },
  {
   "cell_type": "code",
   "execution_count": 14,
   "id": "f7aee22e",
   "metadata": {},
   "outputs": [
    {
     "data": {
      "text/plain": [
       "('E', 'x', 'a', 'm', 'p', 'l', 'e')"
      ]
     },
     "execution_count": 14,
     "metadata": {},
     "output_type": "execute_result"
    }
   ],
   "source": [
    "tuple_from"
   ]
  },
  {
   "cell_type": "code",
   "execution_count": 16,
   "id": "b4a5c49f",
   "metadata": {},
   "outputs": [
    {
     "data": {
      "text/plain": [
       "('E', 'x', 'a')"
      ]
     },
     "execution_count": 16,
     "metadata": {},
     "output_type": "execute_result"
    }
   ],
   "source": [
    "tuple_from[0:3]"
   ]
  },
  {
   "cell_type": "code",
   "execution_count": 17,
   "id": "5693d358",
   "metadata": {},
   "outputs": [
    {
     "name": "stdout",
     "output_type": "stream",
     "text": [
      "1 2 3\n"
     ]
    }
   ],
   "source": [
    "#Tuple unpacking \n",
    "\n",
    "a, b, c = tuple2\n",
    "\n",
    "print(a,b,c)"
   ]
  },
  {
   "cell_type": "raw",
   "id": "25502039",
   "metadata": {},
   "source": [
    "Concatenation of Tuples\n",
    "Concatenation of tuple is the process of joining two or more Tuples. Concatenation is done by the use of ‘+’ operator. Concatenation of tuples is done always from the end of the original tuple. Other arithmetic operations do not apply on Tuples. \n",
    "\n",
    "Time Complexity: O(1)\n",
    "\n",
    "Auxiliary Space: O(1)"
   ]
  },
  {
   "cell_type": "code",
   "execution_count": 20,
   "id": "30d711c4",
   "metadata": {},
   "outputs": [],
   "source": [
    "example1 = (1,2,3,4,5)\n",
    "example2 = ('a','b','c','d','e')"
   ]
  },
  {
   "cell_type": "code",
   "execution_count": 27,
   "id": "2a0eadcf",
   "metadata": {},
   "outputs": [
    {
     "data": {
      "text/plain": [
       "(1, 2, 3, 4, 5, 'a', 'b', 'c', 'd', 'e')"
      ]
     },
     "execution_count": 27,
     "metadata": {},
     "output_type": "execute_result"
    }
   ],
   "source": [
    "x =example1 + example2\n",
    "x"
   ]
  },
  {
   "cell_type": "markdown",
   "id": "ff09de7a",
   "metadata": {},
   "source": [
    "Slicing of Tuple\n",
    "Slicing of a Tuple is done to fetch a specific range or slice of sub-elements from a Tuple."
   ]
  },
  {
   "cell_type": "code",
   "execution_count": 22,
   "id": "7ade4752",
   "metadata": {},
   "outputs": [
    {
     "data": {
      "text/plain": [
       "(3, 4, 5)"
      ]
     },
     "execution_count": 22,
     "metadata": {},
     "output_type": "execute_result"
    }
   ],
   "source": [
    "example1[2:]"
   ]
  },
  {
   "cell_type": "code",
   "execution_count": 24,
   "id": "b203472d",
   "metadata": {},
   "outputs": [
    {
     "data": {
      "text/plain": [
       "(5, 4, 3, 2, 1)"
      ]
     },
     "execution_count": 24,
     "metadata": {},
     "output_type": "execute_result"
    }
   ],
   "source": [
    "example1[::-1]"
   ]
  },
  {
   "cell_type": "code",
   "execution_count": 26,
   "id": "ccfe79ad",
   "metadata": {},
   "outputs": [
    {
     "data": {
      "text/plain": [
       "(1, 4)"
      ]
     },
     "execution_count": 26,
     "metadata": {},
     "output_type": "execute_result"
    }
   ],
   "source": [
    "example1[::3]"
   ]
  },
  {
   "cell_type": "code",
   "execution_count": 29,
   "id": "265f5485",
   "metadata": {},
   "outputs": [
    {
     "data": {
      "text/plain": [
       "(1, 2, 3, 4, 5, 'a', 'b', 'c', 'd', 'e')"
      ]
     },
     "execution_count": 29,
     "metadata": {},
     "output_type": "execute_result"
    }
   ],
   "source": [
    "x"
   ]
  },
  {
   "cell_type": "code",
   "execution_count": 28,
   "id": "90cbdeab",
   "metadata": {},
   "outputs": [
    {
     "data": {
      "text/plain": [
       "(1, 4, 'b', 'e')"
      ]
     },
     "execution_count": 28,
     "metadata": {},
     "output_type": "execute_result"
    }
   ],
   "source": [
    "x[::3]"
   ]
  },
  {
   "cell_type": "code",
   "execution_count": 32,
   "id": "5b5fdb5a",
   "metadata": {},
   "outputs": [
    {
     "data": {
      "text/plain": [
       "('a', 'd')"
      ]
     },
     "execution_count": 32,
     "metadata": {},
     "output_type": "execute_result"
    }
   ],
   "source": [
    "x[-5:-1:3]"
   ]
  },
  {
   "cell_type": "code",
   "execution_count": 35,
   "id": "e1463dd4",
   "metadata": {},
   "outputs": [
    {
     "data": {
      "text/plain": [
       "('a', 'b', 'c', 'd', 'e')"
      ]
     },
     "execution_count": 35,
     "metadata": {},
     "output_type": "execute_result"
    }
   ],
   "source": [
    "x[-5::]"
   ]
  },
  {
   "cell_type": "code",
   "execution_count": 36,
   "id": "9e7b99e5",
   "metadata": {},
   "outputs": [
    {
     "data": {
      "text/plain": [
       "(1, 2, 3, 4, 5, 'a', 'b', 'c', 'd', 'e')"
      ]
     },
     "execution_count": 36,
     "metadata": {},
     "output_type": "execute_result"
    }
   ],
   "source": [
    "x"
   ]
  },
  {
   "cell_type": "code",
   "execution_count": 37,
   "id": "a81adf93",
   "metadata": {},
   "outputs": [
    {
     "ename": "NameError",
     "evalue": "name 'x' is not defined",
     "output_type": "error",
     "traceback": [
      "\u001b[1;31m---------------------------------------------------------------------------\u001b[0m",
      "\u001b[1;31mNameError\u001b[0m                                 Traceback (most recent call last)",
      "Input \u001b[1;32mIn [37]\u001b[0m, in \u001b[0;36m<cell line: 4>\u001b[1;34m()\u001b[0m\n\u001b[0;32m      1\u001b[0m \u001b[38;5;66;03m# Deleting a tuple\u001b[39;00m\n\u001b[0;32m      3\u001b[0m \u001b[38;5;28;01mdel\u001b[39;00m x\n\u001b[1;32m----> 4\u001b[0m \u001b[38;5;28mprint\u001b[39m(\u001b[43mx\u001b[49m)\n",
      "\u001b[1;31mNameError\u001b[0m: name 'x' is not defined"
     ]
    }
   ],
   "source": [
    "# Deleting a tuple\n",
    "\n",
    "del x\n",
    "print(x)\n"
   ]
  },
  {
   "cell_type": "raw",
   "id": "8c5c6f2d",
   "metadata": {},
   "source": [
    "index( )\tFind in the tuple and returns the index of the given value where it’s available\n",
    "count( )\tReturns the frequency of occurrence of a specified value"
   ]
  },
  {
   "cell_type": "raw",
   "id": "10f690e4",
   "metadata": {},
   "source": [
    "all()\tReturns true if all element are true or if tuple is empty\n",
    "any()\treturn true if any element of the tuple is true. if tuple is empty, return false\n",
    "len()\tReturns length of the tuple or size of the tuple\n",
    "enumerate()\tReturns enumerate object of tuple\n",
    "max()\treturn maximum element of given tuple\n",
    "min()\treturn minimum element of given tuple\n",
    "sum()\tSums up the numbers in the tuple\n",
    "sorted()\tinput elements in the tuple and return a new sorted list\n",
    "tuple()\tConvert an iterable to a tuple."
   ]
  },
  {
   "cell_type": "raw",
   "id": "7ccaf5c4",
   "metadata": {},
   "source": [
    "Similarities  Tuples VS Lists:\n",
    "Differences\n",
    "\n",
    "1. Functions that can be used for both lists and tuples:len(), max(), min(), sum(), any(), all(), sorted()\n",
    "1. Methods that cannot be used for tuples:append(), insert(), remove(), pop(), clear(), sort(), reverse()\n",
    "\n",
    "2 Methods that can be used for both lists and tuples:count(), Index()\n",
    "2 we generally use ‘tuples’ for heterogeneous (different) data types and ‘lists’ for homogeneous (similar) data types.\n",
    "\n",
    "3 Tuples can be stored in lists.\t\n",
    "3 Iterating through a ‘tuple’ is faster than in a ‘list’.\n",
    "\n",
    "4 Lists can be stored in tuples.\t\n",
    "4‘Lists’ are mutable whereas ‘tuples’ are immutable.\n",
    "\n",
    "5Both ‘tuples’ and ‘lists’ can be nested.\t\n",
    "5Tuples that contain immutable elements can be used as a key for a dictionary."
   ]
  },
  {
   "cell_type": "code",
   "execution_count": null,
   "id": "c20d810c",
   "metadata": {},
   "outputs": [],
   "source": []
  },
  {
   "cell_type": "raw",
   "id": "2418c2d8",
   "metadata": {},
   "source": [
    "Complexities for creating tuples:\n",
    "\n",
    "Time complexity: O(1)\n",
    "Auxiliary Space : O(n)\n",
    "\n",
    "Complexities for accessing elements in tuples:\n",
    "\n",
    "Time complexity: O(1)\n",
    "Space complexity: O(1)\n",
    "\n",
    "Complexities for traversal/searching elements in tuples:\n",
    "\n",
    "Time complexity: O(1)\n",
    "Space complexity: O(1)\n",
    "\n"
   ]
  }
 ],
 "metadata": {
  "kernelspec": {
   "display_name": "Python 3 (ipykernel)",
   "language": "python",
   "name": "python3"
  },
  "language_info": {
   "codemirror_mode": {
    "name": "ipython",
    "version": 3
   },
   "file_extension": ".py",
   "mimetype": "text/x-python",
   "name": "python",
   "nbconvert_exporter": "python",
   "pygments_lexer": "ipython3",
   "version": "3.9.12"
  }
 },
 "nbformat": 4,
 "nbformat_minor": 5
}
