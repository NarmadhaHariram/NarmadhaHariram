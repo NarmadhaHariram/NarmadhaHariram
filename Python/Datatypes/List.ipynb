{
 "cells": [
  {
   "cell_type": "markdown",
   "id": "6e3c0e44",
   "metadata": {},
   "source": [
    "# Play with List"
   ]
  },
  {
   "cell_type": "code",
   "execution_count": null,
   "id": "b408fea2",
   "metadata": {},
   "outputs": [],
   "source": []
  },
  {
   "cell_type": "code",
   "execution_count": 5,
   "id": "9380b60b",
   "metadata": {},
   "outputs": [],
   "source": [
    "# New list\n",
    "L = []"
   ]
  },
  {
   "cell_type": "code",
   "execution_count": 6,
   "id": "9d118a44",
   "metadata": {},
   "outputs": [],
   "source": [
    "L.append(5)"
   ]
  },
  {
   "cell_type": "code",
   "execution_count": 7,
   "id": "5fd7a923",
   "metadata": {},
   "outputs": [
    {
     "data": {
      "text/plain": [
       "[5]"
      ]
     },
     "execution_count": 7,
     "metadata": {},
     "output_type": "execute_result"
    }
   ],
   "source": [
    "L"
   ]
  },
  {
   "cell_type": "code",
   "execution_count": 9,
   "id": "2df67378",
   "metadata": {},
   "outputs": [],
   "source": [
    "L.append([6,7])"
   ]
  },
  {
   "cell_type": "code",
   "execution_count": 10,
   "id": "72c9188a",
   "metadata": {},
   "outputs": [
    {
     "data": {
      "text/plain": [
       "[5, [6, 7]]"
      ]
     },
     "execution_count": 10,
     "metadata": {},
     "output_type": "execute_result"
    }
   ],
   "source": [
    "L"
   ]
  },
  {
   "cell_type": "code",
   "execution_count": 11,
   "id": "c02a5d45",
   "metadata": {},
   "outputs": [],
   "source": [
    "L.extend([8,9])"
   ]
  },
  {
   "cell_type": "code",
   "execution_count": 12,
   "id": "8e13867e",
   "metadata": {},
   "outputs": [
    {
     "data": {
      "text/plain": [
       "[5, [6, 7], 8, 9]"
      ]
     },
     "execution_count": 12,
     "metadata": {},
     "output_type": "execute_result"
    }
   ],
   "source": [
    "L"
   ]
  },
  {
   "cell_type": "code",
   "execution_count": 15,
   "id": "7f73a28b",
   "metadata": {},
   "outputs": [],
   "source": [
    "#insert position,  value\n",
    "L.insert(0,4)"
   ]
  },
  {
   "cell_type": "code",
   "execution_count": 16,
   "id": "92058618",
   "metadata": {},
   "outputs": [
    {
     "data": {
      "text/plain": [
       "[4, 5, [6, 7], 8, 9]"
      ]
     },
     "execution_count": 16,
     "metadata": {},
     "output_type": "execute_result"
    }
   ],
   "source": [
    "L"
   ]
  },
  {
   "cell_type": "code",
   "execution_count": 19,
   "id": "0c049b02",
   "metadata": {},
   "outputs": [],
   "source": [
    "# Add different element in list \n",
    "\n",
    "# L[0] = 'test' # It replace 4 with diffferent value ['test', 5, [6, 7], 8, 9]\n",
    "\n",
    "# To add properly\n",
    "L =[4, 5, [6, 7], 8, 9]\n",
    "L.insert(0,'test')"
   ]
  },
  {
   "cell_type": "code",
   "execution_count": 21,
   "id": "2b953af1",
   "metadata": {},
   "outputs": [
    {
     "data": {
      "text/plain": [
       "['test', 4, 5, [6, 7], 8, 9]"
      ]
     },
     "execution_count": 21,
     "metadata": {},
     "output_type": "execute_result"
    }
   ],
   "source": [
    "L # Now you can see it add element, not replacing it"
   ]
  },
  {
   "cell_type": "raw",
   "id": "f07c502b",
   "metadata": {},
   "source": [
    "\n",
    "# Error -AttributeError: 'list' object has no attribute 'add'\n",
    "L.add(3)\n",
    "\n",
    "Complexities for Adding elements in a Lists(append() method):\n",
    "Time Complexity: O(1)\n",
    "\n",
    "Space Complexity: O(1)\n",
    "\n",
    "\n",
    "Complexities for Adding elements in a Lists(insert() method):\n",
    "Time Complexity: O(n)\n",
    "\n",
    "Space Complexity: O(1)\n",
    "\n",
    "\n",
    "Complexities for Adding elements in a Lists(extend() method):\n",
    "Time Complexity: O(n)\n",
    "\n",
    "Space Complexity: O(1)\n",
    "\n",
    "So try to use append -to write better code\n"
   ]
  },
  {
   "cell_type": "code",
   "execution_count": 22,
   "id": "08fb6841",
   "metadata": {},
   "outputs": [],
   "source": [
    "# Now reverse, reversed()"
   ]
  },
  {
   "cell_type": "code",
   "execution_count": 23,
   "id": "93bbad1f",
   "metadata": {},
   "outputs": [
    {
     "data": {
      "text/plain": [
       "['test', 4, 5, [6, 7], 8, 9]"
      ]
     },
     "execution_count": 23,
     "metadata": {},
     "output_type": "execute_result"
    }
   ],
   "source": [
    "L"
   ]
  },
  {
   "cell_type": "code",
   "execution_count": 33,
   "id": "28b9c2f5",
   "metadata": {},
   "outputs": [],
   "source": [
    "L.reverse() #Reversed in original list- descending"
   ]
  },
  {
   "cell_type": "code",
   "execution_count": 34,
   "id": "ea781261",
   "metadata": {},
   "outputs": [
    {
     "data": {
      "text/plain": [
       "[9, 8, [6, 7], 5, 4, 'test']"
      ]
     },
     "execution_count": 34,
     "metadata": {},
     "output_type": "execute_result"
    }
   ],
   "source": [
    "L"
   ]
  },
  {
   "cell_type": "code",
   "execution_count": 29,
   "id": "314c6c73",
   "metadata": {},
   "outputs": [
    {
     "name": "stdout",
     "output_type": "stream",
     "text": [
      "<list_reverseiterator object at 0x00000195F2E46E50>\n"
     ]
    }
   ],
   "source": [
    "print(reversed(L))"
   ]
  },
  {
   "cell_type": "code",
   "execution_count": 35,
   "id": "3ad7a3c7",
   "metadata": {},
   "outputs": [
    {
     "data": {
      "text/plain": [
       "[9, 8, [6, 7], 5, 4, 'test']"
      ]
     },
     "execution_count": 35,
     "metadata": {},
     "output_type": "execute_result"
    }
   ],
   "source": [
    "L"
   ]
  },
  {
   "cell_type": "code",
   "execution_count": 37,
   "id": "a074b43e",
   "metadata": {},
   "outputs": [
    {
     "name": "stdout",
     "output_type": "stream",
     "text": [
      "['test', 4, 5, [6, 7], 8, 9]\n"
     ]
    }
   ],
   "source": [
    "#The reversed() function returns a reverse iterator, which can be converted to a list using the list() function.\n",
    "print(list(reversed(L)))"
   ]
  },
  {
   "cell_type": "markdown",
   "id": "b98c0d57",
   "metadata": {},
   "source": [
    "Removing Elements from the List\n",
    "\n",
    "Elements can be removed from the List by using the built-in remove() function but an Error arises if the element doesn’t exist in the list. Remove() method only removes one element at a time, to remove a range of elements, the iterator is used. The remove() method removes the specified item."
   ]
  },
  {
   "cell_type": "code",
   "execution_count": 40,
   "id": "746010be",
   "metadata": {},
   "outputs": [
    {
     "data": {
      "text/plain": [
       "[9, 8, [6, 7], 5, 4, 'test']"
      ]
     },
     "execution_count": 40,
     "metadata": {},
     "output_type": "execute_result"
    }
   ],
   "source": [
    "L"
   ]
  },
  {
   "cell_type": "code",
   "execution_count": 42,
   "id": "4978785a",
   "metadata": {},
   "outputs": [],
   "source": [
    "\n",
    "L.remove(5) # Remove based on value, if exists"
   ]
  },
  {
   "cell_type": "code",
   "execution_count": 43,
   "id": "4726a447",
   "metadata": {},
   "outputs": [
    {
     "data": {
      "text/plain": [
       "[9, 8, [6, 7], 4, 'test']"
      ]
     },
     "execution_count": 43,
     "metadata": {},
     "output_type": "execute_result"
    }
   ],
   "source": [
    "L"
   ]
  },
  {
   "cell_type": "raw",
   "id": "92f5dab8",
   "metadata": {},
   "source": [
    "L.remove(5) # Try, if not , then -> ValueError: list.remove(x): x not in list"
   ]
  },
  {
   "cell_type": "code",
   "execution_count": 45,
   "id": "ab9c0c85",
   "metadata": {},
   "outputs": [],
   "source": [
    "#Lets remove even\n",
    "List = [1, 2, 3, 4, 5, 6,\n",
    "        7, 8, 9, 10, 11, 12]"
   ]
  },
  {
   "cell_type": "code",
   "execution_count": 47,
   "id": "6b73b56e",
   "metadata": {},
   "outputs": [
    {
     "name": "stdout",
     "output_type": "stream",
     "text": [
      "[None, None, None, None, None, None]\n"
     ]
    }
   ],
   "source": [
    "\n",
    "List1 =[List.remove(element) for element in List if element %2 ==0]\n",
    "print(List1)"
   ]
  },
  {
   "cell_type": "code",
   "execution_count": 48,
   "id": "1b06b72a",
   "metadata": {},
   "outputs": [
    {
     "data": {
      "text/plain": [
       "[1, 3, 5, 7, 9, 11]"
      ]
     },
     "execution_count": 48,
     "metadata": {},
     "output_type": "execute_result"
    }
   ],
   "source": [
    "#Voila - removed even value\n",
    "List"
   ]
  },
  {
   "cell_type": "code",
   "execution_count": 49,
   "id": "06425596",
   "metadata": {},
   "outputs": [
    {
     "name": "stdout",
     "output_type": "stream",
     "text": [
      "[1, 2, 3, 4, 5, 11, 12]\n"
     ]
    }
   ],
   "source": [
    "#Now lets remove range 6-10\n",
    "\n",
    "#Lets remove even\n",
    "List = [1, 2, 3, 4, 5, 6,\n",
    "        7, 8, 9, 10, 11, 12]\n",
    "\n",
    "[List.remove(element) for element in range(6,11)]\n",
    "print(List)"
   ]
  },
  {
   "cell_type": "raw",
   "id": "cd5383c4",
   "metadata": {},
   "source": [
    "Using pop() method\n",
    "pop() function can also be used to remove and return an element from the list, but by default it removes only the last element of the list, to remove an element from a specific position of the List, the index of the element is passed as an argument to the pop() method."
   ]
  },
  {
   "cell_type": "code",
   "execution_count": 50,
   "id": "11cebd18",
   "metadata": {},
   "outputs": [],
   "source": [
    "List = [1, 2, 3, 4, 5, 6,\n",
    "        7, 8, 9, 10, 11, 12]"
   ]
  },
  {
   "cell_type": "code",
   "execution_count": 51,
   "id": "c9945ab5",
   "metadata": {},
   "outputs": [
    {
     "data": {
      "text/plain": [
       "12"
      ]
     },
     "execution_count": 51,
     "metadata": {},
     "output_type": "execute_result"
    }
   ],
   "source": [
    "List.pop() #pop last value by default"
   ]
  },
  {
   "cell_type": "code",
   "execution_count": 52,
   "id": "808b270b",
   "metadata": {},
   "outputs": [
    {
     "data": {
      "text/plain": [
       "[1, 2, 3, 4, 5, 6, 7, 8, 9, 10, 11]"
      ]
     },
     "execution_count": 52,
     "metadata": {},
     "output_type": "execute_result"
    }
   ],
   "source": [
    "List"
   ]
  },
  {
   "cell_type": "code",
   "execution_count": 53,
   "id": "dcc33291",
   "metadata": {},
   "outputs": [
    {
     "data": {
      "text/plain": [
       "11"
      ]
     },
     "execution_count": 53,
     "metadata": {},
     "output_type": "execute_result"
    }
   ],
   "source": [
    "List.pop(10) #pop value based on position"
   ]
  },
  {
   "cell_type": "code",
   "execution_count": 54,
   "id": "6e658e6f",
   "metadata": {},
   "outputs": [
    {
     "data": {
      "text/plain": [
       "[1, 2, 3, 4, 5, 6, 7, 8, 9, 10]"
      ]
     },
     "execution_count": 54,
     "metadata": {},
     "output_type": "execute_result"
    }
   ],
   "source": [
    "List"
   ]
  },
  {
   "cell_type": "code",
   "execution_count": 61,
   "id": "2c3d0190",
   "metadata": {},
   "outputs": [],
   "source": [
    "# done: remove pop\n",
    "# to do: delete clear"
   ]
  },
  {
   "cell_type": "raw",
   "id": "84e4ed12",
   "metadata": {},
   "source": [
    "# Slicing of a List\n",
    "\n",
    "To print elements from beginning to a range use:\n",
    "\n",
    "[: Index]\n",
    "\n",
    "To print elements from end-use:\n",
    "\n",
    "[:-Index]\n",
    "\n",
    "To print elements from a specific Index till the end use \n",
    "\n",
    "[Index:]\n",
    "\n",
    "To print the whole list in reverse order, use \n",
    "\n",
    "[::-1]"
   ]
  },
  {
   "cell_type": "code",
   "execution_count": 62,
   "id": "eaf96e38",
   "metadata": {},
   "outputs": [
    {
     "name": "stdout",
     "output_type": "stream",
     "text": [
      "Initial List: \n",
      "['G', 'E', 'E', 'K', 'S', 'F', 'O', 'R', 'G', 'E', 'E', 'K', 'S']\n"
     ]
    }
   ],
   "source": [
    "List = ['G', 'E', 'E', 'K', 'S', 'F',\n",
    "        'O', 'R', 'G', 'E', 'E', 'K', 'S']\n",
    "print(\"Initial List: \")\n",
    "print(List)"
   ]
  },
  {
   "cell_type": "code",
   "execution_count": 63,
   "id": "0f0a23f2",
   "metadata": {},
   "outputs": [
    {
     "name": "stdout",
     "output_type": "stream",
     "text": [
      "['G', 'E', 'E', 'K', 'S']\n"
     ]
    }
   ],
   "source": [
    "print(List[0:5])"
   ]
  },
  {
   "cell_type": "code",
   "execution_count": 64,
   "id": "d3deb39a",
   "metadata": {},
   "outputs": [
    {
     "name": "stdout",
     "output_type": "stream",
     "text": [
      "['G', 'E', 'E', 'K', 'S']\n"
     ]
    }
   ],
   "source": [
    "print(List[:5])"
   ]
  },
  {
   "cell_type": "code",
   "execution_count": 66,
   "id": "61b9cbe2",
   "metadata": {},
   "outputs": [],
   "source": [
    "L = [1, 2, 3, 4, 5, 6, 7, 8, 9, 10]"
   ]
  },
  {
   "cell_type": "code",
   "execution_count": 67,
   "id": "134c5222",
   "metadata": {},
   "outputs": [
    {
     "name": "stdout",
     "output_type": "stream",
     "text": [
      "[1, 2, 3, 4, 5]\n"
     ]
    }
   ],
   "source": [
    "print(L[:-5])"
   ]
  },
  {
   "cell_type": "code",
   "execution_count": 68,
   "id": "5f950481",
   "metadata": {},
   "outputs": [
    {
     "name": "stdout",
     "output_type": "stream",
     "text": [
      "[1, 2, 3, 4, 5, 6, 7, 8, 9, 10]\n"
     ]
    }
   ],
   "source": [
    "print(L[:])"
   ]
  },
  {
   "cell_type": "code",
   "execution_count": 69,
   "id": "dc2eab1d",
   "metadata": {},
   "outputs": [
    {
     "name": "stdout",
     "output_type": "stream",
     "text": [
      "[7, 8]\n"
     ]
    }
   ],
   "source": [
    "print(L[6:-2])"
   ]
  },
  {
   "cell_type": "code",
   "execution_count": 70,
   "id": "779a86d3",
   "metadata": {},
   "outputs": [
    {
     "name": "stdout",
     "output_type": "stream",
     "text": [
      "[2]\n"
     ]
    }
   ],
   "source": [
    "print(L[1::-2]) # 2, 3, 4, 5, 6, 7, 8, 9 #Taking only 1st postion"
   ]
  },
  {
   "cell_type": "code",
   "execution_count": 73,
   "id": "1435d82e",
   "metadata": {},
   "outputs": [
    {
     "name": "stdout",
     "output_type": "stream",
     "text": [
      "[3, 1]\n"
     ]
    }
   ],
   "source": [
    "print(L[2::-2]) # "
   ]
  },
  {
   "cell_type": "code",
   "execution_count": 74,
   "id": "a5552624",
   "metadata": {},
   "outputs": [
    {
     "name": "stdout",
     "output_type": "stream",
     "text": [
      "[3]\n"
     ]
    }
   ],
   "source": [
    "print(L[2::-5]) # "
   ]
  },
  {
   "cell_type": "code",
   "execution_count": 72,
   "id": "4a0a6c04",
   "metadata": {},
   "outputs": [
    {
     "data": {
      "text/plain": [
       "['S', 'K', 'E', 'E', 'G', 'R', 'O', 'F', 'S', 'K', 'E', 'E', 'G']"
      ]
     },
     "execution_count": 72,
     "metadata": {},
     "output_type": "execute_result"
    }
   ],
   "source": [
    "List[::-1] #reversing"
   ]
  },
  {
   "cell_type": "code",
   "execution_count": null,
   "id": "273ca488",
   "metadata": {},
   "outputs": [],
   "source": []
  },
  {
   "cell_type": "code",
   "execution_count": 82,
   "id": "127d31de",
   "metadata": {},
   "outputs": [],
   "source": [
    "# Clear -takes no arguments -clear full list"
   ]
  },
  {
   "cell_type": "code",
   "execution_count": 78,
   "id": "4005203f",
   "metadata": {},
   "outputs": [],
   "source": [
    "  List.clear()"
   ]
  },
  {
   "cell_type": "code",
   "execution_count": 79,
   "id": "0d5e43cb",
   "metadata": {},
   "outputs": [
    {
     "name": "stdout",
     "output_type": "stream",
     "text": [
      "[]\n"
     ]
    }
   ],
   "source": [
    "print(List)"
   ]
  },
  {
   "cell_type": "code",
   "execution_count": 80,
   "id": "d32c925d",
   "metadata": {},
   "outputs": [],
   "source": [
    "List = ['S', 'K', 'E', 'E', 'G', 'R', 'O', 'F', 'S', 'K', 'E', 'E', 'G']"
   ]
  },
  {
   "cell_type": "raw",
   "id": "9b89eb08",
   "metadata": {},
   "source": [
    "print(List.clear(3)) #TypeError: list.clear() takes no arguments (1 given)"
   ]
  },
  {
   "cell_type": "code",
   "execution_count": 83,
   "id": "b3a2c90f",
   "metadata": {},
   "outputs": [],
   "source": [
    "# DElete list"
   ]
  },
  {
   "cell_type": "code",
   "execution_count": 84,
   "id": "b1d8ef50",
   "metadata": {},
   "outputs": [
    {
     "data": {
      "text/plain": [
       "['S', 'K', 'E', 'E', 'G', 'R', 'O', 'F', 'S', 'K', 'E', 'E', 'G']"
      ]
     },
     "execution_count": 84,
     "metadata": {},
     "output_type": "execute_result"
    }
   ],
   "source": [
    "List"
   ]
  },
  {
   "cell_type": "code",
   "execution_count": 85,
   "id": "8a7382c7",
   "metadata": {},
   "outputs": [],
   "source": [
    "del List"
   ]
  },
  {
   "cell_type": "raw",
   "id": "363d3698",
   "metadata": {},
   "source": [
    "List # NameError: name 'List' is not defined"
   ]
  },
  {
   "cell_type": "code",
   "execution_count": 87,
   "id": "81bfb5ac",
   "metadata": {},
   "outputs": [],
   "source": [
    "L1 =['S', 'K', 'E', 'E', 'G', 'R', 'O', 'F', 'S', 'K', 'E', 'E', 'G']\n"
   ]
  },
  {
   "cell_type": "code",
   "execution_count": 88,
   "id": "15978fc8",
   "metadata": {},
   "outputs": [],
   "source": [
    "del L1[3]"
   ]
  },
  {
   "cell_type": "code",
   "execution_count": 89,
   "id": "1905b501",
   "metadata": {},
   "outputs": [
    {
     "data": {
      "text/plain": [
       "['S', 'K', 'E', 'G', 'R', 'O', 'F', 'S', 'K', 'E', 'E', 'G']"
      ]
     },
     "execution_count": 89,
     "metadata": {},
     "output_type": "execute_result"
    }
   ],
   "source": [
    "L1 #Remove based on position"
   ]
  },
  {
   "cell_type": "code",
   "execution_count": 92,
   "id": "c14f82df",
   "metadata": {},
   "outputs": [],
   "source": [
    "del L1[3:4] #Remove G, based on index range"
   ]
  },
  {
   "cell_type": "code",
   "execution_count": 96,
   "id": "ee47ce3d",
   "metadata": {},
   "outputs": [
    {
     "data": {
      "text/plain": [
       "['S', 'K', 'E', 'R', 'O', 'F', 'S', 'K', 'E', 'E', 'G']"
      ]
     },
     "execution_count": 96,
     "metadata": {},
     "output_type": "execute_result"
    }
   ],
   "source": [
    "L1"
   ]
  },
  {
   "cell_type": "code",
   "execution_count": 98,
   "id": "e171c59c",
   "metadata": {},
   "outputs": [
    {
     "data": {
      "text/plain": [
       "['S']"
      ]
     },
     "execution_count": 98,
     "metadata": {},
     "output_type": "execute_result"
    }
   ],
   "source": [
    "L1[0::-5] #Now delete S"
   ]
  },
  {
   "cell_type": "code",
   "execution_count": 99,
   "id": "f58754a5",
   "metadata": {},
   "outputs": [],
   "source": [
    "del L1[0::-5] "
   ]
  },
  {
   "cell_type": "code",
   "execution_count": 100,
   "id": "01ce1049",
   "metadata": {},
   "outputs": [
    {
     "data": {
      "text/plain": [
       "['K', 'E', 'R', 'O', 'F', 'S', 'K', 'E', 'E', 'G']"
      ]
     },
     "execution_count": 100,
     "metadata": {},
     "output_type": "execute_result"
    }
   ],
   "source": [
    "L1"
   ]
  },
  {
   "cell_type": "raw",
   "id": "fdd0a6e2",
   "metadata": {},
   "source": [
    "Syntax\n",
    "\n",
    "List.remove(index)\n",
    "\n",
    "del list[index]\n",
    "\n",
    "     or\n",
    "\n",
    "del list\n",
    "\n",
    "list.clear()\n",
    "\n",
    "list.pop(index)\n",
    "\n",
    "          Or\n",
    "\n",
    "list.pop()"
   ]
  },
  {
   "cell_type": "raw",
   "id": "e186182b",
   "metadata": {},
   "source": [
    "Differences\n",
    "\n",
    "delete -\n",
    "To delete value it uses the index. \n",
    "The del keyword can delete the single value from a list or delete the whole list at a time.\n",
    "It throws index error in case of the index doesn’t exist in the list.\n",
    "\n",
    "remove - \n",
    "To delete value this method uses the value as a parameter.\n",
    "At a time it deletes only one value from the list.\n",
    "It throws value error in case of the value doesn’t exist in the list.\n",
    "\n",
    "\n",
    "pop - This method also uses the index as a parameter to delete. \n",
    "pop() returns deleted value.\n",
    "At a time it deletes only one value from the list.\n",
    "It throws index error in case of the index doesn’t exist in the list.\n",
    "\n",
    "clear\n",
    "It clears all list. Returns empty list, if not present"
   ]
  },
  {
   "cell_type": "code",
   "execution_count": null,
   "id": "a2e6942a",
   "metadata": {},
   "outputs": [],
   "source": []
  },
  {
   "cell_type": "raw",
   "id": "08afe243",
   "metadata": {},
   "source": [
    "# index - provides position of element"
   ]
  },
  {
   "cell_type": "code",
   "execution_count": 60,
   "id": "e4229b1b",
   "metadata": {},
   "outputs": [
    {
     "data": {
      "text/plain": [
       "[1, 2, 3, 4, 5, 6, 7, 8, 9, 10]"
      ]
     },
     "execution_count": 60,
     "metadata": {},
     "output_type": "execute_result"
    }
   ],
   "source": [
    "List"
   ]
  },
  {
   "cell_type": "code",
   "execution_count": 58,
   "id": "d385be3c",
   "metadata": {},
   "outputs": [
    {
     "data": {
      "text/plain": [
       "1"
      ]
     },
     "execution_count": 58,
     "metadata": {},
     "output_type": "execute_result"
    }
   ],
   "source": [
    "List.index(2)  "
   ]
  },
  {
   "cell_type": "code",
   "execution_count": 59,
   "id": "ee8d7043",
   "metadata": {},
   "outputs": [
    {
     "data": {
      "text/plain": [
       "9"
      ]
     },
     "execution_count": 59,
     "metadata": {},
     "output_type": "execute_result"
    }
   ],
   "source": [
    "List.index(10)  "
   ]
  },
  {
   "cell_type": "code",
   "execution_count": 111,
   "id": "9fcd37e4",
   "metadata": {},
   "outputs": [],
   "source": [
    "List1= [1,'a',2,'b',3,4,5,6]"
   ]
  },
  {
   "cell_type": "code",
   "execution_count": 112,
   "id": "d6e4c090",
   "metadata": {},
   "outputs": [],
   "source": [
    "# Copy list\n",
    "\n",
    "#Shallow copy\n",
    "NewL = List1.copy()"
   ]
  },
  {
   "cell_type": "code",
   "execution_count": 113,
   "id": "97bacdfc",
   "metadata": {},
   "outputs": [
    {
     "data": {
      "text/plain": [
       "[1, 'a', 2, 'b', 3, 4, 5, 6]"
      ]
     },
     "execution_count": 113,
     "metadata": {},
     "output_type": "execute_result"
    }
   ],
   "source": [
    "NewL"
   ]
  },
  {
   "cell_type": "code",
   "execution_count": 114,
   "id": "82a67b02",
   "metadata": {},
   "outputs": [],
   "source": [
    "List1.insert(5,'c')"
   ]
  },
  {
   "cell_type": "code",
   "execution_count": 116,
   "id": "4542fba9",
   "metadata": {},
   "outputs": [
    {
     "data": {
      "text/plain": [
       "[1, 'a', 2, 'b', 3, 'c', 4, 5, 6]"
      ]
     },
     "execution_count": 116,
     "metadata": {},
     "output_type": "execute_result"
    }
   ],
   "source": [
    "List1"
   ]
  },
  {
   "cell_type": "code",
   "execution_count": 115,
   "id": "977a0f7a",
   "metadata": {},
   "outputs": [
    {
     "data": {
      "text/plain": [
       "[1, 'a', 2, 'b', 3, 4, 5, 6]"
      ]
     },
     "execution_count": 115,
     "metadata": {},
     "output_type": "execute_result"
    }
   ],
   "source": [
    "NewL"
   ]
  },
  {
   "cell_type": "code",
   "execution_count": 117,
   "id": "f6882f9e",
   "metadata": {},
   "outputs": [
    {
     "ename": "AttributeError",
     "evalue": "'list' object has no attribute 'deepcopy'",
     "output_type": "error",
     "traceback": [
      "\u001b[1;31m---------------------------------------------------------------------------\u001b[0m",
      "\u001b[1;31mAttributeError\u001b[0m                            Traceback (most recent call last)",
      "Input \u001b[1;32mIn [117]\u001b[0m, in \u001b[0;36m<cell line: 1>\u001b[1;34m()\u001b[0m\n\u001b[1;32m----> 1\u001b[0m NewL1 \u001b[38;5;241m=\u001b[39m \u001b[43mList1\u001b[49m\u001b[38;5;241;43m.\u001b[39;49m\u001b[43mdeepcopy\u001b[49m()\n",
      "\u001b[1;31mAttributeError\u001b[0m: 'list' object has no attribute 'deepcopy'"
     ]
    }
   ],
   "source": [
    "NewL1 = List1.deepcopy()"
   ]
  },
  {
   "cell_type": "code",
   "execution_count": 118,
   "id": "06dfb600",
   "metadata": {},
   "outputs": [],
   "source": [
    "import copy\n",
    "NewL1 =copy.deepcopy(List1)"
   ]
  },
  {
   "cell_type": "code",
   "execution_count": 119,
   "id": "c33aa876",
   "metadata": {},
   "outputs": [
    {
     "data": {
      "text/plain": [
       "[1, 'a', 2, 'b', 3, 'c', 4, 5, 6]"
      ]
     },
     "execution_count": 119,
     "metadata": {},
     "output_type": "execute_result"
    }
   ],
   "source": [
    "NewL1"
   ]
  },
  {
   "cell_type": "code",
   "execution_count": 120,
   "id": "e78078c9",
   "metadata": {},
   "outputs": [],
   "source": [
    "List1.remove('c')"
   ]
  },
  {
   "cell_type": "code",
   "execution_count": 121,
   "id": "9a7c1a9b",
   "metadata": {},
   "outputs": [
    {
     "data": {
      "text/plain": [
       "[1, 'a', 2, 'b', 3, 4, 5, 6]"
      ]
     },
     "execution_count": 121,
     "metadata": {},
     "output_type": "execute_result"
    }
   ],
   "source": [
    "List1"
   ]
  },
  {
   "cell_type": "code",
   "execution_count": 122,
   "id": "536d9864",
   "metadata": {},
   "outputs": [
    {
     "data": {
      "text/plain": [
       "[1, 'a', 2, 'b', 3, 'c', 4, 5, 6]"
      ]
     },
     "execution_count": 122,
     "metadata": {},
     "output_type": "execute_result"
    }
   ],
   "source": [
    "NewL1"
   ]
  },
  {
   "cell_type": "code",
   "execution_count": 125,
   "id": "cf9d8bf7",
   "metadata": {},
   "outputs": [
    {
     "name": "stdout",
     "output_type": "stream",
     "text": [
      "new_list [1, 'a', 2, 'b', 3, 4, 5, 6]\n",
      "new_grid [[2, 3], [4, 5]]\n"
     ]
    }
   ],
   "source": [
    "#Using list comprehension\n",
    "old_list = List1\n",
    "grid = [[2,3],[4,5]]\n",
    "\n",
    "#If the contents of the list are primitive data types, you can use a comprehension\n",
    "\n",
    "new_list = [i for i in old_list]\n",
    "print(\"new_list\",new_list)\n",
    "#You can nest it for multidimensional lists like:\n",
    "\n",
    "new_grid = [[i for i in row] for row in grid]\n",
    "print(\"new_grid\",new_grid)\n"
   ]
  },
  {
   "cell_type": "code",
   "execution_count": null,
   "id": "128ba78e",
   "metadata": {},
   "outputs": [],
   "source": []
  },
  {
   "cell_type": "code",
   "execution_count": null,
   "id": "468619c2",
   "metadata": {},
   "outputs": [],
   "source": []
  },
  {
   "cell_type": "code",
   "execution_count": null,
   "id": "c0ca130c",
   "metadata": {},
   "outputs": [],
   "source": []
  },
  {
   "cell_type": "code",
   "execution_count": 2,
   "id": "dd2bfe3e",
   "metadata": {},
   "outputs": [
    {
     "data": {
      "text/html": [
       "<figure class=\"table\">\n",
       "<table>\n",
       "<thead>\n",
       "<tr>\n",
       "<th>Function</th>\n",
       "<th>Description</th>\n",
       "</tr>\n",
       "</thead>\n",
       "<tbody>\n",
       "<tr>\n",
       "<td><a href=\"https://www.geeksforgeeks.org/append-extend-python/\">Append()</a></td>\n",
       "<td>Add an element to the end of the list</td>\n",
       "</tr>\n",
       "<tr>\n",
       "<td><a href=\"https://www.geeksforgeeks.org/append-extend-python/\">Extend()</a></td>\n",
       "<td>Add all elements of a list to another list</td>\n",
       "</tr>\n",
       "<tr>\n",
       "<td><a href=\"https://www.geeksforgeeks.org/list-methods-in-python-set-2-del-remove-sort-insert-pop-extend/\">Insert()</a></td>\n",
       "<td>Insert an item at the defined index</td>\n",
       "</tr>\n",
       "<tr>\n",
       "<td><a href=\"https://www.geeksforgeeks.org/list-methods-in-python-set-2-del-remove-sort-insert-pop-extend/\">Remove()</a></td>\n",
       "<td>Removes an item from the list</td>\n",
       "</tr>\n",
       "<tr>\n",
       "<td><a href=\"https://www.geeksforgeeks.org/list-methods-in-python-set-2-del-remove-sort-insert-pop-extend/\">Clear()</a></td>\n",
       "<td>Removes all items from the list</td>\n",
       "</tr>\n",
       "<tr>\n",
       "<td><a href=\"https://www.geeksforgeeks.org/python-list-index/\">Index()</a></td>\n",
       "<td>Returns the index of the first matched item</td>\n",
       "</tr>\n",
       "<tr>\n",
       "<td><a href=\"https://www.geeksforgeeks.org/python-list-function-count/\">Count()</a></td>\n",
       "<td>Returns the count of the number of items passed as an argument</td>\n",
       "</tr>\n",
       "<tr>\n",
       "<td><a href=\"https://www.geeksforgeeks.org/sort-in-python/\">Sort()</a></td>\n",
       "<td>Sort items in a list in ascending order</td>\n",
       "</tr>\n",
       "<tr>\n",
       "<td><a href=\"https://www.geeksforgeeks.org/list-methods-in-python-set-2-del-remove-sort-insert-pop-extend/\">Reverse()</a></td>\n",
       "<td>Reverse the order of items in the list</td>\n",
       "</tr>\n",
       "<tr>\n",
       "<td><a href=\"https://www.geeksforgeeks.org/python-list-copy-method/\">copy()</a></td>\n",
       "<td>Returns a copy of the list</td>\n",
       "</tr>\n",
       "<tr>\n",
       "<td><a href=\"https://www.geeksforgeeks.org/python-list-pop-method/\">pop()</a></td>\n",
       "<td>Removes and returns the item at the specified index. If no index is provided, it removes and returns the last item.</td>\n",
       "</tr>\n",
       "</tbody>\n",
       "</table>\n",
       "</figure>\n"
      ],
      "text/plain": [
       "<IPython.core.display.HTML object>"
      ]
     },
     "metadata": {},
     "output_type": "display_data"
    }
   ],
   "source": [
    "%%html\n",
    "<figure class=\"table\">\n",
    "<table>\n",
    "<thead>\n",
    "<tr>\n",
    "<th>Function</th>\n",
    "<th>Description</th>\n",
    "</tr>\n",
    "</thead>\n",
    "<tbody>\n",
    "<tr>\n",
    "<td><a href=\"https://www.geeksforgeeks.org/append-extend-python/\">Append()</a></td>\n",
    "<td>Add an element to the end of the list</td>\n",
    "</tr>\n",
    "<tr>\n",
    "<td><a href=\"https://www.geeksforgeeks.org/append-extend-python/\">Extend()</a></td>\n",
    "<td>Add all elements of a list to another list</td>\n",
    "</tr>\n",
    "<tr>\n",
    "<td><a href=\"https://www.geeksforgeeks.org/list-methods-in-python-set-2-del-remove-sort-insert-pop-extend/\">Insert()</a></td>\n",
    "<td>Insert an item at the defined index</td>\n",
    "</tr>\n",
    "<tr>\n",
    "<td><a href=\"https://www.geeksforgeeks.org/list-methods-in-python-set-2-del-remove-sort-insert-pop-extend/\">Remove()</a></td>\n",
    "<td>Removes an item from the list</td>\n",
    "</tr>\n",
    "<tr>\n",
    "<td><a href=\"https://www.geeksforgeeks.org/list-methods-in-python-set-2-del-remove-sort-insert-pop-extend/\">Clear()</a></td>\n",
    "<td>Removes all items from the list</td>\n",
    "</tr>\n",
    "<tr>\n",
    "<td><a href=\"https://www.geeksforgeeks.org/python-list-index/\">Index()</a></td>\n",
    "<td>Returns the index of the first matched item</td>\n",
    "</tr>\n",
    "<tr>\n",
    "<td><a href=\"https://www.geeksforgeeks.org/python-list-function-count/\">Count()</a></td>\n",
    "<td>Returns the count of the number of items passed as an argument</td>\n",
    "</tr>\n",
    "<tr>\n",
    "<td><a href=\"https://www.geeksforgeeks.org/sort-in-python/\">Sort()</a></td>\n",
    "<td>Sort items in a list in ascending order</td>\n",
    "</tr>\n",
    "<tr>\n",
    "<td><a href=\"https://www.geeksforgeeks.org/list-methods-in-python-set-2-del-remove-sort-insert-pop-extend/\">Reverse()</a></td>\n",
    "<td>Reverse the order of items in the list</td>\n",
    "</tr>\n",
    "<tr>\n",
    "<td><a href=\"https://www.geeksforgeeks.org/python-list-copy-method/\">copy()</a></td>\n",
    "<td>Returns a copy of the list</td>\n",
    "</tr>\n",
    "<tr>\n",
    "<td><a href=\"https://www.geeksforgeeks.org/python-list-pop-method/\">pop()</a></td>\n",
    "<td>Removes and returns the item at the specified index. If no index is provided, it removes and returns the last item.</td>\n",
    "</tr>\n",
    "</tbody>\n",
    "</table>\n",
    "</figure>"
   ]
  },
  {
   "cell_type": "code",
   "execution_count": 3,
   "id": "565a38e1",
   "metadata": {},
   "outputs": [
    {
     "data": {
      "text/html": [
       "<figure class=\"table\">\n",
       "<table>\n",
       "<thead>\n",
       "<tr>\n",
       "<th>Function</th>\n",
       "<th>Description</th>\n",
       "</tr>\n",
       "</thead>\n",
       "<tbody>\n",
       "<tr>\n",
       "<td><a href=\"https://www.geeksforgeeks.org/reduce-in-python/\">reduce()</a></td>\n",
       "<td>apply a particular function passed in its argument to all of the list elements stores the intermediate result and only returns the final summation value</td>\n",
       "</tr>\n",
       "<tr>\n",
       "<td><a href=\"https://www.geeksforgeeks.org/sum-function-python/\">sum()</a></td>\n",
       "<td>Sums up the numbers in the list</td>\n",
       "</tr>\n",
       "<tr>\n",
       "<td><a href=\"https://www.geeksforgeeks.org/ord-function-python/\">ord()</a></td>\n",
       "<td>Returns an integer representing the Unicode code point of the given Unicode character</td>\n",
       "</tr>\n",
       "<tr>\n",
       "<td><a href=\"https://www.geeksforgeeks.org/python-2-number-cmplist-method/\">cmp()</a></td>\n",
       "<td>This function returns 1 if the first list is “greater” than the second list</td>\n",
       "</tr>\n",
       "<tr>\n",
       "<td><a href=\"https://www.geeksforgeeks.org/python-max-function/\">max()</a></td>\n",
       "<td>return maximum element of a given list</td>\n",
       "</tr>\n",
       "<tr>\n",
       "<td><a href=\"https://www.geeksforgeeks.org/python-min-function/\">min()</a></td>\n",
       "<td>return minimum element of a given list</td>\n",
       "</tr>\n",
       "<tr>\n",
       "<td><a href=\"https://www.geeksforgeeks.org/any-all-in-python/\">all()</a></td>\n",
       "<td>Returns true if all element is true or if the list is empty</td>\n",
       "</tr>\n",
       "<tr>\n",
       "<td><a href=\"https://www.geeksforgeeks.org/any-all-in-python/\">any()</a></td>\n",
       "<td>return true if any element of the list is true. if the list is empty, return false</td>\n",
       "</tr>\n",
       "<tr>\n",
       "<td><a href=\"https://www.geeksforgeeks.org/python-len-function/\">len()</a></td>\n",
       "<td>Returns length of the list or size of the list</td>\n",
       "</tr>\n",
       "<tr>\n",
       "<td><a href=\"https://www.geeksforgeeks.org/enumerate-in-python/\">enumerate()</a></td>\n",
       "<td>Returns enumerate object of the list</td>\n",
       "</tr>\n",
       "<tr>\n",
       "<td><a href=\"https://www.geeksforgeeks.org/python-itertools-accumulate/\">accumulate()</a></td>\n",
       "<td>apply a particular function passed in its argument to all of the list elements returns a list containing the intermediate results</td>\n",
       "</tr>\n",
       "<tr>\n",
       "<td><a href=\"https://www.geeksforgeeks.org/filter-in-python/\">filter()</a></td>\n",
       "<td>tests if each element of a list is true or not</td>\n",
       "</tr>\n",
       "<tr>\n",
       "<td><a href=\"https://www.geeksforgeeks.org/python-map-function/\">map()</a></td>\n",
       "<td>returns a list of the results after applying the given function to each item of a given iterable</td>\n",
       "</tr>\n",
       "<tr>\n",
       "<td><a href=\"https://www.geeksforgeeks.org/python-lambda-anonymous-functions-filter-map-reduce/\">lambda()</a></td>\n",
       "<td>This function can have any number of arguments but only one expression, which is evaluated and returned.</td>\n",
       "</tr>\n",
       "</tbody>\n",
       "</table>\n",
       "</figure>\n"
      ],
      "text/plain": [
       "<IPython.core.display.HTML object>"
      ]
     },
     "metadata": {},
     "output_type": "display_data"
    }
   ],
   "source": [
    "%%html\n",
    "<figure class=\"table\">\n",
    "<table>\n",
    "<thead>\n",
    "<tr>\n",
    "<th>Function</th>\n",
    "<th>Description</th>\n",
    "</tr>\n",
    "</thead>\n",
    "<tbody>\n",
    "<tr>\n",
    "<td><a href=\"https://www.geeksforgeeks.org/reduce-in-python/\">reduce()</a></td>\n",
    "<td>apply a particular function passed in its argument to all of the list elements stores the intermediate result and only returns the final summation value</td>\n",
    "</tr>\n",
    "<tr>\n",
    "<td><a href=\"https://www.geeksforgeeks.org/sum-function-python/\">sum()</a></td>\n",
    "<td>Sums up the numbers in the list</td>\n",
    "</tr>\n",
    "<tr>\n",
    "<td><a href=\"https://www.geeksforgeeks.org/ord-function-python/\">ord()</a></td>\n",
    "<td>Returns an integer representing the Unicode code point of the given Unicode character</td>\n",
    "</tr>\n",
    "<tr>\n",
    "<td><a href=\"https://www.geeksforgeeks.org/python-2-number-cmplist-method/\">cmp()</a></td>\n",
    "<td>This function returns 1 if the first list is “greater” than the second list</td>\n",
    "</tr>\n",
    "<tr>\n",
    "<td><a href=\"https://www.geeksforgeeks.org/python-max-function/\">max()</a></td>\n",
    "<td>return maximum element of a given list</td>\n",
    "</tr>\n",
    "<tr>\n",
    "<td><a href=\"https://www.geeksforgeeks.org/python-min-function/\">min()</a></td>\n",
    "<td>return minimum element of a given list</td>\n",
    "</tr>\n",
    "<tr>\n",
    "<td><a href=\"https://www.geeksforgeeks.org/any-all-in-python/\">all()</a></td>\n",
    "<td>Returns true if all element is true or if the list is empty</td>\n",
    "</tr>\n",
    "<tr>\n",
    "<td><a href=\"https://www.geeksforgeeks.org/any-all-in-python/\">any()</a></td>\n",
    "<td>return true if any element of the list is true. if the list is empty, return false</td>\n",
    "</tr>\n",
    "<tr>\n",
    "<td><a href=\"https://www.geeksforgeeks.org/python-len-function/\">len()</a></td>\n",
    "<td>Returns length of the list or size of the list</td>\n",
    "</tr>\n",
    "<tr>\n",
    "<td><a href=\"https://www.geeksforgeeks.org/enumerate-in-python/\">enumerate()</a></td>\n",
    "<td>Returns enumerate object of the list</td>\n",
    "</tr>\n",
    "<tr>\n",
    "<td><a href=\"https://www.geeksforgeeks.org/python-itertools-accumulate/\">accumulate()</a></td>\n",
    "<td>apply a particular function passed in its argument to all of the list elements returns a list containing the intermediate results</td>\n",
    "</tr>\n",
    "<tr>\n",
    "<td><a href=\"https://www.geeksforgeeks.org/filter-in-python/\">filter()</a></td>\n",
    "<td>tests if each element of a list is true or not</td>\n",
    "</tr>\n",
    "<tr>\n",
    "<td><a href=\"https://www.geeksforgeeks.org/python-map-function/\">map()</a></td>\n",
    "<td>returns a list of the results after applying the given function to each item of a given iterable</td>\n",
    "</tr>\n",
    "<tr>\n",
    "<td><a href=\"https://www.geeksforgeeks.org/python-lambda-anonymous-functions-filter-map-reduce/\">lambda()</a></td>\n",
    "<td>This function can have any number of arguments but only one expression, which is evaluated and returned.</td>\n",
    "</tr>\n",
    "</tbody>\n",
    "</table>\n",
    "</figure>"
   ]
  },
  {
   "cell_type": "code",
   "execution_count": 102,
   "id": "b075d131",
   "metadata": {},
   "outputs": [],
   "source": [
    "import pandas as pd"
   ]
  },
  {
   "cell_type": "code",
   "execution_count": 106,
   "id": "d9e86e05",
   "metadata": {},
   "outputs": [],
   "source": [
    "data = pd.read_html(x,skiprows=0,header=0)[0]"
   ]
  },
  {
   "cell_type": "code",
   "execution_count": 107,
   "id": "09451a00",
   "metadata": {},
   "outputs": [
    {
     "data": {
      "text/html": [
       "<div>\n",
       "<style scoped>\n",
       "    .dataframe tbody tr th:only-of-type {\n",
       "        vertical-align: middle;\n",
       "    }\n",
       "\n",
       "    .dataframe tbody tr th {\n",
       "        vertical-align: top;\n",
       "    }\n",
       "\n",
       "    .dataframe thead th {\n",
       "        text-align: right;\n",
       "    }\n",
       "</style>\n",
       "<table border=\"1\" class=\"dataframe\">\n",
       "  <thead>\n",
       "    <tr style=\"text-align: right;\">\n",
       "      <th></th>\n",
       "      <th>Function</th>\n",
       "      <th>Description</th>\n",
       "    </tr>\n",
       "  </thead>\n",
       "  <tbody>\n",
       "    <tr>\n",
       "      <th>0</th>\n",
       "      <td>Append()</td>\n",
       "      <td>Add an element to the end of the list</td>\n",
       "    </tr>\n",
       "    <tr>\n",
       "      <th>1</th>\n",
       "      <td>Extend()</td>\n",
       "      <td>Add all elements of a list to another list</td>\n",
       "    </tr>\n",
       "    <tr>\n",
       "      <th>2</th>\n",
       "      <td>Insert()</td>\n",
       "      <td>Insert an item at the defined index</td>\n",
       "    </tr>\n",
       "    <tr>\n",
       "      <th>3</th>\n",
       "      <td>Remove()</td>\n",
       "      <td>Removes an item from the list</td>\n",
       "    </tr>\n",
       "    <tr>\n",
       "      <th>4</th>\n",
       "      <td>Clear()</td>\n",
       "      <td>Removes all items from the list</td>\n",
       "    </tr>\n",
       "    <tr>\n",
       "      <th>5</th>\n",
       "      <td>Index()</td>\n",
       "      <td>Returns the index of the first matched item</td>\n",
       "    </tr>\n",
       "    <tr>\n",
       "      <th>6</th>\n",
       "      <td>Count()</td>\n",
       "      <td>Returns the count of the number of items passe...</td>\n",
       "    </tr>\n",
       "    <tr>\n",
       "      <th>7</th>\n",
       "      <td>Sort()</td>\n",
       "      <td>Sort items in a list in ascending order</td>\n",
       "    </tr>\n",
       "    <tr>\n",
       "      <th>8</th>\n",
       "      <td>Reverse()</td>\n",
       "      <td>Reverse the order of items in the list</td>\n",
       "    </tr>\n",
       "    <tr>\n",
       "      <th>9</th>\n",
       "      <td>copy()</td>\n",
       "      <td>Returns a copy of the list</td>\n",
       "    </tr>\n",
       "    <tr>\n",
       "      <th>10</th>\n",
       "      <td>pop()</td>\n",
       "      <td>Removes and returns the item at the specified ...</td>\n",
       "    </tr>\n",
       "  </tbody>\n",
       "</table>\n",
       "</div>"
      ],
      "text/plain": [
       "     Function                                        Description\n",
       "0    Append()              Add an element to the end of the list\n",
       "1    Extend()         Add all elements of a list to another list\n",
       "2    Insert()                Insert an item at the defined index\n",
       "3    Remove()                      Removes an item from the list\n",
       "4     Clear()                    Removes all items from the list\n",
       "5     Index()        Returns the index of the first matched item\n",
       "6     Count()  Returns the count of the number of items passe...\n",
       "7      Sort()            Sort items in a list in ascending order\n",
       "8   Reverse()             Reverse the order of items in the list\n",
       "9      copy()                         Returns a copy of the list\n",
       "10      pop()  Removes and returns the item at the specified ..."
      ]
     },
     "execution_count": 107,
     "metadata": {},
     "output_type": "execute_result"
    }
   ],
   "source": [
    "data"
   ]
  },
  {
   "cell_type": "code",
   "execution_count": 109,
   "id": "8058e1eb",
   "metadata": {},
   "outputs": [
    {
     "data": {
      "text/html": [
       "<div>\n",
       "<style scoped>\n",
       "    .dataframe tbody tr th:only-of-type {\n",
       "        vertical-align: middle;\n",
       "    }\n",
       "\n",
       "    .dataframe tbody tr th {\n",
       "        vertical-align: top;\n",
       "    }\n",
       "\n",
       "    .dataframe thead th {\n",
       "        text-align: right;\n",
       "    }\n",
       "</style>\n",
       "<table border=\"1\" class=\"dataframe\">\n",
       "  <thead>\n",
       "    <tr style=\"text-align: right;\">\n",
       "      <th></th>\n",
       "      <th>Function</th>\n",
       "      <th>Description</th>\n",
       "    </tr>\n",
       "  </thead>\n",
       "  <tbody>\n",
       "    <tr>\n",
       "      <th>0</th>\n",
       "      <td>reduce()</td>\n",
       "      <td>apply a particular function passed in its argu...</td>\n",
       "    </tr>\n",
       "    <tr>\n",
       "      <th>1</th>\n",
       "      <td>sum()</td>\n",
       "      <td>Sums up the numbers in the list</td>\n",
       "    </tr>\n",
       "    <tr>\n",
       "      <th>2</th>\n",
       "      <td>ord()</td>\n",
       "      <td>Returns an integer representing the Unicode co...</td>\n",
       "    </tr>\n",
       "    <tr>\n",
       "      <th>3</th>\n",
       "      <td>cmp()</td>\n",
       "      <td>This function returns 1 if the first list is “...</td>\n",
       "    </tr>\n",
       "    <tr>\n",
       "      <th>4</th>\n",
       "      <td>max()</td>\n",
       "      <td>return maximum element of a given list</td>\n",
       "    </tr>\n",
       "    <tr>\n",
       "      <th>5</th>\n",
       "      <td>min()</td>\n",
       "      <td>return minimum element of a given list</td>\n",
       "    </tr>\n",
       "    <tr>\n",
       "      <th>6</th>\n",
       "      <td>all()</td>\n",
       "      <td>Returns true if all element is true or if the ...</td>\n",
       "    </tr>\n",
       "    <tr>\n",
       "      <th>7</th>\n",
       "      <td>any()</td>\n",
       "      <td>return true if any element of the list is true...</td>\n",
       "    </tr>\n",
       "    <tr>\n",
       "      <th>8</th>\n",
       "      <td>len()</td>\n",
       "      <td>Returns length of the list or size of the list</td>\n",
       "    </tr>\n",
       "    <tr>\n",
       "      <th>9</th>\n",
       "      <td>enumerate()</td>\n",
       "      <td>Returns enumerate object of the list</td>\n",
       "    </tr>\n",
       "    <tr>\n",
       "      <th>10</th>\n",
       "      <td>accumulate()</td>\n",
       "      <td>apply a particular function passed in its argu...</td>\n",
       "    </tr>\n",
       "    <tr>\n",
       "      <th>11</th>\n",
       "      <td>filter()</td>\n",
       "      <td>tests if each element of a list is true or not</td>\n",
       "    </tr>\n",
       "    <tr>\n",
       "      <th>12</th>\n",
       "      <td>map()</td>\n",
       "      <td>returns a list of the results after applying t...</td>\n",
       "    </tr>\n",
       "    <tr>\n",
       "      <th>13</th>\n",
       "      <td>lambda()</td>\n",
       "      <td>This function can have any number of arguments...</td>\n",
       "    </tr>\n",
       "  </tbody>\n",
       "</table>\n",
       "</div>"
      ],
      "text/plain": [
       "        Function                                        Description\n",
       "0       reduce()  apply a particular function passed in its argu...\n",
       "1          sum()                    Sums up the numbers in the list\n",
       "2          ord()  Returns an integer representing the Unicode co...\n",
       "3          cmp()  This function returns 1 if the first list is “...\n",
       "4          max()             return maximum element of a given list\n",
       "5          min()             return minimum element of a given list\n",
       "6          all()  Returns true if all element is true or if the ...\n",
       "7          any()  return true if any element of the list is true...\n",
       "8          len()     Returns length of the list or size of the list\n",
       "9    enumerate()               Returns enumerate object of the list\n",
       "10  accumulate()  apply a particular function passed in its argu...\n",
       "11      filter()     tests if each element of a list is true or not\n",
       "12         map()  returns a list of the results after applying t...\n",
       "13      lambda()  This function can have any number of arguments..."
      ]
     },
     "execution_count": 109,
     "metadata": {},
     "output_type": "execute_result"
    }
   ],
   "source": [
    "data1 = pd.read_html(y,skiprows=0,header=0)[0]\n",
    "data1"
   ]
  },
  {
   "cell_type": "code",
   "execution_count": null,
   "id": "d87f9c2e",
   "metadata": {},
   "outputs": [],
   "source": []
  }
 ],
 "metadata": {
  "kernelspec": {
   "display_name": "Python 3 (ipykernel)",
   "language": "python",
   "name": "python3"
  },
  "language_info": {
   "codemirror_mode": {
    "name": "ipython",
    "version": 3
   },
   "file_extension": ".py",
   "mimetype": "text/x-python",
   "name": "python",
   "nbconvert_exporter": "python",
   "pygments_lexer": "ipython3",
   "version": "3.9.12"
  }
 },
 "nbformat": 4,
 "nbformat_minor": 5
}
