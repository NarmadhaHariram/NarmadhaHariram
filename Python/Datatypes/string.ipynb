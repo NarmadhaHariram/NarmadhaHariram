{
 "cells": [
  {
   "cell_type": "markdown",
   "id": "97cb5ae6",
   "metadata": {},
   "source": [
    "# Play with String "
   ]
  },
  {
   "cell_type": "raw",
   "id": "b60230e7",
   "metadata": {},
   "source": [
    "A String is a data structure in Python that represents a sequence of characters. It is an immutable data type, meaning that once you have created a string, you cannot change it."
   ]
  },
  {
   "cell_type": "raw",
   "id": "becff929",
   "metadata": {},
   "source": [
    "Creating a String in Python\n",
    "Strings in Python can be created using single quotes or double quotes or even triple quotes."
   ]
  },
  {
   "cell_type": "code",
   "execution_count": 1,
   "id": "4b739967",
   "metadata": {},
   "outputs": [],
   "source": [
    "string1 =\"str\""
   ]
  },
  {
   "cell_type": "code",
   "execution_count": 2,
   "id": "634a7d05",
   "metadata": {},
   "outputs": [
    {
     "data": {
      "text/plain": [
       "'str'"
      ]
     },
     "execution_count": 2,
     "metadata": {},
     "output_type": "execute_result"
    }
   ],
   "source": [
    "string1"
   ]
  },
  {
   "cell_type": "code",
   "execution_count": 5,
   "id": "f2f7c157",
   "metadata": {},
   "outputs": [
    {
     "name": "stdout",
     "output_type": "stream",
     "text": [
      "\n",
      "String with the use of Double Quotes: \n",
      "I'm a Athlete\n",
      "\n",
      "String with the use of Triple Quotes: \n",
      "I'm a Athlete and I live in a world of \"Diamonds\"\n",
      "\n",
      "Creating a multiline String: \n",
      "Athlete \n",
      "            For \n",
      "            Life\n"
     ]
    }
   ],
   "source": [
    "String1 = \"I'm a Athlete\"\n",
    "print(\"\\nString with the use of Double Quotes: \") \n",
    "print(String1) \n",
    "  \n",
    "# Creating a String \n",
    "# with triple Quotes \n",
    "String1 = '''I'm a Athlete and I live in a world of \"Diamonds\"'''\n",
    "print(\"\\nString with the use of Triple Quotes: \") \n",
    "print(String1) \n",
    "  \n",
    "# Creating String with triple \n",
    "# Quotes allows multiple lines \n",
    "String1 = '''Athlete \n",
    "            For \n",
    "            Life'''\n",
    "print(\"\\nCreating a multiline String: \") \n",
    "print(String1) "
   ]
  },
  {
   "cell_type": "code",
   "execution_count": 8,
   "id": "e0e3ecee",
   "metadata": {},
   "outputs": [],
   "source": [
    "String1 = \"I'm a Athlete\""
   ]
  },
  {
   "cell_type": "code",
   "execution_count": 9,
   "id": "41128424",
   "metadata": {},
   "outputs": [
    {
     "data": {
      "text/plain": [
       "\"I'm a Athlete\""
      ]
     },
     "execution_count": 9,
     "metadata": {},
     "output_type": "execute_result"
    }
   ],
   "source": [
    "String1"
   ]
  },
  {
   "cell_type": "code",
   "execution_count": 10,
   "id": "bc6799e2",
   "metadata": {},
   "outputs": [
    {
     "name": "stdout",
     "output_type": "stream",
     "text": [
      "\n",
      "First character of String is: \n",
      "I\n",
      "\n",
      "Last character of String is: \n",
      "e\n"
     ]
    }
   ],
   "source": [
    "# While accessing an index out of the range will cause an IndexError. Only Integers are allowed to be passed as an index, float or other types that will cause a TypeError.\n",
    "\n",
    "# Printing First character \n",
    "print(\"\\nFirst character of String is: \") \n",
    "print(String1[0]) \n",
    "  \n",
    "# Printing Last character \n",
    "print(\"\\nLast character of String is: \") \n",
    "print(String1[-1]) "
   ]
  },
  {
   "cell_type": "code",
   "execution_count": null,
   "id": "d4a067be",
   "metadata": {},
   "outputs": [],
   "source": []
  },
  {
   "cell_type": "code",
   "execution_count": 11,
   "id": "eddfd3d3",
   "metadata": {},
   "outputs": [
    {
     "name": "stdout",
     "output_type": "stream",
     "text": [
      "\n",
      "Slicing characters from 3-12: \n",
      " a Athlet\n",
      "\n",
      "Slicing characters between 3rd and 2nd last character: \n",
      " a Athle\n"
     ]
    }
   ],
   "source": [
    "print(\"\\nSlicing characters from 3-12: \") \n",
    "print(String1[3:12]) \n",
    "  \n",
    "# Printing characters between \n",
    "# 3rd and 2nd last character \n",
    "print(\"\\nSlicing characters between \" +\n",
    "      \"3rd and 2nd last character: \") \n",
    "print(String1[3:-2]) "
   ]
  },
  {
   "cell_type": "code",
   "execution_count": 12,
   "id": "11e4b5df",
   "metadata": {},
   "outputs": [
    {
     "name": "stdout",
     "output_type": "stream",
     "text": [
      "skeegrofskeeg\n"
     ]
    }
   ],
   "source": [
    "\n",
    "\n",
    "#Program to reverse a string \n",
    "gfg = \"geeksforgeeks\"\n",
    "print(gfg[::-1])"
   ]
  },
  {
   "cell_type": "code",
   "execution_count": 13,
   "id": "05a8de9a",
   "metadata": {},
   "outputs": [
    {
     "name": "stdout",
     "output_type": "stream",
     "text": [
      "skeegrofskeeg\n"
     ]
    }
   ],
   "source": [
    "# Reverse the string using reversed and join function \n",
    "gfg = \"\".join(reversed(gfg)) \n",
    "  \n",
    "print(gfg) "
   ]
  },
  {
   "cell_type": "code",
   "execution_count": 14,
   "id": "85744dec",
   "metadata": {},
   "outputs": [
    {
     "name": "stdout",
     "output_type": "stream",
     "text": [
      "\n",
      "Updating character at 2nd Index: \n",
      "I'p a Athlete\n",
      "I'p a Athlete\n"
     ]
    }
   ],
   "source": [
    "# Deleting/Updating from a String\n",
    "## As python strings are immutable, they don't support item updation directly \n",
    "### there are following two ways \n",
    "#1 \n",
    "list1 = list(String1) \n",
    "list1[2] = 'p'\n",
    "String2 = ''.join(list1) \n",
    "print(\"\\nUpdating character at 2nd Index: \") \n",
    "print(String2) \n",
    "  \n",
    "#2 \n",
    "String3 = String1[0:2] + 'p' + String1[3:] \n",
    "print(String3) "
   ]
  },
  {
   "cell_type": "code",
   "execution_count": 15,
   "id": "3c94e4e5",
   "metadata": {},
   "outputs": [
    {
     "name": "stdout",
     "output_type": "stream",
     "text": [
      "I'm a Athlete\n",
      "Deleting character at 2nd Index: \n"
     ]
    },
    {
     "ename": "TypeError",
     "evalue": "'str' object doesn't support item deletion",
     "output_type": "error",
     "traceback": [
      "\u001b[1;31m---------------------------------------------------------------------------\u001b[0m",
      "\u001b[1;31mTypeError\u001b[0m                                 Traceback (most recent call last)",
      "Input \u001b[1;32mIn [15]\u001b[0m, in \u001b[0;36m<cell line: 5>\u001b[1;34m()\u001b[0m\n\u001b[0;32m      2\u001b[0m \u001b[38;5;28mprint\u001b[39m(String1) \n\u001b[0;32m      4\u001b[0m \u001b[38;5;28mprint\u001b[39m(\u001b[38;5;124m\"\u001b[39m\u001b[38;5;124mDeleting character at 2nd Index: \u001b[39m\u001b[38;5;124m\"\u001b[39m) \n\u001b[1;32m----> 5\u001b[0m \u001b[38;5;28;01mdel\u001b[39;00m String1[\u001b[38;5;241m2\u001b[39m] \n\u001b[0;32m      6\u001b[0m \u001b[38;5;28mprint\u001b[39m(String1)\n",
      "\u001b[1;31mTypeError\u001b[0m: 'str' object doesn't support item deletion"
     ]
    }
   ],
   "source": [
    "#Deleting a string\n",
    "print(String1) \n",
    "  \n",
    "print(\"Deleting character at 2nd Index: \") \n",
    "del String1[2] \n",
    "print(String1)"
   ]
  },
  {
   "cell_type": "code",
   "execution_count": 16,
   "id": "6b2880b2",
   "metadata": {},
   "outputs": [
    {
     "name": "stdout",
     "output_type": "stream",
     "text": [
      "I'm a Athlete\n"
     ]
    }
   ],
   "source": [
    "print(String1)"
   ]
  },
  {
   "cell_type": "code",
   "execution_count": 20,
   "id": "10178477",
   "metadata": {},
   "outputs": [
    {
     "ename": "TypeError",
     "evalue": "'str' object doesn't support item deletion",
     "output_type": "error",
     "traceback": [
      "\u001b[1;31m---------------------------------------------------------------------------\u001b[0m",
      "\u001b[1;31mTypeError\u001b[0m                                 Traceback (most recent call last)",
      "Input \u001b[1;32mIn [20]\u001b[0m, in \u001b[0;36m<cell line: 1>\u001b[1;34m()\u001b[0m\n\u001b[1;32m----> 1\u001b[0m \u001b[38;5;28;01mdel\u001b[39;00m String1[\u001b[38;5;241m4\u001b[39m]\n",
      "\u001b[1;31mTypeError\u001b[0m: 'str' object doesn't support item deletion"
     ]
    }
   ],
   "source": [
    "del String1[4] "
   ]
  },
  {
   "cell_type": "code",
   "execution_count": 21,
   "id": "280af81f",
   "metadata": {},
   "outputs": [
    {
     "name": "stdout",
     "output_type": "stream",
     "text": [
      "\n",
      "Deleting character at 2nd Index: \n",
      "I' a Athlete\n"
     ]
    }
   ],
   "source": [
    "# Deleting a character \n",
    "# of the String \n",
    "String2 = String1[0:2] + String1[3:] \n",
    "print(\"\\nDeleting character at 2nd Index: \") \n",
    "print(String2)"
   ]
  },
  {
   "cell_type": "code",
   "execution_count": 22,
   "id": "6b2b2a3e",
   "metadata": {},
   "outputs": [
    {
     "name": "stdout",
     "output_type": "stream",
     "text": [
      "\n",
      "Deleting entire String: \n"
     ]
    },
    {
     "ename": "NameError",
     "evalue": "name 'String1' is not defined",
     "output_type": "error",
     "traceback": [
      "\u001b[1;31m---------------------------------------------------------------------------\u001b[0m",
      "\u001b[1;31mNameError\u001b[0m                                 Traceback (most recent call last)",
      "Input \u001b[1;32mIn [22]\u001b[0m, in \u001b[0;36m<cell line: 3>\u001b[1;34m()\u001b[0m\n\u001b[0;32m      1\u001b[0m \u001b[38;5;28;01mdel\u001b[39;00m String1 \n\u001b[0;32m      2\u001b[0m \u001b[38;5;28mprint\u001b[39m(\u001b[38;5;124m\"\u001b[39m\u001b[38;5;130;01m\\n\u001b[39;00m\u001b[38;5;124mDeleting entire String: \u001b[39m\u001b[38;5;124m\"\u001b[39m) \n\u001b[1;32m----> 3\u001b[0m \u001b[38;5;28mprint\u001b[39m(\u001b[43mString1\u001b[49m)\n",
      "\u001b[1;31mNameError\u001b[0m: name 'String1' is not defined"
     ]
    }
   ],
   "source": [
    "del String1 \n",
    "print(\"\\nDeleting entire String: \") \n",
    "print(String1) "
   ]
  },
  {
   "cell_type": "code",
   "execution_count": 23,
   "id": "7a5b46cc",
   "metadata": {},
   "outputs": [
    {
     "name": "stdout",
     "output_type": "stream",
     "text": [
      "Initial String with use of Triple Quotes: \n",
      "I'm a \"Geek\"\n",
      "\n",
      "Escaping Single Quote: \n",
      "I'm a \"Geek\"\n",
      "\n",
      "Escaping Double Quotes: \n",
      "I'm a \"Geek\"\n",
      "\n",
      "Escaping Backslashes: \n",
      "C:\\Python\\Geeks\\\n",
      "\n",
      "Tab: \n",
      "Hi\tGeeks\n",
      "\n",
      "New Line: \n",
      "Python\n",
      "Geeks\n"
     ]
    }
   ],
   "source": [
    "# Initial String \n",
    "String1 = '''I'm a \"Geek\"'''\n",
    "print(\"Initial String with use of Triple Quotes: \") \n",
    "print(String1) \n",
    "  \n",
    "# Escaping Single Quote \n",
    "String1 = 'I\\'m a \"Geek\"'\n",
    "print(\"\\nEscaping Single Quote: \") \n",
    "print(String1) \n",
    "  \n",
    "# Escaping Double Quotes \n",
    "String1 = \"I'm a \\\"Geek\\\"\"\n",
    "print(\"\\nEscaping Double Quotes: \") \n",
    "print(String1) \n",
    "  \n",
    "# Printing Paths with the \n",
    "# use of Escape Sequences \n",
    "String1 = \"C:\\\\Python\\\\Geeks\\\\\"\n",
    "print(\"\\nEscaping Backslashes: \") \n",
    "print(String1) \n",
    "  \n",
    "# Printing Paths with the \n",
    "# use of Tab \n",
    "String1 = \"Hi\\tGeeks\"\n",
    "print(\"\\nTab: \") \n",
    "print(String1) \n",
    "  \n",
    "# Printing Paths with the \n",
    "# use of New Line \n",
    "String1 = \"Python\\nGeeks\"\n",
    "print(\"\\nNew Line: \") \n",
    "print(String1) "
   ]
  },
  {
   "cell_type": "code",
   "execution_count": null,
   "id": "e967c3a2",
   "metadata": {},
   "outputs": [],
   "source": []
  }
 ],
 "metadata": {
  "kernelspec": {
   "display_name": "Python 3 (ipykernel)",
   "language": "python",
   "name": "python3"
  },
  "language_info": {
   "codemirror_mode": {
    "name": "ipython",
    "version": 3
   },
   "file_extension": ".py",
   "mimetype": "text/x-python",
   "name": "python",
   "nbconvert_exporter": "python",
   "pygments_lexer": "ipython3",
   "version": "3.9.12"
  }
 },
 "nbformat": 4,
 "nbformat_minor": 5
}
