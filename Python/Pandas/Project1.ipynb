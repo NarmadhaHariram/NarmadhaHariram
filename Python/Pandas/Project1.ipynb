{
 "cells": [
  {
   "cell_type": "code",
   "execution_count": null,
   "metadata": {},
   "outputs": [],
   "source": []
  },
  {
   "cell_type": "markdown",
   "metadata": {},
   "source": [
    "# School Gradebook system\n",
    "1. Based on student percentage - Assign grades O,q+,A,A+,B,C\n",
    "2. Filter Top 10/n student, Bottom 10/n student\n",
    "3. Based on length /no of students - assign students to different class\n",
    "4. Based on teacher number - Assign teacher to student Eg 10 student- 1 teacher as coach\n",
    "5. Filter top students based on cocurricular activities or interest and assign them to activity - Dance, art,singin, musical, games\n",
    "6. Based on joining date - filter student and give fees discount 1500, 2000 ,3000\n",
    "\n",
    "Note: Use pandas -oops concepts if needed\n",
    "\n",
    "# Retail price optimization\n",
    "\n",
    "# House price prediction system"
   ]
  },
  {
   "cell_type": "markdown",
   "metadata": {},
   "source": []
  }
 ],
 "metadata": {
  "language_info": {
   "name": "python"
  }
 },
 "nbformat": 4,
 "nbformat_minor": 2
}
