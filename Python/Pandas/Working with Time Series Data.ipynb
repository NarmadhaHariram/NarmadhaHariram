{
 "cells": [
  {
   "cell_type": "markdown",
   "id": "3d70c5af",
   "metadata": {},
   "source": [
    "## Working with Time Series"
   ]
  },
  {
   "cell_type": "markdown",
   "id": "cdc9ffb1",
   "metadata": {},
   "source": [
    "## Dates and Times in Python"
   ]
  },
  {
   "cell_type": "markdown",
   "id": "e50a5223",
   "metadata": {},
   "source": [
    "#### Datetime library"
   ]
  },
  {
   "cell_type": "code",
   "execution_count": 2,
   "id": "8ed7be3e",
   "metadata": {},
   "outputs": [],
   "source": [
    "from datetime import datetime"
   ]
  },
  {
   "cell_type": "code",
   "execution_count": 4,
   "id": "5fac09b1",
   "metadata": {},
   "outputs": [
    {
     "data": {
      "text/plain": [
       "datetime.datetime(2024, 2, 5, 0, 0)"
      ]
     },
     "execution_count": 4,
     "metadata": {},
     "output_type": "execute_result"
    }
   ],
   "source": [
    "date =datetime(year=2024,month=2,day=5)\n",
    "date"
   ]
  },
  {
   "cell_type": "code",
   "execution_count": 5,
   "id": "8b970c44",
   "metadata": {},
   "outputs": [],
   "source": [
    "\n",
    "# import the date class\n",
    "from datetime import date"
   ]
  },
  {
   "cell_type": "code",
   "execution_count": 6,
   "id": "e94fa3ab",
   "metadata": {},
   "outputs": [],
   "source": [
    "date = date(2024,5,2)"
   ]
  },
  {
   "cell_type": "code",
   "execution_count": 7,
   "id": "4103237a",
   "metadata": {},
   "outputs": [
    {
     "data": {
      "text/plain": [
       "datetime.date(2024, 5, 2)"
      ]
     },
     "execution_count": 7,
     "metadata": {},
     "output_type": "execute_result"
    }
   ],
   "source": [
    "date"
   ]
  },
  {
   "cell_type": "markdown",
   "id": "0030ad95",
   "metadata": {},
   "source": [
    "### 1. Get today date, datetime"
   ]
  },
  {
   "cell_type": "code",
   "execution_count": 30,
   "id": "d324c7f8",
   "metadata": {},
   "outputs": [
    {
     "name": "stdout",
     "output_type": "stream",
     "text": [
      "2024-02-05\n"
     ]
    }
   ],
   "source": [
    "today = date.today()\n",
    "today\n",
    "print(today)"
   ]
  },
  {
   "cell_type": "code",
   "execution_count": 31,
   "id": "d38e5734",
   "metadata": {},
   "outputs": [
    {
     "data": {
      "text/plain": [
       "datetime.datetime(2024, 2, 5, 12, 20, 30, 70760)"
      ]
     },
     "execution_count": 31,
     "metadata": {},
     "output_type": "execute_result"
    }
   ],
   "source": [
    "datetime.today()"
   ]
  },
  {
   "cell_type": "code",
   "execution_count": 32,
   "id": "901ad992",
   "metadata": {},
   "outputs": [
    {
     "name": "stdout",
     "output_type": "stream",
     "text": [
      "2024-02-05 12:20:36.149558\n"
     ]
    }
   ],
   "source": [
    "print(datetime.today())"
   ]
  },
  {
   "cell_type": "code",
   "execution_count": 26,
   "id": "c2ce1511",
   "metadata": {},
   "outputs": [
    {
     "name": "stdout",
     "output_type": "stream",
     "text": [
      "2024-02-05 12:19:12.614332\n"
     ]
    }
   ],
   "source": [
    "# Calling now() function\n",
    "today = datetime.now()\n",
    "print(today)"
   ]
  },
  {
   "cell_type": "code",
   "execution_count": 22,
   "id": "a0ee3fb5",
   "metadata": {},
   "outputs": [
    {
     "name": "stdout",
     "output_type": "stream",
     "text": [
      "year = 2024\n",
      "month = 2\n",
      "hour = 12\n",
      "minute = 16\n",
      "timestamp = 1707115583.826348\n"
     ]
    }
   ],
   "source": [
    "print(\"year =\", today.year)\n",
    "print(\"month =\", today.month)\n",
    "print(\"hour =\", today.hour)\n",
    "print(\"minute =\", today.minute)\n",
    "print(\"timestamp =\", today.timestamp())"
   ]
  },
  {
   "cell_type": "markdown",
   "id": "3435bf1e",
   "metadata": {},
   "source": [
    "### 2. convert as string"
   ]
  },
  {
   "cell_type": "code",
   "execution_count": 13,
   "id": "f70fa15c",
   "metadata": {},
   "outputs": [
    {
     "name": "stdout",
     "output_type": "stream",
     "text": [
      "String Representation 2024-02-05\n"
     ]
    }
   ],
   "source": [
    "# Converting the date to the string\n",
    "Str = today.isoformat()\n",
    "print(\"String Representation\", Str)"
   ]
  },
  {
   "cell_type": "code",
   "execution_count": 97,
   "id": "8fc106a7",
   "metadata": {},
   "outputs": [
    {
     "name": "stdout",
     "output_type": "stream",
     "text": [
      "Without formatting 2024-02-05 17:27:56.535480\n"
     ]
    }
   ],
   "source": [
    "##A strftime() method converts the given date, time, or DateTime object to the string representation of the given format.\n",
    "\n",
    "# Getting current date and time\n",
    "now = datetime.now()\n",
    "print(\"Without formatting\", now)"
   ]
  },
  {
   "cell_type": "code",
   "execution_count": 98,
   "id": "a62c6e01",
   "metadata": {},
   "outputs": [
    {
     "name": "stdout",
     "output_type": "stream",
     "text": [
      "Monday 02 2024\n",
      "\n",
      " Mon 02 2024\n",
      "\n",
      " 17: 27: 56\n",
      "\n",
      " 05/02/24\n",
      "Mon Feb  5 17:27:56 2024\n"
     ]
    }
   ],
   "source": [
    "print(now.strftime(\"%A %m %Y\"))\n",
    "print(now.strftime(\"\\n %a %m %Y\"))\n",
    "# print(now.strftime(\"\\n %I %p %s\"))\n",
    "print(now.strftime(\"\\n %H: %M: %S\"))\n",
    "print(now.strftime(\"\\n %d/%m/%y\"))\n",
    "print(now.ctime())"
   ]
  },
  {
   "cell_type": "code",
   "execution_count": 86,
   "id": "d4dcd480",
   "metadata": {},
   "outputs": [
    {
     "data": {
      "text/plain": [
       "datetime.datetime(2024, 2, 5, 12, 58)"
      ]
     },
     "execution_count": 86,
     "metadata": {},
     "output_type": "execute_result"
    }
   ],
   "source": [
    "datetime.strptime(\"5/2/2024 12:58\", \"%d/%m/%Y %H:%M\")"
   ]
  },
  {
   "cell_type": "code",
   "execution_count": 85,
   "id": "7131af1f",
   "metadata": {},
   "outputs": [
    {
     "name": "stdout",
     "output_type": "stream",
     "text": [
      "2024-02-05 12:58:00\n"
     ]
    }
   ],
   "source": [
    "dd = datetime.strptime(\"5/2/24 12:58\", \"%d/%m/%y %H:%M\")\n",
    "print(dd)"
   ]
  },
  {
   "cell_type": "code",
   "execution_count": 99,
   "id": "dcad15b7",
   "metadata": {},
   "outputs": [
    {
     "data": {
      "text/plain": [
       "datetime.IsoCalendarDate(year=2024, week=6, weekday=1)"
      ]
     },
     "execution_count": 99,
     "metadata": {},
     "output_type": "execute_result"
    }
   ],
   "source": [
    "# isocalendar() returns a 3-item tuple with ISO year, week number, and weekday number\n",
    "now.isocalendar()"
   ]
  },
  {
   "cell_type": "code",
   "execution_count": 59,
   "id": "82f2f521",
   "metadata": {},
   "outputs": [],
   "source": [
    "import time"
   ]
  },
  {
   "cell_type": "code",
   "execution_count": 61,
   "id": "074d2975",
   "metadata": {},
   "outputs": [
    {
     "name": "stdout",
     "output_type": "stream",
     "text": [
      "2024-02-05 12:40:26.335523\n"
     ]
    }
   ],
   "source": [
    "d =datetime.fromtimestamp(time.time())\n",
    "print(d)"
   ]
  },
  {
   "cell_type": "markdown",
   "id": "e6147aa2",
   "metadata": {},
   "source": [
    "### 3. Calculate time "
   ]
  },
  {
   "cell_type": "code",
   "execution_count": 17,
   "id": "42dd27c2",
   "metadata": {},
   "outputs": [],
   "source": [
    "from datetime import time\n"
   ]
  },
  {
   "cell_type": "code",
   "execution_count": 18,
   "id": "3483249e",
   "metadata": {},
   "outputs": [],
   "source": [
    "tod_time = time(12,14,0)"
   ]
  },
  {
   "cell_type": "code",
   "execution_count": 19,
   "id": "39bb7e57",
   "metadata": {},
   "outputs": [
    {
     "data": {
      "text/plain": [
       "datetime.time(12, 14)"
      ]
     },
     "execution_count": 19,
     "metadata": {},
     "output_type": "execute_result"
    }
   ],
   "source": [
    "tod_time"
   ]
  },
  {
   "cell_type": "code",
   "execution_count": 20,
   "id": "9fd4a961",
   "metadata": {},
   "outputs": [
    {
     "data": {
      "text/plain": [
       "'12:24:36.001212'"
      ]
     },
     "execution_count": 20,
     "metadata": {},
     "output_type": "execute_result"
    }
   ],
   "source": [
    "# Creating Time object\n",
    "Time = time(12,24,36,1212)\n",
    " \n",
    "# Converting Time object to string\n",
    "Str = Time.isoformat()\n",
    "Str"
   ]
  },
  {
   "cell_type": "markdown",
   "id": "358803f5",
   "metadata": {},
   "source": [
    "#### Date util library"
   ]
  },
  {
   "cell_type": "code",
   "execution_count": 14,
   "id": "d4373954",
   "metadata": {},
   "outputs": [],
   "source": [
    "from dateutil import parser"
   ]
  },
  {
   "cell_type": "code",
   "execution_count": 15,
   "id": "ed764b4a",
   "metadata": {},
   "outputs": [],
   "source": [
    "today =parser.parse(\"5th feb 2024\")"
   ]
  },
  {
   "cell_type": "code",
   "execution_count": 16,
   "id": "be05671e",
   "metadata": {},
   "outputs": [
    {
     "data": {
      "text/plain": [
       "datetime.datetime(2024, 2, 5, 0, 0)"
      ]
     },
     "execution_count": 16,
     "metadata": {},
     "output_type": "execute_result"
    }
   ],
   "source": [
    "today"
   ]
  },
  {
   "cell_type": "markdown",
   "id": "08b0394e",
   "metadata": {},
   "source": [
    "### The strftime(format) method creates a string representing the time under the control of an explicit format string. Conversely, the datetime. strptime() method creates a datetime object from a string representing a date and time and a corresponding format string."
   ]
  },
  {
   "cell_type": "code",
   "execution_count": 101,
   "id": "215cba56",
   "metadata": {},
   "outputs": [],
   "source": [
    "# Write a Python program to generate RFC 3339 timestamp - UTC iso format"
   ]
  },
  {
   "cell_type": "code",
   "execution_count": 75,
   "id": "84a5d9da",
   "metadata": {},
   "outputs": [
    {
     "name": "stdout",
     "output_type": "stream",
     "text": [
      "dtae 2024-02-05T12:55:22.138626 2024-02-05T07:25:22.138626+00:00\n"
     ]
    }
   ],
   "source": [
    "from datetime import datetime, timezone\n",
    "today = datetime.now().isoformat()\n",
    "\n",
    "today_utc = datetime.now(timezone.utc).isoformat()\n",
    "print(\"dtae\",today,today_utc)"
   ]
  },
  {
   "cell_type": "markdown",
   "id": "ba0774d6",
   "metadata": {},
   "source": [
    "### Datetime Programs"
   ]
  },
  {
   "cell_type": "code",
   "execution_count": 69,
   "id": "0e2eebd9",
   "metadata": {},
   "outputs": [
    {
     "name": "stdout",
     "output_type": "stream",
     "text": [
      "2024-02-05 12:47:50.245427 2024-04-25 00:00:00\n",
      "Event will occur in days 79\n"
     ]
    }
   ],
   "source": [
    "## Counting days to an event\n",
    "\n",
    "today = datetime.now()\n",
    "\n",
    "my_event_date = datetime(2024,4,25)\n",
    "print(today, my_event_date)\n",
    "\n",
    "if my_event_date < today:\n",
    "    print(\"old event\")\n",
    "time_of_event = abs(my_event_date - today)\n",
    "print(\"Event will occur in days\", time_of_event.days)"
   ]
  },
  {
   "cell_type": "code",
   "execution_count": 96,
   "id": "a25416a3",
   "metadata": {},
   "outputs": [
    {
     "name": "stdout",
     "output_type": "stream",
     "text": [
      "2024-02-05 09:02:03 UTC+0000\n",
      "2024-02-05 14:32:03 IST+0530 Asia/Kolkata\n",
      "2024-02-05 11:02:03 EET+0200 Europe/Kiev\n",
      "2024-02-05 04:02:03 EST-0500 America/New_York\n"
     ]
    }
   ],
   "source": [
    "# Get Timezone based on region\n",
    "\n",
    "from pytz import timezone\n",
    "\n",
    "format =\"%Y-%m-%d %H:%M:%S %Z%z\"\n",
    "\n",
    "now_timezone =datetime.now(timezone(\"UTC\"))\n",
    "print(datetime.strftime(now_timezone, format))\n",
    "\n",
    "timezones =['Asia/Kolkata', 'Europe/Kiev', 'America/New_York']\n",
    "for tzone in timezones:\n",
    "    # Convert to Asia/Kolkata time zone\n",
    "    now_asia = now_timezone.astimezone(timezone(tzone))\n",
    "    print(now_asia.strftime(format), tzone)"
   ]
  },
  {
   "cell_type": "code",
   "execution_count": 100,
   "id": "f2dc2c2a",
   "metadata": {},
   "outputs": [
    {
     "name": "stdout",
     "output_type": "stream",
     "text": [
      "First second 00:00:00\n",
      "LAst second 23:59:59.999999\n"
     ]
    }
   ],
   "source": [
    "# Write a Python program to get the first and last second\n",
    "\n",
    "import datetime\n",
    "print(\"First second\",datetime.time.min)\n",
    "print(\"LAst second\",datetime.time.max)"
   ]
  },
  {
   "cell_type": "code",
   "execution_count": 103,
   "id": "1d22fbd4",
   "metadata": {},
   "outputs": [
    {
     "name": "stdout",
     "output_type": "stream",
     "text": [
      "Today date:  2024-02-05\n",
      "Tomorrow date:  2024-02-06\n",
      "Yesterday date:  2024-02-04\n"
     ]
    }
   ],
   "source": [
    "# Write a Python program to print yesterday, today, tomorrow\n",
    "from datetime import timedelta\n",
    "\n",
    "today = datetime.date.today()\n",
    "tomorrow = today+datetime.timedelta(days=1)\n",
    "yesterday = today-datetime.timedelta(days=1)\n",
    "\n",
    "print(\"Today date: \",today)\n",
    "print(\"Tomorrow date: \",tomorrow)\n",
    "print(\"Yesterday date: \",yesterday)"
   ]
  },
  {
   "cell_type": "code",
   "execution_count": 112,
   "id": "59cd2de2",
   "metadata": {},
   "outputs": [
    {
     "name": "stdout",
     "output_type": "stream",
     "text": [
      "Future_time 2024-02-05 22:00:45.381856\n"
     ]
    }
   ],
   "source": [
    "#calculate the time 2 hours and 30 minutes from now\n",
    "from datetime import datetime, timedelta\n",
    "\n",
    "today = datetime.now()\n",
    "future_time = today+ timedelta(hours=2,minutes=30)\n",
    "print(\"Future_time\", future_time)"
   ]
  },
  {
   "cell_type": "code",
   "execution_count": 116,
   "id": "fdb0defb",
   "metadata": {},
   "outputs": [
    {
     "name": "stdout",
     "output_type": "stream",
     "text": [
      "Days difference 366\n",
      "Ordinal difference 366\n"
     ]
    }
   ],
   "source": [
    "# calculate the number of days between two dates\n",
    "\n",
    "# datetime1= datetime(2023,2,5)\n",
    "# datetime2 = datetime(2024,2,5)\n",
    " #Using timedelta\n",
    "datetime1 = datetime(2020, 2, 28)  # just before a leap day\n",
    "datetime2 = datetime(2021, 2, 28) \n",
    "\n",
    "delta = datetime2 -datetime1\n",
    "\n",
    "print(\"Days difference\", delta.days)\n",
    "\n",
    "day_difference = datetime2.toordinal()-datetime1.toordinal()\n",
    "print(\"Ordinal difference\", day_difference)"
   ]
  },
  {
   "cell_type": "markdown",
   "id": "ef278b28",
   "metadata": {},
   "source": [
    "## NUMPY Datetime64"
   ]
  },
  {
   "cell_type": "code",
   "execution_count": 118,
   "id": "743072f5",
   "metadata": {},
   "outputs": [],
   "source": [
    "# numpy datetime\n",
    "import numpy as np"
   ]
  },
  {
   "cell_type": "code",
   "execution_count": 121,
   "id": "af691a7b",
   "metadata": {},
   "outputs": [],
   "source": [
    "date =np.array(\"2024-02-05\",dtype=np.datetime64)"
   ]
  },
  {
   "cell_type": "code",
   "execution_count": 123,
   "id": "ae130be6",
   "metadata": {},
   "outputs": [
    {
     "name": "stdout",
     "output_type": "stream",
     "text": [
      "2024-02-05\n"
     ]
    }
   ],
   "source": [
    "print(date)"
   ]
  },
  {
   "cell_type": "code",
   "execution_count": 126,
   "id": "ee6c8819",
   "metadata": {},
   "outputs": [
    {
     "name": "stdout",
     "output_type": "stream",
     "text": [
      "['2024-02-05' '2024-02-06' '2024-02-07' '2024-02-08' '2024-02-09'\n",
      " '2024-02-10' '2024-02-11' '2024-02-12' '2024-02-13' '2024-02-14'\n",
      " '2024-02-15' '2024-02-16'] <class 'numpy.ndarray'>\n"
     ]
    }
   ],
   "source": [
    "print(date+np.arange(12),type(date+np.arange(12)))"
   ]
  },
  {
   "cell_type": "code",
   "execution_count": 127,
   "id": "e3b63022",
   "metadata": {},
   "outputs": [
    {
     "data": {
      "text/plain": [
       "numpy.datetime64('2021-07-04T12:59:59.500000000')"
      ]
     },
     "execution_count": 127,
     "metadata": {},
     "output_type": "execute_result"
    }
   ],
   "source": [
    "np.datetime64('2021-07-04 12:59:59.50', 'ns')"
   ]
  },
  {
   "cell_type": "markdown",
   "id": "b5b13e16",
   "metadata": {},
   "source": [
    "|Code  | Meaning     | Time span (relative) | Time span (absolute)   |\n",
    "|------|-------------|----------------------|------------------------|\n",
    "| `Y`  | Year        | ± 9.2e18 years       | [9.2e18 BC, 9.2e18 AD] |\n",
    "| `M`  | Month       | ± 7.6e17 years       | [7.6e17 BC, 7.6e17 AD] |\n",
    "| `W`  | Week        | ± 1.7e17 years       | [1.7e17 BC, 1.7e17 AD] |\n",
    "| `D`  | Day         | ± 2.5e16 years       | [2.5e16 BC, 2.5e16 AD] |\n",
    "| `h`  | Hour        | ± 1.0e15 years       | [1.0e15 BC, 1.0e15 AD] |\n",
    "| `m`  | Minute      | ± 1.7e13 years       | [1.7e13 BC, 1.7e13 AD] |\n",
    "| `s`  | Second      | ± 2.9e12 years       | [ 2.9e9 BC, 2.9e9 AD]  |\n",
    "| `ms` | Millisecond | ± 2.9e9 years        | [ 2.9e6 BC, 2.9e6 AD]  |\n",
    "| `us` | Microsecond | ± 2.9e6 years        | [290301 BC, 294241 AD] |\n",
    "| `ns` | Nanosecond  | ± 292 years          | [ 1678 AD, 2262 AD]    |\n",
    "| `ps` | Picosecond  | ± 106 days           | [ 1969 AD, 1970 AD]    |\n",
    "| `fs` | Femtosecond | ± 2.6 hours          | [ 1969 AD, 1970 AD]    |\n",
    "| `as` | Attosecond  | ± 9.2 seconds        | [ 1969 AD, 1970 AD]    |"
   ]
  },
  {
   "cell_type": "markdown",
   "id": "879dc44f",
   "metadata": {},
   "source": [
    "## Pandas Datetime64"
   ]
  },
  {
   "cell_type": "code",
   "execution_count": 128,
   "id": "f06fb145",
   "metadata": {},
   "outputs": [
    {
     "data": {
      "text/plain": [
       "Timestamp('2021-07-04 00:00:00')"
      ]
     },
     "execution_count": 128,
     "metadata": {},
     "output_type": "execute_result"
    }
   ],
   "source": [
    "import pandas as pd\n",
    "date = pd.to_datetime(\"4th of July, 2021\")\n",
    "date"
   ]
  },
  {
   "cell_type": "code",
   "execution_count": 129,
   "id": "27c6cef8",
   "metadata": {},
   "outputs": [
    {
     "data": {
      "text/plain": [
       "DatetimeIndex(['2021-07-04', '2021-07-05', '2021-07-06', '2021-07-07',\n",
       "               '2021-07-08', '2021-07-09', '2021-07-10', '2021-07-11',\n",
       "               '2021-07-12', '2021-07-13', '2021-07-14', '2021-07-15'],\n",
       "              dtype='datetime64[ns]', freq=None)"
      ]
     },
     "execution_count": 129,
     "metadata": {},
     "output_type": "execute_result"
    }
   ],
   "source": [
    "date+ pd.to_timedelta(np.arange(12),'D')"
   ]
  },
  {
   "cell_type": "code",
   "execution_count": 130,
   "id": "34147dcd",
   "metadata": {},
   "outputs": [
    {
     "name": "stdout",
     "output_type": "stream",
     "text": [
      "DatetimeIndex(['2021-07-04', '2021-07-05', '2021-07-06', '2021-07-07',\n",
      "               '2021-07-08', '2021-07-09', '2021-07-10', '2021-07-11',\n",
      "               '2021-07-12', '2021-07-13', '2021-07-14', '2021-07-15'],\n",
      "              dtype='datetime64[ns]', freq=None) <class 'pandas.core.indexes.datetimes.DatetimeIndex'>\n"
     ]
    }
   ],
   "source": [
    "print(date+ pd.to_timedelta(np.arange(12),'D'),type(date+ pd.to_timedelta(np.arange(12),'D')))"
   ]
  },
  {
   "cell_type": "markdown",
   "id": "5ab0a089",
   "metadata": {},
   "source": [
    "## Pandas Time Series: Indexing by Time"
   ]
  },
  {
   "cell_type": "markdown",
   "id": "cd1b943a",
   "metadata": {},
   "source": [
    "The most fundamental of these date/time objects are the `Timestamp` and `DatetimeIndex` objects.\n",
    "While these class objects can be invoked directly, it is more common to use the `pd.to_datetime` function, which can parse a wide variety of formats.\n",
    "Passing a single date to `pd.to_datetime` yields a `Timestamp`; passing a series of dates by default yields a `DatetimeIndex`, as you can see here:"
   ]
  },
  {
   "cell_type": "code",
   "execution_count": 134,
   "id": "90982141",
   "metadata": {},
   "outputs": [
    {
     "name": "stdout",
     "output_type": "stream",
     "text": [
      "2021-07-04    0\n",
      "2021-07-05    1\n",
      "2021-07-06    2\n",
      "2021-07-07    3\n",
      "2021-07-08    4\n",
      "dtype: int64\n"
     ]
    }
   ],
   "source": [
    "index=pd.DatetimeIndex(['2021-07-04', '2021-07-05', '2021-07-06', '2021-07-07',\n",
    "               '2021-07-08'])\n",
    "data=pd.Series([0,1,2,3,4], index=index)\n",
    "print(data)"
   ]
  },
  {
   "cell_type": "code",
   "execution_count": 145,
   "id": "bd9d579d",
   "metadata": {},
   "outputs": [],
   "source": [
    "dates =pd.to_datetime([\"5th Feb 2024\",\"2024-02-6\",\"02/07/2024\",datetime(2024,2,4),\"20240303\"])"
   ]
  },
  {
   "cell_type": "code",
   "execution_count": 146,
   "id": "4ec5749e",
   "metadata": {},
   "outputs": [
    {
     "data": {
      "text/plain": [
       "DatetimeIndex(['2024-02-05', '2024-02-06', '2024-02-07', '2024-02-04',\n",
       "               '2024-03-03'],\n",
       "              dtype='datetime64[ns]', freq=None)"
      ]
     },
     "execution_count": 146,
     "metadata": {},
     "output_type": "execute_result"
    }
   ],
   "source": [
    "dates"
   ]
  },
  {
   "cell_type": "code",
   "execution_count": 147,
   "id": "add1fa2f",
   "metadata": {},
   "outputs": [
    {
     "data": {
      "text/plain": [
       "PeriodIndex(['2024-02-05', '2024-02-06', '2024-02-07', '2024-02-04',\n",
       "             '2024-03-03'],\n",
       "            dtype='period[D]')"
      ]
     },
     "execution_count": 147,
     "metadata": {},
     "output_type": "execute_result"
    }
   ],
   "source": [
    "#Any DatetimeIndex can be converted to a PeriodIndex with the to_period function, with the addition of a frequency code; here we'll use 'D' to indicate daily frequency:\n",
    "\n",
    "dates.to_period(\"D\")"
   ]
  },
  {
   "cell_type": "code",
   "execution_count": 148,
   "id": "6a0aafbd",
   "metadata": {},
   "outputs": [
    {
     "data": {
      "text/plain": [
       "TimedeltaIndex(['0 days', '1 days', '2 days', '-1 days', '27 days'], dtype='timedelta64[ns]', freq=None)"
      ]
     },
     "execution_count": 148,
     "metadata": {},
     "output_type": "execute_result"
    }
   ],
   "source": [
    "dates - dates[0]"
   ]
  },
  {
   "cell_type": "markdown",
   "id": "24ded5c9",
   "metadata": {},
   "source": [
    "numpy.array- dtype, numpy.Datetime64, \n",
    "pd - to_datetime,to_timedelta, DatetimeIndex, to_period\n",
    "pd - date_range with period, freq"
   ]
  },
  {
   "cell_type": "markdown",
   "id": "f3aaa9a0",
   "metadata": {},
   "source": [
    "### Pandas date range"
   ]
  },
  {
   "cell_type": "code",
   "execution_count": 149,
   "id": "d5defd41",
   "metadata": {},
   "outputs": [],
   "source": [
    "date_range =pd.date_range(\"2024-02-05\",\"2024-02-20\")"
   ]
  },
  {
   "cell_type": "code",
   "execution_count": 150,
   "id": "543c7367",
   "metadata": {},
   "outputs": [
    {
     "data": {
      "text/plain": [
       "DatetimeIndex(['2024-02-05', '2024-02-06', '2024-02-07', '2024-02-08',\n",
       "               '2024-02-09', '2024-02-10', '2024-02-11', '2024-02-12',\n",
       "               '2024-02-13', '2024-02-14', '2024-02-15', '2024-02-16',\n",
       "               '2024-02-17', '2024-02-18', '2024-02-19', '2024-02-20'],\n",
       "              dtype='datetime64[ns]', freq='D')"
      ]
     },
     "execution_count": 150,
     "metadata": {},
     "output_type": "execute_result"
    }
   ],
   "source": [
    "date_range"
   ]
  },
  {
   "cell_type": "code",
   "execution_count": 151,
   "id": "0edeb17d",
   "metadata": {},
   "outputs": [
    {
     "data": {
      "text/plain": [
       "DatetimeIndex(['2024-02-05', '2024-02-06', '2024-02-07', '2024-02-08',\n",
       "               '2024-02-09', '2024-02-10', '2024-02-11', '2024-02-12',\n",
       "               '2024-02-13', '2024-02-14', '2024-02-15', '2024-02-16',\n",
       "               '2024-02-17', '2024-02-18', '2024-02-19', '2024-02-20'],\n",
       "              dtype='datetime64[ns]', freq='D')"
      ]
     },
     "execution_count": 151,
     "metadata": {},
     "output_type": "execute_result"
    }
   ],
   "source": [
    "pd.date_range(\"2024-02-05\",periods=16)"
   ]
  },
  {
   "cell_type": "code",
   "execution_count": 153,
   "id": "198209b9",
   "metadata": {},
   "outputs": [
    {
     "data": {
      "text/plain": [
       "DatetimeIndex(['2024-02-05 00:00:00', '2024-02-05 01:00:00',\n",
       "               '2024-02-05 02:00:00', '2024-02-05 03:00:00'],\n",
       "              dtype='datetime64[ns]', freq='H')"
      ]
     },
     "execution_count": 153,
     "metadata": {},
     "output_type": "execute_result"
    }
   ],
   "source": [
    "pd.date_range(\"2024-02-05\",periods=4,freq='H') # Hourly"
   ]
  },
  {
   "cell_type": "code",
   "execution_count": 154,
   "id": "d04cf0b0",
   "metadata": {},
   "outputs": [
    {
     "data": {
      "text/plain": [
       "DatetimeIndex(['2024-02-29', '2024-03-31', '2024-04-30'], dtype='datetime64[ns]', freq='M')"
      ]
     },
     "execution_count": 154,
     "metadata": {},
     "output_type": "execute_result"
    }
   ],
   "source": [
    "pd.date_range(\"2024-02-05\",periods=3,freq='m') # Hourly"
   ]
  },
  {
   "cell_type": "markdown",
   "id": "4d066e87",
   "metadata": {},
   "source": [
    "To create regular sequences of Period or Timedelta values, the similar pd.period_range and pd.timedelta_range functions are useful. Here are some monthly periods:"
   ]
  },
  {
   "cell_type": "code",
   "execution_count": 156,
   "id": "3e844cf3",
   "metadata": {},
   "outputs": [
    {
     "data": {
      "text/plain": [
       "PeriodIndex(['2024-02', '2024-03', '2024-04'], dtype='period[M]')"
      ]
     },
     "execution_count": 156,
     "metadata": {},
     "output_type": "execute_result"
    }
   ],
   "source": [
    "pd.period_range(\"2024-02\",periods =3,freq='M')"
   ]
  },
  {
   "cell_type": "code",
   "execution_count": 159,
   "id": "0163720c",
   "metadata": {},
   "outputs": [
    {
     "data": {
      "text/plain": [
       "TimedeltaIndex(['0 days 00:00:00', '0 days 01:00:00', '0 days 02:00:00',\n",
       "                '0 days 03:00:00'],\n",
       "               dtype='timedelta64[ns]', freq='H')"
      ]
     },
     "execution_count": 159,
     "metadata": {},
     "output_type": "execute_result"
    }
   ],
   "source": [
    "pd.timedelta_range(0,periods=4, freq='H')"
   ]
  },
  {
   "cell_type": "code",
   "execution_count": 161,
   "id": "dbc753ff",
   "metadata": {},
   "outputs": [
    {
     "data": {
      "text/plain": [
       "TimedeltaIndex(['0 days 00:00:00', '0 days 02:30:00', '0 days 05:00:00',\n",
       "                '0 days 07:30:00', '0 days 10:00:00', '0 days 12:30:00'],\n",
       "               dtype='timedelta64[ns]', freq='150T')"
      ]
     },
     "execution_count": 161,
     "metadata": {},
     "output_type": "execute_result"
    }
   ],
   "source": [
    "pd.timedelta_range(0,periods=6,freq=\"2H30T\")"
   ]
  },
  {
   "cell_type": "markdown",
   "id": "e7ae795a",
   "metadata": {},
   "source": [
    "| Code | Description       | Code | Description          |\n",
    "|------|-------------------|------|----------------------|\n",
    "| `D`  | Calendar day      | `B`  | Business day         |\n",
    "| `W`  | Weekly            |      |                      |\n",
    "| `M`  | Month end         | `BM` | Business month end   |\n",
    "| `Q`  | Quarter end       | `BQ` | Business quarter end |\n",
    "| `A`  | Year end          | `BA` | Business year end    |\n",
    "| `H`  | Hours             | `BH` | Business hours       |\n",
    "| `T`  | Minutes           |      |                      |\n",
    "| `S`  | Seconds           |      |                      |\n",
    "| `L`  | Milliseconds       |      |                      |\n",
    "| `U`  | Microseconds      |      |                      |\n",
    "| `N`  | Nanoseconds       |      |                      |\n",
    "\n",
    "| Code  | Description       | Code  | Description            |\n",
    "|-------|-------------------|-------|------------------------|\n",
    "| `MS`  | Month start       |`BMS`  | Business month start   |\n",
    "| `QS`  | Quarter start     |`BQS`  | Business quarter start |\n",
    "| `AS`  | Year start        |`BAS`  | Business year start    |\n",
    "\n",
    "\n",
    "Additionally, you can change the month used to mark any quarterly or annual code by adding a three-letter month code as a suffix:\n",
    "\n",
    "- `Q-JAN`, `BQ-FEB`, `QS-MAR`, `BQS-APR`, etc.\n",
    "- `A-JAN`, `BA-FEB`, `AS-MAR`, `BAS-APR`, etc.\n",
    "\n",
    "In the same way, the split point of the weekly frequency can be modified by adding a three-letter weekday code:\n",
    "\n",
    "- `W-SUN`, `W-MON`, `W-TUE`, `W-WED`, etc.\n",
    "\n",
    "On top of this, codes can be combined with numbers to specify other frequencies.\n",
    "For example, for a frequency of 2 hours and 30 minutes, we can combine the hour (`H`) and minute (`T`) codes as follows:"
   ]
  },
  {
   "cell_type": "code",
   "execution_count": 162,
   "id": "f3f1c998",
   "metadata": {},
   "outputs": [
    {
     "data": {
      "text/plain": [
       "DatetimeIndex(['2024-04-25', '2024-04-26', '2024-04-29', '2024-04-30',\n",
       "               '2024-05-01', '2024-05-02'],\n",
       "              dtype='datetime64[ns]', freq='B')"
      ]
     },
     "execution_count": 162,
     "metadata": {},
     "output_type": "execute_result"
    }
   ],
   "source": [
    "from pandas.tseries.offsets import BDay\n",
    "pd.date_range(\"2024-4-25\",periods=6,freq=BDay())"
   ]
  },
  {
   "cell_type": "markdown",
   "id": "bea2b386",
   "metadata": {},
   "source": [
    "##Learn pandas_datareader"
   ]
  },
  {
   "cell_type": "code",
   "execution_count": 170,
   "id": "b6ffb716",
   "metadata": {},
   "outputs": [
    {
     "name": "stdout",
     "output_type": "stream",
     "text": [
      "Collecting pandas_datareader\n",
      "  Downloading pandas_datareader-0.10.0-py3-none-any.whl (109 kB)\n",
      "Requirement already satisfied: lxml in c:\\users\\a200160861\\anaconda3\\lib\\site-packages (from pandas_datareader) (4.8.0)\n",
      "Requirement already satisfied: requests>=2.19.0 in c:\\users\\a200160861\\anaconda3\\lib\\site-packages (from pandas_datareader) (2.27.1)\n",
      "Requirement already satisfied: pandas>=0.23 in c:\\users\\a200160861\\anaconda3\\lib\\site-packages (from pandas_datareader) (1.4.2)\n",
      "Requirement already satisfied: pytz>=2020.1 in c:\\users\\a200160861\\anaconda3\\lib\\site-packages (from pandas>=0.23->pandas_datareader) (2021.3)\n",
      "Requirement already satisfied: numpy>=1.18.5 in c:\\users\\a200160861\\anaconda3\\lib\\site-packages (from pandas>=0.23->pandas_datareader) (1.21.5)\n",
      "Requirement already satisfied: python-dateutil>=2.8.1 in c:\\users\\a200160861\\anaconda3\\lib\\site-packages (from pandas>=0.23->pandas_datareader) (2.8.2)\n",
      "Requirement already satisfied: six>=1.5 in c:\\users\\a200160861\\anaconda3\\lib\\site-packages (from python-dateutil>=2.8.1->pandas>=0.23->pandas_datareader) (1.16.0)\n",
      "Requirement already satisfied: charset-normalizer~=2.0.0 in c:\\users\\a200160861\\anaconda3\\lib\\site-packages (from requests>=2.19.0->pandas_datareader) (2.0.4)\n",
      "Requirement already satisfied: urllib3<1.27,>=1.21.1 in c:\\users\\a200160861\\anaconda3\\lib\\site-packages (from requests>=2.19.0->pandas_datareader) (1.26.9)\n",
      "Requirement already satisfied: certifi>=2017.4.17 in c:\\users\\a200160861\\anaconda3\\lib\\site-packages (from requests>=2.19.0->pandas_datareader) (2021.10.8)\n",
      "Requirement already satisfied: idna<4,>=2.5 in c:\\users\\a200160861\\anaconda3\\lib\\site-packages (from requests>=2.19.0->pandas_datareader) (3.3)\n",
      "Installing collected packages: pandas-datareader\n",
      "Successfully installed pandas-datareader-0.10.0\n"
     ]
    }
   ],
   "source": [
    "!pip install pandas_datareader"
   ]
  },
  {
   "cell_type": "code",
   "execution_count": 171,
   "id": "dda26a6e",
   "metadata": {},
   "outputs": [],
   "source": [
    "from pandas_datareader import data\n"
   ]
  },
  {
   "cell_type": "raw",
   "id": "b451b338",
   "metadata": {},
   "source": [
    "import pandas_datareader.data as web\n",
    "f = web.DataReader('gs', 'iex-tops')"
   ]
  },
  {
   "cell_type": "raw",
   "id": "467ba6e5",
   "metadata": {},
   "source": [
    "sp500 = data.DataReader('^GSPC', start='2018', end='2022',\n",
    "                        data_source='yahoo')\n",
    "sp500.head()"
   ]
  },
  {
   "cell_type": "code",
   "execution_count": null,
   "id": "bed3b66d",
   "metadata": {},
   "outputs": [],
   "source": []
  },
  {
   "cell_type": "code",
   "execution_count": 47,
   "id": "678a2ec0",
   "metadata": {},
   "outputs": [],
   "source": [
    "#REFERENCES:"
   ]
  },
  {
   "cell_type": "code",
   "execution_count": 49,
   "id": "2c80136b",
   "metadata": {},
   "outputs": [],
   "source": [
    "buf=\"\"\"Directive\n",
    "\n",
    "Meaning\n",
    "\n",
    "Example\n",
    "\n",
    "Notes\n",
    "\n",
    "%a\n",
    "\n",
    "Weekday as locale’s abbreviated name.\n",
    "\n",
    "Sun, Mon, …, Sat (en_US);\n",
    "So, Mo, …, Sa (de_DE)\n",
    "(1)\n",
    "\n",
    "%A\n",
    "\n",
    "Weekday as locale’s full name.\n",
    "\n",
    "Sunday, Monday, …, Saturday (en_US);\n",
    "Sonntag, Montag, …, Samstag (de_DE)\n",
    "(1)\n",
    "\n",
    "%w\n",
    "\n",
    "Weekday as a decimal number, where 0 is Sunday and 6 is Saturday.\n",
    "\n",
    "0, 1, …, 6\n",
    "\n",
    "%d\n",
    "\n",
    "Day of the month as a zero-padded decimal number.\n",
    "\n",
    "01, 02, …, 31\n",
    "\n",
    "(9)\n",
    "\n",
    "%b\n",
    "\n",
    "Month as locale’s abbreviated name.\n",
    "\n",
    "Jan, Feb, …, Dec (en_US);\n",
    "Jan, Feb, …, Dez (de_DE)\n",
    "(1)\n",
    "\n",
    "%B\n",
    "\n",
    "Month as locale’s full name.\n",
    "\n",
    "January, February, …, December (en_US);\n",
    "Januar, Februar, …, Dezember (de_DE)\n",
    "(1)\n",
    "\n",
    "%m\n",
    "\n",
    "Month as a zero-padded decimal number.\n",
    "\n",
    "01, 02, …, 12\n",
    "\n",
    "(9)\n",
    "\n",
    "%y\n",
    "\n",
    "Year without century as a zero-padded decimal number.\n",
    "\n",
    "00, 01, …, 99\n",
    "\n",
    "(9)\n",
    "\n",
    "%Y\n",
    "\n",
    "Year with century as a decimal number.\n",
    "\n",
    "0001, 0002, …, 2013, 2014, …, 9998, 9999\n",
    "\n",
    "(2)\n",
    "\n",
    "%H\n",
    "\n",
    "Hour (24-hour clock) as a zero-padded decimal number.\n",
    "\n",
    "00, 01, …, 23\n",
    "\n",
    "(9)\n",
    "\n",
    "%I\n",
    "\n",
    "Hour (12-hour clock) as a zero-padded decimal number.\n",
    "\n",
    "01, 02, …, 12\n",
    "\n",
    "(9)\n",
    "\n",
    "%p\n",
    "\n",
    "Locale’s equivalent of either AM or PM.\n",
    "\n",
    "AM, PM (en_US);\n",
    "am, pm (de_DE)\n",
    "(1), (3)\n",
    "\n",
    "%M\n",
    "\n",
    "Minute as a zero-padded decimal number.\n",
    "\n",
    "00, 01, …, 59\n",
    "\n",
    "(9)\n",
    "\n",
    "%S\n",
    "\n",
    "Second as a zero-padded decimal number.\n",
    "\n",
    "00, 01, …, 59\n",
    "\n",
    "(4), (9)\n",
    "\n",
    "%f\n",
    "\n",
    "Microsecond as a decimal number, zero-padded to 6 digits.\n",
    "\n",
    "000000, 000001, …, 999999\n",
    "\n",
    "(5)\n",
    "\n",
    "%z\n",
    "\n",
    "UTC offset in the form ±HHMM[SS[.ffffff]] (empty string if the object is naive).\n",
    "\n",
    "(empty), +0000, -0400, +1030, +063415, -030712.345216\n",
    "\n",
    "(6)\n",
    "\n",
    "%Z\n",
    "\n",
    "Time zone name (empty string if the object is naive).\n",
    "\n",
    "(empty), UTC, GMT\n",
    "\n",
    "(6)\n",
    "\n",
    "%j\n",
    "\n",
    "Day of the year as a zero-padded decimal number.\n",
    "\n",
    "001, 002, …, 366\n",
    "\n",
    "(9)\n",
    "\n",
    "%U\n",
    "\n",
    "Week number of the year (Sunday as the first day of the week) as a zero-padded decimal number. All days in a new year preceding the first Sunday are considered to be in week 0.\n",
    "\n",
    "00, 01, …, 53\n",
    "\n",
    "(7), (9)\n",
    "\n",
    "%W\n",
    "\n",
    "Week number of the year (Monday as the first day of the week) as a zero-padded decimal number. All days in a new year preceding the first Monday are considered to be in week 0.\n",
    "\n",
    "00, 01, …, 53\n",
    "\n",
    "(7), (9)\n",
    "\n",
    "%c\n",
    "\n",
    "Locale’s appropriate date and time representation.\n",
    "\n",
    "Tue Aug 16 21:30:00 1988 (en_US);\n",
    "Di 16 Aug 21:30:00 1988 (de_DE)\n",
    "(1)\n",
    "\n",
    "%x\n",
    "\n",
    "Locale’s appropriate date representation.\n",
    "\n",
    "08/16/88 (None);\n",
    "08/16/1988 (en_US);\n",
    "16.08.1988 (de_DE)\n",
    "(1)\n",
    "\n",
    "%X\n",
    "\n",
    "Locale’s appropriate time representation.\n",
    "\n",
    "21:30:00 (en_US);\n",
    "21:30:00 (de_DE)\n",
    "(1)\n",
    "\n",
    "%%\n",
    "\n",
    "A literal '%' character.\n",
    "\n",
    "%\n",
    "\n",
    "\"\"\""
   ]
  },
  {
   "cell_type": "code",
   "execution_count": 57,
   "id": "8bdbd9cb",
   "metadata": {},
   "outputs": [
    {
     "data": {
      "text/html": [
       "<div>\n",
       "<style scoped>\n",
       "    .dataframe tbody tr th:only-of-type {\n",
       "        vertical-align: middle;\n",
       "    }\n",
       "\n",
       "    .dataframe tbody tr th {\n",
       "        vertical-align: top;\n",
       "    }\n",
       "\n",
       "    .dataframe thead th {\n",
       "        text-align: right;\n",
       "    }\n",
       "</style>\n",
       "<table border=\"1\" class=\"dataframe\">\n",
       "  <thead>\n",
       "    <tr style=\"text-align: right;\">\n",
       "      <th></th>\n",
       "      <th>Directive</th>\n",
       "      <th>Meaning</th>\n",
       "      <th>Example</th>\n",
       "      <th>Notes</th>\n",
       "    </tr>\n",
       "  </thead>\n",
       "  <tbody>\n",
       "    <tr>\n",
       "      <th>0</th>\n",
       "      <td>%a</td>\n",
       "      <td>Weekday as locale’s abbreviated name.</td>\n",
       "      <td>Sun, Mon, …, Sat (en_US); So, Mo, …, Sa (de_DE)</td>\n",
       "      <td>(1)</td>\n",
       "    </tr>\n",
       "    <tr>\n",
       "      <th>1</th>\n",
       "      <td>%A</td>\n",
       "      <td>Weekday as locale’s full name.</td>\n",
       "      <td>Sunday, Monday, …, Saturday (en_US); Sonntag, ...</td>\n",
       "      <td>(1)</td>\n",
       "    </tr>\n",
       "    <tr>\n",
       "      <th>2</th>\n",
       "      <td>%w</td>\n",
       "      <td>Weekday as a decimal number, where 0 is Sunday...</td>\n",
       "      <td>0, 1, …, 6</td>\n",
       "      <td>NaN</td>\n",
       "    </tr>\n",
       "    <tr>\n",
       "      <th>3</th>\n",
       "      <td>%d</td>\n",
       "      <td>Day of the month as a zero-padded decimal number.</td>\n",
       "      <td>01, 02, …, 31</td>\n",
       "      <td>(9)</td>\n",
       "    </tr>\n",
       "    <tr>\n",
       "      <th>4</th>\n",
       "      <td>%b</td>\n",
       "      <td>Month as locale’s abbreviated name.</td>\n",
       "      <td>Jan, Feb, …, Dec (en_US); Jan, Feb, …, Dez (de...</td>\n",
       "      <td>(1)</td>\n",
       "    </tr>\n",
       "    <tr>\n",
       "      <th>5</th>\n",
       "      <td>%B</td>\n",
       "      <td>Month as locale’s full name.</td>\n",
       "      <td>January, February, …, December (en_US); Januar...</td>\n",
       "      <td>(1)</td>\n",
       "    </tr>\n",
       "    <tr>\n",
       "      <th>6</th>\n",
       "      <td>%m</td>\n",
       "      <td>Month as a zero-padded decimal number.</td>\n",
       "      <td>01, 02, …, 12</td>\n",
       "      <td>(9)</td>\n",
       "    </tr>\n",
       "    <tr>\n",
       "      <th>7</th>\n",
       "      <td>%y</td>\n",
       "      <td>Year without century as a zero-padded decimal ...</td>\n",
       "      <td>00, 01, …, 99</td>\n",
       "      <td>(9)</td>\n",
       "    </tr>\n",
       "    <tr>\n",
       "      <th>8</th>\n",
       "      <td>%Y</td>\n",
       "      <td>Year with century as a decimal number.</td>\n",
       "      <td>0001, 0002, …, 2013, 2014, …, 9998, 9999</td>\n",
       "      <td>(2)</td>\n",
       "    </tr>\n",
       "    <tr>\n",
       "      <th>9</th>\n",
       "      <td>%H</td>\n",
       "      <td>Hour (24-hour clock) as a zero-padded decimal ...</td>\n",
       "      <td>00, 01, …, 23</td>\n",
       "      <td>(9)</td>\n",
       "    </tr>\n",
       "    <tr>\n",
       "      <th>10</th>\n",
       "      <td>%I</td>\n",
       "      <td>Hour (12-hour clock) as a zero-padded decimal ...</td>\n",
       "      <td>01, 02, …, 12</td>\n",
       "      <td>(9)</td>\n",
       "    </tr>\n",
       "    <tr>\n",
       "      <th>11</th>\n",
       "      <td>%p</td>\n",
       "      <td>Locale’s equivalent of either AM or PM.</td>\n",
       "      <td>AM, PM (en_US); am, pm (de_DE)</td>\n",
       "      <td>(1), (3)</td>\n",
       "    </tr>\n",
       "    <tr>\n",
       "      <th>12</th>\n",
       "      <td>%M</td>\n",
       "      <td>Minute as a zero-padded decimal number.</td>\n",
       "      <td>00, 01, …, 59</td>\n",
       "      <td>(9)</td>\n",
       "    </tr>\n",
       "    <tr>\n",
       "      <th>13</th>\n",
       "      <td>%S</td>\n",
       "      <td>Second as a zero-padded decimal number.</td>\n",
       "      <td>00, 01, …, 59</td>\n",
       "      <td>(4), (9)</td>\n",
       "    </tr>\n",
       "    <tr>\n",
       "      <th>14</th>\n",
       "      <td>%f</td>\n",
       "      <td>Microsecond as a decimal number, zero-padded t...</td>\n",
       "      <td>000000, 000001, …, 999999</td>\n",
       "      <td>(5)</td>\n",
       "    </tr>\n",
       "    <tr>\n",
       "      <th>15</th>\n",
       "      <td>%z</td>\n",
       "      <td>UTC offset in the form ±HHMM[SS[.ffffff]] (emp...</td>\n",
       "      <td>(empty), +0000, -0400, +1030, +063415, -030712...</td>\n",
       "      <td>(6)</td>\n",
       "    </tr>\n",
       "    <tr>\n",
       "      <th>16</th>\n",
       "      <td>%Z</td>\n",
       "      <td>Time zone name (empty string if the object is ...</td>\n",
       "      <td>(empty), UTC, GMT</td>\n",
       "      <td>(6)</td>\n",
       "    </tr>\n",
       "    <tr>\n",
       "      <th>17</th>\n",
       "      <td>%j</td>\n",
       "      <td>Day of the year as a zero-padded decimal number.</td>\n",
       "      <td>001, 002, …, 366</td>\n",
       "      <td>(9)</td>\n",
       "    </tr>\n",
       "    <tr>\n",
       "      <th>18</th>\n",
       "      <td>%U</td>\n",
       "      <td>Week number of the year (Sunday as the first d...</td>\n",
       "      <td>00, 01, …, 53</td>\n",
       "      <td>(7), (9)</td>\n",
       "    </tr>\n",
       "    <tr>\n",
       "      <th>19</th>\n",
       "      <td>%W</td>\n",
       "      <td>Week number of the year (Monday as the first d...</td>\n",
       "      <td>00, 01, …, 53</td>\n",
       "      <td>(7), (9)</td>\n",
       "    </tr>\n",
       "    <tr>\n",
       "      <th>20</th>\n",
       "      <td>%c</td>\n",
       "      <td>Locale’s appropriate date and time representat...</td>\n",
       "      <td>Tue Aug 16 21:30:00 1988 (en_US); Di 16 Aug 21...</td>\n",
       "      <td>(1)</td>\n",
       "    </tr>\n",
       "    <tr>\n",
       "      <th>21</th>\n",
       "      <td>%x</td>\n",
       "      <td>Locale’s appropriate date representation.</td>\n",
       "      <td>08/16/88 (None); 08/16/1988 (en_US); 16.08.198...</td>\n",
       "      <td>(1)</td>\n",
       "    </tr>\n",
       "    <tr>\n",
       "      <th>22</th>\n",
       "      <td>%X</td>\n",
       "      <td>Locale’s appropriate time representation.</td>\n",
       "      <td>21:30:00 (en_US); 21:30:00 (de_DE)</td>\n",
       "      <td>(1)</td>\n",
       "    </tr>\n",
       "    <tr>\n",
       "      <th>23</th>\n",
       "      <td>%%</td>\n",
       "      <td>A literal '%' character.</td>\n",
       "      <td>%</td>\n",
       "      <td>NaN</td>\n",
       "    </tr>\n",
       "  </tbody>\n",
       "</table>\n",
       "</div>"
      ],
      "text/plain": [
       "   Directive                                            Meaning  \\\n",
       "0         %a              Weekday as locale’s abbreviated name.   \n",
       "1         %A                     Weekday as locale’s full name.   \n",
       "2         %w  Weekday as a decimal number, where 0 is Sunday...   \n",
       "3         %d  Day of the month as a zero-padded decimal number.   \n",
       "4         %b                Month as locale’s abbreviated name.   \n",
       "5         %B                       Month as locale’s full name.   \n",
       "6         %m             Month as a zero-padded decimal number.   \n",
       "7         %y  Year without century as a zero-padded decimal ...   \n",
       "8         %Y             Year with century as a decimal number.   \n",
       "9         %H  Hour (24-hour clock) as a zero-padded decimal ...   \n",
       "10        %I  Hour (12-hour clock) as a zero-padded decimal ...   \n",
       "11        %p            Locale’s equivalent of either AM or PM.   \n",
       "12        %M            Minute as a zero-padded decimal number.   \n",
       "13        %S            Second as a zero-padded decimal number.   \n",
       "14        %f  Microsecond as a decimal number, zero-padded t...   \n",
       "15        %z  UTC offset in the form ±HHMM[SS[.ffffff]] (emp...   \n",
       "16        %Z  Time zone name (empty string if the object is ...   \n",
       "17        %j   Day of the year as a zero-padded decimal number.   \n",
       "18        %U  Week number of the year (Sunday as the first d...   \n",
       "19        %W  Week number of the year (Monday as the first d...   \n",
       "20        %c  Locale’s appropriate date and time representat...   \n",
       "21        %x          Locale’s appropriate date representation.   \n",
       "22        %X          Locale’s appropriate time representation.   \n",
       "23        %%                           A literal '%' character.   \n",
       "\n",
       "                                              Example     Notes  \n",
       "0     Sun, Mon, …, Sat (en_US); So, Mo, …, Sa (de_DE)       (1)  \n",
       "1   Sunday, Monday, …, Saturday (en_US); Sonntag, ...       (1)  \n",
       "2                                          0, 1, …, 6       NaN  \n",
       "3                                       01, 02, …, 31       (9)  \n",
       "4   Jan, Feb, …, Dec (en_US); Jan, Feb, …, Dez (de...       (1)  \n",
       "5   January, February, …, December (en_US); Januar...       (1)  \n",
       "6                                       01, 02, …, 12       (9)  \n",
       "7                                       00, 01, …, 99       (9)  \n",
       "8            0001, 0002, …, 2013, 2014, …, 9998, 9999       (2)  \n",
       "9                                       00, 01, …, 23       (9)  \n",
       "10                                      01, 02, …, 12       (9)  \n",
       "11                     AM, PM (en_US); am, pm (de_DE)  (1), (3)  \n",
       "12                                      00, 01, …, 59       (9)  \n",
       "13                                      00, 01, …, 59  (4), (9)  \n",
       "14                          000000, 000001, …, 999999       (5)  \n",
       "15  (empty), +0000, -0400, +1030, +063415, -030712...       (6)  \n",
       "16                                  (empty), UTC, GMT       (6)  \n",
       "17                                   001, 002, …, 366       (9)  \n",
       "18                                      00, 01, …, 53  (7), (9)  \n",
       "19                                      00, 01, …, 53  (7), (9)  \n",
       "20  Tue Aug 16 21:30:00 1988 (en_US); Di 16 Aug 21...       (1)  \n",
       "21  08/16/88 (None); 08/16/1988 (en_US); 16.08.198...       (1)  \n",
       "22                 21:30:00 (en_US); 21:30:00 (de_DE)       (1)  \n",
       "23                                                  %       NaN  "
      ]
     },
     "execution_count": 57,
     "metadata": {},
     "output_type": "execute_result"
    }
   ],
   "source": [
    "import pandas as pd\n",
    "data1 = pd.read_html(dt, skiprows=0, header=0)[0]\n",
    "data1"
   ]
  },
  {
   "cell_type": "code",
   "execution_count": null,
   "id": "32a7249e",
   "metadata": {},
   "outputs": [],
   "source": []
  }
 ],
 "metadata": {
  "kernelspec": {
   "display_name": "Python 3 (ipykernel)",
   "language": "python",
   "name": "python3"
  },
  "language_info": {
   "codemirror_mode": {
    "name": "ipython",
    "version": 3
   },
   "file_extension": ".py",
   "mimetype": "text/x-python",
   "name": "python",
   "nbconvert_exporter": "python",
   "pygments_lexer": "ipython3",
   "version": "3.9.12"
  }
 },
 "nbformat": 4,
 "nbformat_minor": 5
}
