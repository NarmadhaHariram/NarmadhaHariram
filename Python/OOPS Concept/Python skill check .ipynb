{
 "cells": [
  {
   "cell_type": "code",
   "execution_count": 1,
   "id": "d2cde7c9",
   "metadata": {},
   "outputs": [
    {
     "name": "stdout",
     "output_type": "stream",
     "text": [
      "Hello, World!\n"
     ]
    }
   ],
   "source": [
    "#Intro\n",
    "print(\"Hello, World!\")"
   ]
  },
  {
   "cell_type": "code",
   "execution_count": 9,
   "id": "e688c17f",
   "metadata": {},
   "outputs": [
    {
     "name": "stdout",
     "output_type": "stream",
     "text": [
      "Enter numbers23\n"
     ]
    }
   ],
   "source": [
    "x,y =input(\"Enter numbers\")"
   ]
  },
  {
   "cell_type": "code",
   "execution_count": 10,
   "id": "97540b34",
   "metadata": {},
   "outputs": [
    {
     "data": {
      "text/plain": [
       "5"
      ]
     },
     "execution_count": 10,
     "metadata": {},
     "output_type": "execute_result"
    }
   ],
   "source": [
    "sum = int(x)+int(y)\n",
    "sum"
   ]
  },
  {
   "cell_type": "code",
   "execution_count": 12,
   "id": "93bf0fea",
   "metadata": {},
   "outputs": [
    {
     "name": "stdout",
     "output_type": "stream",
     "text": [
      "73.4\n"
     ]
    }
   ],
   "source": [
    "# Celsius to Fahrenheit\n",
    "Celsius = 23\n",
    "Farhen = (9/5 * Celsius) + 32\n",
    "print(Farhen)"
   ]
  },
  {
   "cell_type": "code",
   "execution_count": 15,
   "id": "7d1e6a02",
   "metadata": {},
   "outputs": [
    {
     "data": {
      "text/plain": [
       "20"
      ]
     },
     "execution_count": 15,
     "metadata": {},
     "output_type": "execute_result"
    }
   ],
   "source": [
    "#calculate the area of a rectangle given its length and widt\n",
    "Len=wid = 5\n",
    "\n",
    "rec_area = 2*(Len+wid)\n",
    "rec_area"
   ]
  },
  {
   "cell_type": "code",
   "execution_count": 16,
   "id": "6f5bc412",
   "metadata": {},
   "outputs": [
    {
     "name": "stdout",
     "output_type": "stream",
     "text": [
      "Enter nameNarmi\n",
      "Your age26\n",
      "Hi Narmi! your age is 26. Welcome\n"
     ]
    }
   ],
   "source": [
    "# username, age\n",
    "username=input(\"Enter name\")\n",
    "age=input(\"Your age\")\n",
    "print(f\"Hi {username}! your age is {age}. Welcome\")"
   ]
  },
  {
   "cell_type": "code",
   "execution_count": 19,
   "id": "57ddb58e",
   "metadata": {},
   "outputs": [
    {
     "name": "stdout",
     "output_type": "stream",
     "text": [
      "32\n"
     ]
    },
    {
     "data": {
      "text/plain": [
       "'Even'"
      ]
     },
     "execution_count": 19,
     "metadata": {},
     "output_type": "execute_result"
    }
   ],
   "source": [
    "#check if a number is even or odd\n",
    "\n",
    "no = int(input())\n",
    "\"Even\" if no % 2 == 0 else \"odd\""
   ]
  },
  {
   "cell_type": "code",
   "execution_count": 20,
   "id": "633f6c8f",
   "metadata": {},
   "outputs": [
    {
     "name": "stdout",
     "output_type": "stream",
     "text": [
      "Enter array or list1,2,3,4,7,8\n",
      "8 1\n"
     ]
    }
   ],
   "source": [
    "#Given a list of numbers, find the maximum and minimumvalues \n",
    "\n",
    "arr = input(\"Enter array or list\")\n",
    "lst =arr.split(',')\n",
    "print(max(lst),min(lst))"
   ]
  },
  {
   "cell_type": "code",
   "execution_count": 22,
   "id": "b6a3460b",
   "metadata": {},
   "outputs": [
    {
     "name": "stdout",
     "output_type": "stream",
     "text": [
      "sas\n"
     ]
    },
    {
     "data": {
      "text/plain": [
       "'yes,palindrome'"
      ]
     },
     "execution_count": 22,
     "metadata": {},
     "output_type": "execute_result"
    }
   ],
   "source": [
    "#Create a Python function to check if a given string is a\n",
    "#palindrome \n",
    "\n",
    "def check_palindrome(txt:str):\n",
    "    res =  \"yes,palindrome\" if str == str[::-1] else \"No not a palindrome\"\n",
    "    return res\n",
    "str = input()    \n",
    "check_palindrome(str)"
   ]
  },
  {
   "cell_type": "code",
   "execution_count": 23,
   "id": "1ca95a0a",
   "metadata": {},
   "outputs": [
    {
     "name": "stdout",
     "output_type": "stream",
     "text": [
      "CI 7.31231688012595e+18\n"
     ]
    }
   ],
   "source": [
    "# compound interest for a given principal\n",
    "# amount, interest rate, and time period \n",
    "principal = 2000\n",
    "rate = 500\n",
    "time = 20\n",
    "A = principal * (pow((1 + rate / 100), time)) \n",
    "CI= A - principal\n",
    "print(\"CI\",CI)"
   ]
  },
  {
   "cell_type": "code",
   "execution_count": 24,
   "id": "117aa9e7",
   "metadata": {},
   "outputs": [
    {
     "name": "stdout",
     "output_type": "stream",
     "text": [
      "Days 500 year 1.36986301369863 weeks 19.285714285714285\n"
     ]
    }
   ],
   "source": [
    "# converts a given number of days\n",
    "# into years, weeks, and days \n",
    "\n",
    "days = 500\n",
    "year = days/365\n",
    "weeks = (days % 365)/ 7\n",
    "print(f\"Days {days} year {year} weeks {weeks}\")\n"
   ]
  },
  {
   "cell_type": "code",
   "execution_count": 28,
   "id": "f77e7741",
   "metadata": {},
   "outputs": [
    {
     "name": "stdout",
     "output_type": "stream",
     "text": [
      "sum 34\n"
     ]
    }
   ],
   "source": [
    "# Given a list of integers, find the sum of all positive\n",
    "# numbers \n",
    "l = [1,3,5,7,-2, 5, 8,5]\n",
    "res = 0\n",
    "for num in l:\n",
    "    if num > 0:\n",
    "        res = res+ num\n",
    "print(\"sum\", res)"
   ]
  },
  {
   "cell_type": "code",
   "execution_count": 30,
   "id": "8b346728",
   "metadata": {},
   "outputs": [
    {
     "name": "stdout",
     "output_type": "stream",
     "text": [
      "the sentence is to check count\n",
      "count 6\n"
     ]
    }
   ],
   "source": [
    "# Create a program that takes a sentence as input and\n",
    "# counts the number of words in it \n",
    "sen = input()\n",
    "words =sen.split(\" \")\n",
    "print(\"count\",len(words))"
   ]
  },
  {
   "cell_type": "code",
   "execution_count": 31,
   "id": "7b4035a4",
   "metadata": {},
   "outputs": [
    {
     "name": "stdout",
     "output_type": "stream",
     "text": [
      "x :6 y: 5\n"
     ]
    }
   ],
   "source": [
    "# Implement a program that swaps the values of two\n",
    "# variables.\n",
    "\n",
    "x, y = 5, 6\n",
    "y ,x = x, y\n",
    "print(f\"x :{x} y: {y}\")"
   ]
  },
  {
   "cell_type": "code",
   "execution_count": 32,
   "id": "09dbe4ac",
   "metadata": {},
   "outputs": [],
   "source": [
    "# Create variables for storing a person's name, age, and\n",
    "# average test score.\n",
    "name = \"testuser\"\n",
    "age = 26\n",
    "ave_test_score = 75"
   ]
  },
  {
   "cell_type": "code",
   "execution_count": 33,
   "id": "50cbef7c",
   "metadata": {},
   "outputs": [
    {
     "data": {
      "text/plain": [
       "'HelloWorld'"
      ]
     },
     "execution_count": 33,
     "metadata": {},
     "output_type": "execute_result"
    }
   ],
   "source": [
    "# Concatenate two strings and print the result\n",
    "\n",
    "str1 = \"Hello\"\n",
    "str2 =\"World\"\n",
    "str1+str2"
   ]
  },
  {
   "cell_type": "code",
   "execution_count": 34,
   "id": "aec8c27c",
   "metadata": {},
   "outputs": [
    {
     "data": {
      "text/plain": [
       "['apple', 'orange', 'banana']"
      ]
     },
     "execution_count": 34,
     "metadata": {},
     "output_type": "execute_result"
    }
   ],
   "source": [
    "# Create a list of fruits and access elements using\n",
    "# indexing.\n",
    "lst_fruit = [\"apple\",'orange','banana','pinapple','mango']\n",
    "lst_fruit[:3]"
   ]
  },
  {
   "cell_type": "code",
   "execution_count": 35,
   "id": "a79bc26b",
   "metadata": {},
   "outputs": [
    {
     "data": {
      "text/plain": [
       "['mango', 'pinapple', 'banana', 'orange', 'apple']"
      ]
     },
     "execution_count": 35,
     "metadata": {},
     "output_type": "execute_result"
    }
   ],
   "source": [
    "lst_fruit[::-1]"
   ]
  },
  {
   "cell_type": "code",
   "execution_count": 37,
   "id": "25e9bc69",
   "metadata": {},
   "outputs": [
    {
     "data": {
      "text/plain": [
       "['apple', 'pinapple']"
      ]
     },
     "execution_count": 37,
     "metadata": {},
     "output_type": "execute_result"
    }
   ],
   "source": [
    "lst_fruit[::3]"
   ]
  },
  {
   "cell_type": "code",
   "execution_count": 40,
   "id": "583c3475",
   "metadata": {},
   "outputs": [
    {
     "name": "stdout",
     "output_type": "stream",
     "text": [
      "sum 29\n",
      "ave 5.8\n"
     ]
    }
   ],
   "source": [
    "# Given a list of numbers, find the sum and average)\n",
    "\n",
    "lst = [2, 5, 6, 7, 9]\n",
    "sum = 0\n",
    "for ele in lst:\n",
    "    sum = sum+ele\n",
    "print(\"sum\", sum)\n",
    "print(\"ave\", sum/ len(lst))"
   ]
  },
  {
   "cell_type": "code",
   "execution_count": 41,
   "id": "092a0cbb",
   "metadata": {},
   "outputs": [
    {
     "data": {
      "text/plain": [
       "330.15"
      ]
     },
     "execution_count": 41,
     "metadata": {},
     "output_type": "execute_result"
    }
   ],
   "source": [
    "# Create a program that takes a temperature in Celsius and\n",
    "# converts it to Kelvin)\n",
    "\n",
    "def cel_to_kelvin(cels:int):\n",
    "    kel =cels + 273.15\n",
    "    return kel\n",
    "cel_to_kelvin(57)"
   ]
  },
  {
   "cell_type": "code",
   "execution_count": 45,
   "id": "2f3dcf22",
   "metadata": {},
   "outputs": [
    {
     "data": {
      "text/plain": [
       "'yes'"
      ]
     },
     "execution_count": 45,
     "metadata": {},
     "output_type": "execute_result"
    }
   ],
   "source": [
    "# Implement a program that checks if a given string is a\n",
    "# palindrome)\n",
    "\n",
    "str = \"malayalam\"\n",
    "'yes' if ''.join(reversed(str)) == str else 'no'"
   ]
  },
  {
   "cell_type": "code",
   "execution_count": 46,
   "id": "1f39926a",
   "metadata": {},
   "outputs": [
    {
     "data": {
      "text/plain": [
       "'sam ram sun nam rom'"
      ]
     },
     "execution_count": 46,
     "metadata": {},
     "output_type": "execute_result"
    }
   ],
   "source": [
    "# Given a list of names, concatenate them into a single\n",
    "# string separated by spaces)\n",
    "\n",
    "lst_name = ['sam', 'ram', 'sun', 'nam', 'rom']\n",
    "\n",
    "' '.join(lst_name)"
   ]
  },
  {
   "cell_type": "code",
   "execution_count": 52,
   "id": "663e0ce2",
   "metadata": {},
   "outputs": [
    {
     "data": {
      "text/plain": [
       "True"
      ]
     },
     "execution_count": 52,
     "metadata": {},
     "output_type": "execute_result"
    }
   ],
   "source": [
    "# Write a Python program to check if a given string is a\n",
    "# pangram (contains all letters of the alphabet))\n",
    "str = \"The quick brown fox jumps over the lazy dog\"\n",
    "import string\n",
    "alpha = set(string.ascii_lowercase)\n",
    "def is_pangram(strr : str):\n",
    "    return True if set(str.lower()) >= alpha else False\n",
    "\n",
    "is_pangram(str)"
   ]
  },
  {
   "cell_type": "code",
   "execution_count": 53,
   "id": "28de1a66",
   "metadata": {},
   "outputs": [
    {
     "data": {
      "text/plain": [
       "True"
      ]
     },
     "execution_count": 53,
     "metadata": {},
     "output_type": "execute_result"
    }
   ],
   "source": [
    "new_s = \"abcdefhijj\"\n",
    "is_pangram(new_s)"
   ]
  },
  {
   "cell_type": "code",
   "execution_count": 54,
   "id": "a0386caf",
   "metadata": {},
   "outputs": [
    {
     "data": {
      "text/plain": [
       "True"
      ]
     },
     "execution_count": 54,
     "metadata": {},
     "output_type": "execute_result"
    }
   ],
   "source": [
    "new_s1 = \"an 12345 is not\"\n",
    "is_pangram(new_s1)"
   ]
  },
  {
   "cell_type": "code",
   "execution_count": 55,
   "id": "098fcdbe",
   "metadata": {},
   "outputs": [
    {
     "name": "stdout",
     "output_type": "stream",
     "text": [
      "Yes\n"
     ]
    }
   ],
   "source": [
    "import re\n",
    " \n",
    "def ispangram(string):\n",
    "    # Remove all non-alphabetic characters from the string and convert to lowercase\n",
    "    string = re.sub('[^a-z]', '', string.lower())\n",
    "    # Use set to remove duplicates and count the number of unique letters\n",
    "    unique_letters = len(set(string))\n",
    "    # If the number of unique letters is 26, it is a pangram\n",
    "    return unique_letters == 26\n",
    " \n",
    "# Driver code\n",
    "string = \"The quick brown fox jumps over the lazy dog\"\n",
    "if ispangram(string):\n",
    "    print(\"Yes\")\n",
    "else:\n",
    "    print(\"No\")"
   ]
  },
  {
   "cell_type": "code",
   "execution_count": 71,
   "id": "bc3cef33",
   "metadata": {},
   "outputs": [
    {
     "name": "stdout",
     "output_type": "stream",
     "text": [
      "8\n"
     ]
    }
   ],
   "source": [
    "# Create a function to count the number of vowels in a\n",
    "# given string\n",
    "str = \"gooddayisalwaysokay\"\n",
    "vow = set(\"aeiou\")\n",
    "# count =sum(str.count(v) for v in vow)\n",
    "# count\n",
    "v_count = 0\n",
    "for i in str:\n",
    "    if i in vow:\n",
    "        v_count = v_count+ 1\n",
    "print(v_count)\n"
   ]
  },
  {
   "cell_type": "code",
   "execution_count": 70,
   "id": "56e4393e",
   "metadata": {},
   "outputs": [],
   "source": [
    "# string = \"GeekforGeeks!\"\n",
    "# vowels = \"aeiouAEIOU\"\n",
    " \n",
    "# count = sum(string.count(vowel) for vowel in vowels)\n",
    "# print(count)"
   ]
  },
  {
   "cell_type": "code",
   "execution_count": 72,
   "id": "0009db85",
   "metadata": {},
   "outputs": [
    {
     "name": "stdout",
     "output_type": "stream",
     "text": [
      "positive\n"
     ]
    }
   ],
   "source": [
    "# Write a program that checks if a given number is\n",
    "# positive, negative, or zero.\n",
    "\n",
    "no = 4\n",
    "if no==0:\n",
    "    print(\"zero\")\n",
    "if no >0:\n",
    "    print(\"positive\")\n",
    "else:\n",
    "    print(\"negative\")"
   ]
  },
  {
   "cell_type": "code",
   "execution_count": 78,
   "id": "8cb0fafb",
   "metadata": {},
   "outputs": [
    {
     "data": {
      "text/plain": [
       "[2, 4, 6, 8, 10, 12, 14, 16, 18, 20]"
      ]
     },
     "execution_count": 78,
     "metadata": {},
     "output_type": "execute_result"
    }
   ],
   "source": [
    "# llop prints the first 10 even numbers.\n",
    "limit = 10\n",
    "even_lst =[]\n",
    "def get_even(limit):\n",
    "    for i in range(1,limit+1):\n",
    "        even_lst.append(int(i)*2)\n",
    "    return even_lst\n",
    "get_even(limit)"
   ]
  },
  {
   "cell_type": "code",
   "execution_count": 79,
   "id": "eb779a81",
   "metadata": {},
   "outputs": [],
   "source": [
    "# Given a list of words, count the number of words with\n",
    "# more than five characters+\n",
    "\n",
    "l_words = [\"heelo\",'jack','count','number',\n",
    "          'characters','adfyusf']"
   ]
  },
  {
   "cell_type": "code",
   "execution_count": 80,
   "id": "cc7da374",
   "metadata": {},
   "outputs": [
    {
     "name": "stdout",
     "output_type": "stream",
     "text": [
      "3\n"
     ]
    }
   ],
   "source": [
    "count = 0\n",
    "for words in l_words:\n",
    "    if len(words) > 5:\n",
    "        count = count+1\n",
    "print(count)"
   ]
  },
  {
   "cell_type": "markdown",
   "id": "a5be378c",
   "metadata": {},
   "source": [
    "### String"
   ]
  },
  {
   "cell_type": "code",
   "execution_count": 81,
   "id": "975e5295",
   "metadata": {},
   "outputs": [
    {
     "data": {
      "text/plain": [
       "'sam ram sun nam rom'"
      ]
     },
     "execution_count": 81,
     "metadata": {},
     "output_type": "execute_result"
    }
   ],
   "source": [
    "# Given a list of words, concatenate them into a single\n",
    "# string separated by spaces\n",
    "lst_name = ['sam', 'ram', 'sun', 'nam', 'rom']\n",
    "\n",
    "' '.join(lst_name)"
   ]
  },
  {
   "cell_type": "code",
   "execution_count": 82,
   "id": "9df92182",
   "metadata": {},
   "outputs": [],
   "source": [
    "# reverse a given string'\n"
   ]
  },
  {
   "cell_type": "code",
   "execution_count": 88,
   "id": "67a07fe5",
   "metadata": {},
   "outputs": [
    {
     "name": "stdout",
     "output_type": "stream",
     "text": [
      "ths wll rmv vwls nd rtrn\n"
     ]
    }
   ],
   "source": [
    "# Given a string, write a function to remove all vowels from\n",
    "# it and return the modified string'\n",
    "\n",
    "strr = \"this will remove vowels and return\"\n",
    "vow = list(\"aeiou\")\n",
    "res = []\n",
    "for ele in str:\n",
    "    if ele not in vow:\n",
    "        res.append(ele)\n",
    "res = \"\".join(res)\n",
    "print(res)"
   ]
  },
  {
   "cell_type": "code",
   "execution_count": 101,
   "id": "27ac7930",
   "metadata": {},
   "outputs": [
    {
     "name": "stdout",
     "output_type": "stream",
     "text": [
      "thise\n"
     ]
    }
   ],
   "source": [
    "# Write a Python program to find the length of the longest\n",
    "# word in a sentence'\n",
    "\n",
    "sen = \"thise will a \"\n",
    "# maxx= []\n",
    "maxx=sen.split()\n",
    "    \n",
    "print(max(maxx,key=len))\n",
    "    "
   ]
  },
  {
   "cell_type": "code",
   "execution_count": 106,
   "id": "0d365844",
   "metadata": {},
   "outputs": [],
   "source": [
    "test_list = [\"all\", \"love\", \"and\", \"get\", \"educated\", \"by\", \"gfg\"]\n",
    " \n",
    "res = []\n",
    "vow = \"aeiou\"\n",
    "for sub in test_list:\n",
    "     \n",
    "    # check for vowel beginning\n",
    "    flag = any(sub.startswith(ele) for ele in vow)\n",
    "     \n",
    "    if flag:\n",
    "        res.append(sub)"
   ]
  },
  {
   "cell_type": "code",
   "execution_count": 107,
   "id": "228809c8",
   "metadata": {},
   "outputs": [
    {
     "data": {
      "text/plain": [
       "['all', 'and', 'educated']"
      ]
     },
     "execution_count": 107,
     "metadata": {},
     "output_type": "execute_result"
    }
   ],
   "source": [
    "res"
   ]
  },
  {
   "cell_type": "code",
   "execution_count": 108,
   "id": "bdc88141",
   "metadata": {},
   "outputs": [
    {
     "name": "stdout",
     "output_type": "stream",
     "text": [
      "geksfor\n"
     ]
    }
   ],
   "source": [
    "# remove all duplicate characters\n",
    "string=\"geeksforgeeks\"\n",
    "p=\"\"\n",
    "for char in string:\n",
    "    if char not in p:\n",
    "        p=p+char\n",
    "print(p)\n",
    "k=list(\"geeksforgeeks\")"
   ]
  },
  {
   "cell_type": "code",
   "execution_count": 113,
   "id": "2bd3d607",
   "metadata": {},
   "outputs": [
    {
     "name": "stdout",
     "output_type": "stream",
     "text": [
      "no\n"
     ]
    }
   ],
   "source": [
    "# mplement a program that takes a sentence and a word as\n",
    "# input and checks if the word is present in the sentence.\n",
    "string=\"geeks for\"\n",
    "word = \"eee\"\n",
    "\n",
    "if word in string:\n",
    "    print(\"yes\")\n",
    "else:\n",
    "    print(\"no\")"
   ]
  },
  {
   "cell_type": "code",
   "execution_count": 116,
   "id": "8ebf43d1",
   "metadata": {},
   "outputs": [
    {
     "data": {
      "text/plain": [
       "[1, 2, 3, 4, 5, 6, 8]"
      ]
     },
     "execution_count": 116,
     "metadata": {},
     "output_type": "execute_result"
    }
   ],
   "source": [
    "lst = [1,2, 3,4,5]\n",
    "lst2= [2,4,6,8]\n",
    "list(set(lst+lst2))"
   ]
  },
  {
   "cell_type": "code",
   "execution_count": 117,
   "id": "3932bff5",
   "metadata": {},
   "outputs": [
    {
     "data": {
      "text/plain": [
       "[1, 2, 3, 4, 5, 6, 8]"
      ]
     },
     "execution_count": 117,
     "metadata": {},
     "output_type": "execute_result"
    }
   ],
   "source": [
    "list(set(lst) | set(lst2))"
   ]
  },
  {
   "cell_type": "code",
   "execution_count": 118,
   "id": "746db63a",
   "metadata": {},
   "outputs": [
    {
     "data": {
      "text/plain": [
       "[1, 2, 2, 3, 4, 4, 5, 6, 8]"
      ]
     },
     "execution_count": 118,
     "metadata": {},
     "output_type": "execute_result"
    }
   ],
   "source": [
    "sorted(lst + lst2)"
   ]
  },
  {
   "cell_type": "code",
   "execution_count": null,
   "id": "4591939c",
   "metadata": {},
   "outputs": [],
   "source": []
  },
  {
   "cell_type": "code",
   "execution_count": 119,
   "id": "0b59e3df",
   "metadata": {},
   "outputs": [
    {
     "data": {
      "text/plain": [
       "False"
      ]
     },
     "execution_count": 119,
     "metadata": {},
     "output_type": "execute_result"
    }
   ],
   "source": [
    "test_list = [2,9,5, 1, 4] #Sort asc check\n",
    "test_list == sorted(test_list)"
   ]
  },
  {
   "cell_type": "code",
   "execution_count": 120,
   "id": "c8144f21",
   "metadata": {},
   "outputs": [
    {
     "data": {
      "text/plain": [
       "[1, 2, 4, 5, 9]"
      ]
     },
     "execution_count": 120,
     "metadata": {},
     "output_type": "execute_result"
    }
   ],
   "source": [
    "sorted(test_list)"
   ]
  },
  {
   "cell_type": "code",
   "execution_count": 124,
   "id": "69716209",
   "metadata": {},
   "outputs": [],
   "source": [
    "test_list.sort() # inplace list sort\n"
   ]
  },
  {
   "cell_type": "code",
   "execution_count": 125,
   "id": "01c879d3",
   "metadata": {},
   "outputs": [
    {
     "data": {
      "text/plain": [
       "[1, 2, 4, 5, 9]"
      ]
     },
     "execution_count": 125,
     "metadata": {},
     "output_type": "execute_result"
    }
   ],
   "source": [
    "test_list"
   ]
  },
  {
   "cell_type": "code",
   "execution_count": 127,
   "id": "4a100f25",
   "metadata": {},
   "outputs": [],
   "source": [
    "from collections import Counter\n",
    " \n",
    "# initializing list\n",
    "arr = [1, 5, 3, 6, 3, 5, 6, 1]\n",
    "\n",
    " \n",
    "# using Counter() + keys() to remove duplicated from list\n",
    "temp = Counter(arr)\n",
    "res = [*temp]"
   ]
  },
  {
   "cell_type": "code",
   "execution_count": 128,
   "id": "85995058",
   "metadata": {},
   "outputs": [
    {
     "data": {
      "text/plain": [
       "[1, 5, 3, 6]"
      ]
     },
     "execution_count": 128,
     "metadata": {},
     "output_type": "execute_result"
    }
   ],
   "source": [
    "res"
   ]
  },
  {
   "cell_type": "code",
   "execution_count": 132,
   "id": "4bf245e5",
   "metadata": {},
   "outputs": [
    {
     "data": {
      "text/plain": [
       "dict_items([(1, 2), (5, 2), (3, 2), (6, 2)])"
      ]
     },
     "execution_count": 132,
     "metadata": {},
     "output_type": "execute_result"
    }
   ],
   "source": [
    "temp.keys()\n",
    "\n",
    "temp.items()\n"
   ]
  },
  {
   "cell_type": "code",
   "execution_count": 133,
   "id": "20fe48c7",
   "metadata": {},
   "outputs": [
    {
     "data": {
      "text/plain": [
       "dict_values([2, 2, 2, 2])"
      ]
     },
     "execution_count": 133,
     "metadata": {},
     "output_type": "execute_result"
    }
   ],
   "source": [
    "temp.values()"
   ]
  },
  {
   "cell_type": "code",
   "execution_count": 134,
   "id": "eafa321a",
   "metadata": {},
   "outputs": [
    {
     "name": "stdout",
     "output_type": "stream",
     "text": [
      "['amy', 'rohan', 'sapna', 'aakash', 'raunak', 'chinmoy', 'muhammad']\n"
     ]
    }
   ],
   "source": [
    "def Sorting(lst):\n",
    "    lst.sort(key=len)\n",
    "    return lst\n",
    "     \n",
    "# Driver code\n",
    "lst = [\"rohan\", \"amy\", \"sapna\", \"muhammad\", \n",
    "       \"aakash\", \"raunak\", \"chinmoy\"]\n",
    "print(Sorting(lst))"
   ]
  },
  {
   "cell_type": "code",
   "execution_count": 135,
   "id": "c5236868",
   "metadata": {},
   "outputs": [
    {
     "name": "stdout",
     "output_type": "stream",
     "text": [
      "The word with the longest length is: third  and length is  5\n"
     ]
    }
   ],
   "source": [
    "# function to find the longest length in the list\n",
    "def longestLength(words):\n",
    "    res=max(words,key=len)\n",
    "    print(\"The word with the longest length is:\", res,\n",
    "          \" and length is \", len(res))\n",
    " \n",
    " \n",
    "# Driver Program\n",
    "a = [\"one\", \"two\", \"third\", \"four\"]\n",
    "longestLength(a)"
   ]
  },
  {
   "cell_type": "code",
   "execution_count": 136,
   "id": "e72849ad",
   "metadata": {},
   "outputs": [],
   "source": [
    "from collections import Counter \n",
    "input_dict = {'A': 1963, 'B': 1963, 'C': 1964, 'D': 1964, 'E': 1964, 'F': 1965, 'G': 1965, 'H': 1966, 'I': 1967, 'J': 1967, 'K': 1968, 'L': 1969 ,'M': 1969, 'N': 1970}\n",
    "\n",
    "value, count = Counter(input_dict.values()).most_common(1)[0]"
   ]
  },
  {
   "cell_type": "code",
   "execution_count": 137,
   "id": "5460bb79",
   "metadata": {},
   "outputs": [
    {
     "data": {
      "text/plain": [
       "(1964, 3)"
      ]
     },
     "execution_count": 137,
     "metadata": {},
     "output_type": "execute_result"
    }
   ],
   "source": [
    "value, count"
   ]
  },
  {
   "cell_type": "code",
   "execution_count": 138,
   "id": "c4da1613",
   "metadata": {},
   "outputs": [
    {
     "name": "stdout",
     "output_type": "stream",
     "text": [
      "2\n"
     ]
    }
   ],
   "source": [
    "def most_frequent(List):\n",
    "    return max(set(List), key = List.count)\n",
    " \n",
    "List = [2, 1, 2, 2, 1, 3]\n",
    "print(most_frequent(List))"
   ]
  },
  {
   "cell_type": "code",
   "execution_count": 141,
   "id": "b5f76343",
   "metadata": {},
   "outputs": [
    {
     "data": {
      "text/plain": [
       "2"
      ]
     },
     "execution_count": 141,
     "metadata": {},
     "output_type": "execute_result"
    }
   ],
   "source": [
    "occurence_count = Counter(List)\n",
    "occurence_count.most_common(1)[0][0]"
   ]
  },
  {
   "cell_type": "code",
   "execution_count": 142,
   "id": "a7f25d35",
   "metadata": {},
   "outputs": [
    {
     "name": "stdout",
     "output_type": "stream",
     "text": [
      "2\n"
     ]
    }
   ],
   "source": [
    "import statistics\n",
    "from statistics import mode\n",
    " \n",
    "def most_common(List):\n",
    "    return(mode(List))\n",
    "   \n",
    "List = [2, 1, 2, 2, 1, 3]\n",
    "print(most_common(List))"
   ]
  },
  {
   "cell_type": "code",
   "execution_count": 143,
   "id": "79582474",
   "metadata": {},
   "outputs": [
    {
     "name": "stdout",
     "output_type": "stream",
     "text": [
      "Original Dictionary:  {1: 'one', 2: 'two', 3: 'three', 4: 'four'}\n"
     ]
    }
   ],
   "source": [
    "dict1 = {1: \"one\", 2: \"two\", 3: \"three\", 4: \"four\"}\n",
    "print(\"Original Dictionary: \", dict1)"
   ]
  },
  {
   "cell_type": "code",
   "execution_count": 147,
   "id": "2da064cf",
   "metadata": {},
   "outputs": [],
   "source": [
    "del dict1[2]"
   ]
  },
  {
   "cell_type": "code",
   "execution_count": 148,
   "id": "9214572e",
   "metadata": {},
   "outputs": [
    {
     "data": {
      "text/plain": [
       "{1: 'one', 3: 'three', 4: 'four'}"
      ]
     },
     "execution_count": 148,
     "metadata": {},
     "output_type": "execute_result"
    }
   ],
   "source": [
    "dict1"
   ]
  },
  {
   "cell_type": "code",
   "execution_count": 149,
   "id": "482b9920",
   "metadata": {},
   "outputs": [
    {
     "data": {
      "text/plain": [
       "'one'"
      ]
     },
     "execution_count": 149,
     "metadata": {},
     "output_type": "execute_result"
    }
   ],
   "source": [
    "dict1.pop(1)"
   ]
  },
  {
   "cell_type": "code",
   "execution_count": 150,
   "id": "b69dacc5",
   "metadata": {},
   "outputs": [
    {
     "data": {
      "text/plain": [
       "{3: 'three', 4: 'four'}"
      ]
     },
     "execution_count": 150,
     "metadata": {},
     "output_type": "execute_result"
    }
   ],
   "source": [
    "dict1"
   ]
  },
  {
   "cell_type": "code",
   "execution_count": 151,
   "id": "380f96eb",
   "metadata": {},
   "outputs": [],
   "source": [
    "list1 = [1, 2, 3, 4, 55]\n",
    "list2 = [2, 3, 90, 22]\n",
    " \n",
    "# using any function\n",
    "out = any(check in list1 for check in list2)"
   ]
  },
  {
   "cell_type": "code",
   "execution_count": 152,
   "id": "e7ecbfb0",
   "metadata": {},
   "outputs": [
    {
     "data": {
      "text/plain": [
       "True"
      ]
     },
     "execution_count": 152,
     "metadata": {},
     "output_type": "execute_result"
    }
   ],
   "source": [
    "out"
   ]
  },
  {
   "cell_type": "code",
   "execution_count": 153,
   "id": "03d16420",
   "metadata": {},
   "outputs": [
    {
     "data": {
      "text/plain": [
       "{2, 3}"
      ]
     },
     "execution_count": 153,
     "metadata": {},
     "output_type": "execute_result"
    }
   ],
   "source": [
    "set(list1) & set(list2)"
   ]
  },
  {
   "cell_type": "code",
   "execution_count": 154,
   "id": "cc673d3f",
   "metadata": {},
   "outputs": [
    {
     "data": {
      "text/plain": [
       "{'k': 2, 's': 2, 'G': 2, 'r': 1, 'o': 1, 'e': 4, 'f': 1}"
      ]
     },
     "execution_count": 154,
     "metadata": {},
     "output_type": "execute_result"
    }
   ],
   "source": [
    "inp_str = \"GeeksforGeeks\"\n",
    " \n",
    "# using set() + count() to get count \n",
    "# of each element in string \n",
    "out = {x : inp_str.count(x) for x in set(inp_str )} \n",
    "out"
   ]
  },
  {
   "cell_type": "code",
   "execution_count": 159,
   "id": "00c092e4",
   "metadata": {},
   "outputs": [
    {
     "data": {
      "text/plain": [
       "{'G': 2, 'e': 4, 'k': 2, 's': 2, 'f': 1, 'o': 1, 'r': 1}"
      ]
     },
     "execution_count": 159,
     "metadata": {},
     "output_type": "execute_result"
    }
   ],
   "source": [
    "oup = Counter(inp_str) \n",
    "dict(oup)"
   ]
  },
  {
   "cell_type": "code",
   "execution_count": 162,
   "id": "5823f779",
   "metadata": {},
   "outputs": [
    {
     "data": {
      "text/plain": [
       "{'001': 'Ramu', '002': 'Radha', '003': 'Ramu', '004': 'Raghav'}"
      ]
     },
     "execution_count": 162,
     "metadata": {},
     "output_type": "execute_result"
    }
   ],
   "source": [
    "#remove duplicate val in key\n",
    "emp_data = { '001':'Ramu', '002':'Radha', '003':'Ramu', '004':'Raghav'}\n",
    "emp_data"
   ]
  },
  {
   "cell_type": "code",
   "execution_count": 168,
   "id": "731cde8f",
   "metadata": {},
   "outputs": [
    {
     "name": "stdout",
     "output_type": "stream",
     "text": [
      "{'001': 'Ramu', '002': 'Radha', '004': 'Raghav'}\n"
     ]
    }
   ],
   "source": [
    "val = []\n",
    "res_dic = {}\n",
    "for k, v in emp_data.items():\n",
    "    if v not in val:\n",
    "        val.append(v)\n",
    "        res_dic[k] = v\n",
    "print(res_dic)"
   ]
  },
  {
   "cell_type": "code",
   "execution_count": null,
   "id": "8335d8ae",
   "metadata": {},
   "outputs": [],
   "source": [
    "# open both files \n",
    "with open('first.txt','r') as firstfile, open('second.txt','a') as secondfile: \n",
    "      \n",
    "    # read content from first file \n",
    "    for line in firstfile: \n",
    "               \n",
    "             # append content to second file \n",
    "             secondfile.write(line)"
   ]
  },
  {
   "cell_type": "code",
   "execution_count": null,
   "id": "b6c0b164",
   "metadata": {},
   "outputs": [],
   "source": [
    "my_list=['a', 'b', 'c']\n",
    "\n",
    "\n",
    "with open('/path/to/filename.txt', mode='w', encoding='utf-8') as myfile:\n",
    "\n",
    "for item in my_list:\n",
    "\n",
    "    myfile.write(f\"\\n{item}\")"
   ]
  },
  {
   "cell_type": "code",
   "execution_count": null,
   "id": "098b93f4",
   "metadata": {},
   "outputs": [],
   "source": [
    "import pandas as pd \n",
    " \n",
    "# Read the CSV file into a DataFrame \n",
    "df = pd.read_csv('employee_details.csv')  # Replace 'employee_details.csv' with your file path \n",
    " \n",
    "# Calculate the average salary \n",
    "average_salary = df['salary'].mean() \n",
    " \n",
    "# Print the result \n",
    "print(f'The average salary of all employees is: {average_salary}')"
   ]
  },
  {
   "cell_type": "code",
   "execution_count": null,
   "id": "c8417034",
   "metadata": {},
   "outputs": [],
   "source": [
    "import pandas as pd\n",
    "\n",
    "def calculate_total_sales(csv_file, product_name):\n",
    "\n",
    "df = pd.read_csv(csv_file) # Read CSV file into a DataFrame\n",
    "\n",
    "product_sales = df[df['Product'] == product_name]['Sales'] # Filter rows for the specified product\n",
    "\n",
    "total_sales = product_sales.sum() # Calculate the total sales for the product\n",
    "\n",
    "return total_sales\n",
    "\n",
    "# Example usage\n",
    "\n",
    "csv_file_path = 'your_file.csv'\n",
    "\n",
    "specific_product = 'your_product'\n",
    "\n",
    "result = calculate_total_sales(csv_file_path, specific_product)\n",
    "\n",
    "print(f'Total sales for {specific_product}: ${result}')"
   ]
  },
  {
   "cell_type": "code",
   "execution_count": null,
   "id": "c9387bf8",
   "metadata": {},
   "outputs": [],
   "source": [
    "total = 0\n",
    "\n",
    "with open('input.txt', 'r') as inp, open('output.txt', 'w') as outp:\n",
    "   for line in inp:\n",
    "       try:\n",
    "           num = float(line)\n",
    "           total += num\n",
    "           outp.write(line)\n",
    "       except ValueError:\n",
    "           print('{} is not a number!'.format(line))\n",
    "\n",
    "print('Total of all numbers: {}'.format(total))"
   ]
  },
  {
   "cell_type": "code",
   "execution_count": 170,
   "id": "991e0cb4",
   "metadata": {},
   "outputs": [
    {
     "name": "stdout",
     "output_type": "stream",
     "text": [
      "{'employees': [{'firstName': 'John', 'lastName': 'Doe'}, {'firstName': 'Anna', 'lastName': 'Smith'}, {'firstName': 'Peter', 'lastName': 'Jones'}]}\n"
     ]
    }
   ],
   "source": [
    "import json\n",
    "\n",
    "# A string containing JSON data\n",
    "json_string = '{\"employees\":[{\"firstName\":\"John\", \"lastName\":\"Doe\"},{\"firstName\":\"Anna\", \"lastName\":\"Smith\"},{\"firstName\":\"Peter\", \"lastName\":\"Jones\"}]}'\n",
    "\n",
    "# Parse the JSON string\n",
    "data = json.loads(json_string)\n",
    "\n",
    "print(data)"
   ]
  },
  {
   "cell_type": "code",
   "execution_count": 181,
   "id": "ef4c1db2",
   "metadata": {},
   "outputs": [],
   "source": [
    "import json\n",
    " \n",
    "# Data to be written\n",
    "dictionary = {\n",
    "    \"name\": \"sathiyajith\",\n",
    "    \"rollno\": 56,\n",
    "    \"cgpa\": 8.6,\n",
    "    \"phonenumber\": \"9976770500\"\n",
    "}\n",
    " \n",
    "with open(\"sample.json\", \"w\") as outfile:\n",
    "    json.dump(dictionary, outfile)"
   ]
  },
  {
   "cell_type": "code",
   "execution_count": 182,
   "id": "2f9e79d7",
   "metadata": {},
   "outputs": [
    {
     "name": "stdout",
     "output_type": "stream",
     "text": [
      "{'name': 'sathiyajith', 'rollno': 56, 'cgpa': 8.6, 'phonenumber': '9976770500'}\n",
      "<class 'dict'>\n"
     ]
    }
   ],
   "source": [
    "with open('sample.json', 'r') as openfile:\n",
    " \n",
    "    # Reading from json file\n",
    "    json_object = json.load(openfile)\n",
    " \n",
    "print(json_object)\n",
    "print(type(json_object))"
   ]
  },
  {
   "cell_type": "code",
   "execution_count": null,
   "id": "67da2c83",
   "metadata": {},
   "outputs": [],
   "source": []
  }
 ],
 "metadata": {
  "kernelspec": {
   "display_name": "Python 3 (ipykernel)",
   "language": "python",
   "name": "python3"
  },
  "language_info": {
   "codemirror_mode": {
    "name": "ipython",
    "version": 3
   },
   "file_extension": ".py",
   "mimetype": "text/x-python",
   "name": "python",
   "nbconvert_exporter": "python",
   "pygments_lexer": "ipython3",
   "version": "3.9.12"
  }
 },
 "nbformat": 4,
 "nbformat_minor": 5
}
