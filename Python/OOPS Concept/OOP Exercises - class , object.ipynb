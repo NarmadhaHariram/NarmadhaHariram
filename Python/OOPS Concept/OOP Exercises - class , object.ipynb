{
 "cells": [
  {
   "cell_type": "markdown",
   "id": "6bc145a6",
   "metadata": {},
   "source": [
    "# Python OOPs Concepts\n",
    "\n",
    "In this class, you’ll learn about Object-Oriented Programming (OOP) in Python and its fundamental concept with the help of examples."
   ]
  },
  {
   "cell_type": "markdown",
   "id": "93cd83ce",
   "metadata": {},
   "source": [
    "## Object Oriented Programming\n",
    "\n",
    "Python is a multi-paradigm programming language. It supports different programming approaches.\n",
    "\n",
    "One of the popular approaches to solve a programming problem is by creating objects. This is known as Object-Oriented Programming (OOP).\n",
    "\n",
    "Object-oriented programming (OOP) is a programming paradigm based on the concept of **“objects”**. The object contains both data and code: Data in the form of properties (often known as attributes), and code, in the form of methods (actions object can perform).\n",
    "\n",
    "An object has two characteristics:\n",
    "\n",
    "* attributes\n",
    "* behavior\n"
   ]
  },
  {
   "cell_type": "markdown",
   "id": "9ccb8076",
   "metadata": {},
   "source": [
    "### Class \n",
    "\n",
    "In Python, everything is an object. A class is a blueprint for the object. To create an object we require a model or plan or blueprint which is nothing but class.\n",
    "\n",
    "We create class to create an object. A class is like an object constructor, or a \"blueprint\" for creating objects. We instantiate a class to create an object. The class defines attributes and the behavior of the object, while the object, on the other hand, represents the class.\n",
    "\n",
    "**Class represents the properties (attribute) and action (behavior) of the object. Properties represent variables, and actions are represented by the methods. Hence class contains both variables and methods.**\n",
    "\n",
    "**Syntax:**\n",
    "\n",
    "```python\n",
    "class classname:\n",
    "    '''documentation string'''\n",
    "    class_suite\n",
    "```\n",
    "* **Documentation string:** represent a description of the class. It is optional.\n",
    "* **class_suite:** class suite contains component statements, variables, methods, functions, attributes.\n",
    "​"
   ]
  },
  {
   "cell_type": "code",
   "execution_count": 11,
   "id": "443a5e88",
   "metadata": {},
   "outputs": [
    {
     "name": "stdout",
     "output_type": "stream",
     "text": [
      "<class '__main__.Person'>\n"
     ]
    }
   ],
   "source": [
    "# Creating a empty class\n",
    "class Person:\n",
    "    pass\n",
    "    \n",
    "print(Person)"
   ]
  },
  {
   "cell_type": "markdown",
   "id": "fe7bb861",
   "metadata": {},
   "source": [
    "### Object \n",
    "\n",
    "The physical existence of a class is nothing but an object. In other words, the object is an entity that has a state and behavior. \n",
    "\n",
    "Therefore, an object (instance) is an instantiation of a class. So, when class is defined, only the description for the object is defined. Therefore, no memory or storage is allocated.\n",
    "\n",
    "**Syntax:**\n",
    "\n",
    "```python\n",
    "reference_variable = classname()\n",
    "```"
   ]
  },
  {
   "cell_type": "code",
   "execution_count": 12,
   "id": "7534f5c3",
   "metadata": {},
   "outputs": [
    {
     "name": "stdout",
     "output_type": "stream",
     "text": [
      "<__main__.Person object at 0x0000021CDF14D670>\n"
     ]
    }
   ],
   "source": [
    "p =Person()\n",
    "print(p)"
   ]
  },
  {
   "cell_type": "raw",
   "id": "62a33a9c",
   "metadata": {},
   "source": [
    "The __init__() constructor function has self parameter which is a reference to the current instance of the class."
   ]
  },
  {
   "cell_type": "code",
   "execution_count": null,
   "id": "099fabcf",
   "metadata": {},
   "outputs": [],
   "source": []
  },
  {
   "cell_type": "raw",
   "id": "ef901b6c",
   "metadata": {},
   "source": [
    "Exercise"
   ]
  },
  {
   "cell_type": "code",
   "execution_count": 16,
   "id": "047f1dd1",
   "metadata": {},
   "outputs": [
    {
     "name": "stdout",
     "output_type": "stream",
     "text": [
      "Grade of Person1 is 80 based on this marks 35 and 40\n",
      "DEpartment of student is CS\n"
     ]
    }
   ],
   "source": [
    "# 1. Create a student class and print show results\n",
    "\n",
    "\n",
    "class Student:\n",
    "    department=\"CS\"\n",
    "    def __init__(self,name,age,city,percentage,mark1,mark2):\n",
    "        self.name = name\n",
    "        self.age  = age\n",
    "        self.city = city\n",
    "        self.percentage = percentage\n",
    "        self.mark1 =mark1\n",
    "        self.mark2 =mark2\n",
    "        \n",
    "    def show_student_grade(self):\n",
    "        print(\"Grade of {} is {} based on this marks {} and {}\".format(self.name,self.percentage,self.mark1,self.mark2))\n",
    "        \n",
    "\n",
    "# Class\n",
    "student_call = Student('Person1',20,'Bangalore',80,35,40)\n",
    "student_call.show_student_grade()\n",
    "\n",
    "print(\"DEpartment of student is\",student_call.__class__.department)\n",
    "        "
   ]
  },
  {
   "cell_type": "markdown",
   "id": "5e6905e6",
   "metadata": {},
   "source": [
    "2. Withdraw money from bank account\n",
    "\n",
    "get_details\n",
    "get_balance\n",
    "withdraw\n",
    "deposit\n",
    "\n",
    "3.Sell book\n",
    "isbn, title,author,publisher,pages,price,copies\n",
    "display\n",
    "instock\n",
    "\n",
    "Use ternary,     @property\n",
    "    @price.setter"
   ]
  },
  {
   "cell_type": "code",
   "execution_count": 75,
   "id": "93a53a1f",
   "metadata": {},
   "outputs": [],
   "source": [
    "class Bank_account:\n",
    "    \"\"\" Creating bank account class which can process name and get balance\"\"\"\n",
    "    \n",
    "    def __init__(self, name, balance):\n",
    "        self.name =name\n",
    "        self.balance_amount =balance\n",
    "        \n",
    "    def get_details(self):\n",
    "        print(\"The user is {} and having balance {}\".format(self.name, self.balance_amount))\n",
    "        return \n",
    "    \n",
    "    @classmethod\n",
    "    def get_balance(cls,balance):\n",
    "        current_balance = balance\n",
    "        print(f\"The current balance is {balance}\")\n",
    "    \n",
    "    def withdraw(self, withdraw_amt):\n",
    "        self.balance_amount = self.balance_amount - withdraw_amt\n",
    "        print(f\"The amount withdrawd is {withdraw_amt} and the total balance is {self.balance_amount}\")\n",
    "    \n",
    "    def deposit(self, deposit_amount):\n",
    "        self.balance_amount = self.balance_amount + deposit_amount\n",
    "        print(f\"The amount deposited is {deposit_amount} and the total balance is {self.balance_amount}\")\n"
   ]
  },
  {
   "cell_type": "code",
   "execution_count": 70,
   "id": "505afcce",
   "metadata": {},
   "outputs": [],
   "source": [
    "bank_acc =Bank_account('person1',500)"
   ]
  },
  {
   "cell_type": "code",
   "execution_count": 71,
   "id": "a48eb606",
   "metadata": {},
   "outputs": [
    {
     "name": "stdout",
     "output_type": "stream",
     "text": [
      "The current balance is 500\n"
     ]
    }
   ],
   "source": [
    "Bank_account.get_balance(500)"
   ]
  },
  {
   "cell_type": "code",
   "execution_count": 72,
   "id": "782b7311",
   "metadata": {},
   "outputs": [
    {
     "name": "stdout",
     "output_type": "stream",
     "text": [
      "The user is person1 and having balance 500\n",
      "The amount withdrawd is 200 and the total balance is 300\n"
     ]
    }
   ],
   "source": [
    "bank_acc.get_details()\n",
    "bank_acc.withdraw(200)\n"
   ]
  },
  {
   "cell_type": "code",
   "execution_count": 73,
   "id": "00a1dc16",
   "metadata": {},
   "outputs": [
    {
     "name": "stdout",
     "output_type": "stream",
     "text": [
      "The user is person1 and having balance 300\n"
     ]
    }
   ],
   "source": [
    "bank_acc.get_details()"
   ]
  },
  {
   "cell_type": "code",
   "execution_count": 74,
   "id": "396a81f0",
   "metadata": {},
   "outputs": [
    {
     "name": "stdout",
     "output_type": "stream",
     "text": [
      "The amount deposited is 300 and the total balance is 600\n"
     ]
    }
   ],
   "source": [
    "bank_acc.deposit(300)"
   ]
  },
  {
   "cell_type": "raw",
   "id": "1ecaf7b6",
   "metadata": {},
   "source": [
    "How to code it better\n",
    "\n",
    "1.specify proper doc string, to functions also\n",
    "2. specify datatype, return type \n",
    "3.if needed add comments\n",
    "4.set default values EG: balance value, if not provided\n",
    "5. Use common variable if it is enough EG: amount\n",
    "6. use @classmethod, @staticmethod if needed . EG:get_balance\n",
    " 7.Naming conventtion- class: CamelCase\n",
    "\n",
    "class BankAccount:\n",
    "    def __init__(self, name, balance=0):\n",
    "        self.name = name\n",
    "        self.balance = balance\n",
    "\n",
    "    def display(self):\n",
    "         print(self.name, self.balance)\n",
    "\n",
    "    def withdraw(self, amount):\n",
    "        self.balance -= amount\n",
    "\n",
    "    def deposit(self, amount):\n",
    "        self.balance += amount"
   ]
  },
  {
   "cell_type": "raw",
   "id": "de77b9d0",
   "metadata": {},
   "source": [
    "3.Sell book\n",
    "isbn, title,author,publisher,pages,price,copies\n",
    "display\n",
    "instock\n",
    "\n",
    "Use ternary,     @property\n",
    "    @price.setter"
   ]
  },
  {
   "cell_type": "code",
   "execution_count": 1,
   "id": "f2e763d7",
   "metadata": {},
   "outputs": [],
   "source": [
    "class BookSeller:\n",
    "    \"\"\"Checks book availability and sells book\"\"\"\n",
    "    \n",
    "    def __init__(self, title =None, author =None, publisher =None, pages =0, price =0, copies =0, book_list =[]):\n",
    "        self.title = title\n",
    "        self.author = author\n",
    "        self.publisher = publisher\n",
    "        self.pages = pages\n",
    "        self.price = price\n",
    "        self.copies = copies\n",
    "        self.book_list = book_list\n",
    "    def display(self):\n",
    "        print(f'ISBN : {self.isbn}')\n",
    "        print(f'Price : {self._price}')\n",
    "        print(f'Number of copies : {self.copies}')\n",
    "    \n",
    "    @property\n",
    "    def price(self):\n",
    "        return self._price\n",
    "    \n",
    "    @price.setter\n",
    "    def price(self, new_price):\n",
    "        if 20 <= new_price <= 500:\n",
    "            self._price = new_price\n",
    "            print(f\"The new price is {self._price}\")\n",
    "        else:\n",
    "            print(\"price cannot be less than 20 and more than 500\")"
   ]
  },
  {
   "cell_type": "code",
   "execution_count": 2,
   "id": "8f7dc0c6",
   "metadata": {},
   "outputs": [],
   "source": [
    "book_list = ['Learn Physics', 'Learn Physics1','Learn Physics2']"
   ]
  },
  {
   "cell_type": "code",
   "execution_count": 4,
   "id": "c92f77c2",
   "metadata": {},
   "outputs": [
    {
     "name": "stdout",
     "output_type": "stream",
     "text": [
      "The new price is 200\n",
      "The new price is 220\n",
      "The new price is 300\n",
      "The new price is 20\n"
     ]
    },
    {
     "ename": "AttributeError",
     "evalue": "'BookSeller' object has no attribute 'isbn'",
     "output_type": "error",
     "traceback": [
      "\u001b[1;31m---------------------------------------------------------------------------\u001b[0m",
      "\u001b[1;31mAttributeError\u001b[0m                            Traceback (most recent call last)",
      "Input \u001b[1;32mIn [4]\u001b[0m, in \u001b[0;36m<cell line: 6>\u001b[1;34m()\u001b[0m\n\u001b[0;32m      3\u001b[0m book3 \u001b[38;5;241m=\u001b[39m BookSeller( \u001b[38;5;124m'\u001b[39m\u001b[38;5;124mLearn Maths\u001b[39m\u001b[38;5;124m'\u001b[39m,\u001b[38;5;124m'\u001b[39m\u001b[38;5;124mJohn\u001b[39m\u001b[38;5;124m'\u001b[39m, \u001b[38;5;124m'\u001b[39m\u001b[38;5;124mXYZ\u001b[39m\u001b[38;5;124m'\u001b[39m, \u001b[38;5;241m500\u001b[39m, \u001b[38;5;241m300\u001b[39m,\u001b[38;5;241m5\u001b[39m)\n\u001b[0;32m      4\u001b[0m book4 \u001b[38;5;241m=\u001b[39m BookSeller( \u001b[38;5;124m'\u001b[39m\u001b[38;5;124mLearn Biology\u001b[39m\u001b[38;5;124m'\u001b[39m,\u001b[38;5;124m'\u001b[39m\u001b[38;5;124mJack\u001b[39m\u001b[38;5;124m'\u001b[39m, \u001b[38;5;124m'\u001b[39m\u001b[38;5;124mXYZ\u001b[39m\u001b[38;5;124m'\u001b[39m, \u001b[38;5;241m400\u001b[39m, \u001b[38;5;241m20\u001b[39m,\u001b[38;5;241m6\u001b[39m)\n\u001b[1;32m----> 6\u001b[0m \u001b[43mbook_check\u001b[49m\u001b[38;5;241;43m.\u001b[39;49m\u001b[43mdisplay\u001b[49m\u001b[43m(\u001b[49m\u001b[43m)\u001b[49m\n\u001b[0;32m      7\u001b[0m book2\u001b[38;5;241m.\u001b[39mdisplay()\n\u001b[0;32m      8\u001b[0m book3\u001b[38;5;241m.\u001b[39mdisplay()\n",
      "Input \u001b[1;32mIn [1]\u001b[0m, in \u001b[0;36mBookSeller.display\u001b[1;34m(self)\u001b[0m\n\u001b[0;32m     12\u001b[0m \u001b[38;5;28;01mdef\u001b[39;00m \u001b[38;5;21mdisplay\u001b[39m(\u001b[38;5;28mself\u001b[39m):\n\u001b[1;32m---> 13\u001b[0m     \u001b[38;5;28mprint\u001b[39m(\u001b[38;5;124mf\u001b[39m\u001b[38;5;124m'\u001b[39m\u001b[38;5;124mISBN : \u001b[39m\u001b[38;5;132;01m{\u001b[39;00m\u001b[38;5;28mself\u001b[39m\u001b[38;5;241m.\u001b[39misbn\u001b[38;5;132;01m}\u001b[39;00m\u001b[38;5;124m'\u001b[39m)\n\u001b[0;32m     14\u001b[0m     \u001b[38;5;28mprint\u001b[39m(\u001b[38;5;124mf\u001b[39m\u001b[38;5;124m'\u001b[39m\u001b[38;5;124mPrice : \u001b[39m\u001b[38;5;132;01m{\u001b[39;00m\u001b[38;5;28mself\u001b[39m\u001b[38;5;241m.\u001b[39m_price\u001b[38;5;132;01m}\u001b[39;00m\u001b[38;5;124m'\u001b[39m)\n\u001b[0;32m     15\u001b[0m     \u001b[38;5;28mprint\u001b[39m(\u001b[38;5;124mf\u001b[39m\u001b[38;5;124m'\u001b[39m\u001b[38;5;124mNumber of copies : \u001b[39m\u001b[38;5;132;01m{\u001b[39;00m\u001b[38;5;28mself\u001b[39m\u001b[38;5;241m.\u001b[39mcopies\u001b[38;5;132;01m}\u001b[39;00m\u001b[38;5;124m'\u001b[39m)\n",
      "\u001b[1;31mAttributeError\u001b[0m: 'BookSeller' object has no attribute 'isbn'"
     ]
    }
   ],
   "source": [
    "\n",
    "book_check = BookSeller('Learn Physics','Stephen', 'CBC', 350, 200,10, book_list)\n",
    "book2 = BookSeller('Learn Chemistry','Jack', 'CBC', 400, 220,20)\n",
    "book3 = BookSeller( 'Learn Maths','John', 'XYZ', 500, 300,5)\n",
    "book4 = BookSeller( 'Learn Biology','Jack', 'XYZ', 400, 20,6)\n",
    "\n",
    "book_check.display()\n",
    "book2.display()\n",
    "book3.display()\n",
    "book4.display()"
   ]
  },
  {
   "cell_type": "code",
   "execution_count": 96,
   "id": "3529b752",
   "metadata": {},
   "outputs": [
    {
     "name": "stdout",
     "output_type": "stream",
     "text": [
      "Learn Physics\n",
      "ISBN : 957-4-36-547417-1\n",
      "Price : 200\n",
      "Number of copies : 10\n",
      "..................................................\n",
      "Learn Chemistry\n",
      "ISBN : 652-6-86-748413-3\n",
      "Price : 220\n",
      "Number of copies : 20\n",
      "..................................................\n",
      "Learn Maths\n",
      "ISBN : 957-7-39-347216-2\n",
      "Price : 300\n",
      "Number of copies : 5\n",
      "..................................................\n",
      "Learn Biology\n",
      "ISBN : 957-7-39-347216-2\n",
      "Price : 20\n",
      "Number of copies : 6\n",
      "..................................................\n"
     ]
    }
   ],
   "source": [
    "class Book:\n",
    "    def __init__(self,isbn, title,author,publisher,pages,price,copies):\n",
    "        self.isbn = isbn\n",
    "        self.title = title\n",
    "        self.author = author\n",
    "        self.publisher = publisher\n",
    "        self.pages = pages\n",
    "        self.price = price\n",
    "        self.copies = copies\n",
    "   \n",
    "    def display(self):\n",
    "        print(self.title)\n",
    "        print(f'ISBN : {self.isbn}')\n",
    "        print(f'Price : {self._price}')\n",
    "        print(f'Number of copies : {self.copies}')\n",
    "        print('.' * 50)\n",
    "\n",
    "    @property\n",
    "    def price(self):\n",
    "           return self._price\n",
    "\n",
    "    @price.setter\n",
    "    def price(self, new_price):\n",
    "          if 10 <= new_price <= 500:\n",
    "              self._price = new_price\n",
    "          else:\n",
    "               raise ValueError('Price cannot be less than 10 or more than 500')\n",
    "\n",
    "book1 = Book('957-4-36-547417-1', 'Learn Physics','Stephen', 'CBC', 350, 200,10)\n",
    "book2 = Book('652-6-86-748413-3', 'Learn Chemistry','Jack', 'CBC', 400, 220,20)\n",
    "book3 = Book('957-7-39-347216-2', 'Learn Maths','John', 'XYZ', 500, 300,5)\n",
    "book4 = Book('957-7-39-347216-2', 'Learn Biology','Jack', 'XYZ', 400, 20,6)\n",
    "\n",
    "book1.display()\n",
    "book2.display()\n",
    "book3.display()\n",
    "book4.display()"
   ]
  },
  {
   "cell_type": "code",
   "execution_count": 109,
   "id": "ec4a2b01",
   "metadata": {},
   "outputs": [
    {
     "name": "stdout",
     "output_type": "stream",
     "text": [
      "2/3\n",
      "-2/3\n",
      "5/6\n"
     ]
    }
   ],
   "source": [
    "class Fraction:\n",
    "    def __init__(self,nr,dr=1):\n",
    "        self.nr = nr\n",
    "        self.dr = dr\n",
    "        if self.dr < 0:    \n",
    "            self.nr *= -1\n",
    "            self.dr *= -1\n",
    "\n",
    "    def show(self):\n",
    "        print(f'{self.nr}/{self.dr}')\n",
    "\n",
    "    def multiply(self,other):\n",
    "        if isinstance(other,int):\n",
    "            other = Fraction(other)\n",
    "        return Fraction(self.nr * other.nr , self.dr * other.dr)\n",
    "\n",
    "    def add(self,other):\n",
    "        if isinstance(other,int):\n",
    "            other = Fraction(other)\n",
    "        return Fraction(self.nr * other.dr + other.nr * self.dr, self.dr * other.dr)\n",
    "\n",
    "       \n",
    "f1 = Fraction(2,3)\n",
    "f1.show()\n",
    "f2 = Fraction(2,-3)\n",
    "f2.show()\n",
    "f3 = Fraction(-5,-6)\n",
    "f3.show()"
   ]
  },
  {
   "cell_type": "code",
   "execution_count": 113,
   "id": "743a1673",
   "metadata": {},
   "outputs": [
    {
     "name": "stdout",
     "output_type": "stream",
     "text": [
      "5/6\n"
     ]
    }
   ],
   "source": [
    "f3.multiply(5)\n",
    "f3.show()"
   ]
  },
  {
   "cell_type": "markdown",
   "id": "829e07aa",
   "metadata": {},
   "source": [
    "Create Person - \n",
    "name, age\n",
    "\n"
   ]
  },
  {
   "cell_type": "code",
   "execution_count": 114,
   "id": "771e13d2",
   "metadata": {},
   "outputs": [],
   "source": [
    "class Employee:\n",
    "    def __init__(self,first_name, last_name, birth_year,salary):\n",
    "        self.first_name = first_name  \n",
    "        self.last_name = last_name  \n",
    "        self.birth_year = birth_year\n",
    "        self.salary = salary\n",
    "\n",
    "    def show(self):\n",
    "         print(f'I am {self.first_name} {self.last_name} born in {self.birth_year}')"
   ]
  },
  {
   "cell_type": "code",
   "execution_count": 122,
   "id": "ad3abd2d",
   "metadata": {},
   "outputs": [],
   "source": [
    "from datetime import datetime\n",
    "\n",
    "class Person:\n",
    "    def __init__(self, name, age):\n",
    "        self.name = name \n",
    "        self.age = age\n",
    "    \n",
    "    @classmethod\n",
    "    def calculate_age(cls, emp):\n",
    "        name = emp.first_name + \" \"+emp.last_name\n",
    "        age =datetime.today().year - emp.birth_year\n",
    "        return cls(name, age)\n",
    "    \n",
    "    def display(self):\n",
    "        print(\"I am\",self.name,self.age,'years old')\n",
    "    "
   ]
  },
  {
   "cell_type": "code",
   "execution_count": 125,
   "id": "1419d335",
   "metadata": {},
   "outputs": [],
   "source": [
    "emp_obj = Employee('adam','smith',1997,'10000')"
   ]
  },
  {
   "cell_type": "code",
   "execution_count": 126,
   "id": "e2c15bee",
   "metadata": {},
   "outputs": [
    {
     "name": "stdout",
     "output_type": "stream",
     "text": [
      "I am adam smith born in 1997\n"
     ]
    }
   ],
   "source": [
    "emp_obj.show()"
   ]
  },
  {
   "cell_type": "code",
   "execution_count": 129,
   "id": "92ece819",
   "metadata": {},
   "outputs": [],
   "source": [
    "p1 = Person.calculate_age(emp_obj)"
   ]
  },
  {
   "cell_type": "code",
   "execution_count": 130,
   "id": "d6c7eadc",
   "metadata": {},
   "outputs": [
    {
     "name": "stdout",
     "output_type": "stream",
     "text": [
      "I am adam smith 27 years old\n"
     ]
    }
   ],
   "source": [
    "p1.display()"
   ]
  },
  {
   "cell_type": "code",
   "execution_count": null,
   "id": "ad636c1f",
   "metadata": {},
   "outputs": [],
   "source": []
  }
 ],
 "metadata": {
  "kernelspec": {
   "display_name": "Python 3 (ipykernel)",
   "language": "python",
   "name": "python3"
  },
  "language_info": {
   "codemirror_mode": {
    "name": "ipython",
    "version": 3
   },
   "file_extension": ".py",
   "mimetype": "text/x-python",
   "name": "python",
   "nbconvert_exporter": "python",
   "pygments_lexer": "ipython3",
   "version": "3.9.12"
  }
 },
 "nbformat": 4,
 "nbformat_minor": 5
}
