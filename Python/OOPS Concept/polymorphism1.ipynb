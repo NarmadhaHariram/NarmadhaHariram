{
 "cells": [
  {
   "cell_type": "markdown",
   "id": "531ad527",
   "metadata": {},
   "source": [
    "The word polymorphism means having many forms\n",
    "Overloading\n",
    "Overloading may be classified into two categories.\n",
    "Operator Overloading\n",
    "Method Overloading"
   ]
  },
  {
   "cell_type": "code",
   "execution_count": 2,
   "id": "3c960d38",
   "metadata": {},
   "outputs": [
    {
     "data": {
      "text/plain": [
       "1"
      ]
     },
     "execution_count": 2,
     "metadata": {},
     "output_type": "execute_result"
    }
   ],
   "source": [
    "len([10])"
   ]
  },
  {
   "cell_type": "code",
   "execution_count": 3,
   "id": "034ec691",
   "metadata": {},
   "outputs": [
    {
     "data": {
      "text/plain": [
       "3"
      ]
     },
     "execution_count": 3,
     "metadata": {},
     "output_type": "execute_result"
    }
   ],
   "source": [
    "len([10,20, 30])"
   ]
  },
  {
   "cell_type": "code",
   "execution_count": 4,
   "id": "5c37c90c",
   "metadata": {},
   "outputs": [
    {
     "name": "stdout",
     "output_type": "stream",
     "text": [
      "7\n"
     ]
    }
   ],
   "source": [
    "def add(x, y, z =0):\n",
    "    print(x+y+z)\n",
    "add(3, 4)"
   ]
  },
  {
   "cell_type": "code",
   "execution_count": 5,
   "id": "24de6e20",
   "metadata": {},
   "outputs": [
    {
     "name": "stdout",
     "output_type": "stream",
     "text": [
      "12\n"
     ]
    }
   ],
   "source": [
    "add(3, 4, 5)"
   ]
  },
  {
   "cell_type": "code",
   "execution_count": 6,
   "id": "5621fde2",
   "metadata": {},
   "outputs": [
    {
     "name": "stdout",
     "output_type": "stream",
     "text": [
      "India\n",
      "Tamil\n",
      "USA\n",
      "English\n"
     ]
    }
   ],
   "source": [
    "#Polymorphism with class methods: \n",
    "class India:\n",
    "    def country(self):\n",
    "        print(\"India\")\n",
    "    def lang(self):\n",
    "        print(\"Tamil\")\n",
    "class USA:\n",
    "    def country(self):\n",
    "        print(\"USA\")\n",
    "    def lang(self):\n",
    "        print(\"English\")\n",
    "onj1 = India()\n",
    "onj2 = USA()\n",
    "for func in onj1, onj2:\n",
    "    func.country()\n",
    "    func.lang()"
   ]
  },
  {
   "cell_type": "code",
   "execution_count": 8,
   "id": "ae22f5a4",
   "metadata": {},
   "outputs": [
    {
     "name": "stdout",
     "output_type": "stream",
     "text": [
      "All are birds\n",
      "sparrow fly high\n",
      "All are birds\n",
      "chick fly low\n"
     ]
    }
   ],
   "source": [
    "# Polymorphism with Inheritance:\n",
    "class bird:\n",
    "    def allbirs(self):\n",
    "        print(\"All are birds\")\n",
    "    def fly(self):\n",
    "        print(\"Some fly, some dont\")\n",
    "class sparrow(bird):\n",
    "    def fly(self):\n",
    "        print(\"sparrow fly high\")\n",
    "class chicken(bird):\n",
    "    def fly(self):\n",
    "        print(\"chick fly low\")\n",
    "\n",
    "oby= bird()\n",
    "sp = sparrow()\n",
    "ch = chicken()\n",
    "sp.allbirs()\n",
    "sp.fly()\n",
    "\n",
    "ch.allbirs()\n",
    "ch.fly()"
   ]
  },
  {
   "cell_type": "code",
   "execution_count": 10,
   "id": "a1eff98f",
   "metadata": {},
   "outputs": [
    {
     "name": "stdout",
     "output_type": "stream",
     "text": [
      "Woof!\n",
      "Meow!\n"
     ]
    }
   ],
   "source": [
    "class Animal:\n",
    "    def speak(self):\n",
    "        raise NotImplementedError(\"Subclass must implement this method\")\n",
    "class Dog(Animal):\n",
    "    def speak(self):\n",
    "        return \"Woof!\"\n",
    "class Cat(Animal):\n",
    "    def speak(self):\n",
    "        return \"Meow!\"\n",
    " \n",
    "# Create a list of Animal objects\n",
    "animals = [Dog(), Cat()]\n",
    " \n",
    "# Call the speak method on each object\n",
    "for animal in animals:\n",
    "    print(animal.speak())"
   ]
  },
  {
   "cell_type": "code",
   "execution_count": 13,
   "id": "0d2638a1",
   "metadata": {},
   "outputs": [
    {
     "ename": "NotImplementedError",
     "evalue": "Subclass must implement this method",
     "output_type": "error",
     "traceback": [
      "\u001b[1;31m---------------------------------------------------------------------------\u001b[0m",
      "\u001b[1;31mNotImplementedError\u001b[0m                       Traceback (most recent call last)",
      "Input \u001b[1;32mIn [13]\u001b[0m, in \u001b[0;36m<cell line: 2>\u001b[1;34m()\u001b[0m\n\u001b[0;32m      1\u001b[0m a \u001b[38;5;241m=\u001b[39m Animal()\n\u001b[1;32m----> 2\u001b[0m \u001b[43ma\u001b[49m\u001b[38;5;241;43m.\u001b[39;49m\u001b[43mspeak\u001b[49m\u001b[43m(\u001b[49m\u001b[43m)\u001b[49m\n",
      "Input \u001b[1;32mIn [10]\u001b[0m, in \u001b[0;36mAnimal.speak\u001b[1;34m(self)\u001b[0m\n\u001b[0;32m      2\u001b[0m \u001b[38;5;28;01mdef\u001b[39;00m \u001b[38;5;21mspeak\u001b[39m(\u001b[38;5;28mself\u001b[39m):\n\u001b[1;32m----> 3\u001b[0m     \u001b[38;5;28;01mraise\u001b[39;00m \u001b[38;5;167;01mNotImplementedError\u001b[39;00m(\u001b[38;5;124m\"\u001b[39m\u001b[38;5;124mSubclass must implement this method\u001b[39m\u001b[38;5;124m\"\u001b[39m)\n",
      "\u001b[1;31mNotImplementedError\u001b[0m: Subclass must implement this method"
     ]
    }
   ],
   "source": [
    "a = Animal()\n",
    "a.speak()"
   ]
  },
  {
   "cell_type": "code",
   "execution_count": 17,
   "id": "541171f1",
   "metadata": {},
   "outputs": [
    {
     "name": "stdout",
     "output_type": "stream",
     "text": [
      "50\n"
     ]
    }
   ],
   "source": [
    "# Now we are going to overload the specific method __add__ operator.\n",
    "class Vehicle:\n",
    "    def __init__(self, fare):\n",
    "        self.fare = fare\n",
    "    def __add__(self, other):#using the special function __add__ operator\n",
    "        return self.fare+ other.fare\n",
    "bus= Vehicle(20)\n",
    "car= Vehicle(30)\n",
    "total_fare=bus+ car\n",
    "print(total_fare)"
   ]
  },
  {
   "cell_type": "code",
   "execution_count": 19,
   "id": "3a1f97c7",
   "metadata": {},
   "outputs": [
    {
     "name": "stdout",
     "output_type": "stream",
     "text": [
      "True\n"
     ]
    }
   ],
   "source": [
    "class Vehicle:\n",
    "    def __init__(self, fare):\n",
    "        self.fare = fare\n",
    "    def __lt__(self, other):# relational operator  __lt__ is used here as the special function\n",
    "        return self.fare< other.fare\n",
    "\n",
    "bus= Vehicle(10)\n",
    "car= Vehicle(30)\n",
    "compare=bus< car\n",
    "print(compare)"
   ]
  },
  {
   "cell_type": "code",
   "execution_count": null,
   "id": "7080320d",
   "metadata": {},
   "outputs": [],
   "source": []
  },
  {
   "cell_type": "code",
   "execution_count": null,
   "id": "55847f1b",
   "metadata": {},
   "outputs": [],
   "source": []
  },
  {
   "cell_type": "code",
   "execution_count": null,
   "id": "a53584fe",
   "metadata": {},
   "outputs": [],
   "source": []
  }
 ],
 "metadata": {
  "kernelspec": {
   "display_name": "Python 3 (ipykernel)",
   "language": "python",
   "name": "python3"
  },
  "language_info": {
   "codemirror_mode": {
    "name": "ipython",
    "version": 3
   },
   "file_extension": ".py",
   "mimetype": "text/x-python",
   "name": "python",
   "nbconvert_exporter": "python",
   "pygments_lexer": "ipython3",
   "version": "3.9.12"
  }
 },
 "nbformat": 4,
 "nbformat_minor": 5
}
