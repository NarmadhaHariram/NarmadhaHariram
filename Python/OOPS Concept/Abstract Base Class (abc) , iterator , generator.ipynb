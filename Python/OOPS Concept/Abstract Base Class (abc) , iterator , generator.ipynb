{
 "cells": [
  {
   "cell_type": "raw",
   "id": "9002a9d0",
   "metadata": {},
   "source": [
    "In this section, we will discuss the abstract base class and its importance.  \n",
    "\n",
    "Abstract Base Class\n",
    "Declaring an Abstract Base Class\n",
    "Why declare an Abstract Base Class?\n",
    "Abstract Properties\n",
    "Built-In Abstract Classes"
   ]
  },
  {
   "cell_type": "code",
   "execution_count": 1,
   "id": "83ddf7d6",
   "metadata": {},
   "outputs": [
    {
     "name": "stdout",
     "output_type": "stream",
     "text": [
      "<class 'dict'>\n"
     ]
    }
   ],
   "source": [
    "import abc \n",
    "  \n",
    "class AbstractClass(metaclass=abc.ABCMeta): \n",
    "    def abstractfunc(self): \n",
    "        return None\n",
    "  \n",
    "  \n",
    "print(AbstractClass.register(dict)) "
   ]
  },
  {
   "cell_type": "code",
   "execution_count": 2,
   "id": "4052ab75",
   "metadata": {},
   "outputs": [
    {
     "name": "stdout",
     "output_type": "stream",
     "text": [
      "True\n"
     ]
    }
   ],
   "source": [
    "import abc \n",
    "  \n",
    "class AbstractClass(metaclass=abc.ABCMeta): \n",
    "    def abstractfunc(self): \n",
    "        return None\n",
    "  \n",
    "  \n",
    "AbstractClass.register(dict) \n",
    "print(issubclass(dict, AbstractClass)) "
   ]
  },
  {
   "cell_type": "code",
   "execution_count": 3,
   "id": "24df5c5d",
   "metadata": {},
   "outputs": [
    {
     "name": "stdout",
     "output_type": "stream",
     "text": [
      "List instance: True\n",
      "Tuple instance: True\n",
      "Object instance: False\n"
     ]
    }
   ],
   "source": [
    "class MySequence(metaclass=abc.ABCMeta): \n",
    "    pass\n",
    "  \n",
    "MySequence.register(list) \n",
    "MySequence.register(tuple) \n",
    "  \n",
    "a = [1, 2, 3] \n",
    "b = ('x', 'y', 'z') \n",
    "  \n",
    "print('List instance:', isinstance(a, MySequence)) \n",
    "print('Tuple instance:', isinstance(b, MySequence)) \n",
    "print('Object instance:', isinstance(object(), MySequence)) "
   ]
  },
  {
   "cell_type": "code",
   "execution_count": 4,
   "id": "c081fff6",
   "metadata": {},
   "outputs": [
    {
     "name": "stdout",
     "output_type": "stream",
     "text": [
      "True\n"
     ]
    }
   ],
   "source": [
    "   \n",
    "import abc \n",
    "\n",
    "class MySequence(metaclass=abc.ABCMeta): \n",
    "    pass\n",
    "  \n",
    "class CustomListLikeObjCls(object): \n",
    "    pass\n",
    "  \n",
    "MySequence.register(CustomListLikeObjCls) \n",
    "print(issubclass(CustomListLikeObjCls, MySequence)) "
   ]
  },
  {
   "cell_type": "code",
   "execution_count": 5,
   "id": "ee74ee42",
   "metadata": {},
   "outputs": [
    {
     "name": "stdout",
     "output_type": "stream",
     "text": [
      "True\n"
     ]
    }
   ],
   "source": [
    "import abc \n",
    "\n",
    "class MySequence(metaclass=abc.ABCMeta): \n",
    "    pass\n",
    "  \n",
    "@MySequence.register \n",
    "class CustomListLikeObjCls(object): \n",
    "    pass\n",
    "  \n",
    "print(issubclass(CustomListLikeObjCls, MySequence))"
   ]
  },
  {
   "cell_type": "raw",
   "id": "ec5fae47",
   "metadata": {},
   "source": [
    "@abc.abstractmethod\n",
    "@abc.abstractmethod prevents any attempt to instantiate a subclass that doesn’t override a particular method in the superclass."
   ]
  },
  {
   "cell_type": "code",
   "execution_count": 6,
   "id": "68706e41",
   "metadata": {},
   "outputs": [
    {
     "name": "stdout",
     "output_type": "stream",
     "text": [
      "Abstract 1\n"
     ]
    }
   ],
   "source": [
    "  \n",
    "import abc \n",
    "  \n",
    "class AbstractClass(metaclass=abc.ABCMeta): \n",
    "    @abc.abstractmethod \n",
    "    def abstractName(self): \n",
    "        pass \n",
    "class ValidSubClass(AbstractClass): \n",
    "    def abstractName(self): \n",
    "        return 'Abstract 1'\n",
    "vc = ValidSubClass() \n",
    "print(vc.abstractName()) "
   ]
  },
  {
   "cell_type": "raw",
   "id": "52ec415f",
   "metadata": {},
   "source": [
    "Abstract Properties\n",
    "We can use @property decorator and @abc.abstractmethod  to declare properties as an abstract class. Let’s look into the below code"
   ]
  },
  {
   "cell_type": "code",
   "execution_count": 7,
   "id": "d3cec78a",
   "metadata": {},
   "outputs": [
    {
     "name": "stdout",
     "output_type": "stream",
     "text": [
      "Abstract 1\n"
     ]
    }
   ],
   "source": [
    "import abc  \n",
    "  \n",
    "class AbstractClass(metaclass=abc.ABCMeta): \n",
    "    @property\n",
    "    @abc.abstractmethod \n",
    "    def abstractName(self): \n",
    "        pass\n",
    "  \n",
    "  \n",
    "class ValidSubClass(AbstractClass): \n",
    "    @property\n",
    "    def abstractName(self): \n",
    "        return 'Abstract 1'\n",
    "  \n",
    "  \n",
    "vc = ValidSubClass() \n",
    "print(vc.abstractName) "
   ]
  },
  {
   "cell_type": "raw",
   "id": "3c609c01",
   "metadata": {},
   "source": [
    "Python __iter__() and __next__() | Converting an object into an iterator\n",
    "\n",
    "Python __iter__()\n",
    "The __iter__() function in Python returns an iterator for the given object (array, set, tuple, etc., or custom objects). It creates an object that can be accessed one element at a time using __next__() in Python, which generally comes in handy when dealing with loops."
   ]
  },
  {
   "cell_type": "code",
   "execution_count": 8,
   "id": "031ac0d3",
   "metadata": {},
   "outputs": [
    {
     "name": "stdout",
     "output_type": "stream",
     "text": [
      "a\n",
      "e\n",
      "i\n",
      "o\n",
      "u\n"
     ]
    }
   ],
   "source": [
    "# Python code demonstrating\n",
    "# basic use of iter()\n",
    "listA = ['a','e','i','o','u']\n",
    " \n",
    "iter_listA = iter(listA)\n",
    " \n",
    "try:\n",
    "    print( next(iter_listA)) \n",
    "    print( next(iter_listA)) \n",
    "    print( next(iter_listA)) \n",
    "    print( next(iter_listA)) \n",
    "    print( next(iter_listA))\n",
    "    print( next(iter_listA)) #StopIteration error\n",
    "except:\n",
    "    pass"
   ]
  },
  {
   "cell_type": "code",
   "execution_count": 10,
   "id": "283d2033",
   "metadata": {},
   "outputs": [
    {
     "name": "stdout",
     "output_type": "stream",
     "text": [
      "11\n",
      "22\n",
      "33\n",
      "44\n",
      "55\n"
     ]
    }
   ],
   "source": [
    "#  Python code demonstrating\n",
    "# basic use of iter()\n",
    "lst = [11, 22, 33, 44, 55]\n",
    " \n",
    "iter_lst = iter(lst)\n",
    "while True:\n",
    "    try:\n",
    "        print(iter_lst.__next__()) \n",
    "    except:\n",
    "        break"
   ]
  },
  {
   "cell_type": "code",
   "execution_count": 11,
   "id": "8a9b6617",
   "metadata": {},
   "outputs": [
    {
     "name": "stdout",
     "output_type": "stream",
     "text": [
      "Print the range without iter()\n",
      "Eating more Pizzas, counting  2\n",
      "Eating more Pizzas, counting  3\n",
      "Eating more Pizzas, counting  4\n",
      "Eating more Pizzas, counting  5\n",
      "\n",
      "Print the range using iter()\n",
      "\n",
      "Eating more Pizzas, counting  2\n",
      "Eating more Pizzas, counting  3\n",
      "Eating more Pizzas, counting  4\n",
      "Eating more Pizzas, counting  5\n",
      "\n",
      "Dead on overfood, GAME OVER\n"
     ]
    }
   ],
   "source": [
    "# User-defined objects (using OOPS) \n",
    "class Counter:\n",
    "    def __init__(self, start, end):\n",
    "        self.num = start\n",
    "        self.end = end\n",
    " \n",
    "    def __iter__(self):\n",
    "        return self\n",
    " \n",
    "    def __next__(self): \n",
    "        if self.num > self.end:\n",
    "            raise StopIteration\n",
    "        else:\n",
    "            self.num += 1\n",
    "        return self.num - 1\n",
    "                        \n",
    "# Driver code\n",
    "if __name__ == '__main__' :\n",
    "    a, b = 2, 5\n",
    "    c1 = Counter(a, b)\n",
    "    c2 = Counter(a, b)\n",
    "     \n",
    "    # Way 1-to print the range without iter()\n",
    "    print (\"Print the range without iter()\")\n",
    "     \n",
    "    for i in c1:\n",
    "        print (\"Eating more Pizzas, counting \", i, end =\"\\n\")\n",
    "     \n",
    "    print (\"\\nPrint the range using iter()\\n\")\n",
    "     \n",
    "    # Way 2- using iter()\n",
    "    obj = iter(c2)\n",
    "    try:\n",
    "        while True: # Print till error raised\n",
    "            print (\"Eating more Pizzas, counting \", next(obj))\n",
    "    except: \n",
    "        # when StopIteration raised, Print custom message\n",
    "        print (\"\\nDead on overfood, GAME OVER\") "
   ]
  },
  {
   "cell_type": "raw",
   "id": "512ed031",
   "metadata": {},
   "source": [
    "A Generator in Python is a function that returns an iterator using the Yield keyword. In this article, we will discuss how the generator function works in Python.\n",
    "\n",
    "Generator Function in Python\n",
    "A generator function in Python is defined like a normal function, but whenever it needs to generate a value, it does so with the yield keyword rather than return."
   ]
  },
  {
   "cell_type": "code",
   "execution_count": 12,
   "id": "568029ce",
   "metadata": {},
   "outputs": [
    {
     "name": "stdout",
     "output_type": "stream",
     "text": [
      "1\n",
      "2\n",
      "3\n"
     ]
    }
   ],
   "source": [
    "# A generator function that yields 1 for first time, \n",
    "# 2 second time and 3 third time \n",
    "def simpleGeneratorFun(): \n",
    "    yield 1            \n",
    "    yield 2            \n",
    "    yield 3            \n",
    "   \n",
    "# Driver code to check above generator function \n",
    "for value in simpleGeneratorFun():  \n",
    "    print(value)"
   ]
  },
  {
   "cell_type": "code",
   "execution_count": 13,
   "id": "328e5a1d",
   "metadata": {},
   "outputs": [
    {
     "name": "stdout",
     "output_type": "stream",
     "text": [
      "0\n",
      "10\n",
      "20\n"
     ]
    }
   ],
   "source": [
    "#  Python list comprehension technique but instead of storing the elements in a list in memory, it creates generator objects.\n",
    "# generator expression \n",
    "generator_exp = (i * 5 for i in range(5) if i%2==0) \n",
    "  \n",
    "for i in generator_exp: \n",
    "    print(i)"
   ]
  },
  {
   "cell_type": "code",
   "execution_count": 14,
   "id": "79ff0c2a",
   "metadata": {},
   "outputs": [
    {
     "name": "stdout",
     "output_type": "stream",
     "text": [
      "0\n",
      "1\n",
      "1\n",
      "2\n",
      "3\n",
      "\n",
      "Using for in loop\n",
      "0\n",
      "1\n",
      "1\n",
      "2\n",
      "3\n"
     ]
    }
   ],
   "source": [
    "   \n",
    "# A simple generator for Fibonacci Numbers \n",
    "def fib(limit): \n",
    "      \n",
    "    # Initialize first two Fibonacci Numbers  \n",
    "    a, b = 0, 1\n",
    "  \n",
    "    # One by one yield next Fibonacci Number \n",
    "    while a < limit: \n",
    "        yield a \n",
    "        a, b = b, a + b \n",
    "  \n",
    "# Create a generator object \n",
    "x = fib(5) \n",
    "  \n",
    "# Iterating over the generator object using next \n",
    "# In Python 3, __next__() \n",
    "print(next(x))  \n",
    "print(next(x)) \n",
    "print(next(x)) \n",
    "print(next(x)) \n",
    "print(next(x)) \n",
    "  \n",
    "# Iterating over the generator object using for \n",
    "# in loop. \n",
    "print(\"\\nUsing for in loop\") \n",
    "for i in fib(5):  \n",
    "    print(i)"
   ]
  },
  {
   "cell_type": "code",
   "execution_count": null,
   "id": "d7c838ce",
   "metadata": {},
   "outputs": [],
   "source": []
  }
 ],
 "metadata": {
  "kernelspec": {
   "display_name": "Python 3 (ipykernel)",
   "language": "python",
   "name": "python3"
  },
  "language_info": {
   "codemirror_mode": {
    "name": "ipython",
    "version": 3
   },
   "file_extension": ".py",
   "mimetype": "text/x-python",
   "name": "python",
   "nbconvert_exporter": "python",
   "pygments_lexer": "ipython3",
   "version": "3.9.12"
  }
 },
 "nbformat": 4,
 "nbformat_minor": 5
}
