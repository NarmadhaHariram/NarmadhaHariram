{
 "cells": [
  {
   "cell_type": "code",
   "execution_count": null,
   "id": "2bc5bfe6",
   "metadata": {},
   "outputs": [],
   "source": []
  },
  {
   "cell_type": "code",
   "execution_count": 2,
   "id": "ef0a27e2",
   "metadata": {},
   "outputs": [
    {
     "name": "stdout",
     "output_type": "stream",
     "text": [
      "Inside parent : func 1\n",
      "Inside child: func 2\n"
     ]
    }
   ],
   "source": [
    "# Single inheritance\n",
    "\n",
    "class parent:\n",
    "    def func1(self):\n",
    "        print(\"Inside parent : func 1\")\n",
    "class child(parent):\n",
    "    def func2(self):\n",
    "        print(\"Inside child: func 2\")\n",
    "    \n",
    "obj = child()\n",
    "obj.func1()\n",
    "obj.func2()"
   ]
  },
  {
   "cell_type": "code",
   "execution_count": 9,
   "id": "14e8ce64",
   "metadata": {},
   "outputs": [
    {
     "name": "stdout",
     "output_type": "stream",
     "text": [
      "Inside child: func 3\n",
      "Parents are  hari shyamala\n"
     ]
    }
   ],
   "source": [
    "# Multiple inheritance\n",
    "\n",
    "class father:\n",
    "    fname = \"\"\n",
    "    def func1(self, fname):\n",
    "        print(\"Inside father : func 1\", self.fname)\n",
    "class mother:\n",
    "    mname = \"\"\n",
    "    def func2(self,mname):\n",
    "        print(\"Inside mother : func 2\", self.mname)\n",
    "class child(father, mother):\n",
    "    def parents(self):\n",
    "        print(\"Inside child: func 3\")\n",
    "        print(\"Parents are \",self.fname, self.mname)\n",
    "    \n",
    "obj = child()\n",
    "obj.fname = 'hari'\n",
    "obj.mname = 'shyamala'\n",
    "# obj.func1()\n",
    "# obj.func2()\n",
    "obj.parents()"
   ]
  },
  {
   "cell_type": "code",
   "execution_count": 17,
   "id": "72071509",
   "metadata": {},
   "outputs": [
    {
     "name": "stdout",
     "output_type": "stream",
     "text": [
      "Family have these members sund guna god\n"
     ]
    }
   ],
   "source": [
    "# Multilevel Inheritance :\n",
    "\n",
    "class Grandpa:\n",
    "    def __init__(self, gname):\n",
    "        self.gname = gname\n",
    "class father(Grandpa):\n",
    "    def __init__(self,fname, gname):\n",
    "        Grandpa.__init__(self,gname)     \n",
    "class son(father):\n",
    "    def __init__(self,sonname,fname, gname ):\n",
    "        father.__init__(self,fname, gname)\n",
    "    def print_fam(self, sonname,fname, gname):\n",
    "        print(\"Family have these members\",sonname,fname, gname)\n",
    "        \n",
    "\n",
    "son =son('sund','guna','god')\n",
    "son.print_fam('sund','guna','god')"
   ]
  },
  {
   "cell_type": "code",
   "execution_count": null,
   "id": "5954b54d",
   "metadata": {},
   "outputs": [],
   "source": []
  }
 ],
 "metadata": {
  "kernelspec": {
   "display_name": "Python 3 (ipykernel)",
   "language": "python",
   "name": "python3"
  },
  "language_info": {
   "codemirror_mode": {
    "name": "ipython",
    "version": 3
   },
   "file_extension": ".py",
   "mimetype": "text/x-python",
   "name": "python",
   "nbconvert_exporter": "python",
   "pygments_lexer": "ipython3",
   "version": "3.9.12"
  }
 },
 "nbformat": 4,
 "nbformat_minor": 5
}
